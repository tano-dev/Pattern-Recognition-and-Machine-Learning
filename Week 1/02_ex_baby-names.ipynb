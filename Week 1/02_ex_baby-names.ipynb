{
 "cells": [
  {
   "cell_type": "markdown",
   "metadata": {
    "id": "rMvSKM0S9i8L"
   },
   "source": [
    "# US Baby Name"
   ]
  },
  {
   "cell_type": "markdown",
   "metadata": {
    "id": "LXRnSVab9i8O"
   },
   "source": [
    "## GIỚI THIỆU\n",
    "Dữ Liệu `US_BaBy_Names.csv` chứa thông tin của các em bé sinh từ 2004 - 2014 tại Mỹ. Dựa vào tập dữ liệu trên, bạn hãy thực hiện các bài tập sau:"
   ]
  },
  {
   "cell_type": "markdown",
   "metadata": {
    "id": "7gc78ScX9i8O"
   },
   "source": [
    "## TÌM HIỂU DỮ LIỆU"
   ]
  },
  {
   "cell_type": "markdown",
   "metadata": {
    "id": "uHowCdT99i8P"
   },
   "source": [
    "### 01. Đọc dữ liệu"
   ]
  },
  {
   "cell_type": "code",
   "execution_count": 70,
   "metadata": {
    "id": "ZIExhKIOU9Ll"
   },
   "outputs": [],
   "source": [
    "import pandas as pd\n",
    " \n",
    "data = pd.read_csv('US_Baby_Names.csv')"
   ]
  },
  {
   "cell_type": "markdown",
   "metadata": {
    "id": "muGfKhF29i8Q"
   },
   "source": [
    "### 02. Hiển thị 10 dòng dữ liệu bất kỳ"
   ]
  },
  {
   "cell_type": "code",
   "execution_count": 71,
   "metadata": {
    "id": "X9vGTMTcU9zJ"
   },
   "outputs": [
    {
     "data": {
      "text/html": [
       "<div>\n",
       "<style scoped>\n",
       "    .dataframe tbody tr th:only-of-type {\n",
       "        vertical-align: middle;\n",
       "    }\n",
       "\n",
       "    .dataframe tbody tr th {\n",
       "        vertical-align: top;\n",
       "    }\n",
       "\n",
       "    .dataframe thead th {\n",
       "        text-align: right;\n",
       "    }\n",
       "</style>\n",
       "<table border=\"1\" class=\"dataframe\">\n",
       "  <thead>\n",
       "    <tr style=\"text-align: right;\">\n",
       "      <th></th>\n",
       "      <th>Unnamed: 0</th>\n",
       "      <th>Id</th>\n",
       "      <th>Name</th>\n",
       "      <th>Year</th>\n",
       "      <th>Gender</th>\n",
       "      <th>State</th>\n",
       "      <th>Count</th>\n",
       "    </tr>\n",
       "  </thead>\n",
       "  <tbody>\n",
       "    <tr>\n",
       "      <th>106987</th>\n",
       "      <td>565050</td>\n",
       "      <td>565051</td>\n",
       "      <td>Danely</td>\n",
       "      <td>2014</td>\n",
       "      <td>F</td>\n",
       "      <td>CA</td>\n",
       "      <td>5</td>\n",
       "    </tr>\n",
       "    <tr>\n",
       "      <th>683258</th>\n",
       "      <td>3855425</td>\n",
       "      <td>3855426</td>\n",
       "      <td>Zayne</td>\n",
       "      <td>2008</td>\n",
       "      <td>M</td>\n",
       "      <td>NY</td>\n",
       "      <td>7</td>\n",
       "    </tr>\n",
       "    <tr>\n",
       "      <th>411717</th>\n",
       "      <td>2264295</td>\n",
       "      <td>2264296</td>\n",
       "      <td>Isabell</td>\n",
       "      <td>2009</td>\n",
       "      <td>F</td>\n",
       "      <td>MA</td>\n",
       "      <td>7</td>\n",
       "    </tr>\n",
       "    <tr>\n",
       "      <th>251012</th>\n",
       "      <td>1314240</td>\n",
       "      <td>1314241</td>\n",
       "      <td>Jesus</td>\n",
       "      <td>2006</td>\n",
       "      <td>M</td>\n",
       "      <td>GA</td>\n",
       "      <td>164</td>\n",
       "    </tr>\n",
       "    <tr>\n",
       "      <th>33428</th>\n",
       "      <td>246188</td>\n",
       "      <td>246189</td>\n",
       "      <td>Jace</td>\n",
       "      <td>2009</td>\n",
       "      <td>M</td>\n",
       "      <td>AR</td>\n",
       "      <td>44</td>\n",
       "    </tr>\n",
       "    <tr>\n",
       "      <th>618581</th>\n",
       "      <td>3473593</td>\n",
       "      <td>3473594</td>\n",
       "      <td>Hayden</td>\n",
       "      <td>2012</td>\n",
       "      <td>M</td>\n",
       "      <td>NJ</td>\n",
       "      <td>38</td>\n",
       "    </tr>\n",
       "    <tr>\n",
       "      <th>909943</th>\n",
       "      <td>5073547</td>\n",
       "      <td>5073548</td>\n",
       "      <td>Franz</td>\n",
       "      <td>2013</td>\n",
       "      <td>M</td>\n",
       "      <td>TX</td>\n",
       "      <td>9</td>\n",
       "    </tr>\n",
       "    <tr>\n",
       "      <th>771898</th>\n",
       "      <td>4341861</td>\n",
       "      <td>4341862</td>\n",
       "      <td>Makenzie</td>\n",
       "      <td>2010</td>\n",
       "      <td>F</td>\n",
       "      <td>PA</td>\n",
       "      <td>99</td>\n",
       "    </tr>\n",
       "    <tr>\n",
       "      <th>300362</th>\n",
       "      <td>1630149</td>\n",
       "      <td>1630150</td>\n",
       "      <td>Jamaya</td>\n",
       "      <td>2007</td>\n",
       "      <td>F</td>\n",
       "      <td>IL</td>\n",
       "      <td>13</td>\n",
       "    </tr>\n",
       "    <tr>\n",
       "      <th>758873</th>\n",
       "      <td>4239132</td>\n",
       "      <td>4239133</td>\n",
       "      <td>Jesiah</td>\n",
       "      <td>2009</td>\n",
       "      <td>M</td>\n",
       "      <td>OR</td>\n",
       "      <td>5</td>\n",
       "    </tr>\n",
       "  </tbody>\n",
       "</table>\n",
       "</div>"
      ],
      "text/plain": [
       "        Unnamed: 0       Id      Name  Year Gender State  Count\n",
       "106987      565050   565051    Danely  2014      F    CA      5\n",
       "683258     3855425  3855426     Zayne  2008      M    NY      7\n",
       "411717     2264295  2264296   Isabell  2009      F    MA      7\n",
       "251012     1314240  1314241     Jesus  2006      M    GA    164\n",
       "33428       246188   246189      Jace  2009      M    AR     44\n",
       "618581     3473593  3473594    Hayden  2012      M    NJ     38\n",
       "909943     5073547  5073548     Franz  2013      M    TX      9\n",
       "771898     4341861  4341862  Makenzie  2010      F    PA     99\n",
       "300362     1630149  1630150    Jamaya  2007      F    IL     13\n",
       "758873     4239132  4239133    Jesiah  2009      M    OR      5"
      ]
     },
     "execution_count": 71,
     "metadata": {},
     "output_type": "execute_result"
    }
   ],
   "source": [
    "data.sample(10)"
   ]
  },
  {
   "cell_type": "markdown",
   "metadata": {
    "id": "kAnWBwwz9i8R"
   },
   "source": [
    "### 03. Cho biết kích thước dữ liệu"
   ]
  },
  {
   "cell_type": "code",
   "execution_count": 72,
   "metadata": {
    "id": "aR0506qbU-JC"
   },
   "outputs": [
    {
     "name": "stdout",
     "output_type": "stream",
     "text": [
      "Index(['Unnamed: 0', 'Id', 'Name', 'Year', 'Gender', 'State', 'Count'], dtype='object')\n",
      "Số dòng: 1016395\n",
      "Số cột: 7\n"
     ]
    }
   ],
   "source": [
    "data.shape\n",
    "print(data.columns)\n",
    "print('Số dòng:', data.shape[0])\n",
    "print('Số cột:', data.shape[1])"
   ]
  },
  {
   "cell_type": "markdown",
   "metadata": {
    "id": "ZvOBq3FU9i8R"
   },
   "source": [
    "### 04. Xóa 2 cột 'Unnamed: 0' and 'Id'"
   ]
  },
  {
   "cell_type": "code",
   "execution_count": 73,
   "metadata": {
    "id": "MUKq44CYU-f9"
   },
   "outputs": [
    {
     "data": {
      "text/html": [
       "<div>\n",
       "<style scoped>\n",
       "    .dataframe tbody tr th:only-of-type {\n",
       "        vertical-align: middle;\n",
       "    }\n",
       "\n",
       "    .dataframe tbody tr th {\n",
       "        vertical-align: top;\n",
       "    }\n",
       "\n",
       "    .dataframe thead th {\n",
       "        text-align: right;\n",
       "    }\n",
       "</style>\n",
       "<table border=\"1\" class=\"dataframe\">\n",
       "  <thead>\n",
       "    <tr style=\"text-align: right;\">\n",
       "      <th></th>\n",
       "      <th>Name</th>\n",
       "      <th>Year</th>\n",
       "      <th>Gender</th>\n",
       "      <th>State</th>\n",
       "      <th>Count</th>\n",
       "    </tr>\n",
       "  </thead>\n",
       "  <tbody>\n",
       "    <tr>\n",
       "      <th>0</th>\n",
       "      <td>Emma</td>\n",
       "      <td>2004</td>\n",
       "      <td>F</td>\n",
       "      <td>AK</td>\n",
       "      <td>62</td>\n",
       "    </tr>\n",
       "    <tr>\n",
       "      <th>1</th>\n",
       "      <td>Madison</td>\n",
       "      <td>2004</td>\n",
       "      <td>F</td>\n",
       "      <td>AK</td>\n",
       "      <td>48</td>\n",
       "    </tr>\n",
       "    <tr>\n",
       "      <th>2</th>\n",
       "      <td>Hannah</td>\n",
       "      <td>2004</td>\n",
       "      <td>F</td>\n",
       "      <td>AK</td>\n",
       "      <td>46</td>\n",
       "    </tr>\n",
       "    <tr>\n",
       "      <th>3</th>\n",
       "      <td>Grace</td>\n",
       "      <td>2004</td>\n",
       "      <td>F</td>\n",
       "      <td>AK</td>\n",
       "      <td>44</td>\n",
       "    </tr>\n",
       "    <tr>\n",
       "      <th>4</th>\n",
       "      <td>Emily</td>\n",
       "      <td>2004</td>\n",
       "      <td>F</td>\n",
       "      <td>AK</td>\n",
       "      <td>41</td>\n",
       "    </tr>\n",
       "    <tr>\n",
       "      <th>...</th>\n",
       "      <td>...</td>\n",
       "      <td>...</td>\n",
       "      <td>...</td>\n",
       "      <td>...</td>\n",
       "      <td>...</td>\n",
       "    </tr>\n",
       "    <tr>\n",
       "      <th>1016390</th>\n",
       "      <td>Seth</td>\n",
       "      <td>2014</td>\n",
       "      <td>M</td>\n",
       "      <td>WY</td>\n",
       "      <td>5</td>\n",
       "    </tr>\n",
       "    <tr>\n",
       "      <th>1016391</th>\n",
       "      <td>Spencer</td>\n",
       "      <td>2014</td>\n",
       "      <td>M</td>\n",
       "      <td>WY</td>\n",
       "      <td>5</td>\n",
       "    </tr>\n",
       "    <tr>\n",
       "      <th>1016392</th>\n",
       "      <td>Tyce</td>\n",
       "      <td>2014</td>\n",
       "      <td>M</td>\n",
       "      <td>WY</td>\n",
       "      <td>5</td>\n",
       "    </tr>\n",
       "    <tr>\n",
       "      <th>1016393</th>\n",
       "      <td>Victor</td>\n",
       "      <td>2014</td>\n",
       "      <td>M</td>\n",
       "      <td>WY</td>\n",
       "      <td>5</td>\n",
       "    </tr>\n",
       "    <tr>\n",
       "      <th>1016394</th>\n",
       "      <td>Waylon</td>\n",
       "      <td>2014</td>\n",
       "      <td>M</td>\n",
       "      <td>WY</td>\n",
       "      <td>5</td>\n",
       "    </tr>\n",
       "  </tbody>\n",
       "</table>\n",
       "<p>1016395 rows × 5 columns</p>\n",
       "</div>"
      ],
      "text/plain": [
       "            Name  Year Gender State  Count\n",
       "0           Emma  2004      F    AK     62\n",
       "1        Madison  2004      F    AK     48\n",
       "2         Hannah  2004      F    AK     46\n",
       "3          Grace  2004      F    AK     44\n",
       "4          Emily  2004      F    AK     41\n",
       "...          ...   ...    ...   ...    ...\n",
       "1016390     Seth  2014      M    WY      5\n",
       "1016391  Spencer  2014      M    WY      5\n",
       "1016392     Tyce  2014      M    WY      5\n",
       "1016393   Victor  2014      M    WY      5\n",
       "1016394   Waylon  2014      M    WY      5\n",
       "\n",
       "[1016395 rows x 5 columns]"
      ]
     },
     "execution_count": 73,
     "metadata": {},
     "output_type": "execute_result"
    }
   ],
   "source": [
    "data.drop(columns=['Id','Unnamed: 0'])"
   ]
  },
  {
   "cell_type": "markdown",
   "metadata": {
    "id": "P_tX4daa9i8R"
   },
   "source": [
    "### 05. Cho biết số lượng bé trai, bé gái?"
   ]
  },
  {
   "cell_type": "code",
   "execution_count": 74,
   "metadata": {
    "id": "0Vc2KIWTU_E7"
   },
   "outputs": [
    {
     "data": {
      "text/plain": [
       "Gender\n",
       "F    558846\n",
       "M    457549\n",
       "Name: count, dtype: int64"
      ]
     },
     "execution_count": 74,
     "metadata": {},
     "output_type": "execute_result"
    }
   ],
   "source": [
    "data['Gender'].value_counts()\n"
   ]
  },
  {
   "cell_type": "markdown",
   "metadata": {
    "id": "dMwt3Fto9i8R"
   },
   "source": [
    "### 06. Trong bộ dữ liệu có bao nhiêu tên khác nhau?"
   ]
  },
  {
   "cell_type": "code",
   "execution_count": 75,
   "metadata": {
    "id": "hfnis8U0U_c5"
   },
   "outputs": [
    {
     "data": {
      "text/plain": [
       "17632"
      ]
     },
     "execution_count": 75,
     "metadata": {},
     "output_type": "execute_result"
    }
   ],
   "source": [
    "data['Name'].nunique()"
   ]
  },
  {
   "cell_type": "markdown",
   "metadata": {
    "id": "l1faTAib9i8R"
   },
   "source": [
    "### 07. Tên nào xuất hiện ít nhất?"
   ]
  },
  {
   "cell_type": "code",
   "execution_count": 76,
   "metadata": {
    "id": "qQsApGLWU_5B"
   },
   "outputs": [
    {
     "data": {
      "text/plain": [
       "Name\n",
       "Natnael      1\n",
       "Kiril        1\n",
       "Shamyah      1\n",
       "Caylyn       1\n",
       "Tionne       1\n",
       "            ..\n",
       "Anaka        1\n",
       "Montanna     1\n",
       "Thaddaeus    1\n",
       "Miroslav     1\n",
       "Ackley       1\n",
       "Name: count, Length: 3682, dtype: int64"
      ]
     },
     "execution_count": 76,
     "metadata": {},
     "output_type": "execute_result"
    }
   ],
   "source": [
    "### 07. Tên nào xuất hiện ít nhất?\n",
    "data['Name'].value_counts()[data['Name'].value_counts() == min(data['Name'].value_counts())]"
   ]
  },
  {
   "cell_type": "markdown",
   "metadata": {
    "id": "SEwhC7F89i8S"
   },
   "source": [
    "### 08. Top 10 tên được sử dụng nhiều nhất?"
   ]
  },
  {
   "cell_type": "code",
   "execution_count": 77,
   "metadata": {
    "id": "BFfKGmF5VANE"
   },
   "outputs": [
    {
     "data": {
      "text/plain": [
       "Name\n",
       "Riley     1112\n",
       "Avery     1080\n",
       "Jordan    1073\n",
       "Peyton    1064\n",
       "Hayden    1049\n",
       "Taylor    1033\n",
       "Jayden    1031\n",
       "Alexis     984\n",
       "Payton     971\n",
       "Dakota     962\n",
       "Name: count, dtype: int64"
      ]
     },
     "execution_count": 77,
     "metadata": {},
     "output_type": "execute_result"
    }
   ],
   "source": [
    "data['Name'].value_counts().head(10)"
   ]
  },
  {
   "cell_type": "markdown",
   "metadata": {
    "id": "eKbEd52x9i8S"
   },
   "source": [
    "## TRỰC QUAN DỮ LIỆU"
   ]
  },
  {
   "cell_type": "markdown",
   "metadata": {
    "id": "oVYDPJZC9i8S"
   },
   "source": [
    "### 09. Vẽ đồ thị top 10 tên xuất hiện nhiều nhất năm 2014"
   ]
  },
  {
   "cell_type": "code",
   "execution_count": 78,
   "metadata": {
    "id": "Or1LkCDLVAt5"
   },
   "outputs": [
    {
     "data": {
      "text/plain": [
       "<BarContainer object of 10 artists>"
      ]
     },
     "execution_count": 78,
     "metadata": {},
     "output_type": "execute_result"
    },
    {
     "data": {
      "image/png": "[encoded data removed]",
      "text/plain": [
       "<Figure size 640x480 with 1 Axes>"
      ]
     },
     "metadata": {},
     "output_type": "display_data"
    }
   ],
   "source": [
    "import matplotlib.pyplot as plt\n",
    "plt.bar(data['Name'].value_counts().head(10).index, data['Name'].value_counts().head(10).values)\n",
    "\n",
    "# value_counts() return a Series with index as names and values as counts\n",
    "# x.value_counts().index gives the names\n",
    "# x.value_counts().values gives the counts"
   ]
  },
  {
   "cell_type": "markdown",
   "metadata": {
    "id": "mNhraA8l9i8S"
   },
   "source": [
    "### 10. Vẽ đồ thị thể hiện tỷ lệ nam nữ qua các năm 2004-2014"
   ]
  },
  {
   "cell_type": "code",
   "execution_count": 79,
   "metadata": {
    "id": "gTVAbNq-VBGF"
   },
   "outputs": [
    {
     "name": "stdout",
     "output_type": "stream",
     "text": [
      "48083 38337 (86420, 7)\n",
      "49196 39298 (88494, 7)\n",
      "50851 40952 (91803, 7)\n",
      "52234 42098 (94332, 7)\n",
      "52568 42402 (94970, 7)\n",
      "51987 42622 (94609, 7)\n",
      "51084 42223 (93307, 7)\n",
      "50651 41894 (92545, 7)\n",
      "50722 42302 (93024, 7)\n",
      "50440 42303 (92743, 7)\n",
      "51030 43118 (94148, 7)\n"
     ]
    },
    {
     "data": {
      "image/png": "[encoded data removed]",
      "text/plain": [
       "<Figure size 1000x600 with 1 Axes>"
      ]
     },
     "metadata": {},
     "output_type": "display_data"
    }
   ],
   "source": [
    "### 10. Vẽ đồ thị thể hiện tỷ lệ nam nữ qua các năm 2004-2014\n",
    "\n",
    "plt.figure(figsize=(10,6))\n",
    "for year in range(2004, 2015):\n",
    "    sumPlotData = data[data['Year'] == year]\n",
    "    plotDataFemale = sumPlotData[sumPlotData['Gender'] == 'F'].value_counts().sum()\n",
    "    plotDataMale = sumPlotData[sumPlotData['Gender'] == 'M'].value_counts().sum()\n",
    "    print(plotDataFemale, plotDataMale, sumPlotData.shape)\n",
    "    plt.bar(year, plotDataFemale/sumPlotData.value_counts().sum(),color='orange')\n",
    "    plt.bar(year, plotDataMale/sumPlotData.value_counts().sum(),color='blue')\n",
    "\n",
    "plt.title('Tỷ lệ sinh theo giới tính qua các năm (2004-2014)')\n",
    "plt.xlabel('Năm')\n",
    "plt.ylabel('Số lượng sinh')\n",
    "plt.legend(['Nữ', 'Nam'])\n",
    "plt.grid()\n",
    "plt.show()\n"
   ]
  }
 ],
 "metadata": {
  "colab": {
   "provenance": []
  },
  "kernelspec": {
   "display_name": ".venv",
   "language": "python",
   "name": "python3"
  },
  "language_info": {
   "codemirror_mode": {
    "name": "ipython",
    "version": 3
   },
   "file_extension": ".py",
   "mimetype": "text/x-python",
   "name": "python",
   "nbconvert_exporter": "python",
   "pygments_lexer": "ipython3",
   "version": "3.12.9"
  }
 },
 "nbformat": 4,
 "nbformat_minor": 0
}
