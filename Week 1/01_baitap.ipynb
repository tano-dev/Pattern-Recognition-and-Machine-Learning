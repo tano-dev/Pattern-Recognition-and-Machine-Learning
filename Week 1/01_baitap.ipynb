{
 "cells": [
  {
   "cell_type": "markdown",
   "metadata": {},
   "source": [
    "# Giới thiệu môi trường và các công cụ thực hành"
   ]
  },
  {
   "cell_type": "markdown",
   "metadata": {},
   "source": [
    "Trong buổi này, bạn sẽ được giới thiệu về môi trường và các công cụ thực hành trong khóa học này, bao gồm Python, Jupyter Notebook, Numpy, Matplotlib và Scikit-learn."
   ]
  },
  {
   "cell_type": "markdown",
   "metadata": {},
   "source": [
    "## Mục lục\n",
    "\n",
    "[Phần 1: Giao diện lập trình Python sử dụng Jupyter Notebook](#Phần-1:-Giao-diện-lập-trình-Python-sử-dụng-Jupyter-Notebook)\n",
    "\n",
    "&nbsp;&nbsp;&nbsp;&nbsp;[1.1. Làm quen với Python](#1.1.-Làm-quen-với-Python)\n",
    "\n",
    "&nbsp;&nbsp;&nbsp;&nbsp;[1.2. Thêm chú thích cho code](#1.2.-Thêm-chú-thích-cho-code)\n",
    "\n",
    "&nbsp;&nbsp;&nbsp;&nbsp;[1.3. Tính toán trên Python](#1.3.-Tính-toán-trên-Python)\n",
    "\n",
    "\n",
    "[Phần 2: Biến và kiểu dữ liệu](#Phần-2:-Biến-và-kiểu-dữ-liệu)\n",
    "\n",
    "&nbsp;&nbsp;&nbsp;&nbsp;[2.1. Gán giá trị cho biến](#2.1.-Gán-giá-trị-cho-biến)\n",
    "\n",
    "&nbsp;&nbsp;&nbsp;&nbsp;[2.2. Tính toán trên các biến](#2.2.-Tính-toán-trên-các-biến)\n",
    "\n",
    "&nbsp;&nbsp;&nbsp;&nbsp;[2.3. Kiểu dữ liệu](#2.3.-Kiểu-dữ-liệu)\n",
    "\n",
    "&nbsp;&nbsp;&nbsp;&nbsp;[2.4. Thao tác trên các kiểu dữ liệu](#2.4.-Thao-tác-trên-các-kiểu-dữ-liệu)\n",
    "\n",
    "&nbsp;&nbsp;&nbsp;&nbsp;[2.5. Chuyển đổi kiểu dữ liệu](#2.5.-Chuyển-đổi-kiểu-dữ-liệu)\n",
    "\n",
    "[Phần 3: Danh sách](#Phần-3:-Danh-sách)\n",
    "\n",
    "&nbsp;&nbsp;&nbsp;&nbsp;[3.1. Tạo danh sách](#3.1.-Tạo-danh-sách)\n",
    "\n",
    "&nbsp;&nbsp;&nbsp;&nbsp;[3.2. Tạo danh sách chứa các kiểu dữ liệu khác nhau](#3.2.-Tạo-danh-sách-chứa-các-kiểu-dữ-liệu-khác-nhau)\n",
    "\n",
    "&nbsp;&nbsp;&nbsp;&nbsp;[3.3. Danh sách của các danh sách](#3.3.-Danh-sách-của-các-danh-sách)\n",
    "\n",
    "[Phần 4: Các thao tác truy cập danh sách](#Phần-4:-Các-thao-tác-truy-cập-danh-sách)\n",
    "\n",
    "&nbsp;&nbsp;&nbsp;&nbsp;[4.1. Truy cập một phần tử trong danh sách](#4.1.-Truy-cập-một-phần-tử-trong-danh-sách)\n",
    "\n",
    "&nbsp;&nbsp;&nbsp;&nbsp;[4.2. Tính toán với các phần tử của danh sách](#4.2.-Tính-toán-với-các-phần-tử-của-danh-sách)\n",
    "\n",
    "&nbsp;&nbsp;&nbsp;&nbsp;[4.3. Trích xuất nhiều phần tử của danh sách](#4.3.-Trích-xuất-nhiều-phần-tử-của-danh-sách)\n",
    "\n",
    "&nbsp;&nbsp;&nbsp;&nbsp;[4.4. Trích xuất nhiều phần tử của danh sách (tiếp)](#4.4.-Trích-xuất-nhiều-phần-tử-của-danh-sách-%28tiếp%29)\n",
    "\n",
    "&nbsp;&nbsp;&nbsp;&nbsp;[4.5. Thao tác truy cập đối với danh sách của các danh sách](#4.5.-Thao-tác-truy-cập-đối-với-danh-sách-của-các-danh-sách)\n",
    "\n",
    "[Phần 5: Các thao tác chỉnh sửa danh sách](#Phần-5:-Các-thao-tác-chỉnh-sửa-danh-sách)\n",
    "\n",
    "&nbsp;&nbsp;&nbsp;&nbsp;[5.1. Thay đổi giá trị của phần tử](#5.1.-Thay-đổi-giá-trị-của-phần-tử)\n",
    "\n",
    "&nbsp;&nbsp;&nbsp;&nbsp;[5.2. Mở rộng danh sách](#5.2.-Mở-rộng-danh-sách)\n",
    "\n",
    "&nbsp;&nbsp;&nbsp;&nbsp;[5.3. Xóa phần tử khỏi danh sách](#5.3.-Xóa-phần-tử-khỏi-danh-sách)\n",
    "\n",
    "&nbsp;&nbsp;&nbsp;&nbsp;[5.4. Lưu ý khi sử dụng danh sách](#5.4.-Lưu-ý-khi-sử-dụng-danh-sách)\n",
    "\n",
    "[Phần 6: Hàm](#Phần-6:-Hàm)\n",
    "\n",
    "&nbsp;&nbsp;&nbsp;&nbsp;[6.1. Các hàm quen thuộc](#6.1.-Các-hàm-quen-thuộc)\n",
    "\n",
    "&nbsp;&nbsp;&nbsp;&nbsp;[6.2. Hướng dẫn sử dụng hàm](#6.2.-Hướng-dẫn-sử-dụng-hàm)\n",
    "\n",
    "&nbsp;&nbsp;&nbsp;&nbsp;[6.3. Hàm nhận nhiều tham số](#6.3.-Hàm-nhận-nhiều-tham-số)\n",
    "\n",
    "[Phần 7: Phương thức](#Phần-7:-Phương-thức)\n",
    "\n",
    "&nbsp;&nbsp;&nbsp;&nbsp;[7.1. Phương thức của xâu ký tự](#7.1.-Phương-thức-của-xâu-ký-tự)\n",
    "\n",
    "&nbsp;&nbsp;&nbsp;&nbsp;[7.2. Phương thức của danh sách](#7.2.-Phương-thức-của-danh-sách)\n",
    "\n",
    "&nbsp;&nbsp;&nbsp;&nbsp;[7.3. Phương thức của danh sách (tiếp)](#7.3.-Phương-thức-của-danh-sách-%28tiếp%29)\n",
    "\n",
    "[Phần 8: Sử dụng gói (Packages)](#Phần-8:-Sử-dụng-gói-%28Packages%29)\n",
    "\n",
    "&nbsp;&nbsp;&nbsp;&nbsp;[8.1. Nhập toàn bộ gói](#8.1.-Nhập-toàn-bộ-gói)\n",
    "\n",
    "&nbsp;&nbsp;&nbsp;&nbsp;[8.2. Nhập một phần trong gói](#8.2.-Nhập-một-phần-trong-gói)\n",
    "\n",
    "[Phần 9: Numpy](#Phần-9:-Numpy)\n",
    "\n",
    "&nbsp;&nbsp;&nbsp;&nbsp;[9.1. Tạo mảng với numpy](#9.1.-Tạo-mảng-với-numpy)\n",
    "\n",
    "&nbsp;&nbsp;&nbsp;&nbsp;[9.2. Bài tập: Chiều cao của các cầu thủ bóng rổ](#9.2.-Bài-tập:-Chiều-cao-của-các-cầu-thủ-bóng-rổ)\n",
    "\n",
    "&nbsp;&nbsp;&nbsp;&nbsp;[9.3. Chỉ số BMI của các cầu thủ bóng rổ](#9.3.-Chỉ-số-BMI-của-các-cầu-thủ-bóng-rổ)\n",
    "\n",
    "&nbsp;&nbsp;&nbsp;&nbsp;[9.4. Bài tập: Tìm cầu thủ nhẹ cân](#9.4.-Bài-tập:-Tìm-cầu-thủ-nhẹ-cân)\n",
    "\n",
    "&nbsp;&nbsp;&nbsp;&nbsp;[9.5. Trích xuất nhiều phần tử từ mảng numpy](#9.5.-Trích-xuất-nhiều-phần-tử-từ-mảng-numpy)\n",
    "\n",
    "[Phần 10: Mảng 2 chiều của numpy](#Phần-10:-Mảng-2-chiều-của-numpy)\n",
    "\n",
    "&nbsp;&nbsp;&nbsp;&nbsp;[10.1. Tạo mảng numpy 2 chiều](#10.1.-Tạo-mảng-numpy-2-chiều)\n",
    "\n",
    "&nbsp;&nbsp;&nbsp;&nbsp;[10.2. Bài tập: lưu trữ dữ liệu cầu thủ bóng rổ](#10.2.-Bài-tập:-lưu-trữ-dữ-liệu-cầu-thủ-bóng-rổ)\n",
    "\n",
    "&nbsp;&nbsp;&nbsp;&nbsp;[10.3. Truy xuất phần tử trong mảng 2 chiều numpy](#10.3.-Truy-xuất-phần-tử-trong-mảng-2-chiều-numpy)\n",
    "\n",
    "&nbsp;&nbsp;&nbsp;&nbsp;[10.4. Tính toán trên mảng 2 chiều](#10.4.-Tính-toán-trên-mảng-2-chiều)\n",
    "\n",
    "[Phần 11: Thống kê với numpy](#Phần-11:-Thống-kê-với-numpy)\n",
    "\n",
    "&nbsp;&nbsp;&nbsp;&nbsp;[11.1. Trung bình cộng vs Trung vị](#11.1.-Trung-bình-cộng-vs-Trung-vị)\n",
    "\n",
    "&nbsp;&nbsp;&nbsp;&nbsp;[11.2. Bài tập: Kiểm tra dữ liệu cầu thủ](#11.2.-Bài-tập:-Kiểm-tra-dữ-liệu-cầu-thủ)\n",
    "\n",
    "&nbsp;&nbsp;&nbsp;&nbsp;[11.3. Bài tập: Dữ liệu cầu thủ bóng đá](#11.3.-Bài-tập:-Dữ-liệu-cầu-thủ-bóng-đá)\n",
    "\n",
    "[Phần 12: Sử dụng matplotlib để biểu diễn dữ liệu (cơ bản)](#Phần-12:-Sử-dụng-matplotlib-để-biểu-diễn-dữ-liệu-%28cơ-bản%29)\n",
    "\n",
    "&nbsp;&nbsp;&nbsp;&nbsp;[12.1. Vẽ đường thẳng](#12.1.-Vẽ-đường-thẳng)\n",
    "\n",
    "&nbsp;&nbsp;&nbsp;&nbsp;[12.2. Vẽ đường thẳng (tiếp)](#12.2.-Vẽ-đường-thẳng-%28tiếp%29)\n",
    "\n",
    "&nbsp;&nbsp;&nbsp;&nbsp;[12.3. Vẽ đồ thị phân tán](#12.3.-Vẽ-đồ-thị-phân-tán)\n",
    "\n",
    "&nbsp;&nbsp;&nbsp;&nbsp;[12.4. Vẽ đồ thị phân tán (tiếp)](#12.4.-Vẽ-đồ-thị-phân-tán-%28tiếp%29)\n",
    "\n",
    "[Phần 13: Histograms](#Phần-13:-Histograms)\n",
    "\n",
    "&nbsp;&nbsp;&nbsp;&nbsp;[13.1. Xây dựng histogram với matplotlib](#13.1.-Xây-dựng-histogram-với-matplotlib)\n",
    "\n",
    "&nbsp;&nbsp;&nbsp;&nbsp;[13.2. Xây dựng histogram với matplotlib (tiếp): bins](#13.2.-Xây-dựng-histogram-với-matplotlib-%28tiếp%29:-bins)\n",
    "\n",
    "&nbsp;&nbsp;&nbsp;&nbsp;[13.3. Xây dựng histogram với matplotlib (tiếp): so sánh](#13.3.-Xây-dựng-histogram-với-matplotlib-%28tiếp%29:-so-sánh)\n",
    "\n",
    "[Phần 14: Tùy biến đồ thị với matplotlib](#Phần-14:-Tùy-biến-đồ-thị-với-matplotlib)\n",
    "\n",
    "&nbsp;&nbsp;&nbsp;&nbsp;[14.1. Nhãn của đồ thị](#14.1.-Nhãn-của-đồ-thị)\n",
    "\n",
    "&nbsp;&nbsp;&nbsp;&nbsp;[14.2. Dữ liệu trên các trục tọa độ](#14.2.-Dữ-liệu-trên-các-trục-tọa-độ)\n",
    "\n",
    "&nbsp;&nbsp;&nbsp;&nbsp;[14.3. Tùy chỉnh kích thước các điểm trên đồ thị](#14.3.-Tùy-chỉnh-kích-thước-các-điểm-trên-đồ-thị)\n",
    "\n",
    "&nbsp;&nbsp;&nbsp;&nbsp;[14.4. Tùy chỉnh màu sắc](#14.4.-Tùy-chỉnh-màu-sắc)\n",
    "\n",
    "&nbsp;&nbsp;&nbsp;&nbsp;[14.5. Các tùy biến khác](#14.5.-Các-tùy-biến-khác)\n",
    "\n",
    "[Phần 15: Đại số Bool và Luồng điều khiển](#Phần-15:-Đại-số-Bool-và-Luồng-điều-khiển)\n",
    "\n",
    "&nbsp;&nbsp;&nbsp;&nbsp;[15.1. Bài tập: So sánh bằng](#15.1.-Bài-tập:-So-sánh-bằng)\n",
    "\n",
    "&nbsp;&nbsp;&nbsp;&nbsp;[15.2. Bài tập: So sánh lớn hơn, nhỏ hơn](#15.2.-Bài-tập:-So-sánh-lớn-hơn,-nhỏ-hơn)\n",
    "\n",
    "&nbsp;&nbsp;&nbsp;&nbsp;[15.3. Toán tử Bool: and, or, not](#15.3.-Toán-tử-Bool:-and,-or,-not)\n",
    "\n",
    "&nbsp;&nbsp;&nbsp;&nbsp;[15.4. Câu lệnh rẽ nhánh](#15.4.-Câu-lệnh-rẽ-nhánh)\n",
    "\n",
    "&nbsp;&nbsp;&nbsp;&nbsp;[15.5. if](#15.5.-if)\n",
    "\n",
    "&nbsp;&nbsp;&nbsp;&nbsp;[15.6. else](#15.6.-else)\n",
    "\n",
    "&nbsp;&nbsp;&nbsp;&nbsp;[15.7. elif](#15.7.-elif)\n",
    "\n",
    "[Phần 16: Giới thiệu về học máy với Scikit-learn](#Phần-16:-Giới-thiệu-về-học-máy-với-Scikit-learn)\n",
    "\n",
    "&nbsp;&nbsp;&nbsp;&nbsp;[16.1. Học máy](#16.1.-Học-máy)\n",
    "\n",
    "&nbsp;&nbsp;&nbsp;&nbsp;[16.2. Dữ liệu (Datasets)](#16.2.-Dữ-liệu-(Datasets))\n",
    "\n",
    "&nbsp;&nbsp;&nbsp;&nbsp;[16.3. Mô hình học](#16.3.-Mô-hình-học)\n"
   ]
  },
  {
   "cell_type": "markdown",
   "metadata": {
    "collapsed": true
   },
   "source": [
    "# Phần 1: Giao diện lập trình Python sử dụng Jupyter Notebook\n",
    "\n"
   ]
  },
  {
   "cell_type": "markdown",
   "metadata": {},
   "source": [
    "Trong Jupyter Notebook, bạn có thể viết code của của bạn trong các ô (cell) có màu xám. Hãy chọn ô chứa đoạn code bạn muốn thực thi rồi sử dụng tổ hợp phím `Shift+Enter` hoặc `Ctrl+Enter` để chạy đoạn code đó, kết quả sẽ được hiển thị ở ngay dưới ô này.\n",
    "\n",
    "Hãy bắt đầu với bài thực hành đầu tiên của chúng ta:"
   ]
  },
  {
   "cell_type": "markdown",
   "metadata": {},
   "source": [
    "## 1.1. Làm quen với Python"
   ]
  },
  {
   "cell_type": "markdown",
   "metadata": {},
   "source": [
    "Trong mục này, bạn sẽ thực hành lệnh in của Python 3, đó là lệnh `print`. Bạn hãy xem và chạy thử ví dụ dưới đây:"
   ]
  },
  {
   "cell_type": "code",
   "execution_count": 35,
   "metadata": {
    "scrolled": true
   },
   "outputs": [
    {
     "name": "stdout",
     "output_type": "stream",
     "text": [
      "0.625\n"
     ]
    }
   ],
   "source": [
    "# Ví dụ lệnh in trong Python\n",
    "print(5 / 8)"
   ]
  },
  {
   "cell_type": "markdown",
   "metadata": {},
   "source": [
    "Tiếp theo, hãy thêm câu lệnh `print(7 + 10)` vào cuối của khung lập trình dưới đây và thực thi đoạn code đó để xem kết quả:"
   ]
  },
  {
   "cell_type": "code",
   "execution_count": 36,
   "metadata": {},
   "outputs": [
    {
     "name": "stdout",
     "output_type": "stream",
     "text": [
      "17\n"
     ]
    }
   ],
   "source": [
    "# Hãy viết code của bạn ở dưới đây\n",
    "print(7+10)"
   ]
  },
  {
   "cell_type": "markdown",
   "metadata": {},
   "source": [
    "Nếu kết quả của bạn là `17`, chúc mừng bạn đã viết được chương trình Python đầu tiên của mình! Chúng ta hãy cùng chuyển sang bài tập tiếp theo nhé."
   ]
  },
  {
   "cell_type": "markdown",
   "metadata": {},
   "source": [
    "## 1.2. Thêm chú thích cho code"
   ]
  },
  {
   "cell_type": "markdown",
   "metadata": {},
   "source": [
    "Trong lập trình, chú thích (comment) là một phần quan trọng, dùng để đưa ra các lời mô tả hoặc giải thích cho các đoạn code của bạn, giúp cho người khác (và chính bạn) hiểu được nội dung của đoạn code đó.\n",
    "\n",
    "Trong Python, bạn có thể viết nội dung của chú thích ở đằng sau dấu thăng (`#`), ví dụ:"
   ]
  },
  {
   "cell_type": "code",
   "execution_count": 37,
   "metadata": {},
   "outputs": [
    {
     "name": "stdout",
     "output_type": "stream",
     "text": [
      "Hello Python\n"
     ]
    }
   ],
   "source": [
    "# Đây là một chú thích\n",
    "print(\"Hello Python\") # in ra dòng Hello Python"
   ]
  },
  {
   "cell_type": "markdown",
   "metadata": {},
   "source": [
    "## 1.3. Tính toán trên Python"
   ]
  },
  {
   "cell_type": "markdown",
   "metadata": {
    "collapsed": true
   },
   "source": [
    "Python cũng có thể được dùng như một chiếc \"máy tính cầm tay\" để thực hiện các phép tính cơ bản: cộng (+), trừ (-), nhân (*), chia (/) và các phép tính phức tạp hơn như:\n",
    "\n",
    "- Phép lũy thừa: `**`. Ví dụ: kết quả của `4 ** 2` là `16`\n",
    "- Phép chia lấy phần dư: `%`. Ví dụ: kết quả của `10 % 3` là `1`\n",
    "\n",
    "Đoạn code dưới đây là ví dụ với các phép tính mà Python hỗ trợ chúng ta, bạn chạy thử để xem kết quả của nó nhé:\n"
   ]
  },
  {
   "cell_type": "code",
   "execution_count": 38,
   "metadata": {},
   "outputs": [
    {
     "name": "stdout",
     "output_type": "stream",
     "text": [
      "10\n",
      "0\n",
      "15\n",
      "5.0\n",
      "16\n",
      "4\n"
     ]
    }
   ],
   "source": [
    "# Phép cộng, phép trừ\n",
    "print(5 + 5)\n",
    "print(5 - 5)\n",
    "\n",
    "# Phép nhân, phép chia\n",
    "print(3 * 5)\n",
    "print(10 / 2)\n",
    "\n",
    "# Tính lũy thừa\n",
    "print(4 ** 2)\n",
    "# ** = ^\n",
    "\n",
    "# Chia lấy phần dư\n",
    "print(18 % 7)"
   ]
  },
  {
   "cell_type": "markdown",
   "metadata": {},
   "source": [
    "**Bài tập:** An có 1000 USD gửi ngân hàng với lãi suất 10% mỗi năm. Hãy viết đoạn code để tính và in ra số tiền mà An nhận được sau 15 năm gửi ngân hàng:"
   ]
  },
  {
   "cell_type": "code",
   "execution_count": 39,
   "metadata": {},
   "outputs": [
    {
     "name": "stdout",
     "output_type": "stream",
     "text": [
      "4177.248169415656\n"
     ]
    }
   ],
   "source": [
    "# Số tiền An nhận được sau 15 năm gửi ngân hàng\n",
    "print(1000 * 1.1**15)"
   ]
  },
  {
   "cell_type": "markdown",
   "metadata": {},
   "source": [
    "Kết quả đúng: `4177.248169415656`"
   ]
  },
  {
   "cell_type": "markdown",
   "metadata": {},
   "source": [
    "# Phần 2: Biến và kiểu dữ liệu"
   ]
  },
  {
   "cell_type": "markdown",
   "metadata": {},
   "source": [
    "Biến và kiểu dữ liệu là các thành phần cơ bản của tất cả các ngôn ngữ lập trình. Hãy cùng tìm hiểu cách khởi tạo biến thuộc các kiểu dữ liệu khác nhau trong Python nhé."
   ]
  },
  {
   "cell_type": "markdown",
   "metadata": {},
   "source": [
    "## 2.1. Gán giá trị cho biến"
   ]
  },
  {
   "cell_type": "markdown",
   "metadata": {},
   "source": [
    "Trong Python, để gán giá trị cho 1 biến, ta dùng toán tử `=`. Ví dụ:"
   ]
  },
  {
   "cell_type": "code",
   "execution_count": 40,
   "metadata": {},
   "outputs": [
    {
     "name": "stdout",
     "output_type": "stream",
     "text": [
      "5\n"
     ]
    }
   ],
   "source": [
    "# Gán giá trị 5 cho biến x\n",
    "x = 5\n",
    "\n",
    "# In giá trị của x\n",
    "print(x)"
   ]
  },
  {
   "cell_type": "markdown",
   "metadata": {},
   "source": [
    "**Bài tập:**\n",
    "- Khởi tạo biến `savings` có giá trị bằng 1000\n",
    "- In ra giá trị của biến `savings`"
   ]
  },
  {
   "cell_type": "code",
   "execution_count": 41,
   "metadata": {},
   "outputs": [
    {
     "name": "stdout",
     "output_type": "stream",
     "text": [
      "1000\n"
     ]
    }
   ],
   "source": [
    "# Khởi tạo biến savings có giá trị bằng 1000\n",
    "savings = 1000\n",
    "\n",
    "# In ra giá trị của biến savings\n",
    "print(savings)\n"
   ]
  },
  {
   "cell_type": "markdown",
   "metadata": {},
   "source": [
    "## 2.2. Tính toán trên các biến"
   ]
  },
  {
   "cell_type": "markdown",
   "metadata": {},
   "source": [
    "Trong bài tập 3 của phần 1, bạn đã tính số tiền mà An nhận được sau 15 năm gửi ngân hàng bằng công thức:\n",
    "```\n",
    "1000 * 1.1 ** 15\n",
    "```\n",
    "Thay vì sử dụng hằng số `1000`, bạn có thể dùng biến `savings` mà bạn đã khởi tạo ở bài tập trước để thể hiện số tiền ban đầu mà An gửi vào ngân hàng. Hãy khởi tạo thêm 1 biến thể hiện lãi suất ngân hàng, sau đó tính lại số tiền của An sau 15 năm gửi ngân hàng bằng cách sử dụng 2 biến vừa khởi tạo, rồi gán giá trị của phép tính cho 1 biến mới và in ra giá trị của biến đó."
   ]
  },
  {
   "cell_type": "code",
   "execution_count": 42,
   "metadata": {},
   "outputs": [
    {
     "name": "stdout",
     "output_type": "stream",
     "text": [
      "4177.248169415656\n"
     ]
    }
   ],
   "source": [
    "# Khởi tạo biến savings\n",
    "savings = 1000\n",
    "\n",
    "# Khởi tạo biến factor biểu diễn lãi suất ngân hàng\n",
    "factor = 1.1\n",
    "\n",
    "# Tính toán số tiền và gán giá trị vào biến result\n",
    "result = savings * factor ** 15\n",
    "\n",
    "\n",
    "\n",
    "# In ra giá trị của result\n",
    "print(result)\n"
   ]
  },
  {
   "cell_type": "markdown",
   "metadata": {},
   "source": [
    "Kết quả đúng: `4177.248169415656`"
   ]
  },
  {
   "cell_type": "markdown",
   "metadata": {},
   "source": [
    "## 2.3. Kiểu dữ liệu"
   ]
  },
  {
   "cell_type": "markdown",
   "metadata": {},
   "source": [
    "Trong mục trước, chúng ta đã sử dụng 2 kiểu dữ liệu:\n",
    "- `int`, tức kiểu số nguyên. Ví dụ: biến `savings`, giá trị là `1000`.\n",
    "- `float`, tức kiểu số thực. Ví dụ: biến `factor`, giá trị là `1.1`.\n",
    "\n",
    "Ngoài dữ liệu kiểu số, chúng ta còn một số kiểu dữ liệu thông dụng khác như:\n",
    "- `str`, kiểu xâu (chuỗi) ký tự: dùng để biểu diễn 1 đoạn văn bản. Trong Python, một xâu được khai báo ở trong 2 dấu `\"` hoặc 2 dấu `'`.\n",
    "- `bool`, kiểu giá trị logic: chỉ nhận 2 giá trị là `True` và `False`."
   ]
  },
  {
   "cell_type": "markdown",
   "metadata": {},
   "source": [
    "**Bài tập:**\n",
    "- Tạo một xâu ký tự `desc` với giá trị là `\"Data Science\"`\n",
    "- Tạo một biến boolean tên là `profitable` có giá trị `True`"
   ]
  },
  {
   "cell_type": "code",
   "execution_count": 43,
   "metadata": {},
   "outputs": [],
   "source": [
    "# Tạo biến desc\n",
    "desc = \"Data Science\"\n",
    "\n",
    "# Tạo biến profitable\n",
    "profitable = True\n"
   ]
  },
  {
   "cell_type": "markdown",
   "metadata": {},
   "source": [
    "Nếu muốn biết một biến thuộc kiểu dữ liệu nào, ta có thể dùng lệnh `type()`. Ví dụ:"
   ]
  },
  {
   "cell_type": "code",
   "execution_count": 44,
   "metadata": {},
   "outputs": [
    {
     "name": "stdout",
     "output_type": "stream",
     "text": [
      "<class 'int'>\n"
     ]
    }
   ],
   "source": [
    "# Khai báo biến a\n",
    "a = 10\n",
    "# In ra kiểu dữ liệu của a\n",
    "print(type(a))"
   ]
  },
  {
   "cell_type": "markdown",
   "metadata": {},
   "source": [
    "**Bài tập:** In ra kiểu dữ liệu của các biến `savings`, `factor`, `desc` và `profitable` đã khai báo ở các mục trước."
   ]
  },
  {
   "cell_type": "code",
   "execution_count": 45,
   "metadata": {},
   "outputs": [
    {
     "name": "stdout",
     "output_type": "stream",
     "text": [
      "<class 'int'>\n",
      "<class 'float'>\n",
      "<class 'str'>\n",
      "<class 'bool'>\n"
     ]
    }
   ],
   "source": [
    "# In ra kiểu dữ liệu của biến savings\n",
    "print(type(savings))\n",
    "\n",
    "# In ra kiểu dữ liệu của biến factor\n",
    "print(type(factor))\n",
    "\n",
    "# In ra kiểu dữ liệu của biến desc\n",
    "print(type(desc))\n",
    "\n",
    "\n",
    "# In ra kiểu dữ liệu của biến profitable\n",
    "print(type(profitable))\n"
   ]
  },
  {
   "cell_type": "markdown",
   "metadata": {},
   "source": [
    "## 2.4. Thao tác trên các kiểu dữ liệu"
   ]
  },
  {
   "cell_type": "markdown",
   "metadata": {},
   "source": [
    "Khi chúng ta dùng các toán tử (`+`, `*`) trên các kiểu dữ liệu khác nhau, cách chúng thực thi các toán tử ấy sẽ khác nhau. Cụ thể, khi ta cộng (`+`) hai xâu ký tự, kết quả sẽ khác khi ta cộng hai số nguyên với nhau.\n",
    "\n",
    "**Bài tập:** Cho các biến và giá trị của nó trong đoạn code dưới đây. Công việc của bạn là:\n",
    "- Tính tích của `savings` và `factor`, lưu trữ giá trị vào biến `year1`.\n",
    "- Kiểu dữ liệu của biến `year1` là gì? Hãy tự tìm đáp án bằng cách in nó ra.\n",
    "- Tính tổng của `desc` và `desc` rồi lưu kết quả vào biến `doubledesc`.\n",
    "- Sau đó, in ra giá trị của `doubledesc`. Kết quả có nằm trong dự đoán của bạn chứ? :D"
   ]
  },
  {
   "cell_type": "code",
   "execution_count": 46,
   "metadata": {},
   "outputs": [
    {
     "name": "stdout",
     "output_type": "stream",
     "text": [
      "Data ScienceData Science\n"
     ]
    }
   ],
   "source": [
    "# Các biến đã được khai báo sẵn cho bạn\n",
    "savings = 1000\n",
    "factor = 1.10\n",
    "desc = \"Data Science\"\n",
    "\n",
    "# Tính tích của savings và factor, lưu kết quả vào year1\n",
    "year1 = savings * factor\n",
    "\n",
    "# In ra kiểu dữ liệu của year1\n",
    "\n",
    "\n",
    "# Tính tổng của desc và desc rồi lưu kết quả vào doubledesc\n",
    "doubledesc = desc + desc\n",
    "\n",
    "# In ra doubledesc\n",
    "print(doubledesc)\n"
   ]
  },
  {
   "cell_type": "markdown",
   "metadata": {},
   "source": [
    "## 2.5. Chuyển đổi kiểu dữ liệu"
   ]
  },
  {
   "cell_type": "markdown",
   "metadata": {},
   "source": [
    "Ở các mục trước, chúng ta mới chỉ thực hiện các phép toán trên các biến cùng kiểu dữ liệu. Ngược lại, nếu thực hiện phép toán trên các kiểu dữ liệu khác nhau, có thể sẽ xảy ra lỗi. Ví dụ nếu thực thi đoạn lệnh sau:\n",
    "```\n",
    "print(\"Tôi gửi ngân hàng $\" + savings + \", sau 15 năm, bây giờ tôi đã có $\" + result + \". Tuyệt vời!\")\n",
    "```\n",
    "trình biên dịch của Python sẽ báo lỗi, lý do là bạn không thể thực hiện phép cộng một xâu ký tự với một số nguyên/thực được.\n",
    "\n",
    "Để giải quyết vấn đề này, chúng ta có thể sử dụng lệnh `str()` để chuyển kiểu số sang kiểu xâu. Ví dụ: sử dụng `str(savings)` để chuyển giá trị của `savings` sang một xâu ký tự.\n",
    "\n",
    "Với các kiểu dữ liệu khác, ta sử dụng các lệnh tương tự như `int()`, `float()` hay `bool()`.\n",
    "\n",
    "**Bài tập:**\n",
    "- Hãy chạy đoạn code dưới đây, đọc hiểu lỗi mà trình biên dịch báo và tìm cách sửa code để khắc phục lỗi này.\n",
    "- Chuyển giá trị của `pi_string` sang số thực và gán giá trị đó cho biến `pi_float`."
   ]
  },
  {
   "cell_type": "code",
   "execution_count": 47,
   "metadata": {},
   "outputs": [
    {
     "name": "stdout",
     "output_type": "stream",
     "text": [
      "Tôi gửi ngân hàng $1000, sau 15 năm, bây giờ tôi đã có $4177.248169415656. Tuyệt vời!\n"
     ]
    }
   ],
   "source": [
    "# Khai báo biến savings và result\n",
    "savings = 1000\n",
    "result = 1000 * 1.10 ** 15\n",
    "\n",
    "# Sửa lại lệnh in dưới đây cho đúng\n",
    "print(\"Tôi gửi ngân hàng $\" + str(savings) + \", sau 15 năm, bây giờ tôi đã có $\" + str(result) + \". Tuyệt vời!\")\n",
    "\n",
    "# Khai báo pi_string\n",
    "pi_string = \"3.1415926\"\n",
    "\n",
    "# Chuyển pi_string sang float: pi_float\n",
    "pi_float = float(pi_string)\n",
    "\n"
   ]
  },
  {
   "cell_type": "markdown",
   "metadata": {},
   "source": [
    "# Phần 3: Danh sách"
   ]
  },
  {
   "cell_type": "markdown",
   "metadata": {},
   "source": [
    "## 3.1. Tạo danh sách"
   ]
  },
  {
   "cell_type": "markdown",
   "metadata": {},
   "source": [
    "Khác với các kiểu dữ liệu chúng ta vừa làm quen như `int` hay `float`, danh sách (list) là một kiểu dữ liệu đặc biệt, là tổ hợp của các biến thuộc các kiểu dữ liệu khác nhau.\n",
    "\n",
    "```\n",
    "a = \"is\"\n",
    "b = \"nice\"\n",
    "my_list = [\"my\", \"list\", a, b]\n",
    "```\n",
    "**Bài tập:** Bạn đo đạc diện tích các căn phòng trong nhà và lưu kết quả vào các biến ở đoạn code dưới đây. Yêu cầu:\n",
    "- Tạo 1 danh sách tên là `areas` chứa diện tích các phòng và khu vực trong nhà: hành lang (`hall`), phòng bếp (`kit`), phòng khách (`liv`), phòng ngủ (`bed`) và phòng tắm (`bath`) theo đúng thứ tự đó.\n",
    "- In ra giá trị của `areas` sử dụng hàm `print()`."
   ]
  },
  {
   "cell_type": "code",
   "execution_count": 48,
   "metadata": {},
   "outputs": [
    {
     "name": "stdout",
     "output_type": "stream",
     "text": [
      "[11.25, 18.0, 20.0, 10.75, 9.5]\n"
     ]
    }
   ],
   "source": [
    "# các biến thể hiện diện tích các phòng (m2)\n",
    "hall = 11.25\n",
    "kit = 18.0\n",
    "liv = 20.0\n",
    "bed = 10.75\n",
    "bath = 9.50\n",
    "\n",
    "# khởi tạo danh sách areas\n",
    "areas = [hall, kit, liv, bed, bath]\n",
    "\n",
    "# in ra areas\n",
    "print(areas)\n"
   ]
  },
  {
   "cell_type": "markdown",
   "metadata": {},
   "source": [
    "## 3.2. Tạo danh sách chứa các kiểu dữ liệu khác nhau"
   ]
  },
  {
   "cell_type": "markdown",
   "metadata": {},
   "source": [
    "Danh sách của Python có thể chứa các biến thuộc bất kỳ kiểu dữ liệu nào. Một danh sách có thể là tổ hợp của các biến thuộc các kiểu dữ liệu khác nhau như `int`, `float`, `str`, v.v. mặc dù trong thực tế thì ít có khi nào một danh sách như vậy được sử dụng.\n",
    "\n",
    "Đối với danh sách `areas` ở mục trước, chúng ta có thể làm cho kết quả trực quan hơn việc chỉ in ra các con số vô nghĩa, bằng cách thêm thông tin về tên của các căn phòng vào trong danh sách. Ví dụ, trong đoạn code dưới đây, chúng tôi đã khởi tạo sẵn một danh sách `areas` chứa tên của phòng tắm (`\"bathroom\"`) và phòng khách (`\"living room\"`) ở trước các biến chứa giá trị diện tích của phòng đó. (Lưu ý: `\"living room\"` là một giá trị kiểu xâu, còn `liv` là một biến chứa giá trị kiểu số thực `float`.)\n",
    "\n",
    "**Bài tập:**\n",
    "- Thêm đầy đủ tên các phòng vào danh sách `areas`, mỗi tên phòng đều đứng ngay trước biến chứa diện tích của nó: `\"hallway\"` cho `hall`, `\"kitchen\"` cho `kit`, `\"bedroom\"` cho `bed`.\n",
    "- In ra giá trị của `areas`."
   ]
  },
  {
   "cell_type": "code",
   "execution_count": 49,
   "metadata": {},
   "outputs": [
    {
     "name": "stdout",
     "output_type": "stream",
     "text": [
      "['hallway', 11.25, 'kitchen', 18.0, 'living room', 20.0, 'bedroom', 10.75, 'bathroom', 9.5]\n"
     ]
    }
   ],
   "source": [
    "# các biến thể hiện diện tích các phòng (m2)\n",
    "hall = 11.25\n",
    "kit = 18.0\n",
    "liv = 20.0\n",
    "bed = 10.75\n",
    "bath = 9.50\n",
    "\n",
    "# sửa lại dòng khởi tạo danh sách areas\n",
    "areas = [\"hallway\", hall, \"kitchen\", kit, \"living room\", liv, \"bedroom\", bed, \"bathroom\", bath]\n",
    "# in ra areas\n",
    "print(areas)\n"
   ]
  },
  {
   "cell_type": "markdown",
   "metadata": {},
   "source": [
    "## 3.3. Danh sách của các danh sách"
   ]
  },
  {
   "cell_type": "markdown",
   "metadata": {},
   "source": [
    "Do danh sách cũng là 1 kiểu trong Python, 1 danh sách cũng có thể chứa 1 hoặc nhiều danh sách con trong nó. Ví dụ:\n",
    "\n",
    "```\n",
    "el1 = [1, 2, 3]\n",
    "el2 = [4, 5, 6]\n",
    "el3 = [7, 8, 9]\n",
    "my_list = [el1, el2, el3]\n",
    "```\n",
    "\n",
    "Trong đó `my_list` chứa 3 danh sách con là `el1`, `el2` và `el3`.\n",
    "Dưới đây là các ví dụ khác về danh sách trong Python:\n",
    "\n",
    "```\n",
    "[1, 3, 4, 2]\n",
    "[[1, 2, 3], [4, 5, 7]]\n",
    "[1 + 2, \"a\" * 5, 3]\n",
    "```"
   ]
  },
  {
   "cell_type": "markdown",
   "metadata": {},
   "source": [
    "Để xử lý dữ liệu một cách hiệu quả hơn, chúng ta cần tổ chức chúng một cách hợp lý. Một thao tác cơ bản cho việc tổ chức dữ liệu là nhóm các dữ liệu liên quan lại với nhau. Trong bài tập ở mục vừa rồi, chúng ta có thể thay đổi cách tổ chức dữ liệu bằng cách nhóm mỗi tên phòng và diện tích phòng thành một danh sách nhỏ, sau đó tạo ra danh sách lớn chứa các danh sách nhỏ đó. Đoạn code dưới đây đã tạo sẵn cho bạn một danh sách chưa đầy đủ của các phòng. Hãy bổ sung các phòng còn thiếu vào danh sách `house` và in ra giá trị và kiểu dữ liệu của `house` (hãy kiểm chứng lại xem `house` có còn là kiểu dữ liệu danh sách (`list`) nữa hay không?)."
   ]
  },
  {
   "cell_type": "code",
   "execution_count": 50,
   "metadata": {},
   "outputs": [
    {
     "name": "stdout",
     "output_type": "stream",
     "text": [
      "[['hallway', 11.25], ['kitchen', 18.0], ['living room', 20.0], ['bedroom', 10.75], ['bathroom', 9.5]]\n",
      "<class 'list'>\n"
     ]
    }
   ],
   "source": [
    "# các biến thể hiện diện tích các phòng (m2)\n",
    "hall = 11.25\n",
    "kit = 18.0\n",
    "liv = 20.0\n",
    "bed = 10.75\n",
    "bath = 9.50\n",
    "\n",
    "# thông tin về ngôi nhà, biểu diễn bởi danh sách của các danh sách\n",
    "house = [[\"hallway\", hall],\n",
    "         [\"kitchen\", kit],\n",
    "         [\"living room\", liv],\n",
    "         [\"bedroom\", bed],\n",
    "         [\"bathroom\", bath]]\n",
    "\n",
    "# in ra giá trị của house\n",
    "print(house)\n",
    "\n",
    "# in ra kiểu dữ liệu của house\n",
    "print(type(house))\n",
    "\n"
   ]
  },
  {
   "cell_type": "markdown",
   "metadata": {},
   "source": [
    "# Phần 4: Các thao tác truy cập danh sách"
   ]
  },
  {
   "cell_type": "markdown",
   "metadata": {},
   "source": [
    "## 4.1. Truy cập một phần tử trong danh sách"
   ]
  },
  {
   "cell_type": "markdown",
   "metadata": {},
   "source": [
    "Cũng giống như nhiều ngôn ngữ lập trình, chỉ số (index) của các phần tử trong danh sách của Python cũng được đánh số bắt đầu từ `0`. Như vậy phần tử thứ nhất có chỉ số là `0`, phần tử thứ hai có chỉ số là `1`,... Trong Python, chúng ta cũng có thể sử dụng chỉ số âm (phần tử cuối cùng trong danh sách có chỉ số là `-1`, phần tử gần cuối có chỉ số là `-2`). Ví dụ:\n",
    "```\n",
    "x = list[\"a\", \"b\", \"c\", \"d\"]\n",
    "x[1]\n",
    "x[-3] # kết quả giống với x[1]\n",
    "```\n",
    "**Bài tập:**\n",
    "- In ra phần tử thứ 2 của `areas` (`11.25`).\n",
    "- In ra phần tử cuối cùng của `areas` (`9.5`), hãy thử sử dụng chỉ số âm.\n",
    "- Tìm chỉ số của phần tử biểu diễn diện tích phòng khách và in ra giá trị của phần tử đó."
   ]
  },
  {
   "cell_type": "code",
   "execution_count": 51,
   "metadata": {},
   "outputs": [
    {
     "name": "stdout",
     "output_type": "stream",
     "text": [
      "11.25\n",
      "9.5\n",
      "20.0\n"
     ]
    }
   ],
   "source": [
    "# khởi tạo danh sách areas\n",
    "areas = [\"hallway\", 11.25, \"kitchen\", 18.0, \"living room\", 20.0, \"bedroom\", 10.75, \"bathroom\", 9.50]\n",
    "\n",
    "# in ra phần tử thứ hai của areas\n",
    "print(areas[1])\n",
    "\n",
    "# in ra phần tử cuối cùng của areas\n",
    "print(areas[-1])\n",
    "\n",
    "# in ra diện tích của phòng khách (living room)\n",
    "print(areas[5])\n",
    "\n"
   ]
  },
  {
   "cell_type": "markdown",
   "metadata": {},
   "source": [
    "## 4.2. Tính toán với các phần tử của danh sách"
   ]
  },
  {
   "cell_type": "markdown",
   "metadata": {},
   "source": [
    "Sau khi trích ra các phần tử trong danh sách, ta có thể thực hiện các phép toán trên các phần tử đó như đối với các biến thông thường. Ví dụ:\n",
    "\n",
    "```\n",
    "x = [\"a\", \"b\", \"c\", \"d\"]\n",
    "print(x[1] + x[3])\n",
    "```\n",
    "\n",
    "**Bài tập:**"
   ]
  },
  {
   "cell_type": "code",
   "execution_count": 52,
   "metadata": {},
   "outputs": [
    {
     "name": "stdout",
     "output_type": "stream",
     "text": [
      "28.75\n"
     ]
    }
   ],
   "source": [
    "# khởi tạo\n",
    "areas = [\"hallway\", 11.25, \"kitchen\", 18.0, \"living room\", 20.0, \"bedroom\", 10.75, \"bathroom\", 9.50]\n",
    "\n",
    "# tổng diện tích của kitchen và bedroom: eat_sleep_area\n",
    "eat_sleep_area = areas[3] + areas[7]\n",
    "\n",
    "# in ra giá trị của eat_sleep_area\n",
    "print(eat_sleep_area)\n"
   ]
  },
  {
   "cell_type": "markdown",
   "metadata": {},
   "source": [
    "## 4.3. Trích xuất nhiều phần tử của danh sách"
   ]
  },
  {
   "cell_type": "markdown",
   "metadata": {},
   "source": [
    "Trong Python, việc trích xuất nhiều phần tử liên tiếp của một danh sách là rất đơn giản. Ta sử dụng công thức sau:\n",
    "\n",
    "```\n",
    "mylist[start:end]\n",
    "```\n",
    "\n",
    "để trích từ danh sách `mylist` các phần tử có chỉ số từ `start` đến `end-1` (phần tử có chỉ số `end` sẽ không được trích ra).\n",
    "Ví dụ đối với danh sách `x = [\"a\", \"b\", \"c\", \"d\"]`, khi sử dụng `x[1:3]` ta sẽ thu được danh sách con `[\"b\", \"c\"]`.\n",
    "\n",
    "**Bài tập:**\n",
    "- Trích ra 6 phần tử đầu của danh sách `areas` để khởi tạo danh sách `downstairs`.\n",
    "- Trích ra 4 phần tử còn lại để khởi tạo danh sách `upstairs`."
   ]
  },
  {
   "cell_type": "code",
   "execution_count": 53,
   "metadata": {},
   "outputs": [
    {
     "name": "stdout",
     "output_type": "stream",
     "text": [
      "['hallway', 11.25, 'kitchen', 18.0, 'living room', 20.0]\n",
      "['bedroom', 10.75, 'bathroom', 9.5]\n"
     ]
    }
   ],
   "source": [
    "# khởi tạo\n",
    "areas = [\"hallway\", 11.25, \"kitchen\", 18.0, \"living room\", 20.0, \"bedroom\", 10.75, \"bathroom\", 9.50]\n",
    "\n",
    "# trích xuất các phần tử của areas để khởi tạo downstairs\n",
    "downstairs = areas[0:6]\n",
    "\n",
    "# trích xuất các phần tử của areas để khởi tạo upstairs\n",
    "upstairs = areas[6:]\n",
    "\n",
    "# in ra downstairs và upstairs\n",
    "print(downstairs)\n",
    "print(upstairs)\n",
    "\n"
   ]
  },
  {
   "cell_type": "markdown",
   "metadata": {},
   "source": [
    "## 4.4. Trích xuất nhiều phần tử của danh sách (tiếp)"
   ]
  },
  {
   "cell_type": "markdown",
   "metadata": {},
   "source": [
    "Khi trích xuất nhiều phần tử trong danh sách, nếu ta không chỉ định chỉ số của phần tử đầu tiên ta cần lấy, Python sẽ tự hiểu ta muốn lấy từ phần tử đầu của danh sách đó. Tương tự, nếu ta không chỉ định chỉ số của phần tử cuối cùng ta cần lấy, Python cũng sẽ hiểu rằng ta muốn lấy đến phần tử cuối cùng của danh sách.\n",
    "Ví dụ, để lấy 4 phần tử đầu tiên của danh sách, ta sử dụng `mylish[:4]`; để lấy từ phần tử thứ 4, ta dùng `mylist[3:]`.\n",
    "\n",
    "**Bài tập:** Hãy làm cách 2 đối với bài tập ở mục 3."
   ]
  },
  {
   "cell_type": "code",
   "execution_count": 54,
   "metadata": {},
   "outputs": [],
   "source": [
    "# khởi tạo\n",
    "areas = [\"hallway\", 11.25, \"kitchen\", 18.0, \"living room\", 20.0, \"bedroom\", 10.75, \"bathroom\", 9.50]\n",
    "\n",
    "# trích xuất các phần tử của areas để khởi tạo downstairs (cách 2)\n",
    "\n",
    "\n",
    "# trích xuất các phần tử của areas để khởi tạo upstairs (cách 2)\n",
    "\n",
    "\n",
    "# in ra downstairs và upstairs\n",
    "\n"
   ]
  },
  {
   "cell_type": "markdown",
   "metadata": {},
   "source": [
    "## 4.5. Thao tác truy cập đối với danh sách của các danh sách"
   ]
  },
  {
   "cell_type": "markdown",
   "metadata": {},
   "source": [
    "Đối với một danh sách chứa các phần tử là danh sách con, để truy cập vào phần tử của danh sách con, ta sẽ dùng nhiều cặp ngoặc vuông liên tiếp nhau. Hãy chạy thử đoạn code dưới đây và khám phá cách hoạt động của nó:"
   ]
  },
  {
   "cell_type": "code",
   "execution_count": 55,
   "metadata": {},
   "outputs": [
    {
     "data": {
      "text/plain": [
       "['g', 'h']"
      ]
     },
     "execution_count": 55,
     "metadata": {},
     "output_type": "execute_result"
    }
   ],
   "source": [
    "x = [[\"a\", \"b\", \"c\"],\n",
    "     [\"d\", \"e\", \"f\"],\n",
    "     [\"g\", \"h\", \"i\"]]\n",
    "x[2][0]\n",
    "x[2][:2]"
   ]
  },
  {
   "cell_type": "markdown",
   "metadata": {},
   "source": [
    "Chú thích: `x[2]` sẽ trả về cho ta một danh sách là phần tử của `x`: `[\"g\", \"h\", \"i\"]`"
   ]
  },
  {
   "cell_type": "markdown",
   "metadata": {},
   "source": [
    "# Phần 5: Các thao tác chỉnh sửa danh sách"
   ]
  },
  {
   "cell_type": "markdown",
   "metadata": {},
   "source": [
    "## 5.1. Thay đổi giá trị của phần tử"
   ]
  },
  {
   "cell_type": "markdown",
   "metadata": {},
   "source": [
    "Để thay đổi phần tử của một danh sách, ta chỉ cần truy cập vào phần tử đó và gán cho nó giá trị mới, sử dụng toán tử `=`. Bạn cũng có thể thay đổi nhiều phần tử của danh sách sử dụng cách truy cập ở mục trước. Ví dụ:\n",
    "\n",
    "```\n",
    "x = [\"a\", \"b\", \"c\", \"d\"]\n",
    "x[1] = \"r\"\n",
    "x[2:] = [\"s\", \"t\"]\n",
    "```\n",
    "\n",
    "**Bài tập:**\n",
    "- Bạn phát hiện ra mình đo nhầm diện tích của phòng tắm. Diện tích đúng là `10.50` thay vì `9.50`. Hãy sửa lại nó ở trong danh sách `areas`.\n",
    "- Hãy sửa lại tên của phòng khách thành `\"chill zone\"`."
   ]
  },
  {
   "cell_type": "code",
   "execution_count": 56,
   "metadata": {},
   "outputs": [
    {
     "name": "stdout",
     "output_type": "stream",
     "text": [
      "['hallway', 11.25, 'kitchen', 18.0, 'chill zone', 20.0, 'bedroom', 10.75, 'bathroom', 10.5]\n"
     ]
    }
   ],
   "source": [
    "# khởi tạo\n",
    "areas = [\"hallway\", 11.25, \"kitchen\", 18.0, \"living room\", 20.0, \"bedroom\", 10.75, \"bathroom\", 9.50]\n",
    "\n",
    "# sửa lại diện tích của phòng tắm (bathroom)\n",
    "areas[9] = 10.50\n",
    "\n",
    "\n",
    "# sửa \"living room\" thành \"chill zone\"\n",
    "areas[4] = \"chill zone\"\n",
    "\n",
    "# in ra areas\n",
    "print(areas)\n",
    "\n"
   ]
  },
  {
   "cell_type": "markdown",
   "metadata": {},
   "source": [
    "## 5.2. Mở rộng danh sách"
   ]
  },
  {
   "cell_type": "markdown",
   "metadata": {},
   "source": [
    "Để mở rộng một danh sách, ta sử dụng toán tử `+` trên 2 danh sách. Ví dụ:\n",
    "\n",
    "```\n",
    "x = [\"a\", \"b\", \"c\", \"d\"]\n",
    "y = x + [\"e\", \"f\"]\n",
    "```\n",
    "\n",
    "Danh sách `y` sẽ là `[\"a\", \"b\", \"c\", \"d\", \"e\", \"f\"]`.\n",
    "\n",
    "**Bài tập:** Bạn vừa trúng Vietlot, bạn quyết định đầu tư để xây thêm bể bơi (`\"poolhouse\"`) và gara ô tô (`\"garage\"`) cho nhà của mình. Hãy thêm dữ kiện `[\"poolhouse\", 24.5]` vào cuối danh sách `areas` để tạo danh sách `areas_1`. Sau đó hãy thêm xâu `\"garage\"` và số thực `15.45` vào cuối của `areas_1`, tạo danh sách mới tên là `areas_2`."
   ]
  },
  {
   "cell_type": "code",
   "execution_count": 57,
   "metadata": {},
   "outputs": [
    {
     "name": "stdout",
     "output_type": "stream",
     "text": [
      "['hallway', 11.25, 'kitchen', 18.0, 'chill zone', 20.0, 'bedroom', 10.75, 'bathroom', 10.5, 'poolhouse', 24.5]\n",
      "['hallway', 11.25, 'kitchen', 18.0, 'chill zone', 20.0, 'bedroom', 10.75, 'bathroom', 10.5, 'poolhouse', 24.5, 'garage', 15.0]\n"
     ]
    }
   ],
   "source": [
    "# khởi tạo\n",
    "areas = [\"hallway\", 11.25, \"kitchen\", 18.0, \"chill zone\", 20.0,\n",
    "         \"bedroom\", 10.75, \"bathroom\", 10.50]\n",
    "\n",
    "# thêm dữ liệu của poolhouse vào areas, tạo danh sách mới tên areas_1\n",
    "areas_1 = areas + [\"poolhouse\", 24.5]\n",
    "\n",
    "# thêm dữ liệu của garage vào areas_1, tạo danh sách mới tên areas_2\n",
    "areas_2 = areas_1 + [\"garage\", 15.0]\n",
    "\n",
    "# in ra areas_1 và areas_2\n",
    "print(areas_1)\n",
    "print(areas_2)\n"
   ]
  },
  {
   "cell_type": "markdown",
   "metadata": {},
   "source": [
    "## 5.3. Xóa phần tử khỏi danh sách"
   ]
  },
  {
   "cell_type": "markdown",
   "metadata": {},
   "source": [
    "Để xóa phần tử khỏi danh sách, ta dùng hàm `del()`. Ví dụ:\n",
    "\n",
    "```\n",
    "x = [\"a\", \"b\", \"c\", \"d\"]\n",
    "del(x[1])\n",
    "```\n",
    "\n",
    "Danh sách `x` bây giờ chỉ còn là `[\"a\", \"c\", \"d\"]`. Lưu ý, chỉ số (index) của các phần tử đằng sau `\"b\"` đã bị giảm đi `1`.\n",
    "\n",
    "**Bài tập:** Số tiền trúng Vietlot bạn đã dùng một phần vào việc khao bạn bè, gia đình nên bạn không còn đủ tiền xây bể bơi nữa. Bạn cần bỏ dữ kiện về bể bơi (`\"poolhouse\"` và diện tích của nó) ra khỏi danh sách `areas`. Hãy dùng 2 lệnh `del()` để thực hiện việc này."
   ]
  },
  {
   "cell_type": "code",
   "execution_count": 58,
   "metadata": {},
   "outputs": [
    {
     "name": "stdout",
     "output_type": "stream",
     "text": [
      "['hallway', 11.25, 'kitchen', 18.0, 'chill zone', 20.0, 'bedroom', 10.75, 'bathroom', 24.5, 'garage', 15.45]\n"
     ]
    }
   ],
   "source": [
    "# khởi tạo\n",
    "areas = [\"hallway\", 11.25, \"kitchen\", 18.0,\n",
    "        \"chill zone\", 20.0, \"bedroom\", 10.75,\n",
    "         \"bathroom\", 10.50, \"poolhouse\", 24.5,\n",
    "         \"garage\", 15.45]\n",
    "\n",
    "# xóa \"poolhouse\"\n",
    "del areas[10]\n",
    "\n",
    "# xóa diện tích của poolhouse\n",
    "del areas[9]\n",
    "\n",
    "# in ra areas\n",
    "print(areas)\n"
   ]
  },
  {
   "cell_type": "markdown",
   "metadata": {},
   "source": [
    "## 5.4. Lưu ý khi sử dụng danh sách"
   ]
  },
  {
   "cell_type": "markdown",
   "metadata": {},
   "source": [
    "Trong Python, để sao chép các phần tử của một danh sách sang một danh sách khác, ta có thể dùng hàm `list()` hoặc toán tử `[:]`. Ví dụ:\n",
    "\n",
    "```\n",
    "mylist = [1, 2, 3]\n",
    "mylist_copy_1 = mylist[:]\n",
    "mylist_copy_2 = list(mylist)\n",
    "```\n",
    "\n",
    "Sử dụng 2 cách này sẽ tạo ra danh sách mới có các phần tử giống hệt danh sách ban đầu. Sau đó, nếu ta thay đổi các phần tử trong `mylist_copy_1` hoặc `mylist_copy_2` thì các phần tử trong `mylist` không bị ảnh hưởng.\n",
    "\n",
    "Ngược lại, nếu ta sử dụng toán tử `=`, sẽ không có một danh sách mới nào được tạo ra mà ta chỉ tạo ra một biến mới thể hiện danh sách cũ đó. Ví dụ:\n",
    "\n",
    "```\n",
    "mylist = [1, 2, 3]\n",
    "mylist_copy = mylist\n",
    "mylist_copy[0] = 0\n",
    "print(mylist) # kết quả: [0, 2, 3] (mylist cũng bị thay đổi theo)\n",
    "```\n",
    "\n",
    "**Bài tập:** Sửa lại cách sao chép danh sách `areas` ở đoạn code dưới đây sao cho khi thay đổi `areas_copy` thì `areas` không bị thay đổi."
   ]
  },
  {
   "cell_type": "code",
   "execution_count": 59,
   "metadata": {},
   "outputs": [
    {
     "name": "stdout",
     "output_type": "stream",
     "text": [
      "[5.0, 18.0, 20.0, 10.75, 9.5]\n",
      "[11.25, 18.0, 20.0, 10.75, 9.5]\n",
      "[5.0, 18.0, 20.0, 10.75, 9.5]\n",
      "[6.0, 18.0, 20.0, 10.75, 9.5]\n",
      "[7.0, 18.0, 20.0, 10.75, 9.5]\n"
     ]
    }
   ],
   "source": [
    "# khởi tạo areas\n",
    "areas = [11.25, 18.0, 20.0, 10.75, 9.50]\n",
    "\n",
    "# tạo areas_copy\n",
    "areas_copy = areas\n",
    "\n",
    "# thay đổi areas_copy\n",
    "areas_copy[0] = 5.0\n",
    "\n",
    "# in ra areas\n",
    "print(areas)\n",
    "\n",
    "# fix\n",
    "areas = [11.25, 18.0, 20.0, 10.75, 9.50]\n",
    "# 1st method\n",
    "areas_copy1 = areas.copy()\n",
    "# 2nd method\n",
    "areas_copy2 = list(areas)\n",
    "# 3rd method\n",
    "areas_copy3 = areas[:]\n",
    "\n",
    "# change data to test\n",
    "areas_copy1[0] = 5.0\n",
    "areas_copy2[0] = 6.0\n",
    "areas_copy3[0] = 7.0\n",
    "print(areas)\n",
    "print(areas_copy1)\n",
    "print(areas_copy2)\n",
    "print(areas_copy3)\n"
   ]
  },
  {
   "cell_type": "markdown",
   "metadata": {},
   "source": [
    "# Phần 6: Hàm"
   ]
  },
  {
   "cell_type": "markdown",
   "metadata": {},
   "source": [
    "## 6.1. Các hàm quen thuộc"
   ]
  },
  {
   "cell_type": "markdown",
   "metadata": {},
   "source": [
    "Trong Python, rất nhiều hàm đã được xây dựng sẵn cho chúng ta sử dụng. Chúng ta đã làm quen và sử dụng các hàm `print()` và `type()`. Bạn cũng đã làm quen với các hàm `int()`, `float()`, `str()` và `bool()` dùng để thay đổi kiểu dữ liệu của biến. Tất cả các hàm này đều là hàm được xây dựng sẵn  (built-in functions).\n",
    "\n",
    "Để gọi hàm, ta dùng công thức:\n",
    "\n",
    "```\n",
    "output = tên_hàm(input)\n",
    "```\n",
    "\n",
    "Ví dụ: ta dùng đoạn code sau để tìm kiểu dữ liệu của biến `x` và gán kết quả cho biến `result`:\n",
    "\n",
    "```\n",
    "result = type(x)\n",
    "```\n",
    "\n",
    "**Bài tập:**\n",
    "- Sử dụng hàm `print()` và hàm `type()` để in ra kiểu dữ liệu của biến `var1`\n",
    "- Hàm `len()` dùng để tính số lượng phần tử của một danh sách. Hãy kết hợp với hàm `print()` để in ra số lượng phần tử của `var1`.\n",
    "- Chuyển biến `var2` sang kiểu số nguyên và lưu vào biến `out2`."
   ]
  },
  {
   "cell_type": "code",
   "execution_count": 60,
   "metadata": {},
   "outputs": [
    {
     "name": "stdout",
     "output_type": "stream",
     "text": [
      "<class 'list'>\n",
      "4\n",
      "1\n"
     ]
    }
   ],
   "source": [
    "# khởi tạo\n",
    "var1 = [1, 2, 3, 4]\n",
    "var2 = True\n",
    "\n",
    "# in ra kiểu của var1\n",
    "print(type(var1))\n",
    "\n",
    "# in ra số lượng phần tử của var1\n",
    "print(len(var1))\n",
    "\n",
    "# chuyển biến var2 sang số nguyên, kết quả lưu vào biến out2\n",
    "out2 = int(var2)\n",
    "print(out2)\n",
    "\n",
    "\n"
   ]
  },
  {
   "cell_type": "markdown",
   "metadata": {},
   "source": [
    "## 6.2. Hướng dẫn sử dụng hàm"
   ]
  },
  {
   "cell_type": "markdown",
   "metadata": {},
   "source": [
    "Các hàm xây dựng sẵn trong Python đều có hướng dẫn sử dụng. Để xem hướng dẫn này, ta sử dụng hàm `help()`. Hãy thử xem hướng dẫn sử dụng của hàm `complex()` ở dưới ô lập trình sau. Sau đó bạn hãy thử với các hàm khác như hàm `max()`, `min()`,..."
   ]
  },
  {
   "cell_type": "code",
   "execution_count": 61,
   "metadata": {
    "scrolled": true
   },
   "outputs": [
    {
     "name": "stdout",
     "output_type": "stream",
     "text": [
      "Help on class complex in module builtins:\n",
      "\n",
      "class complex(object)\n",
      " |  complex(real=0, imag=0)\n",
      " |\n",
      " |  Create a complex number from a string or numbers.\n",
      " |\n",
      " |  If a string is given, parse it as a complex number.\n",
      " |  If a single number is given, convert it to a complex number.\n",
      " |  If the 'real' or 'imag' arguments are given, create a complex number\n",
      " |  with the specified real and imaginary components.\n",
      " |\n",
      " |  Methods defined here:\n",
      " |\n",
      " |  __abs__(self, /)\n",
      " |      abs(self)\n",
      " |\n",
      " |  __add__(self, value, /)\n",
      " |      Return self+value.\n",
      " |\n",
      " |  __bool__(self, /)\n",
      " |      True if self else False\n",
      " |\n",
      " |  __complex__(self, /)\n",
      " |      Convert this value to exact type complex.\n",
      " |\n",
      " |  __eq__(self, value, /)\n",
      " |      Return self==value.\n",
      " |\n",
      " |  __format__(self, format_spec, /)\n",
      " |      Convert to a string according to format_spec.\n",
      " |\n",
      " |  __ge__(self, value, /)\n",
      " |      Return self>=value.\n",
      " |\n",
      " |  __getattribute__(self, name, /)\n",
      " |      Return getattr(self, name).\n",
      " |\n",
      " |  __getnewargs__(self, /)\n",
      " |\n",
      " |  __gt__(self, value, /)\n",
      " |      Return self>value.\n",
      " |\n",
      " |  __hash__(self, /)\n",
      " |      Return hash(self).\n",
      " |\n",
      " |  __le__(self, value, /)\n",
      " |      Return self<=value.\n",
      " |\n",
      " |  __lt__(self, value, /)\n",
      " |      Return self<value.\n",
      " |\n",
      " |  __mul__(self, value, /)\n",
      " |      Return self*value.\n",
      " |\n",
      " |  __ne__(self, value, /)\n",
      " |      Return self!=value.\n",
      " |\n",
      " |  __neg__(self, /)\n",
      " |      -self\n",
      " |\n",
      " |  __pos__(self, /)\n",
      " |      +self\n",
      " |\n",
      " |  __pow__(self, value, mod=None, /)\n",
      " |      Return pow(self, value, mod).\n",
      " |\n",
      " |  __radd__(self, value, /)\n",
      " |      Return value+self.\n",
      " |\n",
      " |  __repr__(self, /)\n",
      " |      Return repr(self).\n",
      " |\n",
      " |  __rmul__(self, value, /)\n",
      " |      Return value*self.\n",
      " |\n",
      " |  __rpow__(self, value, mod=None, /)\n",
      " |      Return pow(value, self, mod).\n",
      " |\n",
      " |  __rsub__(self, value, /)\n",
      " |      Return value-self.\n",
      " |\n",
      " |  __rtruediv__(self, value, /)\n",
      " |      Return value/self.\n",
      " |\n",
      " |  __sub__(self, value, /)\n",
      " |      Return self-value.\n",
      " |\n",
      " |  __truediv__(self, value, /)\n",
      " |      Return self/value.\n",
      " |\n",
      " |  conjugate(self, /)\n",
      " |      Return the complex conjugate of its argument. (3-4j).conjugate() == 3+4j.\n",
      " |\n",
      " |  ----------------------------------------------------------------------\n",
      " |  Static methods defined here:\n",
      " |\n",
      " |  __new__(*args, **kwargs)\n",
      " |      Create and return a new object.  See help(type) for accurate signature.\n",
      " |\n",
      " |  ----------------------------------------------------------------------\n",
      " |  Data descriptors defined here:\n",
      " |\n",
      " |  imag\n",
      " |      the imaginary part of a complex number\n",
      " |\n",
      " |  real\n",
      " |      the real part of a complex number\n",
      "\n"
     ]
    }
   ],
   "source": [
    "help(complex)"
   ]
  },
  {
   "cell_type": "markdown",
   "metadata": {},
   "source": [
    "## 6.3. Hàm nhận nhiều tham số"
   ]
  },
  {
   "cell_type": "markdown",
   "metadata": {},
   "source": [
    "Như chúng ta thấy, trong hàm `complex()` nhận 2 tham số đầu vào là `real` và `imag`, trong đó `real` là tham số bắt buộc còn `imag` là tham số không bắt buộc. Nếu ta không truyền vào tham số thứ 2, hàm này sẽ tự hiểu `imag` bằng `0`.\n",
    "\n",
    "Hãy đọc thử hướng dẫn sử dụng của hàm `sorted()`:"
   ]
  },
  {
   "cell_type": "code",
   "execution_count": 62,
   "metadata": {},
   "outputs": [
    {
     "name": "stdout",
     "output_type": "stream",
     "text": [
      "Help on built-in function sorted in module builtins:\n",
      "\n",
      "sorted(iterable, /, *, key=None, reverse=False)\n",
      "    Return a new list containing all items from the iterable in ascending order.\n",
      "\n",
      "    A custom key function can be supplied to customize the sort order, and the\n",
      "    reverse flag can be set to request the result in descending order.\n",
      "\n"
     ]
    }
   ],
   "source": [
    "help(sorted)"
   ]
  },
  {
   "cell_type": "markdown",
   "metadata": {},
   "source": [
    "Hàm `sorted()` này nhận vào 3 tham số:\n",
    "- `iterable`: một danh sách (hoặc một biến có chứa nhiều phần tử)\n",
    "- `key`: mặc định là `None`, nghĩa là nếu ta không truyền vào tham số `key` nào, hàm nãy sẽ hiểu `key` bằng `None`\n",
    "- `reverse`: một biến `bool`, giá trị mặc định là `False`. Nếu `reverse` bằng `True` thì hàm sẽ trả về kết quả là dãy được sắp xếp theo chiều giảm dần, ngược lại thì hàm trả về kết quả là dãy được sắp xếp theo chiều tăng dần.\n",
    "\n",
    "Trong bài này, bạn sẽ thực hành với tham số `reverse` trong hàm `sorted()`. Để sắp xếp lại các phần tử trong danh sách theo thứ tự giảm dần, ta sẽ gọi hàm như sau:\n",
    "\n",
    "```\n",
    "result = sorted(danh_sách, reverse=True)\n",
    "```\n",
    "\n",
    "Hãy làm thử bài tập dưới này nhé:"
   ]
  },
  {
   "cell_type": "code",
   "execution_count": 63,
   "metadata": {},
   "outputs": [
    {
     "name": "stdout",
     "output_type": "stream",
     "text": [
      "[20.0, 18.0, 11.25, 10.75, 9.5]\n",
      "[9.5, 10.75, 11.25, 18.0, 20.0]\n"
     ]
    }
   ],
   "source": [
    "# khởi tạo\n",
    "first = [11.25, 18.0, 20.0]\n",
    "second = [10.75, 9.50]\n",
    "\n",
    "# ghép first và second vào danh sách full\n",
    "combined = first + second\n",
    "\n",
    "# sắp xếp lại full theo thứ tự giảm dần, lưu vào biến full_sorted\n",
    "full_sorted = sorted(combined, reverse=True)\n",
    "ordered_sorted = sorted(combined)\n",
    "# in ra full_sorted\n",
    "\n",
    "print(full_sorted)\n",
    "print(ordered_sorted)"
   ]
  },
  {
   "cell_type": "markdown",
   "metadata": {},
   "source": [
    "# Phần 7: Phương thức"
   ]
  },
  {
   "cell_type": "markdown",
   "metadata": {},
   "source": [
    "Trong Python, tất cả các biến chúng ta tạo ra đều là các đối tượng (object) và chúng thuộc các kiểu (type) khác nhau. Ví dụ:\n",
    "- `x = 5`: `x` là đối tượng thuộc kiểu số nguyên (`int`)\n",
    "- `s = \"Data Science\"`: `s` là đối tượng thuộc kiểu xâu ký tự (`str`)\n",
    "- `ml = [1, 2, 3]`: `ml` là đối tượng thuộc kiểu danh sách (`list`)\n",
    "\n",
    "Trong các đối tượng này đều có các hàm đã được xây dựng sẵn, ta gọi đó là các phương thức (method). Để sử dụng phương thức của một đối tượng, ta dùng toán tử dấu chấm (`.`) với công thức sau:\n",
    "\n",
    "```\n",
    "đối_tượng.phương_thức()\n",
    "```\n",
    "\n",
    "Ví dụ, trong đối tượng kiểu `str` có phương thức `replace()` dùng để thay thế một xâu ký tự con ở trong đối tượng đó. Với xâu `s` ở ví dụ trên, để thay thế xâu `Data` bằng xâu `Computer`, ta làm như sau:\n",
    "\n",
    "```\n",
    "new_s = s.replace(\"Data\", \"Computer\")\n",
    "```\n",
    "\n",
    "Lưu ý: một số phương thức không thay đổi trực tiếp đối tượng được gọi, do đó ta cần lưu kết quả thực hiện phương thức vào một đối tượng khác."
   ]
  },
  {
   "cell_type": "markdown",
   "metadata": {},
   "source": [
    "## 7.1. Phương thức của xâu ký tự"
   ]
  },
  {
   "cell_type": "markdown",
   "metadata": {},
   "source": [
    "Xâu ký tự trong Python được hộ trợ bởi một lượng phương thức rất phong phú. Bạn có thể sử dụng hàm `help(str)` để xem trợ giúp về các phương thức này.\n",
    "\n",
    "**Bài tập:** Ở bài tập này, một biến `room` đã được tạo sẵn cho bạn.\n",
    "- Sử dụng phương thức `upper()` tạo ra xâu chữ hoa từ xâu `room`, lưu kết quả vào biến `room_up`. In ra `room` và `room_up` để xem kết quả.\n",
    "- Sử dụng phương thức `count()` trên đối tượng `room` để đếm số lượng chữ cái `\"o\"` trong xâu `room` này. In ra kết quả tìm được."
   ]
  },
  {
   "cell_type": "code",
   "execution_count": 64,
   "metadata": {},
   "outputs": [
    {
     "name": "stdout",
     "output_type": "stream",
     "text": [
      "poolhouse\n",
      "POOLHOUSE\n",
      "3\n",
      "3\n"
     ]
    }
   ],
   "source": [
    "# tạo xâu room\n",
    "room = \"poolhouse\"\n",
    "\n",
    "# sử dụng hàm upper() trên room, lưu kết quả vào room_up\n",
    "room_up = room.upper()\n",
    "\n",
    "# in ra room và room_up\n",
    "print(room)\n",
    "print(room_up)\n",
    "\n",
    "# in ra số lượng chữ cái o trong xâu room\n",
    "print(room.count(\"o\"))\n",
    "print(room_up.count(\"O\"))\n",
    "\n"
   ]
  },
  {
   "cell_type": "markdown",
   "metadata": {},
   "source": [
    "## 7.2. Phương thức của danh sách"
   ]
  },
  {
   "cell_type": "markdown",
   "metadata": {},
   "source": [
    "Trong Python, tất cả các kiểu dữ liệu được xây dựng sẵn cùng với rất nhiều phương thức đi kèm. Trong phần này, ta sẽ thực hành với 2 phương thức của kiểu dữ liệu danh sách:\n",
    "\n",
    "- `index()`: trả về kết quả là chỉ số của một phần tử trong danh sách\n",
    "- `count()`: trả về kết quả là số lần xuất hiện của một phần tử trong danh sách\n",
    "\n",
    "Bạn hãy thử dùng hàm `help(list)` để xem cách sử dụng của 2 phương thức này rồi thử làm bài tập dưới này nhé:"
   ]
  },
  {
   "cell_type": "code",
   "execution_count": 65,
   "metadata": {},
   "outputs": [
    {
     "name": "stdout",
     "output_type": "stream",
     "text": [
      "2\n",
      "0\n",
      "1\n"
     ]
    }
   ],
   "source": [
    "# khởi tạo\n",
    "areas = [11.25, 18.0, 20.0, 10.75, 9.50]\n",
    "\n",
    "# in ra chỉ số (index) của phần tử có giá trị 20.0\n",
    "print(areas.index(20.0))\n",
    "\n",
    "# in ra số lần xuất hiện của 14.5 trong areas, sử dụng phương thức count()\n",
    "print(areas.count(14.5))\n",
    "print(areas.count(18.0))\n"
   ]
  },
  {
   "cell_type": "markdown",
   "metadata": {},
   "source": [
    "## 7.3. Phương thức của danh sách (tiếp)"
   ]
  },
  {
   "cell_type": "markdown",
   "metadata": {},
   "source": [
    "Ta sẽ tiếp tục thực hành với 2 phương thức khác của danh sách:\n",
    "\n",
    "- `append()`: thêm phần tử vào cuối danh sách được gọi\n",
    "- `reverse()`: đảo ngược thứ tự các phần tử trong danh sách được gọi\n",
    "\n",
    "**Bài tập:**\n",
    "\n",
    "- Thêm dữ liệu diện tích của bể bơi (`24.5`) và gara (`15.45`) vào cuối danh sách `areas` đã được tạo sẵn.\n",
    "- Đảo ngược lại thứ tự của các phần tử trong `areas`."
   ]
  },
  {
   "cell_type": "code",
   "execution_count": 66,
   "metadata": {},
   "outputs": [
    {
     "name": "stdout",
     "output_type": "stream",
     "text": [
      "[11.25, 18.0, 20.0, 10.75, 9.5, 24.5, 15.45]\n",
      "[15.45, 24.5, 9.5, 10.75, 20.0, 18.0, 11.25]\n"
     ]
    }
   ],
   "source": [
    "# khởi tạo\n",
    "areas = [11.25, 18.0, 20.0, 10.75, 9.50]\n",
    "\n",
    "# sử dụng phương thức append 2 lần để thêm dữ liệu về bể bơi và gara\n",
    "areas.append(24.5)\n",
    "areas.append(15.45)\n",
    "\n",
    "# in ra areas\n",
    "print(areas)\n",
    "\n",
    "# đảo ngược lại thứ tự các phần tử trong areas\n",
    "areas.reverse()\n",
    "\n",
    "\n",
    "# in ra areas\n",
    "print(areas)\n"
   ]
  },
  {
   "cell_type": "markdown",
   "metadata": {},
   "source": [
    "# Phần 8: Sử dụng gói (Packages)"
   ]
  },
  {
   "cell_type": "markdown",
   "metadata": {},
   "source": [
    "Trong Python, các gói là tập hợp của các file python (`.py`). Người ta tổ chức các file code thành các gói để tiện cho việc quản lý, sử dụng và bảo trì.\n",
    "\n",
    "Với lượng lập trình viên rất lớn đã và đang sử dụng Python, các gói hỗ trợ cho ngôn ngữ này là vô cùng phong phú. Ví dụ, trong ngành Khoa học dữ liệu, `numpy` là một trong những gói công cụ thông dụng nhất. Để sử dụng `numpy`, thông thường, ta cần cài đặt thêm gói này cho Python, tuy nhiên với bản Anaconda chúng ta đang dùng, `numpy` đã được cài đặt sẵn. Để sử dụng `numpy` cũng như các gói công cụ khác, ta cần thực hiện thao tác nhập (`import`) gói vào đoạn code ta viết. Ví dụ:\n",
    "\n",
    "```\n",
    "import numpy\n",
    "```\n",
    "\n",
    "Bây giờ, ta đã có thể sử dụng các hàm cũng như các tài nguyên được xây dựng sẵn trong `numpy` bằng cách dùng toán tử dấu chấm (`.`) như cách gọi phương thức thông thường. Ví dụ, để tạo một mảng `numpy` ta làm như sau:\n"
   ]
  },
  {
   "cell_type": "code",
   "execution_count": 67,
   "metadata": {},
   "outputs": [
    {
     "name": "stdout",
     "output_type": "stream",
     "text": [
      "[1 2 3]\n"
     ]
    }
   ],
   "source": [
    "import numpy\n",
    "\n",
    "arr = numpy.array([1, 2, 3])\n",
    "\n",
    "print(arr)"
   ]
  },
  {
   "cell_type": "markdown",
   "metadata": {},
   "source": [
    "Ta cũng có thể sử dụng 1 tên thay thế cho những gói mà ta nhập vào đoạn code của mình bằng cách dùng từ khóa `as`:"
   ]
  },
  {
   "cell_type": "code",
   "execution_count": 68,
   "metadata": {},
   "outputs": [
    {
     "name": "stdout",
     "output_type": "stream",
     "text": [
      "[1 2 3]\n"
     ]
    }
   ],
   "source": [
    "import numpy as np\n",
    "\n",
    "# Sử dụng np thay cho numpy\n",
    "arr = np.array([1, 2, 3])\n",
    "\n",
    "print(arr)"
   ]
  },
  {
   "cell_type": "markdown",
   "metadata": {},
   "source": [
    "## 8.1. Nhập toàn bộ gói"
   ]
  },
  {
   "cell_type": "markdown",
   "metadata": {},
   "source": [
    "Trong gói `math` của Python có hằng số `pi`, để sử dụng hằng số này ta gọi `math.pi`. Hãy sử dụng hằng số này để tính diện tích và chu vi của một hình tròn có bán kính `r`. Công thức tính chu vi `C` và diện tích `S` của hình tròn:\n",
    "\n",
    "$$ C = 2 \\pi r $$\n",
    "$$ S = \\pi r^2 $$"
   ]
  },
  {
   "cell_type": "code",
   "execution_count": 69,
   "metadata": {},
   "outputs": [
    {
     "name": "stdout",
     "output_type": "stream",
     "text": [
      "Chu vi: 2.701769682087222\n",
      "Diện tích: 0.5808804816487527\n"
     ]
    }
   ],
   "source": [
    "# định nghĩa bán kính r\n",
    "r = 0.43\n",
    "\n",
    "# import gói \"math\"\n",
    "import math\n",
    "\n",
    "# tính chu vi C\n",
    "C = 2 * math.pi * r\n",
    "\n",
    "# tính diện tích S\n",
    "S = math.pi * r**2\n",
    "\n",
    "# in kết quả\n",
    "print(\"Chu vi: \" + str(C))\n",
    "print(\"Diện tích: \" + str(S))"
   ]
  },
  {
   "cell_type": "markdown",
   "metadata": {},
   "source": [
    "## 8.2. Nhập một phần trong gói"
   ]
  },
  {
   "cell_type": "markdown",
   "metadata": {},
   "source": [
    "Khi sử dụng `import math`, ta đã nhập toàn bộ tài nguyên của gói `math`. Tuy nhiên, thông thường ta chỉ sử dụng một số tài nguyên của các gói này, để nhập một phần trong gói, ta sử dụng từ khóa `from ... import ...`. Ví dụ, với bài tập trước, ta chỉ sử dụng số `pi` trong gói `math`, do đó ta chỉ cần nhập như sau:\n",
    "\n",
    "```\n",
    "from math import pi\n",
    "```\n",
    "\n",
    "Và sử dụng biến `pi` trong đoạn code của ta như các biến khác.\n",
    "\n",
    "**Bài tập:** Giả sử Mặt Trăng quay quanh Trái Đất của chúng ta với quỹ đạo là một đường tròn có bán kính `r` được định nghĩa trong đoạn code dưới đây. Tính quãng đường mà Mặt Trăng di chuyển sau khi nó quay được một góc là ${12}^o$. Bạn có thể sử dụng công thức sau để tính quãng đường di chuyển của Mặt Trăng: $r*\\phi$ với $\\phi$ là độ lớn của góc tính bằng radian. Hãy sử dụng hàm `radians()` trong gói `math` để chuyển độ lớn của góc sang radian."
   ]
  },
  {
   "cell_type": "code",
   "execution_count": 70,
   "metadata": {},
   "outputs": [
    {
     "name": "stdout",
     "output_type": "stream",
     "text": [
      "Quãng đường Mặt Trăng di chuyển sau khi quay được 12 độ là: 40317.10572106901\n"
     ]
    }
   ],
   "source": [
    "# định nghĩa bán kính r\n",
    "r = 192500\n",
    "\n",
    "# nhập hàm radians trong gói math\n",
    "from math import radians\n",
    "\n",
    "\n",
    "# dist = quãng đường Mặt Trăng di chuyển sau khi quay được 12 độ\n",
    "dist = r * radians(12)\n",
    "\n",
    "# in ra giá trị dist\n",
    "print(\"Quãng đường Mặt Trăng di chuyển sau khi quay được 12 độ là: \" + str(dist))\n",
    "\n"
   ]
  },
  {
   "cell_type": "markdown",
   "metadata": {},
   "source": [
    "Lưu ý, với cách nhập riêng rẽ này, bạn cũng có thể sử dụng từ khóa `as` để sử dụng một tên gọi khác cho tài nguyên/hàm bạn vừa nhập vào:\n",
    "\n",
    "```\n",
    "from numpy import array as np_arr\n",
    "```"
   ]
  },
  {
   "cell_type": "markdown",
   "metadata": {},
   "source": [
    "# Phần 9: Numpy"
   ]
  },
  {
   "cell_type": "markdown",
   "metadata": {},
   "source": [
    "Numpy (hay Numeric Python) là một gói công cụ hỗ trợ tính toán rất hiệu quả trên mảng (array), nhanh hơn rất nhiều so với tính toán trên danh sách (list) mặc định của Python. Ngoài ra, `numpy` còn hỗ trợ các phép tính trực tiếp trên toàn bộ mảng, chứ không cần phải duyệt qua từng phần tử của mảng. Ví dụ:"
   ]
  },
  {
   "cell_type": "code",
   "execution_count": 71,
   "metadata": {},
   "outputs": [
    {
     "name": "stdout",
     "output_type": "stream",
     "text": [
      "[5 7 9]\n"
     ]
    }
   ],
   "source": [
    "import numpy as np\n",
    "\n",
    "A = np.array([1, 2, 3])\n",
    "B = np.array([4, 5, 6])\n",
    "\n",
    "C = A + B\n",
    "\n",
    "print(C)"
   ]
  },
  {
   "cell_type": "markdown",
   "metadata": {},
   "source": [
    "Lưu ý, một mảng của `numpy` sẽ chỉ lưu trữ duy nhất một kiểu dữ liệu, khác với danh sách thông thường của Python. Đây là một trong các lý do mà các tính toán trên mảng của `numpy` được thực hiện nhanh hơn rất nhiều.\n",
    "\n",
    "Bạn hãy chú ý, như trong ví dụ trên, phép cộng (`+`) trên 2 mảng `numpy` cũng được thực hiện khác trên 2 danh sách thông thường. Phép cộng được thực hiện như sau: từng phần tử của `A` được cộng với phần tử có chỉ số tương ứng trong `B`. Các phép tính số học khác như `-`, `*` hay `/` cũng được thực hiện tương tự như vậy đối với mảng `numpy`.\n",
    "\n",
    "Numpy là một gói công cụ mạnh mẽ, được sử dụng rất nhiều trong các ứng dụng của Khoa học dữ liệu."
   ]
  },
  {
   "cell_type": "markdown",
   "metadata": {},
   "source": [
    "## 9.1. Tạo mảng với numpy"
   ]
  },
  {
   "cell_type": "markdown",
   "metadata": {},
   "source": [
    "Trong đoạn code dưới đấy, một danh sách `baseball` đã được tạo sẵn, biểu diễn chiều cao của một số cầu thủ bóng rổ (cm). Hãy chuyển đổi danh sách này sang dạng mảng của `numpy` (Sử dụng ví dụ ở phần trên để biết cách tạo mảng trong `numpy`)."
   ]
  },
  {
   "cell_type": "code",
   "execution_count": 72,
   "metadata": {},
   "outputs": [
    {
     "name": "stdout",
     "output_type": "stream",
     "text": [
      "Kiểu của np_baseball là: int64\n",
      "<class 'numpy.ndarray'>\n"
     ]
    }
   ],
   "source": [
    "# tạo danh sách baseball\n",
    "baseball = [180, 215, 210, 210, 188, 176, 209, 200]\n",
    "\n",
    "# nhập gói numpy, đặt tên là np\n",
    "import numpy as np\n",
    "\n",
    "# tạo mảng numpy từ danh sách baseball, đặt tên  mảng đó là np_baseball\n",
    "np_baseball = np.array(baseball)\n",
    "\n",
    "# in ra kiểu của np_baseball\n",
    "print(\"Kiểu của np_baseball là: \" + str(np_baseball.dtype))\n",
    "print(type(np_baseball))\n"
   ]
  },
  {
   "cell_type": "markdown",
   "metadata": {},
   "source": [
    "## 9.2. Bài tập: Chiều cao của các cầu thủ bóng rổ"
   ]
  },
  {
   "cell_type": "markdown",
   "metadata": {},
   "source": [
    "Cho một danh sách `height` biểu diễn chiều cao của một số cầu thủ bóng rổ, theo đơn vị inch. Hãy tạo một mảng `numpy` từ danh sách này và đặt tên mảng đó là `np_height`. Sau đó hãy chuyển chiều cao của các cầu thủ sang đơn vị mét, bằng cách nhân `np_height` với `0.0254`, lưu kết quả vào mảng `np_height_m` rồi in ra."
   ]
  },
  {
   "cell_type": "code",
   "execution_count": 73,
   "metadata": {},
   "outputs": [
    {
     "name": "stdout",
     "output_type": "stream",
     "text": [
      "[74 74 72 ... 75 75 73]\n",
      "[1.8796 1.8796 1.8288 ... 1.905  1.905  1.8542]\n"
     ]
    }
   ],
   "source": [
    "# định nghĩa height\n",
    "height = [74, 74, 72, 72, 73, 69, 69, 71, 76, 71, 73, 73, 74, 74, 69, 70, 73, 75, 78, 79, 76, 74, 76, 72, 71, 75, 77, 74, 73, 74, 78, 73, 75, 73, 75, 75, 74, 69, 71, 74, 73, 73, 76, 74, 74, 70, 72, 77, 74, 70, 73, 75, 76, 76, 78, 74, 74, 76, 77, 81, 78, 75, 77, 75, 76, 74, 72, 72, 75, 73, 73, 73, 70, 70, 70, 76, 68, 71, 72, 75, 75, 75, 75, 68, 74, 78, 71, 73, 76, 74, 74, 79, 75, 73, 76, 74, 74, 73, 72, 74, 73, 74, 72, 73, 69, 72, 73, 75, 75, 73, 72, 72, 76, 74, 72, 77, 74, 77, 75, 76, 80, 74, 74, 75, 78, 73, 73, 74, 75, 76, 71, 73, 74, 76, 76, 74, 73, 74, 70, 72, 73, 73, 73, 73, 71, 74, 74, 72, 74, 71, 74, 73, 75, 75, 79, 73, 75, 76, 74, 76, 78, 74, 76, 72, 74, 76, 74, 75, 78, 75, 72, 74, 72, 74, 70, 71, 70, 75, 71, 71, 73, 72, 71, 73, 72, 75, 74, 74, 75, 73, 77, 73, 76, 75, 74, 76, 75, 73, 71, 76, 75, 72, 71, 77, 73, 74, 71, 72, 74, 75, 73, 72, 75, 75, 74, 72, 74, 71, 70, 74, 77, 77, 75, 75, 78, 75, 76, 73, 75, 75, 79, 77, 76, 71, 75, 74, 69, 71, 76, 72, 72, 70, 72, 73, 71, 72, 71, 73, 72, 73, 74, 74, 72, 75, 74, 74, 77, 75, 73, 72, 71, 74, 77, 75, 75, 75, 78, 78, 74, 76, 78, 76, 70, 72, 80, 74, 74, 71, 70, 72, 71, 74, 71, 72, 71, 74, 69, 76, 75, 75, 76, 73, 76, 73, 77, 73, 72, 72, 77, 77, 71, 74, 74, 73, 78, 75, 73, 70, 74, 72, 73, 73, 75, 75, 74, 76, 73, 74, 75, 75, 72, 73, 73, 72, 74, 78, 76, 73, 74, 75, 70, 75, 71, 72, 78, 75, 73, 73, 71, 75, 77, 72, 69, 73, 74, 72, 70, 75, 70, 72, 72, 74, 73, 74, 76, 75, 80, 72, 75, 73, 74, 74, 73, 75, 75, 71, 73, 75, 74, 74, 72, 74, 74, 74, 73, 76, 75, 72, 73, 73, 73, 72, 72, 72, 72, 71, 75, 75, 74, 73, 75, 79, 74, 76, 73, 74, 74, 72, 74, 74, 75, 78, 74, 74, 74, 77, 70, 73, 74, 73, 71, 75, 71, 72, 77, 74, 70, 77, 73, 72, 76, 71, 76, 78, 75, 73, 78, 74, 79, 75, 76, 72, 75, 75, 70, 72, 70, 74, 71, 76, 73, 76, 71, 69, 72, 72, 69, 73, 69, 73, 74, 74, 72, 71, 72, 72, 76, 76, 76, 74, 76, 75, 71, 72, 71, 73, 75, 76, 75, 71, 75, 74, 72, 73, 73, 73, 73, 76, 72, 76, 73, 73, 73, 75, 75, 77, 73, 72, 75, 70, 74, 72, 80, 71, 71, 74, 74, 73, 75, 76, 73, 77, 72, 73, 77, 76, 71, 75, 73, 74, 77, 71, 72, 73, 69, 73, 70, 74, 76, 73, 73, 75, 73, 79, 74, 73, 74, 77, 75, 74, 73, 77, 73, 77, 74, 74, 73, 77, 74, 77, 75, 77, 75, 71, 74, 70, 79, 72, 72, 70, 74, 74, 72, 73, 72, 74, 74, 76, 82, 74, 74, 70, 73, 73, 74, 77, 72, 76, 73, 73, 72, 74, 74, 71, 72, 75, 74, 74, 77, 70, 71, 73, 76, 71, 75, 74, 72, 76, 79, 76, 73, 76, 78, 75, 76, 72, 72, 73, 73, 75, 71, 76, 70, 75, 74, 75, 73, 71, 71, 72, 73, 73, 72, 69, 73, 78, 71, 73, 75, 76, 70, 74, 77, 75, 79, 72, 77, 73, 75, 75, 75, 73, 73, 76, 77, 75, 70, 71, 71, 75, 74, 69, 70, 75, 72, 75, 73, 72, 72, 72, 76, 75, 74, 69, 73, 72, 72, 75, 77, 76, 80, 77, 76, 79, 71, 75, 73, 76, 77, 73, 76, 70, 75, 73, 75, 70, 69, 71, 72, 72, 73, 70, 70, 73, 76, 75, 72, 73, 79, 71, 72, 74, 74, 74, 72, 76, 76, 72, 72, 71, 72, 72, 70, 77, 74, 72, 76, 71, 76, 71, 73, 70, 73, 73, 72, 71, 71, 71, 72, 72, 74, 74, 74, 71, 72, 75, 72, 71, 72, 72, 72, 72, 74, 74, 77, 75, 73, 75, 73, 76, 72, 77, 75, 72, 71, 71, 75, 72, 73, 73, 71, 70, 75, 71, 76, 73, 68, 71, 72, 74, 77, 72, 76, 78, 81, 72, 73, 76, 72, 72, 74, 76, 73, 76, 75, 70, 71, 74, 72, 73, 76, 76, 73, 71, 68, 71, 71, 74, 77, 69, 72, 76, 75, 76, 75, 76, 72, 74, 76, 74, 72, 75, 78, 77, 70, 72, 79, 74, 71, 68, 77, 75, 71, 72, 70, 72, 72, 73, 72, 74, 72, 72, 75, 72, 73, 74, 72, 78, 75, 72, 74, 75, 75, 76, 74, 74, 73, 74, 71, 74, 75, 76, 74, 76, 76, 73, 75, 75, 74, 68, 72, 75, 71, 70, 72, 73, 72, 75, 74, 70, 76, 71, 82, 72, 73, 74, 71, 75, 77, 72, 74, 72, 73, 78, 77, 73, 73, 73, 73, 73, 76, 75, 70, 73, 72, 73, 75, 74, 73, 73, 76, 73, 75, 70, 77, 72, 77, 74, 75, 75, 75, 75, 72, 74, 71, 76, 71, 75, 76, 83, 75, 74, 76, 72, 72, 75, 75, 72, 77, 73, 72, 70, 74, 72, 74, 72, 71, 70, 71, 76, 74, 76, 74, 74, 74, 75, 75, 71, 71, 74, 77, 71, 74, 75, 77, 76, 74, 76, 72, 71, 72, 75, 73, 68, 72, 69, 73, 73, 75, 70, 70, 74, 75, 74, 74, 73, 74, 75, 77, 73, 74, 76, 74, 75, 73, 76, 78, 75, 73, 77, 74, 72, 74, 72, 71, 73, 75, 73, 67, 67, 76, 74, 73, 70, 75, 70, 72, 77, 79, 78, 74, 75, 75, 78, 76, 75, 69, 75, 72, 75, 73, 74, 75, 75, 73]\n",
    "\n",
    "# import numpy\n",
    "import numpy as np\n",
    "\n",
    "# tạo mảng numpy từ height: np_height\n",
    "np_height = np.array(height)\n",
    "\n",
    "# in ra np_height\n",
    "print(np_height)\n",
    "\n",
    "# chuyển np_height từ đơn vị inch sang đơn vị mét: np_height_m\n",
    "np_height_m = np_height * 0.0254\n",
    "\n",
    "# in ra np_height_m\n",
    "print(np_height_m)\n",
    "\n"
   ]
  },
  {
   "cell_type": "markdown",
   "metadata": {},
   "source": [
    "Kết quả đúng:\n",
    "```\n",
    "[74 74 72 ..., 75 75 73]\n",
    "[ 1.8796  1.8796  1.8288 ...,  1.905   1.905   1.8542]\n",
    "```"
   ]
  },
  {
   "cell_type": "markdown",
   "metadata": {},
   "source": [
    "## 9.3. Chỉ số BMI của các cầu thủ bóng rổ"
   ]
  },
  {
   "cell_type": "markdown",
   "metadata": {},
   "source": [
    "Bạn được liên đoàn bóng rổ yêu cầu tính chỉ số BMI của các cầu thủ bóng rổ. Chỉ số BMI được tính theo công thức:\n",
    "\n",
    "$$BMI=\\frac{weight(kg)}{{height(m)}^2}$$\n",
    "\n",
    "Chỉ số về chiều cao (tính theo inch) và cân nặng (tính theo pound) đã được cho sẵn trong đoạn code dưới đây. Hãy chuyển các chỉ số này về đơn vị thích hợp rồi tính ra mảng lưu chỉ số BMI của các cầu thủ.\n",
    "\n",
    "Gợi ý: nhân cân nặng tính theo pound với `0.453592` để đổi sang đơn vị kilogram."
   ]
  },
  {
   "cell_type": "code",
   "execution_count": null,
   "metadata": {},
   "outputs": [],
   "source": [
    "# khởi tạo\n",
    "height = [74, 74, 72, 72, 73, 69, 69, 71, 76, 71, 73, 73, 74, 74, 69, 70, 73, 75, 78, 79, 76, 74, 76, 72, 71, 75, 77, 74, 73, 74, 78, 73, 75, 73, 75, 75, 74, 69, 71, 74, 73, 73, 76, 74, 74, 70, 72, 77, 74, 70, 73, 75, 76, 76, 78, 74, 74, 76, 77, 81, 78, 75, 77, 75, 76, 74, 72, 72, 75, 73, 73, 73, 70, 70, 70, 76, 68, 71, 72, 75, 75, 75, 75, 68, 74, 78, 71, 73, 76, 74, 74, 79, 75, 73, 76, 74, 74, 73, 72, 74, 73, 74, 72, 73, 69, 72, 73, 75, 75, 73, 72, 72, 76, 74, 72, 77, 74, 77, 75, 76, 80, 74, 74, 75, 78, 73, 73, 74, 75, 76, 71, 73, 74, 76, 76, 74, 73, 74, 70, 72, 73, 73, 73, 73, 71, 74, 74, 72, 74, 71, 74, 73, 75, 75, 79, 73, 75, 76, 74, 76, 78, 74, 76, 72, 74, 76, 74, 75, 78, 75, 72, 74, 72, 74, 70, 71, 70, 75, 71, 71, 73, 72, 71, 73, 72, 75, 74, 74, 75, 73, 77, 73, 76, 75, 74, 76, 75, 73, 71, 76, 75, 72, 71, 77, 73, 74, 71, 72, 74, 75, 73, 72, 75, 75, 74, 72, 74, 71, 70, 74, 77, 77, 75, 75, 78, 75, 76, 73, 75, 75, 79, 77, 76, 71, 75, 74, 69, 71, 76, 72, 72, 70, 72, 73, 71, 72, 71, 73, 72, 73, 74, 74, 72, 75, 74, 74, 77, 75, 73, 72, 71, 74, 77, 75, 75, 75, 78, 78, 74, 76, 78, 76, 70, 72, 80, 74, 74, 71, 70, 72, 71, 74, 71, 72, 71, 74, 69, 76, 75, 75, 76, 73, 76, 73, 77, 73, 72, 72, 77, 77, 71, 74, 74, 73, 78, 75, 73, 70, 74, 72, 73, 73, 75, 75, 74, 76, 73, 74, 75, 75, 72, 73, 73, 72, 74, 78, 76, 73, 74, 75, 70, 75, 71, 72, 78, 75, 73, 73, 71, 75, 77, 72, 69, 73, 74, 72, 70, 75, 70, 72, 72, 74, 73, 74, 76, 75, 80, 72, 75, 73, 74, 74, 73, 75, 75, 71, 73, 75, 74, 74, 72, 74, 74, 74, 73, 76, 75, 72, 73, 73, 73, 72, 72, 72, 72, 71, 75, 75, 74, 73, 75, 79, 74, 76, 73, 74, 74, 72, 74, 74, 75, 78, 74, 74, 74, 77, 70, 73, 74, 73, 71, 75, 71, 72, 77, 74, 70, 77, 73, 72, 76, 71, 76, 78, 75, 73, 78, 74, 79, 75, 76, 72, 75, 75, 70, 72, 70, 74, 71, 76, 73, 76, 71, 69, 72, 72, 69, 73, 69, 73, 74, 74, 72, 71, 72, 72, 76, 76, 76, 74, 76, 75, 71, 72, 71, 73, 75, 76, 75, 71, 75, 74, 72, 73, 73, 73, 73, 76, 72, 76, 73, 73, 73, 75, 75, 77, 73, 72, 75, 70, 74, 72, 80, 71, 71, 74, 74, 73, 75, 76, 73, 77, 72, 73, 77, 76, 71, 75, 73, 74, 77, 71, 72, 73, 69, 73, 70, 74, 76, 73, 73, 75, 73, 79, 74, 73, 74, 77, 75, 74, 73, 77, 73, 77, 74, 74, 73, 77, 74, 77, 75, 77, 75, 71, 74, 70, 79, 72, 72, 70, 74, 74, 72, 73, 72, 74, 74, 76, 82, 74, 74, 70, 73, 73, 74, 77, 72, 76, 73, 73, 72, 74, 74, 71, 72, 75, 74, 74, 77, 70, 71, 73, 76, 71, 75, 74, 72, 76, 79, 76, 73, 76, 78, 75, 76, 72, 72, 73, 73, 75, 71, 76, 70, 75, 74, 75, 73, 71, 71, 72, 73, 73, 72, 69, 73, 78, 71, 73, 75, 76, 70, 74, 77, 75, 79, 72, 77, 73, 75, 75, 75, 73, 73, 76, 77, 75, 70, 71, 71, 75, 74, 69, 70, 75, 72, 75, 73, 72, 72, 72, 76, 75, 74, 69, 73, 72, 72, 75, 77, 76, 80, 77, 76, 79, 71, 75, 73, 76, 77, 73, 76, 70, 75, 73, 75, 70, 69, 71, 72, 72, 73, 70, 70, 73, 76, 75, 72, 73, 79, 71, 72, 74, 74, 74, 72, 76, 76, 72, 72, 71, 72, 72, 70, 77, 74, 72, 76, 71, 76, 71, 73, 70, 73, 73, 72, 71, 71, 71, 72, 72, 74, 74, 74, 71, 72, 75, 72, 71, 72, 72, 72, 72, 74, 74, 77, 75, 73, 75, 73, 76, 72, 77, 75, 72, 71, 71, 75, 72, 73, 73, 71, 70, 75, 71, 76, 73, 68, 71, 72, 74, 77, 72, 76, 78, 81, 72, 73, 76, 72, 72, 74, 76, 73, 76, 75, 70, 71, 74, 72, 73, 76, 76, 73, 71, 68, 71, 71, 74, 77, 69, 72, 76, 75, 76, 75, 76, 72, 74, 76, 74, 72, 75, 78, 77, 70, 72, 79, 74, 71, 68, 77, 75, 71, 72, 70, 72, 72, 73, 72, 74, 72, 72, 75, 72, 73, 74, 72, 78, 75, 72, 74, 75, 75, 76, 74, 74, 73, 74, 71, 74, 75, 76, 74, 76, 76, 73, 75, 75, 74, 68, 72, 75, 71, 70, 72, 73, 72, 75, 74, 70, 76, 71, 82, 72, 73, 74, 71, 75, 77, 72, 74, 72, 73, 78, 77, 73, 73, 73, 73, 73, 76, 75, 70, 73, 72, 73, 75, 74, 73, 73, 76, 73, 75, 70, 77, 72, 77, 74, 75, 75, 75, 75, 72, 74, 71, 76, 71, 75, 76, 83, 75, 74, 76, 72, 72, 75, 75, 72, 77, 73, 72, 70, 74, 72, 74, 72, 71, 70, 71, 76, 74, 76, 74, 74, 74, 75, 75, 71, 71, 74, 77, 71, 74, 75, 77, 76, 74, 76, 72, 71, 72, 75, 73, 68, 72, 69, 73, 73, 75, 70, 70, 74, 75, 74, 74, 73, 74, 75, 77, 73, 74, 76, 74, 75, 73, 76, 78, 75, 73, 77, 74, 72, 74, 72, 71, 73, 75, 73, 67, 67, 76, 74, 73, 70, 75, 70, 72, 77, 79, 78, 74, 75, 75, 78, 76, 75, 69, 75, 72, 75, 73, 74, 75, 75, 73]\n",
    "weight = [180, 215, 210, 210, 188, 176, 209, 200, 231, 180, 188, 180, 185, 160, 180, 185, 189, 185, 219, 230, 205, 230, 195, 180, 192, 225, 203, 195, 182, 188, 200, 180, 200, 200, 245, 240, 215, 185, 175, 199, 200, 215, 200, 205, 206, 186, 188, 220, 210, 195, 200, 200, 212, 224, 210, 205, 220, 195, 200, 260, 228, 270, 200, 210, 190, 220, 180, 205, 210, 220, 211, 200, 180, 190, 170, 230, 155, 185, 185, 200, 225, 225, 220, 160, 205, 235, 250, 210, 190, 160, 200, 205, 222, 195, 205, 220, 220, 170, 185, 195, 220, 230, 180, 220, 180, 180, 170, 210, 215, 200, 213, 180, 192, 235, 185, 235, 210, 222, 210, 230, 220, 180, 190, 200, 210, 194, 180, 190, 240, 200, 198, 200, 195, 210, 220, 190, 210, 225, 180, 185, 170, 185, 185, 180, 178, 175, 200, 204, 211, 190, 210, 190, 190, 185, 290, 175, 185, 200, 220, 170, 220, 190, 220, 205, 200, 250, 225, 215, 210, 215, 195, 200, 194, 220, 180, 180, 170, 195, 180, 170, 206, 205, 200, 225, 201, 225, 233, 180, 225, 180, 220, 180, 237, 215, 190, 235, 190, 180, 165, 195, 200, 190, 190, 185, 185, 205, 190, 205, 206, 220, 208, 170, 195, 210, 190, 211, 230, 170, 185, 185, 241, 225, 210, 175, 230, 200, 215, 198, 226, 278, 215, 230, 240, 184, 219, 170, 218, 190, 225, 220, 176, 190, 197, 204, 167, 180, 195, 220, 215, 185, 190, 205, 205, 200, 210, 215, 200, 205, 211, 190, 208, 200, 210, 232, 230, 210, 220, 210, 202, 212, 225, 170, 190, 200, 237, 220, 170, 193, 190, 150, 220, 200, 190, 185, 185, 200, 172, 220, 225, 190, 195, 219, 190, 197, 200, 195, 210, 177, 220, 235, 180, 195, 195, 190, 230, 190, 200, 190, 190, 200, 200, 184, 200, 180, 219, 187, 200, 220, 205, 190, 170, 160, 215, 175, 205, 200, 214, 200, 190, 180, 205, 220, 190, 215, 235, 191, 200, 181, 200, 210, 240, 185, 165, 190, 185, 175, 155, 210, 170, 175, 220, 210, 205, 200, 205, 195, 240, 150, 200, 215, 202, 200, 190, 205, 190, 160, 215, 185, 200, 190, 210, 185, 220, 190, 202, 205, 220, 175, 160, 190, 200, 229, 206, 220, 180, 195, 175, 188, 230, 190, 200, 190, 219, 235, 180, 180, 180, 200, 234, 185, 220, 223, 200, 210, 200, 210, 190, 177, 227, 180, 195, 199, 175, 185, 240, 210, 180, 194, 225, 180, 205, 193, 230, 230, 220, 200, 249, 190, 208, 245, 250, 160, 192, 220, 170, 197, 155, 190, 200, 220, 210, 228, 190, 160, 184, 180, 180, 200, 176, 160, 222, 211, 195, 200, 175, 206, 240, 185, 260, 185, 221, 205, 200, 170, 201, 205, 185, 205, 245, 220, 210, 220, 185, 175, 170, 180, 200, 210, 175, 220, 206, 180, 210, 195, 200, 200, 164, 180, 220, 195, 205, 170, 240, 210, 195, 200, 205, 192, 190, 170, 240, 200, 205, 175, 250, 220, 224, 210, 195, 180, 245, 175, 180, 215, 175, 180, 195, 230, 230, 205, 215, 195, 180, 205, 180, 190, 180, 190, 190, 220, 210, 255, 190, 230, 200, 205, 210, 225, 215, 220, 205, 200, 220, 197, 225, 187, 245, 185, 185, 175, 200, 180, 188, 225, 200, 210, 245, 213, 231, 165, 228, 210, 250, 191, 190, 200, 215, 254, 232, 180, 215, 220, 180, 200, 170, 195, 210, 200, 220, 165, 180, 200, 200, 170, 224, 220, 180, 198, 240, 239, 185, 210, 220, 200, 195, 220, 230, 170, 220, 230, 165, 205, 192, 210, 205, 200, 210, 185, 195, 202, 205, 195, 180, 200, 185, 240, 185, 220, 205, 205, 180, 201, 190, 208, 240, 180, 230, 195, 215, 190, 195, 215, 215, 220, 220, 230, 195, 190, 195, 209, 204, 170, 185, 205, 175, 210, 190, 180, 180, 160, 235, 200, 210, 180, 190, 197, 203, 205, 170, 200, 250, 200, 220, 200, 190, 170, 190, 220, 215, 206, 215, 185, 235, 188, 230, 195, 168, 190, 160, 200, 200, 189, 180, 190, 200, 220, 187, 240, 190, 180, 185, 210, 220, 219, 190, 193, 175, 180, 215, 210, 200, 190, 185, 220, 170, 195, 205, 195, 210, 190, 190, 180, 220, 190, 186, 185, 190, 180, 190, 170, 210, 240, 220, 180, 210, 210, 195, 160, 180, 205, 200, 185, 245, 190, 210, 200, 200, 222, 215, 240, 170, 220, 156, 190, 202, 221, 200, 190, 210, 190, 200, 165, 190, 185, 230, 208, 209, 175, 180, 200, 205, 200, 250, 210, 230, 244, 202, 240, 200, 215, 177, 210, 170, 215, 217, 198, 200, 220, 170, 200, 230, 231, 183, 192, 167, 190, 180, 180, 215, 160, 205, 223, 175, 170, 190, 240, 175, 230, 223, 196, 167, 195, 190, 250, 190, 190, 190, 170, 160, 150, 225, 220, 209, 210, 176, 260, 195, 190, 184, 180, 195, 195, 219, 225, 212, 202, 185, 200, 209, 200, 195, 228, 210, 190, 212, 190, 218, 220, 190, 235, 210, 200, 188, 210, 235, 188, 215, 216, 220, 180, 185, 200, 210, 220, 185, 231, 210, 195, 200, 205, 200, 190, 250, 185, 180, 170, 180, 208, 235, 215, 244, 220, 185, 230, 190, 200, 180, 190, 196, 180, 230, 224, 160, 178, 205, 185, 210, 180, 190, 200, 257, 190, 220, 165, 205, 200, 208, 185, 215, 170, 235, 210, 170, 180, 170, 190, 150, 230, 203, 260, 246, 186, 210, 198, 210, 215, 180, 200, 245, 200, 192, 192, 200, 192, 205, 190, 186, 170, 197, 219, 200, 220, 207, 225, 207, 212, 225, 170, 190, 210, 230, 210, 200, 238, 234, 222, 200, 190, 170, 220, 223, 210, 215, 196, 175, 175, 189, 205, 210, 180, 180, 197, 220, 228, 190, 204, 165, 216, 220, 208, 210, 215, 195, 200, 215, 229, 240, 207, 205, 208, 185, 190, 170, 208, 225, 190, 225, 185, 180, 165, 240, 220, 212, 163, 215, 175, 205, 210, 205, 208, 215, 180, 200, 230, 211, 230, 190, 220, 180, 205, 190, 180, 205, 190, 195]\n",
    "\n",
    "# import numpy\n",
    "import numpy as np\n",
    "\n",
    "# tạo mảng numpy từ height, chuyển đơn vị đo sang mét: np_height_m\n",
    "np_height_m = np.array(height) * 0.0254\n",
    "\n",
    "# tạo mảng numpy từ weight, chuyển đơn vị đo sang kilogram: np_weight_kg\n",
    "np_weight_kg = np.array(weight) * 0.453592\n",
    "\n",
    "# tính chỉ số BMI: lưu vào mảng bmi\n",
    "bmi = np_weight_kg / np_height_m**2\n",
    "\n",
    "# in ra bmi\n",
    "print(bmi)\n"
   ]
  },
  {
   "cell_type": "markdown",
   "metadata": {},
   "source": [
    "Kết quả đúng:\n",
    "\n",
    "```\n",
    "[ 23.11037639  27.60406069  28.48080465 ...,  25.62295933  23.74810865\n",
    "  25.72686361]\n",
    "```"
   ]
  },
  {
   "cell_type": "markdown",
   "metadata": {},
   "source": [
    "## 9.4. Bài tập: Tìm cầu thủ nhẹ cân"
   ]
  },
  {
   "cell_type": "markdown",
   "metadata": {},
   "source": [
    "Tương tự như danh sách của Python, để trích xuất các phần tử của mảng `numpy`, ta cũng có thể dùng toán tử `[]`:\n",
    "\n",
    "```\n",
    "x = [4 , 9 , 6, 3, 1]\n",
    "x[1]\n",
    "import numpy as np\n",
    "y = np.array(x)\n",
    "y[1]\n",
    "```\n",
    "\n",
    "Ngoài ra, ta cũng có thể dùng mảng bool để truy cập các phần tử trong mảng `numpy`. Ví dụ để trích xuất các phần tử lớn hơn 3 trong mảng `y` ở trên, ta làm như sau:\n",
    "\n",
    "```\n",
    "high = y > 3 # high = [True, True, True, False, False]\n",
    "z = y[high] # z = array([4, 9, 6])\n",
    "```\n",
    "\n",
    "**Bài tập:**\n",
    "- Tạo mảng `numpy` tên là `light` chứa các giá trị `bool` trong đó `True` tương ứng với chỉ số BMI hơn `21`, còn `False` tương ứng với các chỉ số BMI còn lại. Hãy sử dụng toán tử `<` với mảng `bmi` để thực hiện việc này.\n",
    "- In ra mảng `light` để xem kết quả.\n",
    "- Sử dụng toán tử `[]` và mảng `light` trên mảng `bmi` để chọn ra các cầu thủ có chỉ số BMI nhỏ hơn 21 rồi in ra các chỉ số đó."
   ]
  },
  {
   "cell_type": "code",
   "execution_count": 115,
   "metadata": {},
   "outputs": [
    {
     "name": "stdout",
     "output_type": "stream",
     "text": [
      "[20.54255679 20.54255679 20.69282047 20.69282047 20.34343189 20.34343189\n",
      " 20.69282047 20.15883472 19.4984471  20.69282047 20.9205219 ]\n",
      "[20.54255679 20.54255679 20.69282047 20.69282047 20.34343189 20.34343189\n",
      " 20.69282047 20.15883472 19.4984471  20.69282047 20.9205219 ]\n"
     ]
    }
   ],
   "source": [
    "# khởi tạo\n",
    "height = [74, 74, 72, 72, 73, 69, 69, 71, 76, 71, 73, 73, 74, 74, 69, 70, 73, 75, 78, 79, 76, 74, 76, 72, 71, 75, 77, 74, 73, 74, 78, 73, 75, 73, 75, 75, 74, 69, 71, 74, 73, 73, 76, 74, 74, 70, 72, 77, 74, 70, 73, 75, 76, 76, 78, 74, 74, 76, 77, 81, 78, 75, 77, 75, 76, 74, 72, 72, 75, 73, 73, 73, 70, 70, 70, 76, 68, 71, 72, 75, 75, 75, 75, 68, 74, 78, 71, 73, 76, 74, 74, 79, 75, 73, 76, 74, 74, 73, 72, 74, 73, 74, 72, 73, 69, 72, 73, 75, 75, 73, 72, 72, 76, 74, 72, 77, 74, 77, 75, 76, 80, 74, 74, 75, 78, 73, 73, 74, 75, 76, 71, 73, 74, 76, 76, 74, 73, 74, 70, 72, 73, 73, 73, 73, 71, 74, 74, 72, 74, 71, 74, 73, 75, 75, 79, 73, 75, 76, 74, 76, 78, 74, 76, 72, 74, 76, 74, 75, 78, 75, 72, 74, 72, 74, 70, 71, 70, 75, 71, 71, 73, 72, 71, 73, 72, 75, 74, 74, 75, 73, 77, 73, 76, 75, 74, 76, 75, 73, 71, 76, 75, 72, 71, 77, 73, 74, 71, 72, 74, 75, 73, 72, 75, 75, 74, 72, 74, 71, 70, 74, 77, 77, 75, 75, 78, 75, 76, 73, 75, 75, 79, 77, 76, 71, 75, 74, 69, 71, 76, 72, 72, 70, 72, 73, 71, 72, 71, 73, 72, 73, 74, 74, 72, 75, 74, 74, 77, 75, 73, 72, 71, 74, 77, 75, 75, 75, 78, 78, 74, 76, 78, 76, 70, 72, 80, 74, 74, 71, 70, 72, 71, 74, 71, 72, 71, 74, 69, 76, 75, 75, 76, 73, 76, 73, 77, 73, 72, 72, 77, 77, 71, 74, 74, 73, 78, 75, 73, 70, 74, 72, 73, 73, 75, 75, 74, 76, 73, 74, 75, 75, 72, 73, 73, 72, 74, 78, 76, 73, 74, 75, 70, 75, 71, 72, 78, 75, 73, 73, 71, 75, 77, 72, 69, 73, 74, 72, 70, 75, 70, 72, 72, 74, 73, 74, 76, 75, 80, 72, 75, 73, 74, 74, 73, 75, 75, 71, 73, 75, 74, 74, 72, 74, 74, 74, 73, 76, 75, 72, 73, 73, 73, 72, 72, 72, 72, 71, 75, 75, 74, 73, 75, 79, 74, 76, 73, 74, 74, 72, 74, 74, 75, 78, 74, 74, 74, 77, 70, 73, 74, 73, 71, 75, 71, 72, 77, 74, 70, 77, 73, 72, 76, 71, 76, 78, 75, 73, 78, 74, 79, 75, 76, 72, 75, 75, 70, 72, 70, 74, 71, 76, 73, 76, 71, 69, 72, 72, 69, 73, 69, 73, 74, 74, 72, 71, 72, 72, 76, 76, 76, 74, 76, 75, 71, 72, 71, 73, 75, 76, 75, 71, 75, 74, 72, 73, 73, 73, 73, 76, 72, 76, 73, 73, 73, 75, 75, 77, 73, 72, 75, 70, 74, 72, 80, 71, 71, 74, 74, 73, 75, 76, 73, 77, 72, 73, 77, 76, 71, 75, 73, 74, 77, 71, 72, 73, 69, 73, 70, 74, 76, 73, 73, 75, 73, 79, 74, 73, 74, 77, 75, 74, 73, 77, 73, 77, 74, 74, 73, 77, 74, 77, 75, 77, 75, 71, 74, 70, 79, 72, 72, 70, 74, 74, 72, 73, 72, 74, 74, 76, 82, 74, 74, 70, 73, 73, 74, 77, 72, 76, 73, 73, 72, 74, 74, 71, 72, 75, 74, 74, 77, 70, 71, 73, 76, 71, 75, 74, 72, 76, 79, 76, 73, 76, 78, 75, 76, 72, 72, 73, 73, 75, 71, 76, 70, 75, 74, 75, 73, 71, 71, 72, 73, 73, 72, 69, 73, 78, 71, 73, 75, 76, 70, 74, 77, 75, 79, 72, 77, 73, 75, 75, 75, 73, 73, 76, 77, 75, 70, 71, 71, 75, 74, 69, 70, 75, 72, 75, 73, 72, 72, 72, 76, 75, 74, 69, 73, 72, 72, 75, 77, 76, 80, 77, 76, 79, 71, 75, 73, 76, 77, 73, 76, 70, 75, 73, 75, 70, 69, 71, 72, 72, 73, 70, 70, 73, 76, 75, 72, 73, 79, 71, 72, 74, 74, 74, 72, 76, 76, 72, 72, 71, 72, 72, 70, 77, 74, 72, 76, 71, 76, 71, 73, 70, 73, 73, 72, 71, 71, 71, 72, 72, 74, 74, 74, 71, 72, 75, 72, 71, 72, 72, 72, 72, 74, 74, 77, 75, 73, 75, 73, 76, 72, 77, 75, 72, 71, 71, 75, 72, 73, 73, 71, 70, 75, 71, 76, 73, 68, 71, 72, 74, 77, 72, 76, 78, 81, 72, 73, 76, 72, 72, 74, 76, 73, 76, 75, 70, 71, 74, 72, 73, 76, 76, 73, 71, 68, 71, 71, 74, 77, 69, 72, 76, 75, 76, 75, 76, 72, 74, 76, 74, 72, 75, 78, 77, 70, 72, 79, 74, 71, 68, 77, 75, 71, 72, 70, 72, 72, 73, 72, 74, 72, 72, 75, 72, 73, 74, 72, 78, 75, 72, 74, 75, 75, 76, 74, 74, 73, 74, 71, 74, 75, 76, 74, 76, 76, 73, 75, 75, 74, 68, 72, 75, 71, 70, 72, 73, 72, 75, 74, 70, 76, 71, 82, 72, 73, 74, 71, 75, 77, 72, 74, 72, 73, 78, 77, 73, 73, 73, 73, 73, 76, 75, 70, 73, 72, 73, 75, 74, 73, 73, 76, 73, 75, 70, 77, 72, 77, 74, 75, 75, 75, 75, 72, 74, 71, 76, 71, 75, 76, 83, 75, 74, 76, 72, 72, 75, 75, 72, 77, 73, 72, 70, 74, 72, 74, 72, 71, 70, 71, 76, 74, 76, 74, 74, 74, 75, 75, 71, 71, 74, 77, 71, 74, 75, 77, 76, 74, 76, 72, 71, 72, 75, 73, 68, 72, 69, 73, 73, 75, 70, 70, 74, 75, 74, 74, 73, 74, 75, 77, 73, 74, 76, 74, 75, 73, 76, 78, 75, 73, 77, 74, 72, 74, 72, 71, 73, 75, 73, 67, 67, 76, 74, 73, 70, 75, 70, 72, 77, 79, 78, 74, 75, 75, 78, 76, 75, 69, 75, 72, 75, 73, 74, 75, 75, 73]\n",
    "weight = [180, 215, 210, 210, 188, 176, 209, 200, 231, 180, 188, 180, 185, 160, 180, 185, 189, 185, 219, 230, 205, 230, 195, 180, 192, 225, 203, 195, 182, 188, 200, 180, 200, 200, 245, 240, 215, 185, 175, 199, 200, 215, 200, 205, 206, 186, 188, 220, 210, 195, 200, 200, 212, 224, 210, 205, 220, 195, 200, 260, 228, 270, 200, 210, 190, 220, 180, 205, 210, 220, 211, 200, 180, 190, 170, 230, 155, 185, 185, 200, 225, 225, 220, 160, 205, 235, 250, 210, 190, 160, 200, 205, 222, 195, 205, 220, 220, 170, 185, 195, 220, 230, 180, 220, 180, 180, 170, 210, 215, 200, 213, 180, 192, 235, 185, 235, 210, 222, 210, 230, 220, 180, 190, 200, 210, 194, 180, 190, 240, 200, 198, 200, 195, 210, 220, 190, 210, 225, 180, 185, 170, 185, 185, 180, 178, 175, 200, 204, 211, 190, 210, 190, 190, 185, 290, 175, 185, 200, 220, 170, 220, 190, 220, 205, 200, 250, 225, 215, 210, 215, 195, 200, 194, 220, 180, 180, 170, 195, 180, 170, 206, 205, 200, 225, 201, 225, 233, 180, 225, 180, 220, 180, 237, 215, 190, 235, 190, 180, 165, 195, 200, 190, 190, 185, 185, 205, 190, 205, 206, 220, 208, 170, 195, 210, 190, 211, 230, 170, 185, 185, 241, 225, 210, 175, 230, 200, 215, 198, 226, 278, 215, 230, 240, 184, 219, 170, 218, 190, 225, 220, 176, 190, 197, 204, 167, 180, 195, 220, 215, 185, 190, 205, 205, 200, 210, 215, 200, 205, 211, 190, 208, 200, 210, 232, 230, 210, 220, 210, 202, 212, 225, 170, 190, 200, 237, 220, 170, 193, 190, 150, 220, 200, 190, 185, 185, 200, 172, 220, 225, 190, 195, 219, 190, 197, 200, 195, 210, 177, 220, 235, 180, 195, 195, 190, 230, 190, 200, 190, 190, 200, 200, 184, 200, 180, 219, 187, 200, 220, 205, 190, 170, 160, 215, 175, 205, 200, 214, 200, 190, 180, 205, 220, 190, 215, 235, 191, 200, 181, 200, 210, 240, 185, 165, 190, 185, 175, 155, 210, 170, 175, 220, 210, 205, 200, 205, 195, 240, 150, 200, 215, 202, 200, 190, 205, 190, 160, 215, 185, 200, 190, 210, 185, 220, 190, 202, 205, 220, 175, 160, 190, 200, 229, 206, 220, 180, 195, 175, 188, 230, 190, 200, 190, 219, 235, 180, 180, 180, 200, 234, 185, 220, 223, 200, 210, 200, 210, 190, 177, 227, 180, 195, 199, 175, 185, 240, 210, 180, 194, 225, 180, 205, 193, 230, 230, 220, 200, 249, 190, 208, 245, 250, 160, 192, 220, 170, 197, 155, 190, 200, 220, 210, 228, 190, 160, 184, 180, 180, 200, 176, 160, 222, 211, 195, 200, 175, 206, 240, 185, 260, 185, 221, 205, 200, 170, 201, 205, 185, 205, 245, 220, 210, 220, 185, 175, 170, 180, 200, 210, 175, 220, 206, 180, 210, 195, 200, 200, 164, 180, 220, 195, 205, 170, 240, 210, 195, 200, 205, 192, 190, 170, 240, 200, 205, 175, 250, 220, 224, 210, 195, 180, 245, 175, 180, 215, 175, 180, 195, 230, 230, 205, 215, 195, 180, 205, 180, 190, 180, 190, 190, 220, 210, 255, 190, 230, 200, 205, 210, 225, 215, 220, 205, 200, 220, 197, 225, 187, 245, 185, 185, 175, 200, 180, 188, 225, 200, 210, 245, 213, 231, 165, 228, 210, 250, 191, 190, 200, 215, 254, 232, 180, 215, 220, 180, 200, 170, 195, 210, 200, 220, 165, 180, 200, 200, 170, 224, 220, 180, 198, 240, 239, 185, 210, 220, 200, 195, 220, 230, 170, 220, 230, 165, 205, 192, 210, 205, 200, 210, 185, 195, 202, 205, 195, 180, 200, 185, 240, 185, 220, 205, 205, 180, 201, 190, 208, 240, 180, 230, 195, 215, 190, 195, 215, 215, 220, 220, 230, 195, 190, 195, 209, 204, 170, 185, 205, 175, 210, 190, 180, 180, 160, 235, 200, 210, 180, 190, 197, 203, 205, 170, 200, 250, 200, 220, 200, 190, 170, 190, 220, 215, 206, 215, 185, 235, 188, 230, 195, 168, 190, 160, 200, 200, 189, 180, 190, 200, 220, 187, 240, 190, 180, 185, 210, 220, 219, 190, 193, 175, 180, 215, 210, 200, 190, 185, 220, 170, 195, 205, 195, 210, 190, 190, 180, 220, 190, 186, 185, 190, 180, 190, 170, 210, 240, 220, 180, 210, 210, 195, 160, 180, 205, 200, 185, 245, 190, 210, 200, 200, 222, 215, 240, 170, 220, 156, 190, 202, 221, 200, 190, 210, 190, 200, 165, 190, 185, 230, 208, 209, 175, 180, 200, 205, 200, 250, 210, 230, 244, 202, 240, 200, 215, 177, 210, 170, 215, 217, 198, 200, 220, 170, 200, 230, 231, 183, 192, 167, 190, 180, 180, 215, 160, 205, 223, 175, 170, 190, 240, 175, 230, 223, 196, 167, 195, 190, 250, 190, 190, 190, 170, 160, 150, 225, 220, 209, 210, 176, 260, 195, 190, 184, 180, 195, 195, 219, 225, 212, 202, 185, 200, 209, 200, 195, 228, 210, 190, 212, 190, 218, 220, 190, 235, 210, 200, 188, 210, 235, 188, 215, 216, 220, 180, 185, 200, 210, 220, 185, 231, 210, 195, 200, 205, 200, 190, 250, 185, 180, 170, 180, 208, 235, 215, 244, 220, 185, 230, 190, 200, 180, 190, 196, 180, 230, 224, 160, 178, 205, 185, 210, 180, 190, 200, 257, 190, 220, 165, 205, 200, 208, 185, 215, 170, 235, 210, 170, 180, 170, 190, 150, 230, 203, 260, 246, 186, 210, 198, 210, 215, 180, 200, 245, 200, 192, 192, 200, 192, 205, 190, 186, 170, 197, 219, 200, 220, 207, 225, 207, 212, 225, 170, 190, 210, 230, 210, 200, 238, 234, 222, 200, 190, 170, 220, 223, 210, 215, 196, 175, 175, 189, 205, 210, 180, 180, 197, 220, 228, 190, 204, 165, 216, 220, 208, 210, 215, 195, 200, 215, 229, 240, 207, 205, 208, 185, 190, 170, 208, 225, 190, 225, 185, 180, 165, 240, 220, 212, 163, 215, 175, 205, 210, 205, 208, 215, 180, 200, 230, 211, 230, 190, 220, 180, 205, 190, 180, 205, 190, 195]\n",
    "\n",
    "# import numpy\n",
    "import numpy as np\n",
    "\n",
    "# tính chỉ số BMI: bmi\n",
    "np_height_m = np.array(height) * 0.0254\n",
    "np_weight_kg = np.array(weight) * 0.453592\n",
    "bmi = np_weight_kg / np_height_m ** 2\n",
    "\n",
    "# khởi tạo mảng light\n",
    "light = bmi < 21\n",
    "\n",
    "# in ra light\n",
    "print(bmi[light])\n",
    "\n",
    "# in ra chỉ số BMI của các cầu thủ có chỉ số BMI nhỏ hơn 21\n",
    "print(bmi[light])\n"
   ]
  },
  {
   "cell_type": "markdown",
   "metadata": {},
   "source": [
    "Kết quả đúng:\n",
    "\n",
    "```\n",
    "    [False False False ..., False False False]\n",
    "    [ 20.54255679  20.54255679  20.69282047  20.69282047  20.34343189\n",
    "      20.34343189  20.69282047  20.15883472  19.4984471   20.69282047\n",
    "      20.9205219 ]\n",
    "```      "
   ]
  },
  {
   "cell_type": "markdown",
   "metadata": {},
   "source": [
    "## 9.5. Trích xuất nhiều phần tử từ mảng `numpy`"
   ]
  },
  {
   "cell_type": "markdown",
   "metadata": {},
   "source": [
    "Tương tự như danh sách thông thường, ta cũng dùng toán tử `[:]` để trích xuất mỗi dãy các phần tử trong mảng `numpy`."
   ]
  },
  {
   "cell_type": "code",
   "execution_count": 118,
   "metadata": {},
   "outputs": [
    {
     "name": "stdout",
     "output_type": "stream",
     "text": [
      "200\n",
      "[73 74 72 73 69 72 73 75 75 73 72]\n"
     ]
    }
   ],
   "source": [
    "# khởi tạo\n",
    "height = [74, 74, 72, 72, 73, 69, 69, 71, 76, 71, 73, 73, 74, 74, 69, 70, 73, 75, 78, 79, 76, 74, 76, 72, 71, 75, 77, 74, 73, 74, 78, 73, 75, 73, 75, 75, 74, 69, 71, 74, 73, 73, 76, 74, 74, 70, 72, 77, 74, 70, 73, 75, 76, 76, 78, 74, 74, 76, 77, 81, 78, 75, 77, 75, 76, 74, 72, 72, 75, 73, 73, 73, 70, 70, 70, 76, 68, 71, 72, 75, 75, 75, 75, 68, 74, 78, 71, 73, 76, 74, 74, 79, 75, 73, 76, 74, 74, 73, 72, 74, 73, 74, 72, 73, 69, 72, 73, 75, 75, 73, 72, 72, 76, 74, 72, 77, 74, 77, 75, 76, 80, 74, 74, 75, 78, 73, 73, 74, 75, 76, 71, 73, 74, 76, 76, 74, 73, 74, 70, 72, 73, 73, 73, 73, 71, 74, 74, 72, 74, 71, 74, 73, 75, 75, 79, 73, 75, 76, 74, 76, 78, 74, 76, 72, 74, 76, 74, 75, 78, 75, 72, 74, 72, 74, 70, 71, 70, 75, 71, 71, 73, 72, 71, 73, 72, 75, 74, 74, 75, 73, 77, 73, 76, 75, 74, 76, 75, 73, 71, 76, 75, 72, 71, 77, 73, 74, 71, 72, 74, 75, 73, 72, 75, 75, 74, 72, 74, 71, 70, 74, 77, 77, 75, 75, 78, 75, 76, 73, 75, 75, 79, 77, 76, 71, 75, 74, 69, 71, 76, 72, 72, 70, 72, 73, 71, 72, 71, 73, 72, 73, 74, 74, 72, 75, 74, 74, 77, 75, 73, 72, 71, 74, 77, 75, 75, 75, 78, 78, 74, 76, 78, 76, 70, 72, 80, 74, 74, 71, 70, 72, 71, 74, 71, 72, 71, 74, 69, 76, 75, 75, 76, 73, 76, 73, 77, 73, 72, 72, 77, 77, 71, 74, 74, 73, 78, 75, 73, 70, 74, 72, 73, 73, 75, 75, 74, 76, 73, 74, 75, 75, 72, 73, 73, 72, 74, 78, 76, 73, 74, 75, 70, 75, 71, 72, 78, 75, 73, 73, 71, 75, 77, 72, 69, 73, 74, 72, 70, 75, 70, 72, 72, 74, 73, 74, 76, 75, 80, 72, 75, 73, 74, 74, 73, 75, 75, 71, 73, 75, 74, 74, 72, 74, 74, 74, 73, 76, 75, 72, 73, 73, 73, 72, 72, 72, 72, 71, 75, 75, 74, 73, 75, 79, 74, 76, 73, 74, 74, 72, 74, 74, 75, 78, 74, 74, 74, 77, 70, 73, 74, 73, 71, 75, 71, 72, 77, 74, 70, 77, 73, 72, 76, 71, 76, 78, 75, 73, 78, 74, 79, 75, 76, 72, 75, 75, 70, 72, 70, 74, 71, 76, 73, 76, 71, 69, 72, 72, 69, 73, 69, 73, 74, 74, 72, 71, 72, 72, 76, 76, 76, 74, 76, 75, 71, 72, 71, 73, 75, 76, 75, 71, 75, 74, 72, 73, 73, 73, 73, 76, 72, 76, 73, 73, 73, 75, 75, 77, 73, 72, 75, 70, 74, 72, 80, 71, 71, 74, 74, 73, 75, 76, 73, 77, 72, 73, 77, 76, 71, 75, 73, 74, 77, 71, 72, 73, 69, 73, 70, 74, 76, 73, 73, 75, 73, 79, 74, 73, 74, 77, 75, 74, 73, 77, 73, 77, 74, 74, 73, 77, 74, 77, 75, 77, 75, 71, 74, 70, 79, 72, 72, 70, 74, 74, 72, 73, 72, 74, 74, 76, 82, 74, 74, 70, 73, 73, 74, 77, 72, 76, 73, 73, 72, 74, 74, 71, 72, 75, 74, 74, 77, 70, 71, 73, 76, 71, 75, 74, 72, 76, 79, 76, 73, 76, 78, 75, 76, 72, 72, 73, 73, 75, 71, 76, 70, 75, 74, 75, 73, 71, 71, 72, 73, 73, 72, 69, 73, 78, 71, 73, 75, 76, 70, 74, 77, 75, 79, 72, 77, 73, 75, 75, 75, 73, 73, 76, 77, 75, 70, 71, 71, 75, 74, 69, 70, 75, 72, 75, 73, 72, 72, 72, 76, 75, 74, 69, 73, 72, 72, 75, 77, 76, 80, 77, 76, 79, 71, 75, 73, 76, 77, 73, 76, 70, 75, 73, 75, 70, 69, 71, 72, 72, 73, 70, 70, 73, 76, 75, 72, 73, 79, 71, 72, 74, 74, 74, 72, 76, 76, 72, 72, 71, 72, 72, 70, 77, 74, 72, 76, 71, 76, 71, 73, 70, 73, 73, 72, 71, 71, 71, 72, 72, 74, 74, 74, 71, 72, 75, 72, 71, 72, 72, 72, 72, 74, 74, 77, 75, 73, 75, 73, 76, 72, 77, 75, 72, 71, 71, 75, 72, 73, 73, 71, 70, 75, 71, 76, 73, 68, 71, 72, 74, 77, 72, 76, 78, 81, 72, 73, 76, 72, 72, 74, 76, 73, 76, 75, 70, 71, 74, 72, 73, 76, 76, 73, 71, 68, 71, 71, 74, 77, 69, 72, 76, 75, 76, 75, 76, 72, 74, 76, 74, 72, 75, 78, 77, 70, 72, 79, 74, 71, 68, 77, 75, 71, 72, 70, 72, 72, 73, 72, 74, 72, 72, 75, 72, 73, 74, 72, 78, 75, 72, 74, 75, 75, 76, 74, 74, 73, 74, 71, 74, 75, 76, 74, 76, 76, 73, 75, 75, 74, 68, 72, 75, 71, 70, 72, 73, 72, 75, 74, 70, 76, 71, 82, 72, 73, 74, 71, 75, 77, 72, 74, 72, 73, 78, 77, 73, 73, 73, 73, 73, 76, 75, 70, 73, 72, 73, 75, 74, 73, 73, 76, 73, 75, 70, 77, 72, 77, 74, 75, 75, 75, 75, 72, 74, 71, 76, 71, 75, 76, 83, 75, 74, 76, 72, 72, 75, 75, 72, 77, 73, 72, 70, 74, 72, 74, 72, 71, 70, 71, 76, 74, 76, 74, 74, 74, 75, 75, 71, 71, 74, 77, 71, 74, 75, 77, 76, 74, 76, 72, 71, 72, 75, 73, 68, 72, 69, 73, 73, 75, 70, 70, 74, 75, 74, 74, 73, 74, 75, 77, 73, 74, 76, 74, 75, 73, 76, 78, 75, 73, 77, 74, 72, 74, 72, 71, 73, 75, 73, 67, 67, 76, 74, 73, 70, 75, 70, 72, 77, 79, 78, 74, 75, 75, 78, 76, 75, 69, 75, 72, 75, 73, 74, 75, 75, 73]\n",
    "weight = [180, 215, 210, 210, 188, 176, 209, 200, 231, 180, 188, 180, 185, 160, 180, 185, 189, 185, 219, 230, 205, 230, 195, 180, 192, 225, 203, 195, 182, 188, 200, 180, 200, 200, 245, 240, 215, 185, 175, 199, 200, 215, 200, 205, 206, 186, 188, 220, 210, 195, 200, 200, 212, 224, 210, 205, 220, 195, 200, 260, 228, 270, 200, 210, 190, 220, 180, 205, 210, 220, 211, 200, 180, 190, 170, 230, 155, 185, 185, 200, 225, 225, 220, 160, 205, 235, 250, 210, 190, 160, 200, 205, 222, 195, 205, 220, 220, 170, 185, 195, 220, 230, 180, 220, 180, 180, 170, 210, 215, 200, 213, 180, 192, 235, 185, 235, 210, 222, 210, 230, 220, 180, 190, 200, 210, 194, 180, 190, 240, 200, 198, 200, 195, 210, 220, 190, 210, 225, 180, 185, 170, 185, 185, 180, 178, 175, 200, 204, 211, 190, 210, 190, 190, 185, 290, 175, 185, 200, 220, 170, 220, 190, 220, 205, 200, 250, 225, 215, 210, 215, 195, 200, 194, 220, 180, 180, 170, 195, 180, 170, 206, 205, 200, 225, 201, 225, 233, 180, 225, 180, 220, 180, 237, 215, 190, 235, 190, 180, 165, 195, 200, 190, 190, 185, 185, 205, 190, 205, 206, 220, 208, 170, 195, 210, 190, 211, 230, 170, 185, 185, 241, 225, 210, 175, 230, 200, 215, 198, 226, 278, 215, 230, 240, 184, 219, 170, 218, 190, 225, 220, 176, 190, 197, 204, 167, 180, 195, 220, 215, 185, 190, 205, 205, 200, 210, 215, 200, 205, 211, 190, 208, 200, 210, 232, 230, 210, 220, 210, 202, 212, 225, 170, 190, 200, 237, 220, 170, 193, 190, 150, 220, 200, 190, 185, 185, 200, 172, 220, 225, 190, 195, 219, 190, 197, 200, 195, 210, 177, 220, 235, 180, 195, 195, 190, 230, 190, 200, 190, 190, 200, 200, 184, 200, 180, 219, 187, 200, 220, 205, 190, 170, 160, 215, 175, 205, 200, 214, 200, 190, 180, 205, 220, 190, 215, 235, 191, 200, 181, 200, 210, 240, 185, 165, 190, 185, 175, 155, 210, 170, 175, 220, 210, 205, 200, 205, 195, 240, 150, 200, 215, 202, 200, 190, 205, 190, 160, 215, 185, 200, 190, 210, 185, 220, 190, 202, 205, 220, 175, 160, 190, 200, 229, 206, 220, 180, 195, 175, 188, 230, 190, 200, 190, 219, 235, 180, 180, 180, 200, 234, 185, 220, 223, 200, 210, 200, 210, 190, 177, 227, 180, 195, 199, 175, 185, 240, 210, 180, 194, 225, 180, 205, 193, 230, 230, 220, 200, 249, 190, 208, 245, 250, 160, 192, 220, 170, 197, 155, 190, 200, 220, 210, 228, 190, 160, 184, 180, 180, 200, 176, 160, 222, 211, 195, 200, 175, 206, 240, 185, 260, 185, 221, 205, 200, 170, 201, 205, 185, 205, 245, 220, 210, 220, 185, 175, 170, 180, 200, 210, 175, 220, 206, 180, 210, 195, 200, 200, 164, 180, 220, 195, 205, 170, 240, 210, 195, 200, 205, 192, 190, 170, 240, 200, 205, 175, 250, 220, 224, 210, 195, 180, 245, 175, 180, 215, 175, 180, 195, 230, 230, 205, 215, 195, 180, 205, 180, 190, 180, 190, 190, 220, 210, 255, 190, 230, 200, 205, 210, 225, 215, 220, 205, 200, 220, 197, 225, 187, 245, 185, 185, 175, 200, 180, 188, 225, 200, 210, 245, 213, 231, 165, 228, 210, 250, 191, 190, 200, 215, 254, 232, 180, 215, 220, 180, 200, 170, 195, 210, 200, 220, 165, 180, 200, 200, 170, 224, 220, 180, 198, 240, 239, 185, 210, 220, 200, 195, 220, 230, 170, 220, 230, 165, 205, 192, 210, 205, 200, 210, 185, 195, 202, 205, 195, 180, 200, 185, 240, 185, 220, 205, 205, 180, 201, 190, 208, 240, 180, 230, 195, 215, 190, 195, 215, 215, 220, 220, 230, 195, 190, 195, 209, 204, 170, 185, 205, 175, 210, 190, 180, 180, 160, 235, 200, 210, 180, 190, 197, 203, 205, 170, 200, 250, 200, 220, 200, 190, 170, 190, 220, 215, 206, 215, 185, 235, 188, 230, 195, 168, 190, 160, 200, 200, 189, 180, 190, 200, 220, 187, 240, 190, 180, 185, 210, 220, 219, 190, 193, 175, 180, 215, 210, 200, 190, 185, 220, 170, 195, 205, 195, 210, 190, 190, 180, 220, 190, 186, 185, 190, 180, 190, 170, 210, 240, 220, 180, 210, 210, 195, 160, 180, 205, 200, 185, 245, 190, 210, 200, 200, 222, 215, 240, 170, 220, 156, 190, 202, 221, 200, 190, 210, 190, 200, 165, 190, 185, 230, 208, 209, 175, 180, 200, 205, 200, 250, 210, 230, 244, 202, 240, 200, 215, 177, 210, 170, 215, 217, 198, 200, 220, 170, 200, 230, 231, 183, 192, 167, 190, 180, 180, 215, 160, 205, 223, 175, 170, 190, 240, 175, 230, 223, 196, 167, 195, 190, 250, 190, 190, 190, 170, 160, 150, 225, 220, 209, 210, 176, 260, 195, 190, 184, 180, 195, 195, 219, 225, 212, 202, 185, 200, 209, 200, 195, 228, 210, 190, 212, 190, 218, 220, 190, 235, 210, 200, 188, 210, 235, 188, 215, 216, 220, 180, 185, 200, 210, 220, 185, 231, 210, 195, 200, 205, 200, 190, 250, 185, 180, 170, 180, 208, 235, 215, 244, 220, 185, 230, 190, 200, 180, 190, 196, 180, 230, 224, 160, 178, 205, 185, 210, 180, 190, 200, 257, 190, 220, 165, 205, 200, 208, 185, 215, 170, 235, 210, 170, 180, 170, 190, 150, 230, 203, 260, 246, 186, 210, 198, 210, 215, 180, 200, 245, 200, 192, 192, 200, 192, 205, 190, 186, 170, 197, 219, 200, 220, 207, 225, 207, 212, 225, 170, 190, 210, 230, 210, 200, 238, 234, 222, 200, 190, 170, 220, 223, 210, 215, 196, 175, 175, 189, 205, 210, 180, 180, 197, 220, 228, 190, 204, 165, 216, 220, 208, 210, 215, 195, 200, 215, 229, 240, 207, 205, 208, 185, 190, 170, 208, 225, 190, 225, 185, 180, 165, 240, 220, 212, 163, 215, 175, 205, 210, 205, 208, 215, 180, 200, 230, 211, 230, 190, 220, 180, 205, 190, 180, 205, 190, 195]\n",
    "\n",
    "# import numpy\n",
    "import numpy as np\n",
    "\n",
    "# chuyển đổi sang mảng numpy\n",
    "np_weight = np.array(weight)\n",
    "np_height = np.array(height)\n",
    "\n",
    "# in ra phần tử của mảng np_weight có chỉ số (index) là 50\n",
    "print(np_weight[50])\n",
    "\n",
    "# in ra mảng con của np_height: chỉ số từ 100 đến chỉ số 110\n",
    "print(np_height[100:111])\n"
   ]
  },
  {
   "cell_type": "markdown",
   "metadata": {},
   "source": [
    "Kết quả đúng:\n",
    "\n",
    "```\n",
    "    200\n",
    "    [73 74 72 73 69 72 73 75 75 73 72]\n",
    "```    "
   ]
  },
  {
   "cell_type": "markdown",
   "metadata": {},
   "source": [
    "# Phần 10: Mảng 2 chiều của `numpy`"
   ]
  },
  {
   "cell_type": "markdown",
   "metadata": {},
   "source": [
    "Hãy xem thử ví dụ sau:"
   ]
  },
  {
   "cell_type": "code",
   "execution_count": 77,
   "metadata": {},
   "outputs": [
    {
     "name": "stdout",
     "output_type": "stream",
     "text": [
      "<class 'numpy.ndarray'>\n"
     ]
    }
   ],
   "source": [
    "import numpy as np\n",
    "\n",
    "arr = np.array([1, 2, 3])\n",
    "print(type(arr))"
   ]
  },
  {
   "cell_type": "markdown",
   "metadata": {},
   "source": [
    "Kiểu của biến `arr` là `ndarray`, là viết tắt của \"n-dimensional array\", tức là mảng có n chiều. Trong ví dụ trên thì ta tạo ra mảng `arr` là mảng 1 chiều. Để tạo mảng nhiều chiều, ta chỉ cần truyền tham số là danh sách của các danh sách vào hàm `np.array()`. Ví dụ, để tạo mảng 2 chiều ta làm như sau:"
   ]
  },
  {
   "cell_type": "code",
   "execution_count": 78,
   "metadata": {},
   "outputs": [
    {
     "name": "stdout",
     "output_type": "stream",
     "text": [
      "[[1 2 3]\n",
      " [4 5 6]]\n",
      "<class 'numpy.ndarray'>\n",
      "(2, 3)\n"
     ]
    }
   ],
   "source": [
    "import numpy as np\n",
    "\n",
    "arr2d = np.array([[1, 2, 3],\n",
    "                 [4,5,6]])\n",
    "print(arr2d)\n",
    "print(type(arr2d))\n",
    "print(arr2d.shape)"
   ]
  },
  {
   "cell_type": "markdown",
   "metadata": {},
   "source": [
    "Hãy chú ý đến dòng cuối cùng của đoạn code trên, chúng ta đang truy cập vào thuộc tính (attribute) `shape` của mảng `arr2d`, và kết quả trả về là `(2, 3)` chính là số hàng và số cột của mảng này."
   ]
  },
  {
   "cell_type": "markdown",
   "metadata": {},
   "source": [
    "## 10.1. Tạo mảng `numpy` 2 chiều"
   ]
  },
  {
   "cell_type": "markdown",
   "metadata": {},
   "source": [
    "Hãy sử dụng kiến thức từ mục trên để hoàn thành đoạn code sau:"
   ]
  },
  {
   "cell_type": "code",
   "execution_count": 119,
   "metadata": {},
   "outputs": [
    {
     "name": "stdout",
     "output_type": "stream",
     "text": [
      "<class 'numpy.ndarray'>\n",
      "(4, 2)\n"
     ]
    }
   ],
   "source": [
    "# tạo danh sách baseball\n",
    "baseball = [[180, 78.4],\n",
    "            [215, 102.7],\n",
    "            [210, 98.5],\n",
    "            [188, 75.2]]\n",
    "\n",
    "# import numpy\n",
    "import numpy as np\n",
    "\n",
    "# tạo mảng numpy 2 chiều np_baseball từ danh sách baseball\n",
    "np_baseball = np.array(baseball)\n",
    "\n",
    "# in ra kiểu của np_baseball\n",
    "print(type(np_baseball))\n",
    "# in ra kích thước của np_baseball\n",
    "print(np_baseball.shape)\n"
   ]
  },
  {
   "cell_type": "markdown",
   "metadata": {},
   "source": [
    "## 10.2. Bài tập: lưu trữ dữ liệu cầu thủ bóng rổ"
   ]
  },
  {
   "cell_type": "markdown",
   "metadata": {},
   "source": [
    "Liên đoàn bóng rổ cung cấp dữ liệu chiều cao và cân nặng của 1015 cầu thủ bóng rổ cho bạn dưới dạng danh sách của 1015 phần tử, được đặt tên là `baseball` như trong đoạn code dưới đây. Hãy chuyển danh sách này sang dạng mảng 2 chiều trong `numpy` và in ra kích thước của mảng đó. Kết quả của bạn cần đưa ra phải khớp với kích thước chính xác: $1015\\times2$."
   ]
  },
  {
   "cell_type": "code",
   "execution_count": null,
   "metadata": {},
   "outputs": [],
   "source": [
    "# khởi tạo\n",
    "baseball = [[74, 180], [74, 215], [72, 210], [72, 210], [73, 188], [69, 176], [69, 209], [71, 200], [76, 231], [71, 180], [73, 188], [73, 180], [74, 185], [74, 160], [69, 180], [70, 185], [73, 189], [75, 185], [78, 219], [79, 230], [76, 205], [74, 230], [76, 195], [72, 180], [71, 192], [75, 225], [77, 203], [74, 195], [73, 182], [74, 188], [78, 200], [73, 180], [75, 200], [73, 200], [75, 245], [75, 240], [74, 215], [69, 185], [71, 175], [74, 199], [73, 200], [73, 215], [76, 200], [74, 205], [74, 206], [70, 186], [72, 188], [77, 220], [74, 210], [70, 195], [73, 200], [75, 200], [76, 212], [76, 224], [78, 210], [74, 205], [74, 220], [76, 195], [77, 200], [81, 260], [78, 228], [75, 270], [77, 200], [75, 210], [76, 190], [74, 220], [72, 180], [72, 205], [75, 210], [73, 220], [73, 211], [73, 200], [70, 180], [70, 190], [70, 170], [76, 230], [68, 155], [71, 185], [72, 185], [75, 200], [75, 225], [75, 225], [75, 220], [68, 160], [74, 205], [78, 235], [71, 250], [73, 210], [76, 190], [74, 160], [74, 200], [79, 205], [75, 222], [73, 195], [76, 205], [74, 220], [74, 220], [73, 170], [72, 185], [74, 195], [73, 220], [74, 230], [72, 180], [73, 220], [69, 180], [72, 180], [73, 170], [75, 210], [75, 215], [73, 200], [72, 213], [72, 180], [76, 192], [74, 235], [72, 185], [77, 235], [74, 210], [77, 222], [75, 210], [76, 230], [80, 220], [74, 180], [74, 190], [75, 200], [78, 210], [73, 194], [73, 180], [74, 190], [75, 240], [76, 200], [71, 198], [73, 200], [74, 195], [76, 210], [76, 220], [74, 190], [73, 210], [74, 225], [70, 180], [72, 185], [73, 170], [73, 185], [73, 185], [73, 180], [71, 178], [74, 175], [74, 200], [72, 204], [74, 211], [71, 190], [74, 210], [73, 190], [75, 190], [75, 185], [79, 290], [73, 175], [75, 185], [76, 200], [74, 220], [76, 170], [78, 220], [74, 190], [76, 220], [72, 205], [74, 200], [76, 250], [74, 225], [75, 215], [78, 210], [75, 215], [72, 195], [74, 200], [72, 194], [74, 220], [70, 180], [71, 180], [70, 170], [75, 195], [71, 180], [71, 170], [73, 206], [72, 205], [71, 200], [73, 225], [72, 201], [75, 225], [74, 233], [74, 180], [75, 225], [73, 180], [77, 220], [73, 180], [76, 237], [75, 215], [74, 190], [76, 235], [75, 190], [73, 180], [71, 165], [76, 195], [75, 200], [72, 190], [71, 190], [77, 185], [73, 185], [74, 205], [71, 190], [72, 205], [74, 206], [75, 220], [73, 208], [72, 170], [75, 195], [75, 210], [74, 190], [72, 211], [74, 230], [71, 170], [70, 185], [74, 185], [77, 241], [77, 225], [75, 210], [75, 175], [78, 230], [75, 200], [76, 215], [73, 198], [75, 226], [75, 278], [79, 215], [77, 230], [76, 240], [71, 184], [75, 219], [74, 170], [69, 218], [71, 190], [76, 225], [72, 220], [72, 176], [70, 190], [72, 197], [73, 204], [71, 167], [72, 180], [71, 195], [73, 220], [72, 215], [73, 185], [74, 190], [74, 205], [72, 205], [75, 200], [74, 210], [74, 215], [77, 200], [75, 205], [73, 211], [72, 190], [71, 208], [74, 200], [77, 210], [75, 232], [75, 230], [75, 210], [78, 220], [78, 210], [74, 202], [76, 212], [78, 225], [76, 170], [70, 190], [72, 200], [80, 237], [74, 220], [74, 170], [71, 193], [70, 190], [72, 150], [71, 220], [74, 200], [71, 190], [72, 185], [71, 185], [74, 200], [69, 172], [76, 220], [75, 225], [75, 190], [76, 195], [73, 219], [76, 190], [73, 197], [77, 200], [73, 195], [72, 210], [72, 177], [77, 220], [77, 235], [71, 180], [74, 195], [74, 195], [73, 190], [78, 230], [75, 190], [73, 200], [70, 190], [74, 190], [72, 200], [73, 200], [73, 184], [75, 200], [75, 180], [74, 219], [76, 187], [73, 200], [74, 220], [75, 205], [75, 190], [72, 170], [73, 160], [73, 215], [72, 175], [74, 205], [78, 200], [76, 214], [73, 200], [74, 190], [75, 180], [70, 205], [75, 220], [71, 190], [72, 215], [78, 235], [75, 191], [73, 200], [73, 181], [71, 200], [75, 210], [77, 240], [72, 185], [69, 165], [73, 190], [74, 185], [72, 175], [70, 155], [75, 210], [70, 170], [72, 175], [72, 220], [74, 210], [73, 205], [74, 200], [76, 205], [75, 195], [80, 240], [72, 150], [75, 200], [73, 215], [74, 202], [74, 200], [73, 190], [75, 205], [75, 190], [71, 160], [73, 215], [75, 185], [74, 200], [74, 190], [72, 210], [74, 185], [74, 220], [74, 190], [73, 202], [76, 205], [75, 220], [72, 175], [73, 160], [73, 190], [73, 200], [72, 229], [72, 206], [72, 220], [72, 180], [71, 195], [75, 175], [75, 188], [74, 230], [73, 190], [75, 200], [79, 190], [74, 219], [76, 235], [73, 180], [74, 180], [74, 180], [72, 200], [74, 234], [74, 185], [75, 220], [78, 223], [74, 200], [74, 210], [74, 200], [77, 210], [70, 190], [73, 177], [74, 227], [73, 180], [71, 195], [75, 199], [71, 175], [72, 185], [77, 240], [74, 210], [70, 180], [77, 194], [73, 225], [72, 180], [76, 205], [71, 193], [76, 230], [78, 230], [75, 220], [73, 200], [78, 249], [74, 190], [79, 208], [75, 245], [76, 250], [72, 160], [75, 192], [75, 220], [70, 170], [72, 197], [70, 155], [74, 190], [71, 200], [76, 220], [73, 210], [76, 228], [71, 190], [69, 160], [72, 184], [72, 180], [69, 180], [73, 200], [69, 176], [73, 160], [74, 222], [74, 211], [72, 195], [71, 200], [72, 175], [72, 206], [76, 240], [76, 185], [76, 260], [74, 185], [76, 221], [75, 205], [71, 200], [72, 170], [71, 201], [73, 205], [75, 185], [76, 205], [75, 245], [71, 220], [75, 210], [74, 220], [72, 185], [73, 175], [73, 170], [73, 180], [73, 200], [76, 210], [72, 175], [76, 220], [73, 206], [73, 180], [73, 210], [75, 195], [75, 200], [77, 200], [73, 164], [72, 180], [75, 220], [70, 195], [74, 205], [72, 170], [80, 240], [71, 210], [71, 195], [74, 200], [74, 205], [73, 192], [75, 190], [76, 170], [73, 240], [77, 200], [72, 205], [73, 175], [77, 250], [76, 220], [71, 224], [75, 210], [73, 195], [74, 180], [77, 245], [71, 175], [72, 180], [73, 215], [69, 175], [73, 180], [70, 195], [74, 230], [76, 230], [73, 205], [73, 215], [75, 195], [73, 180], [79, 205], [74, 180], [73, 190], [74, 180], [77, 190], [75, 190], [74, 220], [73, 210], [77, 255], [73, 190], [77, 230], [74, 200], [74, 205], [73, 210], [77, 225], [74, 215], [77, 220], [75, 205], [77, 200], [75, 220], [71, 197], [74, 225], [70, 187], [79, 245], [72, 185], [72, 185], [70, 175], [74, 200], [74, 180], [72, 188], [73, 225], [72, 200], [74, 210], [74, 245], [76, 213], [82, 231], [74, 165], [74, 228], [70, 210], [73, 250], [73, 191], [74, 190], [77, 200], [72, 215], [76, 254], [73, 232], [73, 180], [72, 215], [74, 220], [74, 180], [71, 200], [72, 170], [75, 195], [74, 210], [74, 200], [77, 220], [70, 165], [71, 180], [73, 200], [76, 200], [71, 170], [75, 224], [74, 220], [72, 180], [76, 198], [79, 240], [76, 239], [73, 185], [76, 210], [78, 220], [75, 200], [76, 195], [72, 220], [72, 230], [73, 170], [73, 220], [75, 230], [71, 165], [76, 205], [70, 192], [75, 210], [74, 205], [75, 200], [73, 210], [71, 185], [71, 195], [72, 202], [73, 205], [73, 195], [72, 180], [69, 200], [73, 185], [78, 240], [71, 185], [73, 220], [75, 205], [76, 205], [70, 180], [74, 201], [77, 190], [75, 208], [79, 240], [72, 180], [77, 230], [73, 195], [75, 215], [75, 190], [75, 195], [73, 215], [73, 215], [76, 220], [77, 220], [75, 230], [70, 195], [71, 190], [71, 195], [75, 209], [74, 204], [69, 170], [70, 185], [75, 205], [72, 175], [75, 210], [73, 190], [72, 180], [72, 180], [72, 160], [76, 235], [75, 200], [74, 210], [69, 180], [73, 190], [72, 197], [72, 203], [75, 205], [77, 170], [76, 200], [80, 250], [77, 200], [76, 220], [79, 200], [71, 190], [75, 170], [73, 190], [76, 220], [77, 215], [73, 206], [76, 215], [70, 185], [75, 235], [73, 188], [75, 230], [70, 195], [69, 168], [71, 190], [72, 160], [72, 200], [73, 200], [70, 189], [70, 180], [73, 190], [76, 200], [75, 220], [72, 187], [73, 240], [79, 190], [71, 180], [72, 185], [74, 210], [74, 220], [74, 219], [72, 190], [76, 193], [76, 175], [72, 180], [72, 215], [71, 210], [72, 200], [72, 190], [70, 185], [77, 220], [74, 170], [72, 195], [76, 205], [71, 195], [76, 210], [71, 190], [73, 190], [70, 180], [73, 220], [73, 190], [72, 186], [71, 185], [71, 190], [71, 180], [72, 190], [72, 170], [74, 210], [74, 240], [74, 220], [71, 180], [72, 210], [75, 210], [72, 195], [71, 160], [72, 180], [72, 205], [72, 200], [72, 185], [74, 245], [74, 190], [77, 210], [75, 200], [73, 200], [75, 222], [73, 215], [76, 240], [72, 170], [77, 220], [75, 156], [72, 190], [71, 202], [71, 221], [75, 200], [72, 190], [73, 210], [73, 190], [71, 200], [70, 165], [75, 190], [71, 185], [76, 230], [73, 208], [68, 209], [71, 175], [72, 180], [74, 200], [77, 205], [72, 200], [76, 250], [78, 210], [81, 230], [72, 244], [73, 202], [76, 240], [72, 200], [72, 215], [74, 177], [76, 210], [73, 170], [76, 215], [75, 217], [70, 198], [71, 200], [74, 220], [72, 170], [73, 200], [76, 230], [76, 231], [73, 183], [71, 192], [68, 167], [71, 190], [71, 180], [74, 180], [77, 215], [69, 160], [72, 205], [76, 223], [75, 175], [76, 170], [75, 190], [76, 240], [72, 175], [74, 230], [76, 223], [74, 196], [72, 167], [75, 195], [78, 190], [77, 250], [70, 190], [72, 190], [79, 190], [74, 170], [71, 160], [68, 150], [77, 225], [75, 220], [71, 209], [72, 210], [70, 176], [72, 260], [72, 195], [73, 190], [72, 184], [74, 180], [72, 195], [72, 195], [75, 219], [72, 225], [73, 212], [74, 202], [72, 185], [78, 200], [75, 209], [72, 200], [74, 195], [75, 228], [75, 210], [76, 190], [74, 212], [74, 190], [73, 218], [74, 220], [71, 190], [74, 235], [75, 210], [76, 200], [74, 188], [76, 210], [76, 235], [73, 188], [75, 215], [75, 216], [74, 220], [68, 180], [72, 185], [75, 200], [71, 210], [70, 220], [72, 185], [73, 231], [72, 210], [75, 195], [74, 200], [70, 205], [76, 200], [71, 190], [82, 250], [72, 185], [73, 180], [74, 170], [71, 180], [75, 208], [77, 235], [72, 215], [74, 244], [72, 220], [73, 185], [78, 230], [77, 190], [73, 200], [73, 180], [73, 190], [73, 196], [73, 180], [76, 230], [75, 224], [70, 160], [73, 178], [72, 205], [73, 185], [75, 210], [74, 180], [73, 190], [73, 200], [76, 257], [73, 190], [75, 220], [70, 165], [77, 205], [72, 200], [77, 208], [74, 185], [75, 215], [75, 170], [75, 235], [75, 210], [72, 170], [74, 180], [71, 170], [76, 190], [71, 150], [75, 230], [76, 203], [83, 260], [75, 246], [74, 186], [76, 210], [72, 198], [72, 210], [75, 215], [75, 180], [72, 200], [77, 245], [73, 200], [72, 192], [70, 192], [74, 200], [72, 192], [74, 205], [72, 190], [71, 186], [70, 170], [71, 197], [76, 219], [74, 200], [76, 220], [74, 207], [74, 225], [74, 207], [75, 212], [75, 225], [71, 170], [71, 190], [74, 210], [77, 230], [71, 210], [74, 200], [75, 238], [77, 234], [76, 222], [74, 200], [76, 190], [72, 170], [71, 220], [72, 223], [75, 210], [73, 215], [68, 196], [72, 175], [69, 175], [73, 189], [73, 205], [75, 210], [70, 180], [70, 180], [74, 197], [75, 220], [74, 228], [74, 190], [73, 204], [74, 165], [75, 216], [77, 220], [73, 208], [74, 210], [76, 215], [74, 195], [75, 200], [73, 215], [76, 229], [78, 240], [75, 207], [73, 205], [77, 208], [74, 185], [72, 190], [74, 170], [72, 208], [71, 225], [73, 190], [75, 225], [73, 185], [67, 180], [67, 165], [76, 240], [74, 220], [73, 212], [70, 163], [75, 215], [70, 175], [72, 205], [77, 210], [79, 205], [78, 208], [74, 215], [75, 180], [75, 200], [78, 230], [76, 211], [75, 230], [69, 190], [75, 220], [72, 180], [75, 205], [73, 190], [74, 180], [75, 205], [75, 190], [73, 195]]\n",
    "\n",
    "# import gói numpy\n",
    "import numpy as np\n",
    "\n",
    "# tạo mảng numpy 2 chiều np_baseball từ danh sách baseball\n",
    "\n",
    "\n",
    "# in ra kích thước của np_baseball\n",
    "\n"
   ]
  },
  {
   "cell_type": "markdown",
   "metadata": {},
   "source": [
    "## 10.3. Truy xuất phần tử trong mảng 2 chiều `numpy`"
   ]
  },
  {
   "cell_type": "markdown",
   "metadata": {},
   "source": [
    "Việc truy xuất phần tử trong mảng `numpy` rất thuận tiện, chúng ta có thể sử dụng linh hoạt toán tử `[:]` để lấy nhiều phần tử trong mảng cùng 1 lúc. Hãy xem ví dụ sau:"
   ]
  },
  {
   "cell_type": "code",
   "execution_count": 81,
   "metadata": {},
   "outputs": [
    {
     "name": "stdout",
     "output_type": "stream",
     "text": [
      "['a', 'c', 'e']\n",
      "['a' 'c' 'e']\n"
     ]
    }
   ],
   "source": [
    "# lấy cột đầu tiên của mảng 2 chiều\n",
    "# danh sách thông thường\n",
    "x = [[\"a\", \"b\", \"x\"], [\"c\", \"d\", \"y\"], [\"e\", \"f\", \"z\"]]\n",
    "print([x[0][0], x[1][0], x[2][0]])\n",
    "\n",
    "# numpy\n",
    "import numpy as np\n",
    "np_x = np.array(x)\n",
    "print(np_x[:,0])"
   ]
  },
  {
   "cell_type": "markdown",
   "metadata": {},
   "source": [
    "Giải thích: toán tử `:` giúp ta lấy toàn bộ các hàng của mảng `np_x`, còn chỉ số `0` giúp ta lấy phần tử đầu tiên của mỗi hàng.\n",
    "\n",
    "Nếu muốn lấy 2 phần tử đầu tiên của 2 hàng cuối cùng, ta làm như sau:"
   ]
  },
  {
   "cell_type": "code",
   "execution_count": 82,
   "metadata": {},
   "outputs": [
    {
     "name": "stdout",
     "output_type": "stream",
     "text": [
      "[['c' 'd']\n",
      " ['e' 'f']]\n"
     ]
    }
   ],
   "source": [
    "print(np_x[-2:,:2])"
   ]
  },
  {
   "cell_type": "markdown",
   "metadata": {},
   "source": [
    "**Bài tập:** Mảng `np_baseball` được khởi tạo từ danh sách `baseball` có 2 cột, trong đó cột đầu tiên là chiều cao, cột thứ hai là cân nặng các cầu thủ bóng rổ. Hãy hoàn thành đoạn code sau:"
   ]
  },
  {
   "cell_type": "code",
   "execution_count": 122,
   "metadata": {},
   "outputs": [
    {
     "name": "stdout",
     "output_type": "stream",
     "text": [
      "[ 70 195]\n",
      "75\n"
     ]
    }
   ],
   "source": [
    "# khởi tạo\n",
    "baseball = [[74, 180], [74, 215], [72, 210], [72, 210], [73, 188], [69, 176], [69, 209], [71, 200], [76, 231], [71, 180], [73, 188], [73, 180], [74, 185], [74, 160], [69, 180], [70, 185], [73, 189], [75, 185], [78, 219], [79, 230], [76, 205], [74, 230], [76, 195], [72, 180], [71, 192], [75, 225], [77, 203], [74, 195], [73, 182], [74, 188], [78, 200], [73, 180], [75, 200], [73, 200], [75, 245], [75, 240], [74, 215], [69, 185], [71, 175], [74, 199], [73, 200], [73, 215], [76, 200], [74, 205], [74, 206], [70, 186], [72, 188], [77, 220], [74, 210], [70, 195], [73, 200], [75, 200], [76, 212], [76, 224], [78, 210], [74, 205], [74, 220], [76, 195], [77, 200], [81, 260], [78, 228], [75, 270], [77, 200], [75, 210], [76, 190], [74, 220], [72, 180], [72, 205], [75, 210], [73, 220], [73, 211], [73, 200], [70, 180], [70, 190], [70, 170], [76, 230], [68, 155], [71, 185], [72, 185], [75, 200], [75, 225], [75, 225], [75, 220], [68, 160], [74, 205], [78, 235], [71, 250], [73, 210], [76, 190], [74, 160], [74, 200], [79, 205], [75, 222], [73, 195], [76, 205], [74, 220], [74, 220], [73, 170], [72, 185], [74, 195], [73, 220], [74, 230], [72, 180], [73, 220], [69, 180], [72, 180], [73, 170], [75, 210], [75, 215], [73, 200], [72, 213], [72, 180], [76, 192], [74, 235], [72, 185], [77, 235], [74, 210], [77, 222], [75, 210], [76, 230], [80, 220], [74, 180], [74, 190], [75, 200], [78, 210], [73, 194], [73, 180], [74, 190], [75, 240], [76, 200], [71, 198], [73, 200], [74, 195], [76, 210], [76, 220], [74, 190], [73, 210], [74, 225], [70, 180], [72, 185], [73, 170], [73, 185], [73, 185], [73, 180], [71, 178], [74, 175], [74, 200], [72, 204], [74, 211], [71, 190], [74, 210], [73, 190], [75, 190], [75, 185], [79, 290], [73, 175], [75, 185], [76, 200], [74, 220], [76, 170], [78, 220], [74, 190], [76, 220], [72, 205], [74, 200], [76, 250], [74, 225], [75, 215], [78, 210], [75, 215], [72, 195], [74, 200], [72, 194], [74, 220], [70, 180], [71, 180], [70, 170], [75, 195], [71, 180], [71, 170], [73, 206], [72, 205], [71, 200], [73, 225], [72, 201], [75, 225], [74, 233], [74, 180], [75, 225], [73, 180], [77, 220], [73, 180], [76, 237], [75, 215], [74, 190], [76, 235], [75, 190], [73, 180], [71, 165], [76, 195], [75, 200], [72, 190], [71, 190], [77, 185], [73, 185], [74, 205], [71, 190], [72, 205], [74, 206], [75, 220], [73, 208], [72, 170], [75, 195], [75, 210], [74, 190], [72, 211], [74, 230], [71, 170], [70, 185], [74, 185], [77, 241], [77, 225], [75, 210], [75, 175], [78, 230], [75, 200], [76, 215], [73, 198], [75, 226], [75, 278], [79, 215], [77, 230], [76, 240], [71, 184], [75, 219], [74, 170], [69, 218], [71, 190], [76, 225], [72, 220], [72, 176], [70, 190], [72, 197], [73, 204], [71, 167], [72, 180], [71, 195], [73, 220], [72, 215], [73, 185], [74, 190], [74, 205], [72, 205], [75, 200], [74, 210], [74, 215], [77, 200], [75, 205], [73, 211], [72, 190], [71, 208], [74, 200], [77, 210], [75, 232], [75, 230], [75, 210], [78, 220], [78, 210], [74, 202], [76, 212], [78, 225], [76, 170], [70, 190], [72, 200], [80, 237], [74, 220], [74, 170], [71, 193], [70, 190], [72, 150], [71, 220], [74, 200], [71, 190], [72, 185], [71, 185], [74, 200], [69, 172], [76, 220], [75, 225], [75, 190], [76, 195], [73, 219], [76, 190], [73, 197], [77, 200], [73, 195], [72, 210], [72, 177], [77, 220], [77, 235], [71, 180], [74, 195], [74, 195], [73, 190], [78, 230], [75, 190], [73, 200], [70, 190], [74, 190], [72, 200], [73, 200], [73, 184], [75, 200], [75, 180], [74, 219], [76, 187], [73, 200], [74, 220], [75, 205], [75, 190], [72, 170], [73, 160], [73, 215], [72, 175], [74, 205], [78, 200], [76, 214], [73, 200], [74, 190], [75, 180], [70, 205], [75, 220], [71, 190], [72, 215], [78, 235], [75, 191], [73, 200], [73, 181], [71, 200], [75, 210], [77, 240], [72, 185], [69, 165], [73, 190], [74, 185], [72, 175], [70, 155], [75, 210], [70, 170], [72, 175], [72, 220], [74, 210], [73, 205], [74, 200], [76, 205], [75, 195], [80, 240], [72, 150], [75, 200], [73, 215], [74, 202], [74, 200], [73, 190], [75, 205], [75, 190], [71, 160], [73, 215], [75, 185], [74, 200], [74, 190], [72, 210], [74, 185], [74, 220], [74, 190], [73, 202], [76, 205], [75, 220], [72, 175], [73, 160], [73, 190], [73, 200], [72, 229], [72, 206], [72, 220], [72, 180], [71, 195], [75, 175], [75, 188], [74, 230], [73, 190], [75, 200], [79, 190], [74, 219], [76, 235], [73, 180], [74, 180], [74, 180], [72, 200], [74, 234], [74, 185], [75, 220], [78, 223], [74, 200], [74, 210], [74, 200], [77, 210], [70, 190], [73, 177], [74, 227], [73, 180], [71, 195], [75, 199], [71, 175], [72, 185], [77, 240], [74, 210], [70, 180], [77, 194], [73, 225], [72, 180], [76, 205], [71, 193], [76, 230], [78, 230], [75, 220], [73, 200], [78, 249], [74, 190], [79, 208], [75, 245], [76, 250], [72, 160], [75, 192], [75, 220], [70, 170], [72, 197], [70, 155], [74, 190], [71, 200], [76, 220], [73, 210], [76, 228], [71, 190], [69, 160], [72, 184], [72, 180], [69, 180], [73, 200], [69, 176], [73, 160], [74, 222], [74, 211], [72, 195], [71, 200], [72, 175], [72, 206], [76, 240], [76, 185], [76, 260], [74, 185], [76, 221], [75, 205], [71, 200], [72, 170], [71, 201], [73, 205], [75, 185], [76, 205], [75, 245], [71, 220], [75, 210], [74, 220], [72, 185], [73, 175], [73, 170], [73, 180], [73, 200], [76, 210], [72, 175], [76, 220], [73, 206], [73, 180], [73, 210], [75, 195], [75, 200], [77, 200], [73, 164], [72, 180], [75, 220], [70, 195], [74, 205], [72, 170], [80, 240], [71, 210], [71, 195], [74, 200], [74, 205], [73, 192], [75, 190], [76, 170], [73, 240], [77, 200], [72, 205], [73, 175], [77, 250], [76, 220], [71, 224], [75, 210], [73, 195], [74, 180], [77, 245], [71, 175], [72, 180], [73, 215], [69, 175], [73, 180], [70, 195], [74, 230], [76, 230], [73, 205], [73, 215], [75, 195], [73, 180], [79, 205], [74, 180], [73, 190], [74, 180], [77, 190], [75, 190], [74, 220], [73, 210], [77, 255], [73, 190], [77, 230], [74, 200], [74, 205], [73, 210], [77, 225], [74, 215], [77, 220], [75, 205], [77, 200], [75, 220], [71, 197], [74, 225], [70, 187], [79, 245], [72, 185], [72, 185], [70, 175], [74, 200], [74, 180], [72, 188], [73, 225], [72, 200], [74, 210], [74, 245], [76, 213], [82, 231], [74, 165], [74, 228], [70, 210], [73, 250], [73, 191], [74, 190], [77, 200], [72, 215], [76, 254], [73, 232], [73, 180], [72, 215], [74, 220], [74, 180], [71, 200], [72, 170], [75, 195], [74, 210], [74, 200], [77, 220], [70, 165], [71, 180], [73, 200], [76, 200], [71, 170], [75, 224], [74, 220], [72, 180], [76, 198], [79, 240], [76, 239], [73, 185], [76, 210], [78, 220], [75, 200], [76, 195], [72, 220], [72, 230], [73, 170], [73, 220], [75, 230], [71, 165], [76, 205], [70, 192], [75, 210], [74, 205], [75, 200], [73, 210], [71, 185], [71, 195], [72, 202], [73, 205], [73, 195], [72, 180], [69, 200], [73, 185], [78, 240], [71, 185], [73, 220], [75, 205], [76, 205], [70, 180], [74, 201], [77, 190], [75, 208], [79, 240], [72, 180], [77, 230], [73, 195], [75, 215], [75, 190], [75, 195], [73, 215], [73, 215], [76, 220], [77, 220], [75, 230], [70, 195], [71, 190], [71, 195], [75, 209], [74, 204], [69, 170], [70, 185], [75, 205], [72, 175], [75, 210], [73, 190], [72, 180], [72, 180], [72, 160], [76, 235], [75, 200], [74, 210], [69, 180], [73, 190], [72, 197], [72, 203], [75, 205], [77, 170], [76, 200], [80, 250], [77, 200], [76, 220], [79, 200], [71, 190], [75, 170], [73, 190], [76, 220], [77, 215], [73, 206], [76, 215], [70, 185], [75, 235], [73, 188], [75, 230], [70, 195], [69, 168], [71, 190], [72, 160], [72, 200], [73, 200], [70, 189], [70, 180], [73, 190], [76, 200], [75, 220], [72, 187], [73, 240], [79, 190], [71, 180], [72, 185], [74, 210], [74, 220], [74, 219], [72, 190], [76, 193], [76, 175], [72, 180], [72, 215], [71, 210], [72, 200], [72, 190], [70, 185], [77, 220], [74, 170], [72, 195], [76, 205], [71, 195], [76, 210], [71, 190], [73, 190], [70, 180], [73, 220], [73, 190], [72, 186], [71, 185], [71, 190], [71, 180], [72, 190], [72, 170], [74, 210], [74, 240], [74, 220], [71, 180], [72, 210], [75, 210], [72, 195], [71, 160], [72, 180], [72, 205], [72, 200], [72, 185], [74, 245], [74, 190], [77, 210], [75, 200], [73, 200], [75, 222], [73, 215], [76, 240], [72, 170], [77, 220], [75, 156], [72, 190], [71, 202], [71, 221], [75, 200], [72, 190], [73, 210], [73, 190], [71, 200], [70, 165], [75, 190], [71, 185], [76, 230], [73, 208], [68, 209], [71, 175], [72, 180], [74, 200], [77, 205], [72, 200], [76, 250], [78, 210], [81, 230], [72, 244], [73, 202], [76, 240], [72, 200], [72, 215], [74, 177], [76, 210], [73, 170], [76, 215], [75, 217], [70, 198], [71, 200], [74, 220], [72, 170], [73, 200], [76, 230], [76, 231], [73, 183], [71, 192], [68, 167], [71, 190], [71, 180], [74, 180], [77, 215], [69, 160], [72, 205], [76, 223], [75, 175], [76, 170], [75, 190], [76, 240], [72, 175], [74, 230], [76, 223], [74, 196], [72, 167], [75, 195], [78, 190], [77, 250], [70, 190], [72, 190], [79, 190], [74, 170], [71, 160], [68, 150], [77, 225], [75, 220], [71, 209], [72, 210], [70, 176], [72, 260], [72, 195], [73, 190], [72, 184], [74, 180], [72, 195], [72, 195], [75, 219], [72, 225], [73, 212], [74, 202], [72, 185], [78, 200], [75, 209], [72, 200], [74, 195], [75, 228], [75, 210], [76, 190], [74, 212], [74, 190], [73, 218], [74, 220], [71, 190], [74, 235], [75, 210], [76, 200], [74, 188], [76, 210], [76, 235], [73, 188], [75, 215], [75, 216], [74, 220], [68, 180], [72, 185], [75, 200], [71, 210], [70, 220], [72, 185], [73, 231], [72, 210], [75, 195], [74, 200], [70, 205], [76, 200], [71, 190], [82, 250], [72, 185], [73, 180], [74, 170], [71, 180], [75, 208], [77, 235], [72, 215], [74, 244], [72, 220], [73, 185], [78, 230], [77, 190], [73, 200], [73, 180], [73, 190], [73, 196], [73, 180], [76, 230], [75, 224], [70, 160], [73, 178], [72, 205], [73, 185], [75, 210], [74, 180], [73, 190], [73, 200], [76, 257], [73, 190], [75, 220], [70, 165], [77, 205], [72, 200], [77, 208], [74, 185], [75, 215], [75, 170], [75, 235], [75, 210], [72, 170], [74, 180], [71, 170], [76, 190], [71, 150], [75, 230], [76, 203], [83, 260], [75, 246], [74, 186], [76, 210], [72, 198], [72, 210], [75, 215], [75, 180], [72, 200], [77, 245], [73, 200], [72, 192], [70, 192], [74, 200], [72, 192], [74, 205], [72, 190], [71, 186], [70, 170], [71, 197], [76, 219], [74, 200], [76, 220], [74, 207], [74, 225], [74, 207], [75, 212], [75, 225], [71, 170], [71, 190], [74, 210], [77, 230], [71, 210], [74, 200], [75, 238], [77, 234], [76, 222], [74, 200], [76, 190], [72, 170], [71, 220], [72, 223], [75, 210], [73, 215], [68, 196], [72, 175], [69, 175], [73, 189], [73, 205], [75, 210], [70, 180], [70, 180], [74, 197], [75, 220], [74, 228], [74, 190], [73, 204], [74, 165], [75, 216], [77, 220], [73, 208], [74, 210], [76, 215], [74, 195], [75, 200], [73, 215], [76, 229], [78, 240], [75, 207], [73, 205], [77, 208], [74, 185], [72, 190], [74, 170], [72, 208], [71, 225], [73, 190], [75, 225], [73, 185], [67, 180], [67, 165], [76, 240], [74, 220], [73, 212], [70, 163], [75, 215], [70, 175], [72, 205], [77, 210], [79, 205], [78, 208], [74, 215], [75, 180], [75, 200], [78, 230], [76, 211], [75, 230], [69, 190], [75, 220], [72, 180], [75, 205], [73, 190], [74, 180], [75, 205], [75, 190], [73, 195]]\n",
    "\n",
    "# import numpy\n",
    "import numpy as np\n",
    "\n",
    "# tạo mảng np_baseball\n",
    "np_baseball = np.array(baseball)\n",
    "\n",
    "# in ra hàng thứ 50 của np_baseball\n",
    "print(np_baseball[49,:])\n",
    "\n",
    "# trích xuất toàn bộ cột thứ 2 của np_baseball, lưu vào mảng np_weight\n",
    "np_weight = np_baseball[:,1]\n",
    "\n",
    "# in ra chiều cao của cầu thủ thứ 124\n",
    "print(np_baseball[123,0]) \n"
   ]
  },
  {
   "cell_type": "markdown",
   "metadata": {},
   "source": [
    "Kết quả đúng:\n",
    "\n",
    "```\n",
    "[ 70 195]\n",
    "75\n",
    "```"
   ]
  },
  {
   "cell_type": "markdown",
   "metadata": {},
   "source": [
    "## 10.4. Tính toán trên mảng 2 chiều"
   ]
  },
  {
   "cell_type": "markdown",
   "metadata": {},
   "source": [
    "Đối với mảng `numpy`, các phép tính số học (cộng, trừ, nhân, chia) được thực hiện với từng phần tử. Hãy xem ví dụ sau:"
   ]
  },
  {
   "cell_type": "code",
   "execution_count": 84,
   "metadata": {},
   "outputs": [
    {
     "name": "stdout",
     "output_type": "stream",
     "text": [
      "[[ 2  4]\n",
      " [ 6  8]\n",
      " [10 12]]\n",
      "\n",
      "\n",
      "[[11 12]\n",
      " [13 14]\n",
      " [15 16]]\n",
      "\n",
      "\n",
      "[[ 2  4]\n",
      " [ 6  8]\n",
      " [10 12]]\n"
     ]
    }
   ],
   "source": [
    "import numpy as np\n",
    "np_mat = np.array([[1, 2],\n",
    "                   [3, 4],\n",
    "                   [5, 6]])\n",
    "print(np_mat * 2)\n",
    "print(\"\\n\")\n",
    "print(np_mat + np.array([10, 10]))\n",
    "print(\"\\n\")\n",
    "print(np_mat + np_mat)"
   ]
  },
  {
   "cell_type": "markdown",
   "metadata": {},
   "source": [
    "Chú ý đối với phép cộng thứ 2, đối tượng được cộng vào `np_mat` chỉ là mảng 1 chiều có 2 phần tử. Khi đó, từng hàng của mảng `np_mat` sẽ được cộng với mảng `[10, 10]` để ra kết quả của phép tính.\n",
    "\n",
    "**Bài tập:** Cho danh sách `baseball` có 3 cột biểu thị chiều cao, cân nặng và tuổi của các cầu thủ bóng rổ. Mảng `update` là các thay đổi sau 1 năm của các cầu thủ. Hãy tính và in ra chỉ số mới của các cầu thủ.\n",
    "\n",
    "Bây giờ, ta sẽ chuyển đổi các chỉ số chiều cao và cân nặng sang đơn vị mét và kilogram bằng các bước sau:\n",
    "- tạo ra mảng conversion có 3 phần tử: `0.0254`, `0.453592` và `1`\n",
    "- thực hiện phép nhân số học giữa `np_baseball` và `conversion` rồi in ra kết quả\n",
    "\n",
    "*Lưu ý:* đây là phép nhân số học giữa 2 mảng `numpy`, không phải phép nhân ma trận thông thường."
   ]
  },
  {
   "cell_type": "code",
   "execution_count": 124,
   "metadata": {},
   "outputs": [
    {
     "name": "stdout",
     "output_type": "stream",
     "text": [
      "[[ 75.2303559  168.837751    23.99      ]\n",
      " [ 75.02614252 231.0973231   35.69      ]\n",
      " [ 73.1544228  215.08167641  31.78      ]\n",
      " ...\n",
      " [ 76.09349925 209.23890778  26.19      ]\n",
      " [ 75.82285669 172.2179997   32.01      ]\n",
      " [ 73.99484223 203.14402711  28.92      ]]\n",
      "[[ 1.8796  81.64656 22.99   ]\n",
      " [ 1.8796  97.52228 34.69   ]\n",
      " [ 1.8288  95.25432 30.78   ]\n",
      " ...\n",
      " [ 1.905   92.98636 25.19   ]\n",
      " [ 1.905   86.18248 31.01   ]\n",
      " [ 1.8542  88.45044 27.92   ]]\n"
     ]
    }
   ],
   "source": [
    "# import numpy\n",
    "import numpy as np\n",
    "\n",
    "# khởi tạo\n",
    "baseball = [[74.0, 180.0, 22.99], [74.0, 215.0, 34.69], [72.0, 210.0, 30.78], [72.0, 210.0, 35.43], [73.0, 188.0, 35.71], [69.0, 176.0, 29.39], [69.0, 209.0, 30.77], [71.0, 200.0, 35.07], [76.0, 231.0, 30.19], [71.0, 180.0, 27.05], [73.0, 188.0, 23.88], [73.0, 180.0, 26.96], [74.0, 185.0, 23.29], [74.0, 160.0, 26.11], [69.0, 180.0, 27.55], [70.0, 185.0, 34.27], [73.0, 189.0, 27.99], [75.0, 185.0, 22.38], [78.0, 219.0, 22.89], [79.0, 230.0, 25.76], [76.0, 205.0, 36.33], [74.0, 230.0, 31.17], [76.0, 195.0, 32.31], [72.0, 180.0, 31.03], [71.0, 192.0, 29.26], [75.0, 225.0, 29.47], [77.0, 203.0, 32.46], [74.0, 195.0, 35.67], [73.0, 182.0, 25.89], [74.0, 188.0, 26.55], [78.0, 200.0, 24.17], [73.0, 180.0, 26.69], [75.0, 200.0, 25.13], [73.0, 200.0, 27.9], [75.0, 245.0, 30.17], [75.0, 240.0, 31.36], [74.0, 215.0, 30.99], [69.0, 185.0, 32.24], [71.0, 175.0, 27.61], [74.0, 199.0, 28.2], [73.0, 200.0, 28.85], [73.0, 215.0, 24.21], [76.0, 200.0, 22.02], [74.0, 205.0, 24.97], [74.0, 206.0, 26.78], [70.0, 186.0, 32.51], [72.0, 188.0, 30.95], [77.0, 220.0, 33.09], [74.0, 210.0, 32.74], [70.0, 195.0, 30.69], [73.0, 200.0, 23.45], [75.0, 200.0, 24.94], [76.0, 212.0, 24.09], [76.0, 224.0, 35.23], [78.0, 210.0, 27.43], [74.0, 205.0, 30.6], [74.0, 220.0, 27.94], [76.0, 195.0, 29.99], [77.0, 200.0, 25.17], [81.0, 260.0, 24.13], [78.0, 228.0, 30.46], [75.0, 270.0, 25.96], [77.0, 200.0, 22.55], [75.0, 210.0, 26.29], [76.0, 190.0, 24.79], [74.0, 220.0, 31.74], [72.0, 180.0, 23.92], [72.0, 205.0, 25.33], [75.0, 210.0, 24.02], [73.0, 220.0, 23.7], [73.0, 211.0, 31.59], [73.0, 200.0, 29.95], [70.0, 180.0, 23.64], [70.0, 190.0, 32.33], [70.0, 170.0, 23.13], [76.0, 230.0, 26.6], [68.0, 155.0, 26.46], [71.0, 185.0, 25.75], [72.0, 185.0, 27.51], [75.0, 200.0, 25.11], [75.0, 225.0, 32.51], [75.0, 225.0, 34.67], [75.0, 220.0, 31.06], [68.0, 160.0, 29.1], [74.0, 205.0, 28.66], [78.0, 235.0, 28.35], [71.0, 250.0, 33.77], [73.0, 210.0, 30.89], [76.0, 190.0, 37.74], [74.0, 160.0, 24.14], [74.0, 200.0, 25.71], [79.0, 205.0, 24.41], [75.0, 222.0, 24.32], [73.0, 195.0, 28.09], [76.0, 205.0, 33.31], [74.0, 220.0, 36.4], [74.0, 220.0, 37.36], [73.0, 170.0, 31.61], [72.0, 185.0, 25.14], [74.0, 195.0, 30.29], [73.0, 220.0, 36.37], [74.0, 230.0, 34.89], [72.0, 180.0, 23.79], [73.0, 220.0, 27.96], [69.0, 180.0, 23.54], [72.0, 180.0, 31.37], [73.0, 170.0, 31.29], [75.0, 210.0, 33.01], [75.0, 215.0, 25.1], [73.0, 200.0, 31.28], [72.0, 213.0, 34.75], [72.0, 180.0, 23.46], [76.0, 192.0, 25.37], [74.0, 235.0, 29.57], [72.0, 185.0, 27.33], [77.0, 235.0, 40.29], [74.0, 210.0, 40.58], [77.0, 222.0, 26.79], [75.0, 210.0, 32.55], [76.0, 230.0, 26.27], [80.0, 220.0, 29.47], [74.0, 180.0, 29.07], [74.0, 190.0, 23.15], [75.0, 200.0, 24.9], [78.0, 210.0, 23.29], [73.0, 194.0, 31.18], [73.0, 180.0, 26.56], [74.0, 190.0, 25.03], [75.0, 240.0, 35.66], [76.0, 200.0, 29.64], [71.0, 198.0, 30.74], [73.0, 200.0, 28.43], [74.0, 195.0, 33.77], [76.0, 210.0, 40.97], [76.0, 220.0, 23.52], [74.0, 190.0, 28.19], [73.0, 210.0, 26.84], [74.0, 225.0, 26.16], [70.0, 180.0, 28.67], [72.0, 185.0, 24.2], [73.0, 170.0, 27.08], [73.0, 185.0, 24.76], [73.0, 185.0, 23.36], [73.0, 180.0, 25.35], [71.0, 178.0, 24.63], [74.0, 175.0, 24.02], [74.0, 200.0, 24.58], [72.0, 204.0, 30.82], [74.0, 211.0, 32.89], [71.0, 190.0, 33.33], [74.0, 210.0, 33.52], [73.0, 190.0, 36.24], [75.0, 190.0, 28.5], [75.0, 185.0, 29.42], [79.0, 290.0, 26.61], [73.0, 175.0, 23.79], [75.0, 185.0, 24.96], [76.0, 200.0, 25.93], [74.0, 220.0, 22.81], [76.0, 170.0, 25.29], [78.0, 220.0, 26.07], [74.0, 190.0, 26.09], [76.0, 220.0, 23.23], [72.0, 205.0, 33.49], [74.0, 200.0, 31.84], [76.0, 250.0, 42.3], [74.0, 225.0, 35.82], [75.0, 215.0, 35.27], [78.0, 210.0, 26.81], [75.0, 215.0, 38.49], [72.0, 195.0, 32.68], [74.0, 200.0, 34.93], [72.0, 194.0, 26.26], [74.0, 220.0, 27.56], [70.0, 180.0, 23.98], [71.0, 180.0, 29.73], [70.0, 170.0, 31.33], [75.0, 195.0, 27.13], [71.0, 180.0, 26.75], [71.0, 170.0, 27.09], [73.0, 206.0, 29.23], [72.0, 205.0, 28.88], [71.0, 200.0, 33.01], [73.0, 225.0, 30.57], [72.0, 201.0, 31.24], [75.0, 225.0, 24.95], [74.0, 233.0, 24.62], [74.0, 180.0, 24.98], [75.0, 225.0, 26.22], [73.0, 180.0, 26.04], [77.0, 220.0, 26.45], [73.0, 180.0, 25.25], [76.0, 237.0, 27.77], [75.0, 215.0, 35.16], [74.0, 190.0, 37.1], [76.0, 235.0, 34.51], [75.0, 190.0, 29.28], [73.0, 180.0, 32.14], [71.0, 165.0, 23.94], [76.0, 195.0, 27.45], [75.0, 200.0, 28.77], [72.0, 190.0, 23.58], [71.0, 190.0, 27.56], [77.0, 185.0, 24.01], [73.0, 185.0, 26.52], [74.0, 205.0, 35.54], [71.0, 190.0, 29.43], [72.0, 205.0, 29.9], [74.0, 206.0, 32.7], [75.0, 220.0, 28.8], [73.0, 208.0, 32.82], [72.0, 170.0, 24.36], [75.0, 195.0, 32.68], [75.0, 210.0, 31.59], [74.0, 190.0, 33.32], [72.0, 211.0, 32.97], [74.0, 230.0, 32.72], [71.0, 170.0, 22.55], [70.0, 185.0, 27.45], [74.0, 185.0, 38.23], [77.0, 241.0, 31.14], [77.0, 225.0, 34.71], [75.0, 210.0, 26.13], [75.0, 175.0, 24.43], [78.0, 230.0, 23.76], [75.0, 200.0, 26.92], [76.0, 215.0, 25.85], [73.0, 198.0, 30.16], [75.0, 226.0, 25.03], [75.0, 278.0, 24.21], [79.0, 215.0, 26.51], [77.0, 230.0, 26.36], [76.0, 240.0, 30.88], [71.0, 184.0, 32.57], [75.0, 219.0, 37.68], [74.0, 170.0, 37.25], [69.0, 218.0, 35.25], [71.0, 190.0, 33.95], [76.0, 225.0, 32.66], [72.0, 220.0, 26.68], [72.0, 176.0, 25.18], [70.0, 190.0, 31.39], [72.0, 197.0, 33.74], [73.0, 204.0, 31.42], [71.0, 167.0, 27.5], [72.0, 180.0, 24.25], [71.0, 195.0, 29.78], [73.0, 220.0, 30.0], [72.0, 215.0, 33.09], [73.0, 185.0, 25.96], [74.0, 190.0, 23.34], [74.0, 205.0, 29.98], [72.0, 205.0, 38.28], [75.0, 200.0, 24.97], [74.0, 210.0, 24.34], [74.0, 215.0, 29.49], [77.0, 200.0, 24.02], [75.0, 205.0, 24.73], [73.0, 211.0, 42.3], [72.0, 190.0, 29.54], [71.0, 208.0, 29.95], [74.0, 200.0, 29.24], [77.0, 210.0, 30.3], [75.0, 232.0, 40.77], [75.0, 230.0, 38.85], [75.0, 210.0, 22.31], [78.0, 220.0, 25.44], [78.0, 210.0, 21.78], [74.0, 202.0, 22.64], [76.0, 212.0, 26.11], [78.0, 225.0, 27.55], [76.0, 170.0, 24.63], [70.0, 190.0, 23.58], [72.0, 200.0, 30.73], [80.0, 237.0, 32.17], [74.0, 220.0, 30.43], [74.0, 170.0, 23.27], [71.0, 193.0, 32.51], [70.0, 190.0, 25.08], [72.0, 150.0, 22.41], [71.0, 220.0, 27.9], [74.0, 200.0, 34.74], [71.0, 190.0, 30.79], [72.0, 185.0, 25.71], [71.0, 185.0, 29.26], [74.0, 200.0, 21.58], [69.0, 172.0, 33.36], [76.0, 220.0, 24.94], [75.0, 225.0, 20.9], [75.0, 190.0, 21.52], [76.0, 195.0, 25.85], [73.0, 219.0, 27.27], [76.0, 190.0, 26.75], [73.0, 197.0, 36.03], [77.0, 200.0, 30.52], [73.0, 195.0, 32.55], [72.0, 210.0, 29.86], [72.0, 177.0, 29.58], [77.0, 220.0, 30.02], [77.0, 235.0, 29.16], [71.0, 180.0, 22.3], [74.0, 195.0, 22.06], [74.0, 195.0, 25.65], [73.0, 190.0, 25.49], [78.0, 230.0, 27.86], [75.0, 190.0, 23.73], [73.0, 200.0, 31.78], [70.0, 190.0, 23.06], [74.0, 190.0, 26.6], [72.0, 200.0, 29.39], [73.0, 200.0, 26.51], [73.0, 184.0, 25.08], [75.0, 200.0, 25.76], [75.0, 180.0, 22.52], [74.0, 219.0, 25.57], [76.0, 187.0, 25.43], [73.0, 200.0, 34.65], [74.0, 220.0, 22.68], [75.0, 205.0, 21.46], [75.0, 190.0, 23.47], [72.0, 170.0, 23.1], [73.0, 160.0, 29.14], [73.0, 215.0, 29.77], [72.0, 175.0, 23.85], [74.0, 205.0, 28.88], [78.0, 200.0, 24.49], [76.0, 214.0, 25.19], [73.0, 200.0, 27.48], [74.0, 190.0, 28.31], [75.0, 180.0, 26.54], [70.0, 205.0, 26.77], [75.0, 220.0, 23.75], [71.0, 190.0, 26.41], [72.0, 215.0, 36.47], [78.0, 235.0, 26.06], [75.0, 191.0, 27.55], [73.0, 200.0, 31.28], [73.0, 181.0, 29.04], [71.0, 200.0, 32.95], [75.0, 210.0, 26.65], [77.0, 240.0, 27.5], [72.0, 185.0, 30.9], [69.0, 165.0, 29.09], [73.0, 190.0, 36.67], [74.0, 185.0, 23.44], [72.0, 175.0, 29.09], [70.0, 155.0, 22.89], [75.0, 210.0, 25.48], [70.0, 170.0, 25.84], [72.0, 175.0, 27.2], [72.0, 220.0, 25.22], [74.0, 210.0, 24.67], [73.0, 205.0, 39.25], [74.0, 200.0, 32.17], [76.0, 205.0, 32.77], [75.0, 195.0, 29.83], [80.0, 240.0, 31.02], [72.0, 150.0, 29.73], [75.0, 200.0, 28.48], [73.0, 215.0, 26.51], [74.0, 202.0, 26.0], [74.0, 200.0, 23.36], [73.0, 190.0, 25.9], [75.0, 205.0, 28.5], [75.0, 190.0, 25.62], [71.0, 160.0, 30.94], [73.0, 215.0, 26.59], [75.0, 185.0, 22.78], [74.0, 200.0, 32.26], [74.0, 190.0, 30.35], [72.0, 210.0, 33.26], [74.0, 185.0, 32.35], [74.0, 220.0, 27.3], [74.0, 190.0, 32.08], [73.0, 202.0, 25.25], [76.0, 205.0, 25.03], [75.0, 220.0, 26.89], [72.0, 175.0, 24.69], [73.0, 160.0, 22.44], [73.0, 190.0, 30.36], [73.0, 200.0, 26.27], [72.0, 229.0, 29.5], [72.0, 206.0, 29.75], [72.0, 220.0, 38.3], [72.0, 180.0, 39.75], [71.0, 195.0, 32.84], [75.0, 175.0, 26.66], [75.0, 188.0, 24.94], [74.0, 230.0, 27.76], [73.0, 190.0, 23.66], [75.0, 200.0, 24.96], [79.0, 190.0, 23.65], [74.0, 219.0, 29.42], [76.0, 235.0, 32.18], [73.0, 180.0, 26.66], [74.0, 180.0, 27.47], [74.0, 180.0, 25.66], [72.0, 200.0, 35.13], [74.0, 234.0, 31.15], [74.0, 185.0, 35.67], [75.0, 220.0, 29.6], [78.0, 223.0, 30.14], [74.0, 200.0, 24.53], [74.0, 210.0, 24.49], [74.0, 200.0, 26.28], [77.0, 210.0, 24.06], [70.0, 190.0, 35.88], [73.0, 177.0, 30.42], [74.0, 227.0, 30.09], [73.0, 180.0, 26.5], [71.0, 195.0, 24.94], [75.0, 199.0, 29.6], [71.0, 175.0, 32.43], [72.0, 185.0, 37.16], [77.0, 240.0, 30.57], [74.0, 210.0, 27.01], [70.0, 180.0, 30.23], [77.0, 194.0, 26.03], [73.0, 225.0, 28.23], [72.0, 180.0, 25.21], [76.0, 205.0, 25.45], [71.0, 193.0, 26.24], [76.0, 230.0, 30.15], [78.0, 230.0, 29.8], [75.0, 220.0, 33.41], [73.0, 200.0, 30.95], [78.0, 249.0, 31.17], [74.0, 190.0, 30.95], [79.0, 208.0, 29.44], [75.0, 245.0, 27.14], [76.0, 250.0, 26.21], [72.0, 160.0, 24.08], [75.0, 192.0, 23.96], [75.0, 220.0, 24.94], [70.0, 170.0, 29.56], [72.0, 197.0, 26.42], [70.0, 155.0, 23.92], [74.0, 190.0, 25.23], [71.0, 200.0, 35.82], [76.0, 220.0, 23.87], [73.0, 210.0, 32.57], [76.0, 228.0, 25.79], [71.0, 190.0, 31.47], [69.0, 160.0, 22.61], [72.0, 184.0, 24.85], [72.0, 180.0, 27.33], [69.0, 180.0, 26.67], [73.0, 200.0, 37.43], [69.0, 176.0, 29.31], [73.0, 160.0, 29.85], [74.0, 222.0, 27.93], [74.0, 211.0, 31.62], [72.0, 195.0, 30.55], [71.0, 200.0, 24.77], [72.0, 175.0, 33.77], [72.0, 206.0, 27.97], [76.0, 240.0, 27.85], [76.0, 185.0, 23.26], [76.0, 260.0, 25.38], [74.0, 185.0, 23.35], [76.0, 221.0, 25.45], [75.0, 205.0, 26.49], [71.0, 200.0, 24.0], [72.0, 170.0, 24.16], [71.0, 201.0, 28.1], [73.0, 205.0, 25.65], [75.0, 185.0, 28.58], [76.0, 205.0, 32.27], [75.0, 245.0, 29.86], [71.0, 220.0, 25.14], [75.0, 210.0, 23.03], [74.0, 220.0, 30.25], [72.0, 185.0, 30.67], [73.0, 175.0, 27.73], [73.0, 170.0, 23.34], [73.0, 180.0, 25.94], [73.0, 200.0, 31.56], [76.0, 210.0, 34.85], [72.0, 175.0, 23.98], [76.0, 220.0, 23.14], [73.0, 206.0, 28.99], [73.0, 180.0, 25.02], [73.0, 210.0, 29.85], [75.0, 195.0, 27.03], [75.0, 200.0, 25.15], [77.0, 200.0, 27.12], [73.0, 164.0, 31.63], [72.0, 180.0, 32.62], [75.0, 220.0, 39.79], [70.0, 195.0, 34.47], [74.0, 205.0, 23.47], [72.0, 170.0, 25.31], [80.0, 240.0, 27.1], [71.0, 210.0, 24.35], [71.0, 195.0, 23.45], [74.0, 200.0, 28.24], [74.0, 205.0, 28.77], [73.0, 192.0, 26.53], [75.0, 190.0, 25.64], [76.0, 170.0, 25.83], [73.0, 240.0, 38.06], [77.0, 200.0, 36.38], [72.0, 205.0, 25.27], [73.0, 175.0, 27.2], [77.0, 250.0, 31.59], [76.0, 220.0, 29.56], [71.0, 224.0, 35.5], [75.0, 210.0, 30.35], [73.0, 195.0, 24.11], [74.0, 180.0, 23.29], [77.0, 245.0, 31.48], [71.0, 175.0, 27.23], [72.0, 180.0, 24.07], [73.0, 215.0, 28.68], [69.0, 175.0, 27.05], [73.0, 180.0, 31.15], [70.0, 195.0, 31.85], [74.0, 230.0, 31.68], [76.0, 230.0, 34.23], [73.0, 205.0, 32.01], [73.0, 215.0, 25.41], [75.0, 195.0, 24.73], [73.0, 180.0, 25.66], [79.0, 205.0, 24.5], [74.0, 180.0, 24.38], [73.0, 190.0, 26.89], [74.0, 180.0, 24.2], [77.0, 190.0, 26.97], [75.0, 190.0, 25.21], [74.0, 220.0, 30.46], [73.0, 210.0, 28.53], [77.0, 255.0, 25.75], [73.0, 190.0, 31.15], [77.0, 230.0, 26.48], [74.0, 200.0, 26.93], [74.0, 205.0, 29.55], [73.0, 210.0, 34.75], [77.0, 225.0, 29.71], [74.0, 215.0, 29.83], [77.0, 220.0, 33.57], [75.0, 205.0, 28.21], [77.0, 200.0, 27.54], [75.0, 220.0, 26.05], [71.0, 197.0, 23.64], [74.0, 225.0, 24.82], [70.0, 187.0, 29.8], [79.0, 245.0, 34.71], [72.0, 185.0, 29.22], [72.0, 185.0, 23.96], [70.0, 175.0, 23.87], [74.0, 200.0, 26.77], [74.0, 180.0, 23.49], [72.0, 188.0, 26.77], [73.0, 225.0, 24.51], [72.0, 200.0, 33.23], [74.0, 210.0, 31.04], [74.0, 245.0, 32.02], [76.0, 213.0, 31.44], [82.0, 231.0, 43.47], [74.0, 165.0, 28.38], [74.0, 228.0, 27.81], [70.0, 210.0, 24.57], [73.0, 250.0, 23.34], [73.0, 191.0, 27.09], [74.0, 190.0, 25.14], [77.0, 200.0, 27.07], [72.0, 215.0, 24.02], [76.0, 254.0, 27.6], [73.0, 232.0, 27.99], [73.0, 180.0, 27.56], [72.0, 215.0, 28.63], [74.0, 220.0, 30.99], [74.0, 180.0, 26.33], [71.0, 200.0, 26.97], [72.0, 170.0, 22.85], [75.0, 195.0, 23.19], [74.0, 210.0, 23.87], [74.0, 200.0, 33.98], [77.0, 220.0, 28.26], [70.0, 165.0, 29.12], [71.0, 180.0, 26.18], [73.0, 200.0, 28.03], [76.0, 200.0, 23.08], [71.0, 170.0, 26.24], [75.0, 224.0, 26.63], [74.0, 220.0, 24.21], [72.0, 180.0, 23.01], [76.0, 198.0, 23.13], [79.0, 240.0, 23.08], [76.0, 239.0, 25.13], [73.0, 185.0, 24.66], [76.0, 210.0, 26.03], [78.0, 220.0, 28.7], [75.0, 200.0, 25.57], [76.0, 195.0, 24.65], [72.0, 220.0, 25.55], [72.0, 230.0, 22.27], [73.0, 170.0, 24.76], [73.0, 220.0, 23.98], [75.0, 230.0, 27.85], [71.0, 165.0, 22.14], [76.0, 205.0, 27.05], [70.0, 192.0, 31.45], [75.0, 210.0, 32.03], [74.0, 205.0, 29.95], [75.0, 200.0, 23.47], [73.0, 210.0, 37.21], [71.0, 185.0, 25.67], [71.0, 195.0, 34.69], [72.0, 202.0, 30.04], [73.0, 205.0, 32.52], [73.0, 195.0, 24.15], [72.0, 180.0, 26.86], [69.0, 200.0, 27.94], [73.0, 185.0, 26.63], [78.0, 240.0, 27.31], [71.0, 185.0, 30.55], [73.0, 220.0, 40.68], [75.0, 205.0, 37.27], [76.0, 205.0, 25.78], [70.0, 180.0, 30.98], [74.0, 201.0, 28.41], [77.0, 190.0, 30.01], [75.0, 208.0, 31.57], [79.0, 240.0, 28.81], [72.0, 180.0, 24.09], [77.0, 230.0, 26.47], [73.0, 195.0, 30.5], [75.0, 215.0, 23.74], [75.0, 190.0, 24.49], [75.0, 195.0, 26.73], [73.0, 215.0, 27.01], [73.0, 215.0, 39.75], [76.0, 220.0, 27.16], [77.0, 220.0, 25.74], [75.0, 230.0, 37.43], [70.0, 195.0, 39.85], [71.0, 190.0, 28.62], [71.0, 195.0, 23.9], [75.0, 209.0, 25.18], [74.0, 204.0, 33.53], [69.0, 170.0, 33.03], [70.0, 185.0, 31.35], [75.0, 205.0, 22.39], [72.0, 175.0, 27.99], [75.0, 210.0, 27.22], [73.0, 190.0, 27.49], [72.0, 180.0, 27.53], [72.0, 180.0, 26.26], [72.0, 160.0, 25.18], [76.0, 235.0, 27.12], [75.0, 200.0, 27.69], [74.0, 210.0, 25.69], [69.0, 180.0, 28.11], [73.0, 190.0, 31.21], [72.0, 197.0, 30.8], [72.0, 203.0, 30.21], [75.0, 205.0, 28.06], [77.0, 170.0, 26.52], [76.0, 200.0, 23.1], [80.0, 250.0, 25.02], [77.0, 200.0, 26.14], [76.0, 220.0, 25.38], [79.0, 200.0, 27.6], [71.0, 190.0, 25.5], [75.0, 170.0, 24.24], [73.0, 190.0, 23.32], [76.0, 220.0, 31.56], [77.0, 215.0, 34.19], [73.0, 206.0, 36.78], [76.0, 215.0, 27.73], [70.0, 185.0, 34.88], [75.0, 235.0, 31.0], [73.0, 188.0, 48.52], [75.0, 230.0, 34.68], [70.0, 195.0, 37.38], [69.0, 168.0, 24.33], [71.0, 190.0, 37.3], [72.0, 160.0, 23.72], [72.0, 200.0, 24.19], [73.0, 200.0, 25.7], [70.0, 189.0, 29.06], [70.0, 180.0, 33.48], [73.0, 190.0, 29.85], [76.0, 200.0, 34.3], [75.0, 220.0, 40.66], [72.0, 187.0, 21.9], [73.0, 240.0, 27.39], [79.0, 190.0, 23.13], [71.0, 180.0, 35.35], [72.0, 185.0, 40.93], [74.0, 210.0, 33.67], [74.0, 220.0, 37.39], [74.0, 219.0, 27.97], [72.0, 190.0, 25.54], [76.0, 193.0, 25.81], [76.0, 175.0, 22.53], [72.0, 180.0, 22.86], [72.0, 215.0, 24.07], [71.0, 210.0, 29.5], [72.0, 200.0, 30.03], [72.0, 190.0, 27.38], [70.0, 185.0, 30.51], [77.0, 220.0, 28.3], [74.0, 170.0, 29.84], [72.0, 195.0, 33.41], [76.0, 205.0, 33.6], [71.0, 195.0, 35.6], [76.0, 210.0, 24.19], [71.0, 190.0, 37.88], [73.0, 190.0, 27.56], [70.0, 180.0, 24.42], [73.0, 220.0, 31.05], [73.0, 190.0, 31.56], [72.0, 186.0, 35.55], [71.0, 185.0, 41.21], [71.0, 190.0, 27.12], [71.0, 180.0, 26.97], [72.0, 190.0, 28.92], [72.0, 170.0, 30.06], [74.0, 210.0, 31.51], [74.0, 240.0, 30.69], [74.0, 220.0, 30.19], [71.0, 180.0, 38.11], [72.0, 210.0, 28.68], [75.0, 210.0, 27.44], [72.0, 195.0, 24.63], [71.0, 160.0, 28.11], [72.0, 180.0, 28.9], [72.0, 205.0, 24.11], [72.0, 200.0, 40.53], [72.0, 185.0, 29.5], [74.0, 245.0, 28.62], [74.0, 190.0, 26.42], [77.0, 210.0, 30.18], [75.0, 200.0, 33.75], [73.0, 200.0, 30.06], [75.0, 222.0, 29.22], [73.0, 215.0, 24.47], [76.0, 240.0, 24.94], [72.0, 170.0, 28.77], [77.0, 220.0, 28.54], [75.0, 156.0, 27.32], [72.0, 190.0, 35.12], [71.0, 202.0, 24.04], [71.0, 221.0, 36.39], [75.0, 200.0, 22.81], [72.0, 190.0, 33.6], [73.0, 210.0, 38.98], [73.0, 190.0, 34.39], [71.0, 200.0, 33.15], [70.0, 165.0, 29.35], [75.0, 190.0, 26.59], [71.0, 185.0, 23.46], [76.0, 230.0, 22.43], [73.0, 208.0, 24.89], [68.0, 209.0, 24.67], [71.0, 175.0, 26.17], [72.0, 180.0, 29.54], [74.0, 200.0, 39.49], [77.0, 205.0, 34.08], [72.0, 200.0, 30.52], [76.0, 250.0, 28.77], [78.0, 210.0, 33.75], [81.0, 230.0, 32.69], [72.0, 244.0, 22.59], [73.0, 202.0, 37.04], [76.0, 240.0, 22.7], [72.0, 200.0, 25.6], [72.0, 215.0, 27.23], [74.0, 177.0, 25.74], [76.0, 210.0, 30.29], [73.0, 170.0, 26.72], [76.0, 215.0, 33.9], [75.0, 217.0, 29.86], [70.0, 198.0, 36.13], [71.0, 200.0, 27.54], [74.0, 220.0, 31.49], [72.0, 170.0, 28.1], [73.0, 200.0, 34.07], [76.0, 230.0, 27.28], [76.0, 231.0, 30.8], [73.0, 183.0, 28.2], [71.0, 192.0, 27.9], [68.0, 167.0, 28.26], [71.0, 190.0, 30.96], [71.0, 180.0, 24.18], [74.0, 180.0, 27.52], [77.0, 215.0, 27.78], [69.0, 160.0, 26.25], [72.0, 205.0, 29.5], [76.0, 223.0, 30.39], [75.0, 175.0, 23.18], [76.0, 170.0, 25.81], [75.0, 190.0, 23.01], [76.0, 240.0, 31.72], [72.0, 175.0, 44.28], [74.0, 230.0, 36.91], [76.0, 223.0, 26.54], [74.0, 196.0, 29.27], [72.0, 167.0, 30.51], [75.0, 195.0, 31.28], [78.0, 190.0, 26.51], [77.0, 250.0, 34.87], [70.0, 190.0, 39.28], [72.0, 190.0, 28.56], [79.0, 190.0, 27.82], [74.0, 170.0, 25.94], [71.0, 160.0, 28.53], [68.0, 150.0, 22.11], [77.0, 225.0, 27.71], [75.0, 220.0, 37.38], [71.0, 209.0, 30.67], [72.0, 210.0, 30.48], [70.0, 176.0, 27.12], [72.0, 260.0, 22.81], [72.0, 195.0, 24.46], [73.0, 190.0, 34.73], [72.0, 184.0, 36.53], [74.0, 180.0, 24.53], [72.0, 195.0, 27.17], [72.0, 195.0, 26.9], [75.0, 219.0, 33.67], [72.0, 225.0, 29.14], [73.0, 212.0, 32.61], [74.0, 202.0, 33.87], [72.0, 185.0, 24.41], [78.0, 200.0, 24.94], [75.0, 209.0, 27.36], [72.0, 200.0, 26.33], [74.0, 195.0, 25.72], [75.0, 228.0, 28.7], [75.0, 210.0, 28.53], [76.0, 190.0, 26.07], [74.0, 212.0, 27.31], [74.0, 190.0, 23.26], [73.0, 218.0, 28.62], [74.0, 220.0, 32.16], [71.0, 190.0, 38.43], [74.0, 235.0, 31.81], [75.0, 210.0, 29.1], [76.0, 200.0, 31.28], [74.0, 188.0, 29.17], [76.0, 210.0, 25.89], [76.0, 235.0, 26.13], [73.0, 188.0, 29.13], [75.0, 215.0, 28.92], [75.0, 216.0, 26.01], [74.0, 220.0, 24.81], [68.0, 180.0, 28.79], [72.0, 185.0, 33.77], [75.0, 200.0, 33.85], [71.0, 210.0, 27.36], [70.0, 220.0, 26.01], [72.0, 185.0, 29.95], [73.0, 231.0, 28.12], [72.0, 210.0, 32.87], [75.0, 195.0, 31.2], [74.0, 200.0, 34.14], [70.0, 205.0, 36.11], [76.0, 200.0, 26.31], [71.0, 190.0, 27.5], [82.0, 250.0, 27.77], [72.0, 185.0, 40.88], [73.0, 180.0, 25.75], [74.0, 170.0, 31.41], [71.0, 180.0, 30.84], [75.0, 208.0, 30.57], [77.0, 235.0, 39.79], [72.0, 215.0, 39.38], [74.0, 244.0, 29.42], [72.0, 220.0, 26.19], [73.0, 185.0, 23.74], [78.0, 230.0, 26.03], [77.0, 190.0, 28.59], [73.0, 200.0, 26.77], [73.0, 180.0, 27.21], [73.0, 190.0, 24.87], [73.0, 196.0, 30.26], [73.0, 180.0, 22.34], [76.0, 230.0, 26.2], [75.0, 224.0, 28.45], [70.0, 160.0, 27.63], [73.0, 178.0, 25.93], [72.0, 205.0, 28.94], [73.0, 185.0, 26.8], [75.0, 210.0, 22.42], [74.0, 180.0, 27.26], [73.0, 190.0, 28.38], [73.0, 200.0, 25.23], [76.0, 257.0, 28.16], [73.0, 190.0, 28.48], [75.0, 220.0, 26.78], [70.0, 165.0, 25.24], [77.0, 205.0, 27.45], [72.0, 200.0, 29.05], [77.0, 208.0, 29.08], [74.0, 185.0, 25.84], [75.0, 215.0, 25.4], [75.0, 170.0, 26.54], [75.0, 235.0, 22.73], [75.0, 210.0, 28.53], [72.0, 170.0, 25.37], [74.0, 180.0, 25.35], [71.0, 170.0, 26.43], [76.0, 190.0, 25.43], [71.0, 150.0, 29.23], [75.0, 230.0, 30.22], [76.0, 203.0, 32.3], [83.0, 260.0, 28.42], [75.0, 246.0, 25.24], [74.0, 186.0, 29.13], [76.0, 210.0, 24.63], [72.0, 198.0, 24.95], [72.0, 210.0, 28.06], [75.0, 215.0, 25.86], [75.0, 180.0, 27.32], [72.0, 200.0, 25.91], [77.0, 245.0, 26.63], [73.0, 200.0, 25.95], [72.0, 192.0, 29.17], [70.0, 192.0, 29.19], [74.0, 200.0, 28.44], [72.0, 192.0, 26.36], [74.0, 205.0, 28.29], [72.0, 190.0, 29.45], [71.0, 186.0, 25.34], [70.0, 170.0, 26.86], [71.0, 197.0, 26.36], [76.0, 219.0, 27.39], [74.0, 200.0, 25.84], [76.0, 220.0, 25.08], [74.0, 207.0, 23.87], [74.0, 225.0, 24.68], [74.0, 207.0, 24.64], [75.0, 212.0, 29.19], [75.0, 225.0, 28.84], [71.0, 170.0, 25.33], [71.0, 190.0, 24.45], [74.0, 210.0, 28.32], [77.0, 230.0, 32.34], [71.0, 210.0, 34.97], [74.0, 200.0, 32.04], [75.0, 238.0, 23.49], [77.0, 234.0, 26.09], [76.0, 222.0, 26.41], [74.0, 200.0, 26.55], [76.0, 190.0, 24.62], [72.0, 170.0, 28.49], [71.0, 220.0, 32.61], [72.0, 223.0, 28.06], [75.0, 210.0, 28.08], [73.0, 215.0, 37.34], [68.0, 196.0, 35.25], [72.0, 175.0, 24.77], [69.0, 175.0, 39.85], [73.0, 189.0, 35.49], [73.0, 205.0, 31.84], [75.0, 210.0, 26.67], [70.0, 180.0, 34.75], [70.0, 180.0, 28.91], [74.0, 197.0, 32.73], [75.0, 220.0, 35.72], [74.0, 228.0, 42.6], [74.0, 190.0, 26.22], [73.0, 204.0, 21.85], [74.0, 165.0, 24.28], [75.0, 216.0, 22.41], [77.0, 220.0, 32.56], [73.0, 208.0, 32.74], [74.0, 210.0, 26.39], [76.0, 215.0, 28.8], [74.0, 195.0, 28.2], [75.0, 200.0, 26.52], [73.0, 215.0, 34.52], [76.0, 229.0, 34.32], [78.0, 240.0, 26.98], [75.0, 207.0, 28.86], [73.0, 205.0, 24.96], [77.0, 208.0, 25.3], [74.0, 185.0, 27.06], [72.0, 190.0, 25.44], [74.0, 170.0, 25.53], [72.0, 208.0, 34.87], [71.0, 225.0, 24.63], [73.0, 190.0, 27.99], [75.0, 225.0, 27.12], [73.0, 185.0, 31.14], [67.0, 180.0, 30.21], [67.0, 165.0, 32.11], [76.0, 240.0, 31.91], [74.0, 220.0, 34.44], [73.0, 212.0, 36.68], [70.0, 163.0, 37.66], [75.0, 215.0, 30.98], [70.0, 175.0, 27.07], [72.0, 205.0, 29.11], [77.0, 210.0, 25.82], [79.0, 205.0, 25.5], [78.0, 208.0, 29.57], [74.0, 215.0, 25.37], [75.0, 180.0, 33.99], [75.0, 200.0, 29.86], [78.0, 230.0, 31.84], [76.0, 211.0, 38.31], [75.0, 230.0, 34.48], [69.0, 190.0, 36.88], [75.0, 220.0, 32.34], [72.0, 180.0, 31.58], [75.0, 205.0, 28.89], [73.0, 190.0, 25.08], [74.0, 180.0, 25.73], [75.0, 205.0, 25.19], [75.0, 190.0, 31.01], [73.0, 195.0, 27.92]]\n",
    "update = np.array([[1.23035590e+00, -1.11622490e+01,  1.00000000e+00],  [1.02614252e+00,  1.60973231e+01,  1.00000000e+00],  [1.15442280e+00,  5.08167641e+00,  1.00000000e+00],  [6.44275321e-01, -5.09538071e+00,  1.00000000e+00],  [1.00590086e+00,  2.24342718e+00,  1.00000000e+00],  [9.79535475e-01,  1.21984176e+01,  1.00000000e+00],  [6.28743238e-01,  1.37232422e+01,  1.00000000e+00],  [1.27075194e+00, -8.87946313e+00,  1.00000000e+00],  [4.76559454e-01, -1.08249554e+01,  1.00000000e+00],  [9.16993762e-01, -7.01116249e+00,  1.00000000e+00],  [1.17179326e+00,  1.19946614e+00,  1.00000000e+00],  [1.14509104e+00, -1.20038568e+01,  1.00000000e+00],  [1.20684945e+00, -1.32983065e+01,  1.00000000e+00],  [1.03436155e+00,  3.01324251e+00,  1.00000000e+00],  [8.77474537e-01,  1.05177950e+01,  1.00000000e+00],  [9.81330796e-01, -1.55666485e+00,  1.00000000e+00],  [1.03051228e+00,  4.47971582e+00,  1.00000000e+00],  [1.21042271e+00, -1.90450274e+01,  1.00000000e+00],  [1.34612414e+00,  6.74418894e+00,  1.00000000e+00],  [9.75447264e-01,  7.27211497e+00,  1.00000000e+00],  [8.47118513e-01,  2.28271492e-02,  1.00000000e+00],  [8.26148637e-01,  4.64024712e+00,  1.00000000e+00],  [5.53648712e-01, -2.94317618e+00,  1.00000000e+00],  [7.55670499e-01,  1.11495499e+01,  1.00000000e+00],  [9.85196660e-01, -2.56945239e+01,  1.00000000e+00],  [8.62126373e-01,  2.01882766e+00,  1.00000000e+00],  [7.19775782e-01,  1.48238842e+01,  1.00000000e+00],  [8.44751158e-01,  5.92416221e+00,  1.00000000e+00],  [9.91904732e-01, -9.42474862e+00,  1.00000000e+00],  [1.04509915e+00, -1.28390028e+01,  1.00000000e+00],  [1.01190093e+00, -6.61469619e+00,  1.00000000e+00],  [7.44336986e-01, -1.41233042e+01,  1.00000000e+00],  [8.53119610e-01,  4.59921617e+00,  1.00000000e+00],  [7.59425518e-01,  8.02401300e+00,  1.00000000e+00],  [5.87570351e-01,  1.12257852e+01,  1.00000000e+00],  [1.24227730e+00,  7.85257416e+00,  1.00000000e+00],  [9.82614944e-01,  6.34371387e+00,  1.00000000e+00],  [1.01614715e+00,  5.40345796e+00,  1.00000000e+00],  [1.18089923e+00, -1.46176192e-01,  1.00000000e+00],  [1.17378685e+00,  2.17293935e+01,  1.00000000e+00],  [1.21762004e+00, -5.59877709e+00,  1.00000000e+00],  [1.33124703e+00,  9.74917744e-01,  1.00000000e+00],  [9.58079791e-01, -1.79901724e+01,  1.00000000e+00],  [9.74026483e-01,  3.14487561e+00,  1.00000000e+00],  [1.06126875e+00,  8.32652888e+00,  1.00000000e+00],  [8.47865074e-01,  7.83194047e+00,  1.00000000e+00],  [9.42908091e-01, -1.18734385e+01,  1.00000000e+00],  [7.76138097e-01, -9.22310373e+00,  1.00000000e+00],  [7.68684276e-01, -4.21309427e+00,  1.00000000e+00],  [7.85187650e-01, -1.68954696e+01,  1.00000000e+00],  [9.15848886e-01, -5.96619357e+00,  1.00000000e+00],  [9.84531183e-01, -1.46762139e+01,  1.00000000e+00],  [1.10626605e+00,  3.45103902e+00,  1.00000000e+00],  [8.53100164e-01,  5.69577055e-01,  1.00000000e+00],  [1.12869803e+00, -3.96011563e+00,  1.00000000e+00],  [9.28513292e-01, -1.23132496e+00,  1.00000000e+00],  [1.07512017e+00,  1.72924292e+01,  1.00000000e+00],  [7.35910830e-01,  1.77271806e+01,  1.00000000e+00],  [9.81241889e-01, -7.83222849e+00,  1.00000000e+00],  [1.22849824e+00, -2.41199106e+00,  1.00000000e+00],  [9.68632665e-01, -5.49584278e+00,  1.00000000e+00],  [8.22116396e-01, -2.02656475e+01,  1.00000000e+00],  [1.35300136e+00, -7.89083698e+00,  1.00000000e+00],  [1.27588359e+00, -4.07022942e+00,  1.00000000e+00],  [1.12014611e+00, -5.25433720e+00,  1.00000000e+00],  [1.20086535e+00, -4.35920475e+00,  1.00000000e+00],  [1.01474253e+00,  1.07527743e+01,  1.00000000e+00],  [1.30559742e+00,  2.01574420e+00,  1.00000000e+00],  [1.11458670e+00,  9.13482984e+00,  1.00000000e+00],  [9.83138560e-01,  1.13273019e+00,  1.00000000e+00],  [1.28281453e+00, -1.77704107e+01,  1.00000000e+00],  [7.80627425e-01, -1.26665317e+01,  1.00000000e+00],  [1.24417229e+00,  6.09616799e+00,  1.00000000e+00],  [9.02237548e-01, -1.43521786e+01,  1.00000000e+00],  [1.00096375e+00, -1.21000577e+01,  1.00000000e+00],  [1.37301747e+00, -1.15534412e+01,  1.00000000e+00],  [1.23565502e+00, -4.91764512e+00,  1.00000000e+00],  [1.36885262e+00,  2.24273925e-01,  1.00000000e+00],  [8.04011455e-01, -4.68100488e+00,  1.00000000e+00],  [8.99834673e-01, -1.54869364e+01,  1.00000000e+00],  [7.81903076e-01,  2.59105269e+00,  1.00000000e+00],  [1.04114399e+00,  2.64632863e+00,  1.00000000e+00],  [1.29785513e+00,  8.92850440e-01,  1.00000000e+00],  [1.07116337e+00,  1.34762494e+00,  1.00000000e+00],  [1.13793746e+00,  6.38742629e+00,  1.00000000e+00],  [1.21981376e+00,  1.52186430e+01,  1.00000000e+00],  [9.06611798e-01,  1.41982744e+01,  1.00000000e+00],  [1.16829089e+00,  1.73070332e+01,  1.00000000e+00],  [1.10037453e+00,  3.96675508e+00,  1.00000000e+00],  [1.15409938e+00,  9.59207164e+00,  1.00000000e+00],  [1.30192549e+00,  1.32382588e+01,  1.00000000e+00],  [7.50917082e-01, -7.44871258e+00,  1.00000000e+00],  [8.62049287e-01, -1.06911035e+00,  1.00000000e+00],  [1.57365214e+00,  7.24248138e-01,  1.00000000e+00],  [1.32624369e+00, -1.01004475e+01,  1.00000000e+00],  [1.26514287e+00,  7.93447934e+00,  1.00000000e+00],  [1.01105831e+00,  9.48770909e+00,  1.00000000e+00],  [8.55912489e-01, -5.69631504e+00,  1.00000000e+00],  [9.65513218e-01,  5.75500942e+00,  1.00000000e+00],  [1.16848557e+00, -9.01626266e+00,  1.00000000e+00],  [1.01293558e+00, -6.95968852e+00,  1.00000000e+00],  [7.63964809e-01, -4.18809722e+00,  1.00000000e+00],  [9.29891391e-01, -1.44010570e+01,  1.00000000e+00],  [1.18950323e+00, -2.62295720e+00,  1.00000000e+00],  [9.70249120e-01, -1.66534480e+01,  1.00000000e+00],  [9.89598009e-01, -7.11283119e+00,  1.00000000e+00],  [1.18648060e+00, -5.52771440e+00,  1.00000000e+00],  [1.01864209e+00, -8.08163260e+00,  1.00000000e+00],  [9.67307658e-01, -8.80011111e+00,  1.00000000e+00],  [1.28034779e+00,  3.85942772e+00,  1.00000000e+00],  [5.15423464e-01,  1.20508640e+00,  1.00000000e+00],  [1.03332146e+00, -4.97468670e+00,  1.00000000e+00],  [9.51165635e-01,  2.74427276e+00,  1.00000000e+00],  [8.09929412e-01, -2.14157409e+00,  1.00000000e+00],  [8.83008878e-01, -2.22054922e+01,  1.00000000e+00],  [1.10549185e+00, -1.29494823e+01,  1.00000000e+00],  [7.78641485e-01, -6.70594750e+00,  1.00000000e+00],  [9.17178328e-01,  6.83862615e-02,  1.00000000e+00],  [9.29118207e-01,  1.28526879e+01,  1.00000000e+00],  [9.70893714e-01, -1.22617037e+01,  1.00000000e+00],  [1.19649132e+00, -1.47529111e+00,  1.00000000e+00],  [1.16328581e+00, -1.04808629e+01,  1.00000000e+00],  [7.09738932e-01,  4.54818041e+00,  1.00000000e+00],  [8.90284399e-01, -2.03046159e-01,  1.00000000e+00],  [1.38702901e+00,  1.06814137e+01,  1.00000000e+00],  [1.08198633e+00,  3.68343478e+00,  1.00000000e+00],  [7.65635969e-01, -3.63954289e+00,  1.00000000e+00],  [1.22937497e+00, -1.28068163e+01,  1.00000000e+00],  [1.43298260e+00, -1.01949975e+00,  1.00000000e+00],  [1.01237228e+00,  2.73456147e+01,  1.00000000e+00],  [9.64115352e-01, -1.09861514e+01,  1.00000000e+00],  [1.00310698e+00,  2.19956942e+00,  1.00000000e+00],  [1.17226982e+00, -1.21592034e+01,  1.00000000e+00],  [1.09358637e+00,  9.79234201e+00,  1.00000000e+00],  [1.16036905e+00,  5.77730234e+00,  1.00000000e+00],  [9.06951986e-01, -1.04359480e+00,  1.00000000e+00],  [1.26638874e+00, -1.33911465e+01,  1.00000000e+00],  [1.04407613e+00, -9.63173441e-02,  1.00000000e+00],  [1.00529206e+00,  6.00578038e+00,  1.00000000e+00],  [8.50427980e-01,  7.87816608e+00,  1.00000000e+00],  [1.43911179e+00, -7.07929758e+00,  1.00000000e+00],  [1.17875604e+00, -1.93047833e+01,  1.00000000e+00],  [8.75633488e-01,  5.75314210e+00,  1.00000000e+00],  [1.06821690e+00, -1.29560196e+01,  1.00000000e+00],  [9.26089220e-01, -2.45039365e+00,  1.00000000e+00],  [1.10738229e+00,  8.77411029e-02,  1.00000000e+00],  [1.31569805e+00,  2.48448312e-03,  1.00000000e+00],  [1.08509415e+00,  6.04013293e+00,  1.00000000e+00],  [9.67425562e-01, -8.32530035e+00,  1.00000000e+00],  [8.87943767e-01, -7.80131670e+00,  1.00000000e+00],  [1.40225358e+00, -4.97747379e+00,  1.00000000e+00],  [8.38666150e-01, -1.01121426e+01,  1.00000000e+00],  [1.07986872e+00,  9.94275024e+00,  1.00000000e+00],  [1.18274127e+00,  6.23527473e+00,  1.00000000e+00],  [8.83802888e-01,  1.25516304e+01,  1.00000000e+00],  [1.18472791e+00,  1.03586289e+01,  1.00000000e+00],  [1.06628647e+00,  1.07617611e+01,  1.00000000e+00],  [1.09895831e+00, -7.79048569e-01,  1.00000000e+00],  [7.81757514e-01, -6.08810116e+00,  1.00000000e+00],  [8.45031969e-01,  4.10655550e+00,  1.00000000e+00],  [1.10070330e+00, -8.36011415e+00,  1.00000000e+00],  [1.09720842e+00,  1.55708570e+01,  1.00000000e+00],  [1.51228454e+00,  1.62084372e+00,  1.00000000e+00],  [9.15417111e-01, -2.22590604e+01,  1.00000000e+00],  [1.41187694e+00, -1.82815123e+01,  1.00000000e+00],  [8.88623955e-01, -6.43936562e+00,  1.00000000e+00],  [9.02122719e-01, -2.00768689e+01,  1.00000000e+00],  [9.14638997e-01,  1.07176480e+01,  1.00000000e+00],  [1.20891164e+00,  5.87631471e+00,  1.00000000e+00],  [1.12670523e+00, -6.16196302e+00,  1.00000000e+00],  [1.11083364e+00, -1.87413955e+01,  1.00000000e+00],  [7.98033574e-01,  6.11685464e+00,  1.00000000e+00],  [1.34366323e+00, -1.19219285e+01,  1.00000000e+00],  [1.16134840e+00,  1.03248366e+01,  1.00000000e+00],  [1.25420453e+00, -7.59790666e-01,  1.00000000e+00],  [8.99744243e-01,  1.26501499e+01,  1.00000000e+00],  [1.14383365e+00,  5.34644949e-02,  1.00000000e+00],  [8.55825310e-01, -2.32647198e+01,  1.00000000e+00],  [1.22296211e+00, -7.98519320e-01,  1.00000000e+00],  [9.21723625e-01,  1.45011203e+00,  1.00000000e+00],  [9.76309579e-01, -1.57207328e+01,  1.00000000e+00],  [9.67147416e-01, -3.39598454e+00,  1.00000000e+00],  [9.66943931e-01, -5.80002664e+00,  1.00000000e+00],  [9.85536119e-01,  6.86117639e+00,  1.00000000e+00],  [1.20361515e+00, -1.73314575e+00,  1.00000000e+00],  [8.19398247e-01,  2.83143606e-01,  1.00000000e+00],  [1.12256634e+00,  7.18331943e-01,  1.00000000e+00],  [7.84622007e-01,  1.24142567e+01,  1.00000000e+00],  [9.24921511e-01,  2.12446028e+01,  1.00000000e+00],  [9.36246335e-01,  2.49080332e+00,  1.00000000e+00],  [1.08455248e+00,  2.46445253e+01,  1.00000000e+00],  [8.83228947e-01, -1.81054094e+01,  1.00000000e+00],  [1.06422551e+00, -1.44339134e+01,  1.00000000e+00],  [7.81345689e-01, -8.44362920e-01,  1.00000000e+00],  [1.18269706e+00,  1.36630874e+01,  1.00000000e+00],  [8.00324642e-01, -3.45137707e+00,  1.00000000e+00],  [8.13150389e-01, -1.22527305e+00,  1.00000000e+00],  [1.19148807e+00, -3.37761255e+00,  1.00000000e+00],  [1.05022766e+00,  1.46476333e+01,  1.00000000e+00],  [7.85396904e-01, -1.98680264e+01,  1.00000000e+00],  [1.16151403e+00, -5.07562914e+00,  1.00000000e+00],  [8.78650374e-01,  3.66742523e+00,  1.00000000e+00],  [1.19608780e+00, -1.10377730e+01,  1.00000000e+00],  [1.18155398e+00, -3.50606827e+00,  1.00000000e+00],  [8.39959489e-01,  1.13935565e+01,  1.00000000e+00],  [1.22276108e+00, -1.71092659e+00,  1.00000000e+00],  [1.21208070e+00,  5.26035165e+00,  1.00000000e+00],  [9.82421960e-01,  5.26301160e+00,  1.00000000e+00],  [8.31628773e-01, -6.24054635e+00,  1.00000000e+00],  [9.55529864e-01, -9.87448955e+00,  1.00000000e+00],  [6.42655183e-01,  1.23374425e+01,  1.00000000e+00],  [9.88086103e-01,  5.42622509e+00,  1.00000000e+00],  [9.60923362e-01,  8.69194784e-01,  1.00000000e+00],  [1.16040929e+00, -7.76782163e-01,  1.00000000e+00],  [8.75957056e-01, -7.71231563e-01,  1.00000000e+00],  [1.18175238e+00,  6.59684037e+00,  1.00000000e+00],  [1.29473351e+00, -4.37023665e+00,  1.00000000e+00],  [9.30119334e-01, -6.43018153e+00,  1.00000000e+00],  [6.19757920e-01, -4.08795510e+00,  1.00000000e+00],  [9.44446979e-01,  5.80680906e-03,  1.00000000e+00],  [9.82654489e-01, -8.54508981e+00,  1.00000000e+00],  [1.09380186e+00,  1.28006522e+01,  1.00000000e+00],  [5.07324203e-01,  8.65243410e+00,  1.00000000e+00],  [1.04430850e+00,  2.07287581e+01,  1.00000000e+00],  [1.03884026e+00, -1.99239939e+01,  1.00000000e+00],  [1.05767037e+00,  6.98604981e-02,  1.00000000e+00],  [9.12771682e-01, -9.83247421e+00,  1.00000000e+00],  [1.46795881e+00,  7.56705247e-01,  1.00000000e+00],  [8.90699502e-01, -7.40619422e+00,  1.00000000e+00],  [1.09670271e+00,  8.71434036e+00,  1.00000000e+00],  [9.76197007e-01,  1.34409756e+01,  1.00000000e+00],  [1.28303922e+00,  1.72502172e+00,  1.00000000e+00],  [1.07354148e+00, -3.02227874e-01,  1.00000000e+00],  [1.10406628e+00, -1.55364676e+01,  1.00000000e+00],  [8.22912996e-01, -1.37976691e+01,  1.00000000e+00],  [6.95875925e-01,  1.82815534e+01,  1.00000000e+00],  [7.89996123e-01, -8.28777759e+00,  1.00000000e+00],  [1.33529029e+00,  5.23855023e-01,  1.00000000e+00],  [1.37724928e+00, -3.15432245e+01,  1.00000000e+00],  [1.13188395e+00, -1.87545051e-01,  1.00000000e+00],  [9.81345093e-01, -5.96598135e+00,  1.00000000e+00],  [8.85838275e-01,  6.49574896e+00,  1.00000000e+00],  [1.10544746e+00, -4.73772946e+00,  1.00000000e+00],  [7.37800563e-01, -3.11040858e+00,  1.00000000e+00],  [1.15800960e+00,  5.15995306e+00,  1.00000000e+00],  [9.54850109e-01,  6.13379149e+00,  1.00000000e+00],  [7.93945241e-01,  2.79101476e-01,  1.00000000e+00],  [1.28826526e+00, -3.54865622e+00,  1.00000000e+00],  [1.21116417e+00, -3.37233767e+00,  1.00000000e+00],  [7.12952793e-01, -3.74691790e+00,  1.00000000e+00],  [1.10116658e+00,  2.03871325e+01,  1.00000000e+00],  [1.03101841e+00, -7.64444368e+00,  1.00000000e+00],  [1.23441898e+00,  3.01095435e+00,  1.00000000e+00],  [7.09368328e-01,  3.52401185e+00,  1.00000000e+00],  [7.72836880e-01,  1.40298213e+01,  1.00000000e+00],  [1.20491144e+00,  9.22880630e+00,  1.00000000e+00],  [7.40532943e-01, -1.18575367e-01,  1.00000000e+00],  [9.67953086e-01, -5.88067911e+00,  1.00000000e+00],  [1.30315386e+00, -7.86659777e+00,  1.00000000e+00],  [1.14416698e+00, -1.99982567e+01,  1.00000000e+00],  [1.24885026e+00,  1.77151886e+01,  1.00000000e+00],  [7.90233557e-01,  1.34620963e+01,  1.00000000e+00],  [5.43226810e-01, -6.99583760e-01,  1.00000000e+00],  [7.16781444e-01,  2.58432892e+01,  1.00000000e+00],  [9.98245215e-01, -2.26647353e+00,  1.00000000e+00],  [1.05558500e+00,  1.75654219e+01,  1.00000000e+00],  [1.16394380e+00, -1.31763160e+01,  1.00000000e+00],  [1.00447615e+00,  2.10534198e+00,  1.00000000e+00],  [5.60770095e-01, -7.29722999e+00,  1.00000000e+00],  [9.72939673e-01,  3.87254052e+00,  1.00000000e+00],  [8.97650646e-01,  1.62259374e+00,  1.00000000e+00],  [1.42819133e+00,  7.20008101e+00,  1.00000000e+00],  [8.21308449e-01,  4.33466166e+00,  1.00000000e+00],  [7.94843020e-01,  1.12923073e+01,  1.00000000e+00],  [1.19564207e+00,  2.15660775e+01,  1.00000000e+00],  [8.45355642e-01,  1.06109173e-01,  1.00000000e+00],  [9.96497983e-01, -1.09772301e+01,  1.00000000e+00],  [9.87378250e-01,  1.23134939e+01,  1.00000000e+00],  [7.07294182e-01,  1.56637214e+01,  1.00000000e+00],  [9.44137598e-01, -4.61763512e+00,  1.00000000e+00],  [7.27707226e-01,  2.08694754e+00,  1.00000000e+00],  [9.23726971e-01,  1.02699816e+00,  1.00000000e+00],  [9.49220057e-01,  2.22545587e+00,  1.00000000e+00],  [9.42379303e-01,  4.77229513e+00,  1.00000000e+00],  [9.24710637e-01,  1.17688147e+00,  1.00000000e+00],  [9.27229672e-01,  9.32112917e+00,  1.00000000e+00],  [7.38415928e-01,  6.15668350e+00,  1.00000000e+00],  [8.35762324e-01, -1.11713015e+01,  1.00000000e+00],  [1.13774662e+00, -1.98198053e+01,  1.00000000e+00],  [1.06097710e+00, -1.58378078e+00,  1.00000000e+00],  [1.02104879e+00, -9.75009952e+00,  1.00000000e+00],  [8.93070102e-01,  1.04041595e+01,  1.00000000e+00],  [1.18129810e+00, -7.05787665e+00,  1.00000000e+00],  [7.34274727e-01, -9.32202962e+00,  1.00000000e+00],  [1.02172310e+00, -1.17447512e+01,  1.00000000e+00],  [7.54098721e-01,  1.60200506e+01,  1.00000000e+00],  [1.37437533e+00,  4.61187946e+00,  1.00000000e+00],  [1.27827810e+00, -6.16769799e+00,  1.00000000e+00],  [8.08029491e-01,  2.02470307e+01,  1.00000000e+00],  [1.10672134e+00,  1.85224203e+00,  1.00000000e+00],  [7.54535383e-01, -8.79121438e-01,  1.00000000e+00],  [6.85324777e-01,  4.04549016e+00,  1.00000000e+00],  [7.82912427e-01,  1.73467977e+00,  1.00000000e+00],  [1.05160066e+00,  5.58308777e+00,  1.00000000e+00],  [1.25612247e+00,  6.20099419e+00,  1.00000000e+00],  [1.14419009e+00,  6.02907542e+00,  1.00000000e+00],  [6.43542719e-01, -3.88433134e+00,  1.00000000e+00],  [1.12142621e+00,  5.65503384e+00,  1.00000000e+00],  [7.02725223e-01,  9.99907525e+00,  1.00000000e+00],  [1.09612040e+00,  6.46291253e+00,  1.00000000e+00],  [9.86706672e-01, -5.93614663e+00,  1.00000000e+00],  [8.18717705e-01,  7.40393907e+00,  1.00000000e+00],  [1.08913462e+00, -5.89520247e+00,  1.00000000e+00],  [6.73549906e-01, -1.57261132e+01,  1.00000000e+00],  [1.30101316e+00,  6.78682325e+00,  1.00000000e+00],  [6.65345686e-01,  1.09891737e+01,  1.00000000e+00],  [6.47207889e-01, -5.95154512e+00,  1.00000000e+00],  [1.10791135e+00,  2.66077474e+00,  1.00000000e+00],  [1.18454114e+00,  4.69574222e+00,  1.00000000e+00],  [8.34198717e-01, -2.29530523e+00,  1.00000000e+00],  [9.98353042e-01,  2.10669295e+00,  1.00000000e+00],  [9.71537835e-01,  1.33361864e+00,  1.00000000e+00],  [8.26719488e-01,  3.45057831e-01,  1.00000000e+00],  [1.30146475e+00,  1.38453346e+01,  1.00000000e+00],  [1.25415933e+00, -5.74056173e+00,  1.00000000e+00],  [1.27305860e+00,  8.94552176e+00,  1.00000000e+00],  [9.09541768e-01, -1.54753931e+01,  1.00000000e+00],  [7.02789057e-01,  9.61254473e-01,  1.00000000e+00],  [8.73954659e-01, -5.16482264e+00,  1.00000000e+00],  [1.16908602e+00,  2.80413027e+00,  1.00000000e+00],  [1.03912684e+00, -1.07092872e+01,  1.00000000e+00],  [8.86692907e-01,  1.00558468e+01,  1.00000000e+00],  [7.62606989e-01, -8.77580380e+00,  1.00000000e+00],  [8.70310712e-01,  6.46064216e+00,  1.00000000e+00],  [1.04477418e+00,  5.15460079e+00,  1.00000000e+00],  [1.08754930e+00, -1.06224156e+01,  1.00000000e+00],  [8.33867383e-01, -1.53389223e+01,  1.00000000e+00],  [1.16215216e+00, -5.10819977e+00,  1.00000000e+00],  [1.00547930e+00, -1.82098198e+00,  1.00000000e+00],  [7.58441940e-01, -2.44151050e+00,  1.00000000e+00],  [9.33299685e-01,  1.17705756e+01,  1.00000000e+00],  [9.23720853e-01,  6.48636510e-01,  1.00000000e+00],  [1.15454426e+00, -6.84924339e+00,  1.00000000e+00],  [9.70706774e-01, -1.19148524e+01,  1.00000000e+00],  [7.21101647e-01, -1.33799978e+01,  1.00000000e+00],  [1.17861550e+00,  3.59578788e+00,  1.00000000e+00],  [1.18709659e+00,  3.10955770e+00,  1.00000000e+00],  [1.03373832e+00, -7.31619133e+00,  1.00000000e+00],  [8.00746108e-01, -1.38409807e+01,  1.00000000e+00],  [7.17414326e-01, -2.89096045e+00,  1.00000000e+00],  [1.04251668e+00, -1.28502816e+01,  1.00000000e+00],  [6.84210148e-01,  8.60396458e+00,  1.00000000e+00],  [9.92976641e-01,  5.22409493e+00,  1.00000000e+00],  [1.04652662e+00, -6.66473273e+00,  1.00000000e+00],  [5.16066185e-01,  1.09490866e+01,  1.00000000e+00],  [9.47027506e-01,  1.74729700e-01,  1.00000000e+00],  [1.03613273e+00, -1.17043439e+01,  1.00000000e+00],  [9.99666871e-01, -6.53842605e+00,  1.00000000e+00],  [7.48600453e-01,  4.94152504e+00,  1.00000000e+00],  [8.91766157e-01,  9.87164800e+00,  1.00000000e+00],  [1.03841706e+00, -3.68670426e+00,  1.00000000e+00],  [1.07849177e+00, -7.49754317e-01,  1.00000000e+00],  [1.00900045e+00,  8.79151881e+00,  1.00000000e+00],  [4.23678585e-01,  7.09085715e+00,  1.00000000e+00],  [1.26468514e+00,  7.44263733e+00,  1.00000000e+00],  [1.07583650e+00,  4.08441519e+00,  1.00000000e+00],  [1.00886759e+00,  1.10251773e+01,  1.00000000e+00],  [7.63773407e-01, -1.17643277e+01,  1.00000000e+00],  [1.10805559e+00,  1.23169572e+01,  1.00000000e+00],  [7.05702312e-01,  5.95095470e+00,  1.00000000e+00],  [1.39712548e+00, -1.29203926e+00,  1.00000000e+00],  [9.51591595e-01, -3.80577044e+00,  1.00000000e+00],  [1.10068030e+00,  2.15622773e+00,  1.00000000e+00],  [1.55218141e+00,  2.02229264e+00,  1.00000000e+00],  [9.08640494e-01, -1.12847277e+00,  1.00000000e+00],  [9.69222435e-01, -8.49430692e+00,  1.00000000e+00],  [8.51118141e-01, -2.24981986e+01,  1.00000000e+00],  [8.45922015e-01,  5.56157857e+00,  1.00000000e+00],  [8.60759356e-01,  5.27666250e+00,  1.00000000e+00],  [9.91141686e-01,  1.21037460e+00,  1.00000000e+00],  [1.17100546e+00, -1.67332460e+01,  1.00000000e+00],  [1.30167279e+00,  5.30543094e+00,  1.00000000e+00],  [1.12243470e+00,  6.57047910e+00,  1.00000000e+00],  [1.28760186e+00,  9.31387707e+00,  1.00000000e+00],  [9.53534553e-01,  5.62765545e+00,  1.00000000e+00],  [1.23226025e+00, -3.34361968e+00,  1.00000000e+00],  [9.50820838e-01, -1.53135163e+00,  1.00000000e+00],  [8.71162823e-01, -3.23217763e-02,  1.00000000e+00],  [1.03926633e+00, -1.71739963e+00,  1.00000000e+00],  [1.35266074e+00, -2.97273227e+00,  1.00000000e+00],  [6.98296682e-01,  6.99433823e+00,  1.00000000e+00],  [9.70685732e-01,  1.28148742e+01,  1.00000000e+00],  [1.08086885e+00,  1.99554138e-01,  1.00000000e+00],  [1.53633936e+00,  3.24962514e+00,  1.00000000e+00],  [1.24882668e+00, -1.51479752e+01,  1.00000000e+00],  [1.15889799e+00,  2.14138921e+01,  1.00000000e+00],  [9.61717184e-01, -5.03285282e+00,  1.00000000e+00],  [8.54218043e-01,  1.09585545e+01,  1.00000000e+00],  [7.35040650e-01,  1.48880096e+00,  1.00000000e+00],  [1.09305687e+00, -6.46621685e+00,  1.00000000e+00],  [9.89329942e-01,  8.94953783e+00,  1.00000000e+00],  [9.72938989e-01, -1.11923256e+01,  1.00000000e+00],  [9.66107129e-01,  5.93202339e+00,  1.00000000e+00],  [9.68478697e-01,  1.05949709e+01,  1.00000000e+00],  [5.99857744e-01,  5.74298658e+00,  1.00000000e+00],  [1.03812225e+00, -3.65485916e+00,  1.00000000e+00],  [7.85314403e-01, -3.66275037e+00,  1.00000000e+00],  [1.12374247e+00,  1.30581461e+01,  1.00000000e+00],  [1.43528171e+00,  1.15092519e+00,  1.00000000e+00],  [1.03905474e+00, -1.49023682e+01,  1.00000000e+00],  [9.43368193e-01,  8.11289940e+00,  1.00000000e+00],  [1.22167285e+00, -1.09033100e+01,  1.00000000e+00],  [1.14785000e+00, -8.10994521e-01,  1.00000000e+00],  [8.53661969e-01,  1.64982787e+01,  1.00000000e+00],  [1.00295192e+00,  3.46449629e+01,  1.00000000e+00],  [1.31787235e+00,  3.15860760e+00,  1.00000000e+00],  [1.02283805e+00,  1.65496723e+01,  1.00000000e+00],  [1.03147671e+00, -5.26879864e+00,  1.00000000e+00],  [7.65810661e-01,  1.28409629e+01,  1.00000000e+00],  [7.77943597e-01,  8.32536381e+00,  1.00000000e+00],  [1.07983990e+00, -2.11012045e+00,  1.00000000e+00],  [1.31036948e+00, -1.11182074e+00,  1.00000000e+00],  [1.29808461e+00, -2.77349267e+00,  1.00000000e+00],  [7.90374938e-01,  1.34505182e+01,  1.00000000e+00],  [1.00276705e+00, -2.34898071e+01,  1.00000000e+00],  [9.13573750e-01, -1.36394168e+01,  1.00000000e+00],  [1.14830248e+00, -1.76295417e+00,  1.00000000e+00],  [1.00282954e+00,  2.70568222e+00,  1.00000000e+00],  [8.62503186e-01, -1.95212069e+00,  1.00000000e+00],  [1.01375100e+00, -6.61194582e+00,  1.00000000e+00],  [1.03873425e+00,  5.50732232e+00,  1.00000000e+00],  [5.36445847e-01, -7.81916569e-01,  1.00000000e+00],  [1.17205291e+00, -8.45218098e+00,  1.00000000e+00],  [1.08849826e+00,  5.05257524e+00,  1.00000000e+00],  [1.14303239e+00, -2.74565719e+00,  1.00000000e+00],  [1.37784077e+00,  4.05637895e+00,  1.00000000e+00],  [1.36957632e+00,  2.09262988e+00,  1.00000000e+00],  [1.51399103e+00,  1.05189754e+00,  1.00000000e+00],  [1.11131264e+00, -2.20473087e+01,  1.00000000e+00],  [1.27923097e+00,  6.03063698e-01,  1.00000000e+00],  [1.24418468e+00,  9.59976314e+00,  1.00000000e+00],  [9.12409972e-01, -7.11491468e+00,  1.00000000e+00],  [8.14891182e-01, -1.28409914e+00,  1.00000000e+00],  [8.77028258e-01, -1.81363266e+00,  1.00000000e+00],  [1.06621881e+00, -9.53265987e+00,  1.00000000e+00],  [1.49001324e+00, -6.53590220e+00,  1.00000000e+00],  [1.24273160e+00,  2.48526884e+01,  1.00000000e+00],  [1.04684969e+00, -6.12866558e+00,  1.00000000e+00],  [5.66215402e-01,  4.54666387e+00,  1.00000000e+00],  [1.02819736e+00, -4.39118008e+00,  1.00000000e+00],  [1.30421113e+00,  1.24177551e+00,  1.00000000e+00],  [9.79184742e-01,  6.24386281e+00,  1.00000000e+00],  [7.68107220e-01, -1.23961044e+01,  1.00000000e+00],  [9.97808558e-01, -7.01958196e+00,  1.00000000e+00],  [1.14046573e+00, -1.97014019e+01,  1.00000000e+00],  [1.31457237e+00, -1.54452619e+01,  1.00000000e+00],  [9.76082907e-01, -9.13807992e+00,  1.00000000e+00],  [1.01284140e+00,  1.71405850e+01,  1.00000000e+00],  [1.21740653e+00,  2.08037229e+01,  1.00000000e+00],  [1.00810857e+00, -1.33130921e+01,  1.00000000e+00],  [1.03943815e+00, -5.96540405e-01,  1.00000000e+00],  [1.18292977e+00,  4.77858647e-01,  1.00000000e+00],  [8.04643584e-01,  9.56112976e+00,  1.00000000e+00],  [9.55841193e-01, -4.88438927e-01,  1.00000000e+00],  [8.25039459e-01, -8.38533241e+00,  1.00000000e+00],  [8.96146709e-01, -2.98228215e+01,  1.00000000e+00],  [7.65949582e-01, -1.96487822e+01,  1.00000000e+00],  [1.03934896e+00,  1.14893191e+00,  1.00000000e+00],  [1.22280375e+00,  1.16370237e+01,  1.00000000e+00],  [1.09563549e+00,  1.14751212e+01,  1.00000000e+00],  [9.38419145e-01,  3.59955939e+00,  1.00000000e+00],  [1.03103115e+00, -1.60690635e+01,  1.00000000e+00],  [1.05007360e+00,  1.41507306e+01,  1.00000000e+00],  [1.01598551e+00, -1.19405558e+01,  1.00000000e+00],  [8.56862801e-01, -8.86746421e+00,  1.00000000e+00],  [1.15121130e+00, -1.51506313e+01,  1.00000000e+00],  [6.05945565e-01, -4.19319579e-01,  1.00000000e+00],  [1.34381616e+00,  1.41692957e+01,  1.00000000e+00],  [8.65752003e-01,  5.55236790e+00,  1.00000000e+00],  [1.09106874e+00, -5.96263794e+00,  1.00000000e+00],  [1.18212183e+00,  1.05742014e+01,  1.00000000e+00],  [1.40215345e+00,  9.30698523e+00,  1.00000000e+00],  [7.79527930e-01,  1.52933607e+01,  1.00000000e+00],  [1.15349391e+00, -2.34436131e+00,  1.00000000e+00],  [1.26951459e+00,  1.36520222e+01,  1.00000000e+00],  [1.16575564e+00, -1.75815520e+00,  1.00000000e+00],  [9.63683836e-01, -2.26522755e+01,  1.00000000e+00],  [8.67510359e-01, -6.50307355e+00,  1.00000000e+00],  [7.70501313e-01,  3.06679982e+00,  1.00000000e+00],  [1.08837830e+00,  1.13843691e+00,  1.00000000e+00],  [1.17540363e+00,  9.28048228e+00,  1.00000000e+00],  [1.09651453e+00,  5.20236705e+00,  1.00000000e+00],  [1.05237303e+00, -3.74192536e+00,  1.00000000e+00],  [9.31074138e-01, -3.52120654e+01,  1.00000000e+00],  [1.61343854e+00,  3.54308197e+00,  1.00000000e+00],  [1.09762609e+00, -1.50371946e+01,  1.00000000e+00],  [1.13130137e+00, -1.08987752e+01,  1.00000000e+00],  [8.17142050e-01, -8.81486561e+00,  1.00000000e+00],  [1.17050449e+00,  1.41616561e+01,  1.00000000e+00],  [9.72228800e-01, -1.67126265e+01,  1.00000000e+00],  [9.86745023e-01,  2.92770215e+00,  1.00000000e+00],  [1.03989836e+00,  1.53933276e+01,  1.00000000e+00],  [1.21691486e+00,  7.69787835e+00,  1.00000000e+00],  [8.74870149e-01,  1.18308644e+01,  1.00000000e+00],  [1.17151643e+00,  1.19239058e+00,  1.00000000e+00],  [7.65635119e-01, -9.27565037e+00,  1.00000000e+00],  [1.11509772e+00,  5.18180128e-01,  1.00000000e+00],  [1.17636082e+00,  1.78874723e+01,  1.00000000e+00],  [1.08322013e+00, -2.80880298e+00,  1.00000000e+00],  [1.20873349e+00,  2.07632347e+01,  1.00000000e+00],  [6.90227300e-01, -1.88912385e+00,  1.00000000e+00],  [1.05865809e+00, -1.90277870e+01,  1.00000000e+00],  [6.68204388e-01, -6.15540300e+00,  1.00000000e+00],  [1.06554183e+00,  1.40644940e+01,  1.00000000e+00],  [1.17880724e+00,  1.15530462e+01,  1.00000000e+00],  [1.09920494e+00, -1.92221728e+00,  1.00000000e+00],  [7.95852121e-01,  2.85738221e+00,  1.00000000e+00],  [8.83828158e-01, -1.48208694e+01,  1.00000000e+00],  [9.54505091e-01,  4.85408721e+00,  1.00000000e+00],  [5.48858304e-01, -4.69398416e-01,  1.00000000e+00],  [9.44063114e-01,  1.64264754e+01,  1.00000000e+00],  [7.14555697e-01,  4.98530356e+00,  1.00000000e+00],  [1.03069806e+00, -7.87887865e+00,  1.00000000e+00],  [9.60471509e-01, -1.05096112e+01,  1.00000000e+00],  [7.89912823e-01,  8.24211815e+00,  1.00000000e+00],  [9.27769922e-01,  3.62487535e+00,  1.00000000e+00],  [7.27191474e-01,  4.72589262e+00,  1.00000000e+00],  [9.58591845e-01,  1.10276590e+01,  1.00000000e+00],  [1.09339652e+00, -7.45238865e+00,  1.00000000e+00],  [1.23998660e+00,  1.27954304e+00,  1.00000000e+00],  [9.00548383e-01, -1.46966531e+01,  1.00000000e+00],  [9.21856722e-01,  1.09596158e+01,  1.00000000e+00],  [1.03877884e+00, -1.43797734e+01,  1.00000000e+00],  [1.21712993e+00,  1.74621021e+01,  1.00000000e+00],  [9.98548249e-01, -1.46476064e+01,  1.00000000e+00],  [6.50899464e-01, -8.43364720e-01,  1.00000000e+00],  [1.13807910e+00, -1.50266345e+00,  1.00000000e+00],  [9.91741481e-01, -4.23105600e+00,  1.00000000e+00],  [1.32683519e+00, -8.07916914e+00,  1.00000000e+00],  [1.13673325e+00, -1.13674201e+01,  1.00000000e+00],  [1.05864199e+00, -9.19140063e+00,  1.00000000e+00],  [8.21294104e-01, -1.13320934e+01,  1.00000000e+00],  [8.71417811e-01,  1.39735911e+01,  1.00000000e+00],  [9.42202454e-01, -1.50182299e+01,  1.00000000e+00],  [1.10558175e+00,  8.72247172e+00,  1.00000000e+00],  [8.94153289e-01,  3.48581478e+00,  1.00000000e+00],  [9.78747850e-01,  4.72469735e-02,  1.00000000e+00],  [9.41414234e-01,  5.75699841e+00,  1.00000000e+00],  [1.09488767e+00, -2.95344327e+00,  1.00000000e+00],  [8.38936333e-01, -6.29659496e+00,  1.00000000e+00],  [8.62535505e-01,  1.77850751e+01,  1.00000000e+00],  [9.90081289e-01, -1.20666944e+01,  1.00000000e+00],  [7.90589534e-01, -7.65422179e+00,  1.00000000e+00],  [1.19487282e+00, -1.29402604e+01,  1.00000000e+00],  [1.06841534e+00,  2.70976515e+01,  1.00000000e+00],  [9.29294815e-01, -1.18570361e+01,  1.00000000e+00],  [8.39691763e-01, -6.34221154e+00,  1.00000000e+00],  [1.53111371e+00, -2.01046880e+01,  1.00000000e+00],  [9.44820963e-01, -6.60513306e+00,  1.00000000e+00],  [1.04738517e+00,  2.80848708e+00,  1.00000000e+00],  [7.72815978e-01, -5.88534891e+00,  1.00000000e+00],  [6.87803435e-01,  1.04150120e+00,  1.00000000e+00],  [1.38930299e+00, -3.69166132e+00,  1.00000000e+00],  [7.09823447e-01,  8.80982596e+00,  1.00000000e+00],  [8.87621111e-01, -4.30262939e+00,  1.00000000e+00],  [9.52632960e-01,  6.88986870e+00,  1.00000000e+00],  [7.93244336e-01, -1.53292008e+01,  1.00000000e+00],  [1.08616654e+00,  8.19774983e+00,  1.00000000e+00],  [1.05053116e+00,  1.05602157e+01,  1.00000000e+00],  [9.80302252e-01,  1.00181417e+01,  1.00000000e+00],  [8.50914028e-01,  1.22761451e-01,  1.00000000e+00],  [8.08980726e-01,  1.22827663e+01,  1.00000000e+00],  [9.52383626e-01, -5.90714968e-01,  1.00000000e+00],  [9.05341666e-01,  8.82677429e+00,  1.00000000e+00],  [8.69119414e-01,  3.81637772e+00,  1.00000000e+00],  [8.43248704e-01,  3.59828326e+00,  1.00000000e+00],  [6.45572016e-01, -3.81808969e+00,  1.00000000e+00],  [1.06571671e+00,  6.33602779e-01,  1.00000000e+00],  [8.05740089e-01, -5.90387075e+00,  1.00000000e+00],  [1.15092807e+00, -8.22861368e+00,  1.00000000e+00],  [8.59833006e-01, -5.88920606e+00,  1.00000000e+00],  [6.07290686e-01,  1.23275507e-01,  1.00000000e+00],  [8.60689993e-01, -1.15907003e+01,  1.00000000e+00],  [8.58855531e-01, -2.60558168e+00,  1.00000000e+00],  [9.52423444e-01, -1.21738824e+00,  1.00000000e+00],  [1.24690520e+00, -1.33702625e+01,  1.00000000e+00],  [1.12910036e+00, -2.70901237e+01,  1.00000000e+00],  [1.34237667e+00, -6.52373641e+00,  1.00000000e+00],  [1.17850351e+00, -3.87186046e+00,  1.00000000e+00],  [1.04190231e+00, -1.63504767e+01,  1.00000000e+00],  [1.07120976e+00, -1.83430973e+01,  1.00000000e+00],  [9.68374249e-01, -1.19339737e+01,  1.00000000e+00],  [9.15203469e-01,  3.35195270e-01,  1.00000000e+00],  [1.12158918e+00,  1.07530279e+00,  1.00000000e+00],  [1.22635367e+00,  1.47432459e+01,  1.00000000e+00],  [1.04599829e+00,  1.34973982e+01,  1.00000000e+00],  [1.18056149e+00, -1.62349757e+01,  1.00000000e+00],  [1.10154815e+00, -7.31876064e+00,  1.00000000e+00],  [1.27910346e+00,  4.24224912e+00,  1.00000000e+00],  [1.05568530e+00,  7.79754703e+00,  1.00000000e+00],  [7.41624873e-01,  8.32687391e+00,  1.00000000e+00],  [1.06134853e+00, -7.17945456e+00,  1.00000000e+00],  [1.28264159e+00, -4.84678028e+00,  1.00000000e+00],  [1.13868585e+00,  1.43282500e-01,  1.00000000e+00],  [7.57405643e-01, -8.70728250e+00,  1.00000000e+00],  [1.10286004e+00, -1.26749937e+00,  1.00000000e+00],  [1.10407127e+00, -1.07933584e+01,  1.00000000e+00],  [1.27358663e+00,  1.06799301e+01,  1.00000000e+00],  [8.29070625e-01,  2.07367224e+00,  1.00000000e+00],  [7.59358338e-01, -2.73460313e+01,  1.00000000e+00],  [1.21559108e+00,  1.92497181e+00,  1.00000000e+00],  [9.98046641e-01,  2.12121452e+00,  1.00000000e+00],  [7.99019805e-01,  1.05906302e+01,  1.00000000e+00],  [1.31271221e+00, -4.50166135e+00,  1.00000000e+00],  [1.08883810e+00, -3.25973405e+00,  1.00000000e+00],  [1.00170661e+00, -1.44231428e+01,  1.00000000e+00],  [1.25330409e+00,  6.99368742e+00,  1.00000000e+00],  [1.37153985e+00, -4.92014053e+00,  1.00000000e+00],  [8.96226044e-01,  5.60893236e+00,  1.00000000e+00],  [1.01578037e+00, -2.14757373e+01,  1.00000000e+00],  [1.24905597e+00,  3.80230553e+00,  1.00000000e+00],  [7.91121159e-01, -1.16046266e+01,  1.00000000e+00],  [8.46677323e-01,  9.64974017e+00,  1.00000000e+00],  [1.16807303e+00, -3.80398551e+00,  1.00000000e+00],  [1.18981166e+00, -4.56958697e+00,  1.00000000e+00],  [8.78737538e-01,  6.91159546e+00,  1.00000000e+00],  [1.06568382e+00,  1.00962618e+01,  1.00000000e+00],  [1.22424150e+00,  8.05490123e+00,  1.00000000e+00],  [9.79791498e-01,  1.43359199e+01,  1.00000000e+00],  [1.08147564e+00,  3.20666830e+00,  1.00000000e+00],  [1.23100365e+00, -2.61628299e+00,  1.00000000e+00],  [1.18487157e+00,  1.96264358e+00,  1.00000000e+00],  [1.18514135e+00, -1.35856980e+01,  1.00000000e+00],  [1.06662911e+00, -1.11985289e+01,  1.00000000e+00],  [9.33308743e-01, -8.76657661e+00,  1.00000000e+00],  [1.07916364e+00, -2.13690879e+01,  1.00000000e+00],  [6.75083564e-01,  6.89958046e+00,  1.00000000e+00],  [8.67751055e-01,  6.95527478e+00,  1.00000000e+00],  [1.62597830e+00, -2.86955079e+01,  1.00000000e+00],  [8.50587893e-01, -1.17592996e+00,  1.00000000e+00],  [8.36463831e-01, -8.60124687e+00,  1.00000000e+00],  [1.12986573e+00, -4.40574183e+00,  1.00000000e+00],  [8.89608614e-01,  1.65528349e+01,  1.00000000e+00],  [1.09102541e+00, -1.29993674e+01,  1.00000000e+00],  [1.19497691e+00, -1.07610829e+01,  1.00000000e+00],  [1.07086855e+00, -5.12382368e+00,  1.00000000e+00],  [1.08761425e+00, -3.04798417e+00,  1.00000000e+00],  [1.30719003e+00, -1.42207135e+01,  1.00000000e+00],  [6.98811921e-01, -2.24210297e+00,  1.00000000e+00],  [1.05179142e+00, -1.07831726e+01,  1.00000000e+00],  [1.15844769e+00,  5.10134028e+00,  1.00000000e+00],  [9.55187682e-01, -9.56636605e-01,  1.00000000e+00],  [8.13688114e-01, -1.39499600e+01,  1.00000000e+00],  [1.13339459e+00,  9.55073692e+00,  1.00000000e+00],  [1.39316798e+00, -1.85612566e+01,  1.00000000e+00],  [1.08418725e+00,  2.69133853e+01,  1.00000000e+00],  [6.57408851e-01,  1.25686472e+01,  1.00000000e+00],  [1.14639349e+00,  8.10148036e+00,  1.00000000e+00],  [1.11017231e+00, -5.34822793e+00,  1.00000000e+00],  [1.01779817e+00, -5.69424865e+00,  1.00000000e+00],  [1.10517044e+00, -4.61882170e+00,  1.00000000e+00],  [9.27960132e-01, -6.23292921e+00,  1.00000000e+00],  [8.10787747e-01, -1.27565644e+01,  1.00000000e+00],  [9.75702525e-01, -3.62474596e+00,  1.00000000e+00],  [1.33888460e+00,  3.30687276e+00,  1.00000000e+00],  [7.90883715e-01,  5.65630108e+00,  1.00000000e+00],  [8.45718567e-01, -1.47389913e+01,  1.00000000e+00],  [1.06010516e+00,  4.09853947e-01,  1.00000000e+00],  [1.03712289e+00, -3.63867275e+00,  1.00000000e+00],  [1.04561840e+00, -7.41781458e-01,  1.00000000e+00],  [1.07424780e+00, -8.75143053e+00,  1.00000000e+00],  [1.13565605e+00, -1.24023346e+01,  1.00000000e+00],  [6.98720688e-01,  1.23302389e+01,  1.00000000e+00],  [1.16949206e+00, -1.05389034e+01,  1.00000000e+00],  [9.11366735e-01, -1.72213052e+01,  1.00000000e+00],  [1.27348362e+00, -6.17682387e-01,  1.00000000e+00],  [9.97754150e-01,  7.30221357e+00,  1.00000000e+00],  [7.52525885e-01, -1.09370203e+01,  1.00000000e+00],  [1.04975703e+00, -9.13603757e+00,  1.00000000e+00],  [6.04037972e-01, -1.36154284e+00,  1.00000000e+00],  [8.61105387e-01, -1.69258187e+00,  1.00000000e+00],  [1.24043694e+00,  2.53860931e+00,  1.00000000e+00],  [1.05129963e+00,  6.69799857e+00,  1.00000000e+00],  [1.21404727e+00,  4.65180615e+00,  1.00000000e+00],  [9.73471438e-01, -4.28011104e+00,  1.00000000e+00],  [1.27303012e+00, -7.81602726e-01,  1.00000000e+00],  [5.57638317e-01, -4.30864973e+00,  1.00000000e+00],  [1.04799936e+00,  9.69673976e+00,  1.00000000e+00],  [1.02160937e+00,  6.85262234e+00,  1.00000000e+00],  [8.23936883e-01, -1.20303138e+01,  1.00000000e+00],  [9.04334807e-01,  2.04443496e+00,  1.00000000e+00],  [8.70777366e-01, -1.30338149e+01,  1.00000000e+00],  [1.01954648e+00,  5.02053050e+00,  1.00000000e+00],  [1.23746334e+00, -1.19649176e+01,  1.00000000e+00],  [9.96489592e-01,  8.77057812e-01,  1.00000000e+00],  [1.09764531e+00,  5.34203624e+00,  1.00000000e+00],  [1.11986062e+00, -7.95751792e+00,  1.00000000e+00],  [5.69694348e-01, -4.44556560e+00,  1.00000000e+00],  [1.17176388e+00,  1.66200449e+00,  1.00000000e+00],  [9.97202914e-01,  1.37432886e+01,  1.00000000e+00],  [1.28369033e+00, -8.77524448e+00,  1.00000000e+00],  [1.05131794e+00,  1.46875586e+01,  1.00000000e+00],  [9.05847982e-01, -3.04417859e+00,  1.00000000e+00],  [4.57493418e-01,  1.68247612e+00,  1.00000000e+00],  [1.14726388e+00,  2.59404984e+00,  1.00000000e+00],  [1.19183662e+00,  2.09802358e+00,  1.00000000e+00],  [7.92670065e-01,  4.14916292e+00,  1.00000000e+00],  [8.48198745e-01,  2.47001018e+00,  1.00000000e+00],  [9.08848162e-01,  2.95895359e+00,  1.00000000e+00],  [1.07532825e+00,  6.36402513e+00,  1.00000000e+00],  [1.14416568e+00,  2.34229759e+00,  1.00000000e+00],  [6.90073868e-01, -2.00362940e+00,  1.00000000e+00],  [1.13239872e+00, -1.14287844e+01,  1.00000000e+00],  [7.94058600e-01,  7.47097818e+00,  1.00000000e+00],  [8.32700253e-01, -1.44909913e+00,  1.00000000e+00],  [9.14971140e-01,  7.50587573e+00,  1.00000000e+00],  [8.76236150e-01, -6.28543383e+00,  1.00000000e+00],  [1.03328623e+00,  3.41545941e+00,  1.00000000e+00],  [1.30430223e+00,  6.22058698e+00,  1.00000000e+00],  [1.25517965e+00, -8.03978447e+00,  1.00000000e+00],  [9.68625167e-01, -4.86265128e+00,  1.00000000e+00],  [1.16681976e+00,  5.37331176e+00,  1.00000000e+00],  [1.02801788e+00,  4.08912483e-02,  1.00000000e+00],  [1.68760573e+00, -8.28554687e+00,  1.00000000e+00],  [8.69347674e-01, -1.21331599e+01,  1.00000000e+00],  [1.10375821e+00,  6.57254252e+00,  1.00000000e+00],  [1.02817549e+00,  3.72120799e+00,  1.00000000e+00],  [1.20362300e+00, -2.69271780e+00,  1.00000000e+00],  [7.34250933e-01, -7.70608653e+00,  1.00000000e+00],  [8.89958983e-01,  3.41909880e-01,  1.00000000e+00],  [9.23841626e-01,  1.84844380e+00,  1.00000000e+00],  [6.81951891e-01, -1.31797592e+00,  1.00000000e+00],  [1.10606051e+00, -4.67117448e+00,  1.00000000e+00],  [1.05399987e+00, -9.76631291e+00,  1.00000000e+00],  [1.22135850e+00,  1.76767660e+01,  1.00000000e+00],  [8.81441136e-01,  2.37677021e+00,  1.00000000e+00],  [9.07709377e-01, -4.58952026e-01,  1.00000000e+00],  [1.05838894e+00, -4.56236209e+00,  1.00000000e+00],  [5.96258584e-01, -1.77519846e+01,  1.00000000e+00],  [1.11202070e+00,  2.72334272e+01,  1.00000000e+00],  [5.92550908e-01,  6.56915487e+00,  1.00000000e+00],  [6.40440186e-01, -1.70546538e+01,  1.00000000e+00],  [9.03573553e-01, -6.87380990e+00,  1.00000000e+00],  [9.13886162e-01,  7.74247643e+00,  1.00000000e+00],  [1.04183359e+00,  1.00733532e+01,  1.00000000e+00],  [8.72903553e-01, -6.19744728e+00,  1.00000000e+00],  [7.94324588e-01, -3.45593580e+00,  1.00000000e+00],  [9.73289053e-01,  1.51911051e+01,  1.00000000e+00],  [1.32941789e+00, -1.69463014e+00,  1.00000000e+00],  [9.44670678e-01,  8.45417180e+00,  1.00000000e+00],  [9.34851971e-01,  1.27874791e+01,  1.00000000e+00],  [9.36932364e-01,  2.16106736e+00,  1.00000000e+00],  [1.31860792e+00, -1.26219457e+01,  1.00000000e+00],  [1.27973939e+00, -1.07187828e+01,  1.00000000e+00],  [1.16702534e+00, -3.35736752e+00,  1.00000000e+00],  [1.05721007e+00, -1.36863278e+00,  1.00000000e+00],  [1.03745953e+00, -1.12730376e+01,  1.00000000e+00],  [1.14110264e+00,  4.19627477e+00,  1.00000000e+00],  [6.87213513e-01,  7.55030167e+00,  1.00000000e+00],  [1.21940751e+00,  2.05166845e+01,  1.00000000e+00],  [1.11739936e+00,  1.10907168e+01,  1.00000000e+00],  [8.48691766e-01, -7.47730040e+00,  1.00000000e+00],  [1.14704155e+00,  1.37390342e+01,  1.00000000e+00],  [9.62558155e-01,  5.06939395e+00,  1.00000000e+00],  [1.15962240e+00, -6.22100735e+00,  1.00000000e+00],  [1.24015420e+00, -3.74470933e+00,  1.00000000e+00],  [7.19159365e-01,  4.90660186e-02,  1.00000000e+00],  [9.01691455e-01, -8.22834825e+00,  1.00000000e+00],  [7.17371215e-01,  9.11909425e+00,  1.00000000e+00],  [6.06058738e-01,  9.32464271e+00,  1.00000000e+00],  [8.28980409e-01, -7.01801251e+00,  1.00000000e+00],  [9.92532466e-01, -2.51510682e+00,  1.00000000e+00],  [1.00194493e+00, -3.81437544e+00,  1.00000000e+00],  [6.30892702e-01,  7.16786126e-01,  1.00000000e+00],  [1.07749796e+00,  6.32219797e+00,  1.00000000e+00],  [9.83433076e-01,  3.74182255e+00,  1.00000000e+00],  [8.70127788e-01, -6.33027871e+00,  1.00000000e+00],  [9.04666889e-01, -9.03469684e+00,  1.00000000e+00],  [6.13156364e-01, -5.49372984e+00,  1.00000000e+00],  [9.40356977e-01, -7.74154757e+00,  1.00000000e+00],  [7.33584778e-01, -5.58490803e+00,  1.00000000e+00],  [9.18626370e-01, -1.06845257e+01,  1.00000000e+00],  [7.71724258e-01,  2.38324356e+00,  1.00000000e+00],  [1.05400038e+00,  8.15134669e+00,  1.00000000e+00],  [1.01520744e+00,  3.87712137e+00,  1.00000000e+00],  [1.21092516e+00,  1.07958143e+01,  1.00000000e+00],  [8.54830320e-01, -5.53961856e+00,  1.00000000e+00],  [1.53630144e+00, -1.82448841e+00,  1.00000000e+00],  [1.10219620e+00,  5.53353368e-01,  1.00000000e+00],  [1.01710277e+00, -6.62062610e+00,  1.00000000e+00],  [1.08348970e+00,  8.54499395e+00,  1.00000000e+00],  [1.06844772e+00, -1.60139979e+01,  1.00000000e+00],  [6.37243617e-01, -1.30572365e+01,  1.00000000e+00],  [1.05564651e+00, -8.45894140e+00,  1.00000000e+00],  [1.08016975e+00,  1.06838236e+01,  1.00000000e+00],  [1.59850093e+00,  1.08716624e+00,  1.00000000e+00],  [1.01273973e+00,  4.05435593e+00,  1.00000000e+00],  [1.23533500e+00,  8.35970177e+00,  1.00000000e+00],  [8.54839572e-01, -2.37719616e+00,  1.00000000e+00],  [9.53358373e-01, -1.35433493e+01,  1.00000000e+00],  [1.02212932e+00, -1.95665435e+00,  1.00000000e+00],  [7.82935292e-01, -4.30036060e+00,  1.00000000e+00],  [1.22959069e+00,  1.63315917e+01,  1.00000000e+00],  [9.28377109e-01, -1.87552469e+00,  1.00000000e+00],  [1.28328233e+00, -1.01423397e+01,  1.00000000e+00],  [1.03036382e+00,  6.07661576e+00,  1.00000000e+00],  [1.12087032e+00,  1.03898747e+01,  1.00000000e+00],  [7.78927995e-01,  1.23436111e+01,  1.00000000e+00],  [7.87029556e-01, -4.51926880e+00,  1.00000000e+00],  [9.56661152e-01, -2.09058371e+01,  1.00000000e+00],  [9.92926766e-01, -1.06041209e+01,  1.00000000e+00],  [1.00279766e+00, -6.23278471e+00,  1.00000000e+00],  [1.13750163e+00,  1.33743558e+01,  1.00000000e+00],  [7.78794974e-01, -8.52836163e+00,  1.00000000e+00],  [1.21115621e+00,  6.57259301e+00,  1.00000000e+00],  [9.17214979e-01, -6.54536537e+00,  1.00000000e+00],  [7.78423425e-01, -1.20433218e+01,  1.00000000e+00],  [1.04278136e+00,  3.67407692e+00,  1.00000000e+00],  [1.24412178e+00,  2.29617743e+00,  1.00000000e+00],  [8.00348382e-01,  6.73251090e+00,  1.00000000e+00],  [1.18065584e+00,  6.66943275e+00,  1.00000000e+00],  [9.08283108e-01,  7.08800132e+00,  1.00000000e+00],  [7.08547981e-01,  6.07350332e+00,  1.00000000e+00],  [9.76523291e-01, -1.46136362e+01,  1.00000000e+00],  [6.30237255e-01, -4.46507013e+00,  1.00000000e+00],  [1.62902210e+00, -8.30061878e+00,  1.00000000e+00],  [1.01831112e+00,  6.64804161e+00,  1.00000000e+00],  [9.48547526e-01, -1.53630285e+01,  1.00000000e+00],  [9.00883264e-01,  2.92990924e-01,  1.00000000e+00],  [9.01565196e-01,  1.25503267e+01,  1.00000000e+00],  [1.03967649e+00,  1.09536400e+01,  1.00000000e+00],  [1.14872969e+00, -1.06038036e+01,  1.00000000e+00],  [9.94273705e-01,  1.09913535e+00,  1.00000000e+00],  [1.18877877e+00, -2.26561080e+00,  1.00000000e+00],  [1.03747731e+00,  1.46968524e+01,  1.00000000e+00],  [1.04439174e+00,  1.48678701e+00,  1.00000000e+00],  [6.35718674e-01,  2.44789860e+00,  1.00000000e+00],  [1.23605739e+00,  8.56875099e-01,  1.00000000e+00],  [8.65021111e-01,  6.42912229e+00,  1.00000000e+00],  [9.87933619e-01, -8.71816235e+00,  1.00000000e+00],  [8.84789589e-01,  4.03211761e+00,  1.00000000e+00],  [1.13845630e+00,  8.38170492e+00,  1.00000000e+00],  [1.08698976e+00, -7.13387924e+00,  1.00000000e+00],  [5.19722788e-01, -6.33117378e+00,  1.00000000e+00],  [9.12426904e-01, -9.42034346e-01,  1.00000000e+00],  [9.61953364e-01,  1.74155196e+01,  1.00000000e+00],  [1.30754593e+00,  1.01869637e+01,  1.00000000e+00],  [9.83689532e-01, -2.16329401e+00,  1.00000000e+00],  [9.34806222e-01,  7.50481246e-01,  1.00000000e+00],  [1.02407254e+00,  1.36137102e+01,  1.00000000e+00],  [8.76300416e-01,  1.84415740e+01,  1.00000000e+00],  [1.08464527e+00, -1.00016546e+01,  1.00000000e+00],  [8.30454849e-01,  3.04908066e+00,  1.00000000e+00],  [1.18513196e+00,  3.15824441e+00,  1.00000000e+00],  [6.71279364e-01, -8.75780259e+00,  1.00000000e+00],  [9.57804040e-01,  4.88044345e+00,  1.00000000e+00],  [1.07110392e+00, -1.01358460e+01,  1.00000000e+00],  [9.54687731e-01,  7.55040328e+00,  1.00000000e+00],  [7.31431366e-01,  1.64770564e+00,  1.00000000e+00],  [8.40619713e-01,  1.31796825e+01,  1.00000000e+00],  [1.42027777e+00, -4.35614245e+00,  1.00000000e+00],  [1.05816901e+00,  8.93649623e+00,  1.00000000e+00],  [1.05681925e+00, -2.06706991e+01,  1.00000000e+00],  [6.16998708e-01,  1.29787793e+01,  1.00000000e+00],  [8.80374205e-01,  1.55541740e+01,  1.00000000e+00],  [9.42892615e-01, -2.11654854e+00,  1.00000000e+00],  [1.07737015e+00, -1.13220557e+01,  1.00000000e+00],  [1.10495478e+00,  6.02255451e+00,  1.00000000e+00],  [1.06283805e+00,  1.43397068e+00,  1.00000000e+00],  [1.46950154e+00, -5.70922579e+00,  1.00000000e+00],  [9.41071944e-01,  1.25439371e+01,  1.00000000e+00],  [1.18303169e+00, -2.15298362e+01,  1.00000000e+00],  [1.11887241e+00, -2.49459588e+01,  1.00000000e+00],  [1.40975490e+00,  6.23173076e-01,  1.00000000e+00],  [1.52199926e+00, -8.32295658e+00,  1.00000000e+00],  [1.25859348e+00,  2.16721592e+01,  1.00000000e+00],  [1.36788897e+00,  1.57812891e+01,  1.00000000e+00],  [1.02482304e+00,  1.45968919e+01,  1.00000000e+00],  [8.51596405e-01, -1.03905101e+01,  1.00000000e+00],  [1.07881448e+00,  7.03752613e+00,  1.00000000e+00],  [1.20899516e+00,  1.31797149e+01,  1.00000000e+00],  [1.01534630e+00,  1.93668963e+01,  1.00000000e+00],  [9.90219957e-01,  6.02350291e+00,  1.00000000e+00],  [8.40654490e-01, -1.13756291e+01,  1.00000000e+00],  [7.40763394e-01,  1.77947469e+00,  1.00000000e+00],  [1.25307262e+00, -9.44982475e+00,  1.00000000e+00],  [1.03625968e+00, -6.07610822e+00,  1.00000000e+00],  [1.08870434e+00, -2.51914560e+01,  1.00000000e+00],  [1.28770623e+00,  7.68637723e+00,  1.00000000e+00],  [9.98682843e-01,  8.28738598e+00,  1.00000000e+00],  [1.05999700e+00, -3.91079413e+00,  1.00000000e+00],  [5.35270983e-01,  3.26921242e+00,  1.00000000e+00],  [8.36292390e-01,  1.87807966e+01,  1.00000000e+00],  [9.83779121e-01,  1.36898885e+00,  1.00000000e+00],  [8.69480589e-01, -3.04545922e+00,  1.00000000e+00],  [9.99557224e-01,  1.51137303e+00,  1.00000000e+00],  [9.63844158e-01,  6.46433039e+00,  1.00000000e+00],  [9.14659092e-01, -9.82214473e+00,  1.00000000e+00],  [8.51488310e-01, -1.82994524e+01,  1.00000000e+00],  [8.82682218e-01,  1.81190202e+01,  1.00000000e+00],  [1.53983256e+00, -6.85673121e+00,  1.00000000e+00],  [8.22562622e-01,  2.76717299e+00,  1.00000000e+00],  [1.23400858e+00, -1.53226945e+01,  1.00000000e+00],  [5.57158580e-01,  3.21328803e+00,  1.00000000e+00],  [9.19173367e-01,  1.27119543e+01,  1.00000000e+00],  [1.30750478e+00,  3.33867324e+00,  1.00000000e+00],  [1.06585467e+00,  5.87625845e+00,  1.00000000e+00],  [6.74973607e-01,  1.14291768e+01,  1.00000000e+00],  [1.00511065e+00,  1.81927816e+01,  1.00000000e+00],  [1.21601819e+00,  8.65975744e+00,  1.00000000e+00],  [1.05160700e+00, -1.10155722e+01,  1.00000000e+00],  [1.00065631e+00, -7.08140064e+00,  1.00000000e+00],  [1.01363553e+00,  6.13833429e+00,  1.00000000e+00],  [1.12092609e+00,  1.52184783e+00,  1.00000000e+00],  [1.02006569e+00,  2.46758632e+00,  1.00000000e+00],  [8.43112235e-01,  9.36497278e+00,  1.00000000e+00],  [1.01444283e+00,  1.45647518e+01,  1.00000000e+00],  [1.00051842e+00,  1.33619887e+01,  1.00000000e+00],  [1.21981054e+00, -6.60871251e+00,  1.00000000e+00],  [7.17205806e-01, -9.39999475e+00,  1.00000000e+00],  [1.09957029e+00,  4.79416197e+00,  1.00000000e+00],  [7.65725894e-01,  6.22805318e+00,  1.00000000e+00],  [1.07707224e+00,  2.22641480e+00,  1.00000000e+00],  [6.71199837e-01,  1.29277711e+00,  1.00000000e+00],  [9.78260965e-01, -5.06230634e+00,  1.00000000e+00],  [1.17116846e+00, -7.65284505e+00,  1.00000000e+00],  [9.48080791e-01,  2.85508498e+00,  1.00000000e+00],  [1.03758626e+00,  2.92566450e+00,  1.00000000e+00],  [8.92547997e-01,  1.22515987e+01,  1.00000000e+00],  [1.07870416e+00,  6.68298563e+00,  1.00000000e+00],  [1.01871879e+00,  5.81880532e-01,  1.00000000e+00],  [7.94260531e-01,  1.61742827e+01,  1.00000000e+00],  [8.37611594e-01,  8.91562854e+00,  1.00000000e+00],  [9.27992697e-01,  6.04111821e+00,  1.00000000e+00],  [1.32221161e+00,  6.35136852e+00,  1.00000000e+00],  [1.34639172e+00,  1.02874338e+00,  1.00000000e+00],  [1.02693717e+00,  4.89107032e+00,  1.00000000e+00],  [1.02757583e+00,  9.03889496e-01,  1.00000000e+00],  [1.02738144e+00,  1.86691939e+00,  1.00000000e+00],  [9.98919480e-01,  1.15204719e+01,  1.00000000e+00],  [1.17397808e+00,  2.51207966e+00,  1.00000000e+00],  [1.43204755e+00,  1.40068339e+01,  1.00000000e+00],  [1.05414937e+00, -4.26757614e+00,  1.00000000e+00],  [9.42482592e-01, -2.30110696e+00,  1.00000000e+00],  [1.01076449e+00,  1.69568694e+01,  1.00000000e+00],  [1.35488762e+00, -1.67690144e+00,  1.00000000e+00],  [8.35952337e-01, -1.32226436e+01,  1.00000000e+00],  [1.03068003e+00, -1.33747755e+00,  1.00000000e+00],  [8.98158731e-01, -1.74446119e+01,  1.00000000e+00],  [9.84888528e-01,  1.60113115e+01,  1.00000000e+00],  [1.22907883e+00,  7.68448609e+00,  1.00000000e+00],  [7.99640372e-01,  1.13337794e+01,  1.00000000e+00],  [9.00309430e-01, -6.23742019e+00,  1.00000000e+00],  [1.33453388e+00, -8.75849334e+00,  1.00000000e+00],  [7.73208533e-01, -5.30680951e+00,  1.00000000e+00],  [9.76202052e-01, -7.48258271e+00,  1.00000000e+00],  [1.02994886e+00,  9.94335529e+00,  1.00000000e+00],  [1.26105368e+00, -1.09895768e+01,  1.00000000e+00],  [1.19121251e+00,  5.43898031e+00,  1.00000000e+00],  [1.29707015e+00, -2.67841811e+00,  1.00000000e+00],  [7.80241581e-01, -1.97580943e+00,  1.00000000e+00],  [6.87261938e-01,  1.31013706e+01,  1.00000000e+00],  [6.75709424e-01, -4.29441944e+00,  1.00000000e+00],  [7.42002640e-01,  2.33817454e+01,  1.00000000e+00],  [9.78220698e-01,  4.09158209e+00,  1.00000000e+00],  [5.81375878e-01,  2.55355800e+01,  1.00000000e+00],  [1.46606791e+00,  1.37284145e+01,  1.00000000e+00],  [8.73564640e-01, -4.85845471e-02,  1.00000000e+00],  [1.18930910e+00, -1.12792634e+00,  1.00000000e+00],  [9.03641438e-01, -8.91591674e+00,  1.00000000e+00],  [1.21379884e+00, -2.72929419e+00,  1.00000000e+00],  [8.98891785e-01,  2.04329127e+00,  1.00000000e+00],  [8.86492146e-01, -5.11405051e+00,  1.00000000e+00],  [8.47404613e-01, -3.40334836e+00,  1.00000000e+00],  [9.23110123e-01,  5.94130953e-01,  1.00000000e+00],  [1.14370226e+00,  3.42707869e+00,  1.00000000e+00],  [1.01806156e+00, -2.83131909e+01,  1.00000000e+00],  [9.73697217e-01,  6.33894807e+00,  1.00000000e+00],  [9.58030959e-01,  1.70270776e+01,  1.00000000e+00],  [1.30041618e+00, -3.98444434e+00,  1.00000000e+00],  [9.63173524e-01,  1.55843869e+00,  1.00000000e+00],  [1.33999175e+00, -1.66961460e+01,  1.00000000e+00],  [1.10152092e+00,  6.77126599e+00,  1.00000000e+00],  [1.39429764e+00, -5.51036210e+00,  1.00000000e+00],  [9.49126656e-01,  1.13945028e+01,  1.00000000e+00],  [9.58013024e-01,  1.85574642e+01,  1.00000000e+00],  [8.52538693e-01, -1.05940674e+01,  1.00000000e+00],  [1.05826928e+00, -1.13201406e-01,  1.00000000e+00],  [1.19720575e+00, -1.55566516e+01,  1.00000000e+00],  [6.96418809e-01, -1.00832757e+01,  1.00000000e+00],  [1.14883098e+00, -8.79378157e-01,  1.00000000e+00],  [1.11735134e+00,  5.57742498e+00,  1.00000000e+00],  [1.10002593e+00, -2.02013865e+00,  1.00000000e+00],  [9.52281935e-01, -2.17962512e+01,  1.00000000e+00],  [1.12831437e+00,  4.18244437e+00,  1.00000000e+00],  [9.38718064e-01, -2.29042927e+00,  1.00000000e+00],  [9.54997647e-01, -7.47673766e+00,  1.00000000e+00],  [8.03155817e-01,  1.38774568e+01,  1.00000000e+00],  [1.33382549e+00,  1.62407415e+01,  1.00000000e+00],  [7.64124798e-01, -1.10034820e+01,  1.00000000e+00],  [9.66109312e-01,  1.40888583e+01,  1.00000000e+00],  [1.12114646e+00,  1.41948678e+01,  1.00000000e+00],  [9.14398493e-01, -1.21040240e+01,  1.00000000e+00],  [1.01649758e+00,  2.07671536e+01,  1.00000000e+00],  [7.17585738e-01, -4.19999538e+00,  1.00000000e+00],  [9.90669922e-01, -8.51489349e+00,  1.00000000e+00],  [1.06855771e+00,  8.09310354e+00,  1.00000000e+00],  [1.02473067e+00,  9.07643940e+00,  1.00000000e+00],  [7.70577489e-01, -4.39503371e+00,  1.00000000e+00],  [1.23448862e+00, -1.33836244e+01,  1.00000000e+00],  [9.87187102e-01,  5.66665564e+00,  1.00000000e+00],  [1.20596869e+00, -4.52780692e+00,  1.00000000e+00],  [1.09349925e+00,  4.23890778e+00,  1.00000000e+00],  [8.22856688e-01, -1.77820003e+01,  1.00000000e+00],  [9.94842228e-01,  8.14402711e+00,  1.00000000e+00]])\n",
    "\n",
    "# khởi tạo np_baseball\n",
    "np_baseball = np.array(baseball)\n",
    "\n",
    "# in ra tổng của np_baseball và update\n",
    "print(baseball + update)\n",
    "\n",
    "# tạo mảng conversion\n",
    "conversion = np.array([0.0254, 0.453592, 1])\n",
    "\n",
    "# in ra tích của np_baseball và conversion\n",
    "np_baseball_metric = np_baseball * conversion\n",
    "print(np_baseball_metric)\n",
    "\n"
   ]
  },
  {
   "cell_type": "markdown",
   "metadata": {},
   "source": [
    "Kết quả đúng:\n",
    "\n",
    "```\n",
    "[[  75.2303559   168.83775102   23.99      ]\n",
    " [  75.02614252  231.09732309   35.69      ]\n",
    " [  73.1544228   215.08167641   31.78      ]\n",
    " ..., \n",
    " [  76.09349925  209.23890778   26.19      ]\n",
    " [  75.82285669  172.21799965   32.01      ]\n",
    " [  73.99484223  203.14402711   28.92      ]]\n",
    "[[  1.8796   81.64656  22.99   ]\n",
    " [  1.8796   97.52228  34.69   ]\n",
    " [  1.8288   95.25432  30.78   ]\n",
    " ..., \n",
    " [  1.905    92.98636  25.19   ]\n",
    " [  1.905    86.18248  31.01   ]\n",
    " [  1.8542   88.45044  27.92   ]]\n",
    " ```"
   ]
  },
  {
   "cell_type": "markdown",
   "metadata": {},
   "source": [
    "# Phần 11: Thống kê với `numpy`"
   ]
  },
  {
   "cell_type": "markdown",
   "metadata": {},
   "source": [
    "`Numpy` hỗ trợ lập trình viên rất nhiều hàm hữu ích để thực hiện các kỹ thuật trong thống kê như:\n",
    "\n",
    "- `mean()`: tính trung bình cộng\n",
    "- `median()`: tính trung vị\n",
    "- `std()`: tính độ lệch chuẩn\n",
    "...\n",
    "\n",
    "Ví dụ về cách gọi các hàm thống kê trong `numpy`:\n",
    "\n",
    "```\n",
    "import numpy as np\n",
    "x = [1, 4, 8, 10, 12]\n",
    "np.mean(x)\n",
    "np.median(x)\n",
    "```\n",
    "\n",
    "Hãy cùng bắt đầu thực hành với các công cụ này nhé:"
   ]
  },
  {
   "cell_type": "markdown",
   "metadata": {},
   "source": [
    "## 11.1. Trung bình cộng vs Trung vị"
   ]
  },
  {
   "cell_type": "markdown",
   "metadata": {},
   "source": [
    "Bạn nhận được dữ liệu `np_baseball` gồm ba cột: chiều cao, cân nặng và tuổi của các cầu thủ. Tuy nhiên, trong quá trình xem xét dữ liệu, bạn thấy một số dữ liệu về chiều cao cầu thủ hơi bất thường. Bạn sẽ thực hiện một số bước thống kê dữ liệu này để giải quyết các nghi vấn của bạn:\n",
    "\n",
    "- Trích xuất mảng chiều cao (cột đầu tiên của `np_baseball`)\n",
    "- In ra trung bình cộng và trung vị của mảng này"
   ]
  },
  {
   "cell_type": "code",
   "execution_count": 133,
   "metadata": {},
   "outputs": [
    {
     "name": "stdout",
     "output_type": "stream",
     "text": [
      "[[7.400e+04 1.800e+02 2.299e+01]\n",
      " [7.400e+01 2.150e+02 3.469e+01]\n",
      " [7.200e+01 2.100e+02 3.078e+01]\n",
      " ...\n",
      " [7.500e+01 2.050e+02 2.519e+01]\n",
      " [7.500e+01 1.900e+02 3.101e+01]\n",
      " [7.300e+01 1.950e+02 2.792e+01]]\n",
      "[7.4e+04 7.4e+01 7.2e+01 ... 7.5e+01 7.5e+01 7.3e+01]\n",
      "1586.4610837438424\n",
      "74.0\n"
     ]
    }
   ],
   "source": [
    "import numpy as np\n",
    "\n",
    "# khởi tạo\n",
    "np_baseball = np.array([[7.40000000e+04, 1.80000000e+02, 2.29900000e+01],[7.40000000e+01, 2.15000000e+02, 3.46900000e+01],[7.20000000e+01, 2.10000000e+02, 3.07800000e+01],[7.20000000e+01, 2.10000000e+02, 3.54300000e+01],[7.30000000e+01, 1.88000000e+02, 3.57100000e+01],[6.90000000e+01, 1.76000000e+02, 2.93900000e+01],[6.90000000e+01, 2.09000000e+02, 3.07700000e+01],[7.10000000e+01, 2.00000000e+02, 3.50700000e+01],[7.60000000e+01, 2.31000000e+02, 3.01900000e+01],[7.10000000e+01, 1.80000000e+02, 2.70500000e+01],[7.30000000e+01, 1.88000000e+02, 2.38800000e+01],[7.30000000e+01, 1.80000000e+02, 2.69600000e+01],[7.40000000e+01, 1.85000000e+02, 2.32900000e+01],[7.40000000e+01, 1.60000000e+02, 2.61100000e+01],[6.90000000e+01, 1.80000000e+02, 2.75500000e+01],[7.00000000e+01, 1.85000000e+02, 3.42700000e+01],[7.30000000e+01, 1.89000000e+02, 2.79900000e+01],[7.50000000e+01, 1.85000000e+02, 2.23800000e+01],[7.80000000e+01, 2.19000000e+02, 2.28900000e+01],[7.90000000e+01, 2.30000000e+02, 2.57600000e+01],[7.60000000e+01, 2.05000000e+02, 3.63300000e+01],[7.40000000e+01, 2.30000000e+02, 3.11700000e+01],[7.60000000e+01, 1.95000000e+02, 3.23100000e+01],[7.20000000e+01, 1.80000000e+02, 3.10300000e+01],[7.10000000e+01, 1.92000000e+02, 2.92600000e+01],[7.50000000e+01, 2.25000000e+02, 2.94700000e+01],[7.70000000e+01, 2.03000000e+02, 3.24600000e+01],[7.40000000e+01, 1.95000000e+02, 3.56700000e+01],[7.30000000e+01, 1.82000000e+02, 2.58900000e+01],[7.40000000e+01, 1.88000000e+02, 2.65500000e+01],[7.80000000e+01, 2.00000000e+02, 2.41700000e+01],[7.30000000e+01, 1.80000000e+02, 2.66900000e+01],[7.50000000e+01, 2.00000000e+02, 2.51300000e+01],[7.30000000e+01, 2.00000000e+02, 2.79000000e+01],[7.50000000e+01, 2.45000000e+02, 3.01700000e+01],[7.50000000e+01, 2.40000000e+02, 3.13600000e+01],[7.40000000e+01, 2.15000000e+02, 3.09900000e+01],[6.90000000e+01, 1.85000000e+02, 3.22400000e+01],[7.10000000e+01, 1.75000000e+02, 2.76100000e+01],[7.40000000e+01, 1.99000000e+02, 2.82000000e+01],[7.30000000e+01, 2.00000000e+02, 2.88500000e+01],[7.30000000e+01, 2.15000000e+02, 2.42100000e+01],[7.60000000e+01, 2.00000000e+02, 2.20200000e+01],[7.40000000e+01, 2.05000000e+02, 2.49700000e+01],[7.40000000e+01, 2.06000000e+02, 2.67800000e+01],[7.00000000e+01, 1.86000000e+02, 3.25100000e+01],[7.20000000e+01, 1.88000000e+02, 3.09500000e+01],[7.70000000e+01, 2.20000000e+02, 3.30900000e+01],[7.40000000e+01, 2.10000000e+02, 3.27400000e+01],[7.00000000e+01, 1.95000000e+02, 3.06900000e+01],[7.30000000e+04, 2.00000000e+02, 2.34500000e+01],[7.50000000e+01, 2.00000000e+02, 2.49400000e+01],[7.60000000e+01, 2.12000000e+02, 2.40900000e+01],[7.60000000e+01, 2.24000000e+02, 3.52300000e+01],[7.80000000e+01, 2.10000000e+02, 2.74300000e+01],[7.40000000e+01, 2.05000000e+02, 3.06000000e+01],[7.40000000e+01, 2.20000000e+02, 2.79400000e+01],[7.60000000e+01, 1.95000000e+02, 2.99900000e+01],[7.70000000e+01, 2.00000000e+02, 2.51700000e+01],[8.10000000e+01, 2.60000000e+02, 2.41300000e+01],[7.80000000e+01, 2.28000000e+02, 3.04600000e+01],[7.50000000e+01, 2.70000000e+02, 2.59600000e+01],[7.70000000e+01, 2.00000000e+02, 2.25500000e+01],[7.50000000e+01, 2.10000000e+02, 2.62900000e+01],[7.60000000e+01, 1.90000000e+02, 2.47900000e+01],[7.40000000e+01, 2.20000000e+02, 3.17400000e+01],[7.20000000e+01, 1.80000000e+02, 2.39200000e+01],[7.20000000e+01, 2.05000000e+02, 2.53300000e+01],[7.50000000e+01, 2.10000000e+02, 2.40200000e+01],[7.30000000e+01, 2.20000000e+02, 2.37000000e+01],[7.30000000e+01, 2.11000000e+02, 3.15900000e+01],[7.30000000e+01, 2.00000000e+02, 2.99500000e+01],[7.00000000e+01, 1.80000000e+02, 2.36400000e+01],[7.00000000e+01, 1.90000000e+02, 3.23300000e+01],[7.00000000e+01, 1.70000000e+02, 2.31300000e+01],[7.60000000e+01, 2.30000000e+02, 2.66000000e+01],[6.80000000e+01, 1.55000000e+02, 2.64600000e+01],[7.10000000e+01, 1.85000000e+02, 2.57500000e+01],[7.20000000e+01, 1.85000000e+02, 2.75100000e+01],[7.50000000e+01, 2.00000000e+02, 2.51100000e+01],[7.50000000e+01, 2.25000000e+02, 3.25100000e+01],[7.50000000e+01, 2.25000000e+02, 3.46700000e+01],[7.50000000e+01, 2.20000000e+02, 3.10600000e+01],[6.80000000e+01, 1.60000000e+02, 2.91000000e+01],[7.40000000e+01, 2.05000000e+02, 2.86600000e+01],[7.80000000e+01, 2.35000000e+02, 2.83500000e+01],[7.10000000e+01, 2.50000000e+02, 3.37700000e+01],[7.30000000e+01, 2.10000000e+02, 3.08900000e+01],[7.60000000e+01, 1.90000000e+02, 3.77400000e+01],[7.40000000e+01, 1.60000000e+02, 2.41400000e+01],[7.40000000e+01, 2.00000000e+02, 2.57100000e+01],[7.90000000e+01, 2.05000000e+02, 2.44100000e+01],[7.50000000e+01, 2.22000000e+02, 2.43200000e+01],[7.30000000e+01, 1.95000000e+02, 2.80900000e+01],[7.60000000e+01, 2.05000000e+02, 3.33100000e+01],[7.40000000e+01, 2.20000000e+02, 3.64000000e+01],[7.40000000e+01, 2.20000000e+02, 3.73600000e+01],[7.30000000e+01, 1.70000000e+02, 3.16100000e+01],[7.20000000e+01, 1.85000000e+02, 2.51400000e+01],[7.40000000e+01, 1.95000000e+02, 3.02900000e+01],[7.30000000e+04, 2.20000000e+02, 3.63700000e+01],[7.40000000e+01, 2.30000000e+02, 3.48900000e+01],[7.20000000e+01, 1.80000000e+02, 2.37900000e+01],[7.30000000e+01, 2.20000000e+02, 2.79600000e+01],[6.90000000e+01, 1.80000000e+02, 2.35400000e+01],[7.20000000e+01, 1.80000000e+02, 3.13700000e+01],[7.30000000e+01, 1.70000000e+02, 3.12900000e+01],[7.50000000e+01, 2.10000000e+02, 3.30100000e+01],[7.50000000e+01, 2.15000000e+02, 2.51000000e+01],[7.30000000e+01, 2.00000000e+02, 3.12800000e+01],[7.20000000e+01, 2.13000000e+02, 3.47500000e+01],[7.20000000e+01, 1.80000000e+02, 2.34600000e+01],[7.60000000e+01, 1.92000000e+02, 2.53700000e+01],[7.40000000e+01, 2.35000000e+02, 2.95700000e+01],[7.20000000e+01, 1.85000000e+02, 2.73300000e+01],[7.70000000e+01, 2.35000000e+02, 4.02900000e+01],[7.40000000e+01, 2.10000000e+02, 4.05800000e+01],[7.70000000e+01, 2.22000000e+02, 2.67900000e+01],[7.50000000e+01, 2.10000000e+02, 3.25500000e+01],[7.60000000e+01, 2.30000000e+02, 2.62700000e+01],[8.00000000e+01, 2.20000000e+02, 2.94700000e+01],[7.40000000e+01, 1.80000000e+02, 2.90700000e+01],[7.40000000e+01, 1.90000000e+02, 2.31500000e+01],[7.50000000e+01, 2.00000000e+02, 2.49000000e+01],[7.80000000e+01, 2.10000000e+02, 2.32900000e+01],[7.30000000e+01, 1.94000000e+02, 3.11800000e+01],[7.30000000e+01, 1.80000000e+02, 2.65600000e+01],[7.40000000e+01, 1.90000000e+02, 2.50300000e+01],[7.50000000e+01, 2.40000000e+02, 3.56600000e+01],[7.60000000e+01, 2.00000000e+02, 2.96400000e+01],[7.10000000e+01, 1.98000000e+02, 3.07400000e+01],[7.30000000e+01, 2.00000000e+02, 2.84300000e+01],[7.40000000e+01, 1.95000000e+02, 3.37700000e+01],[7.60000000e+01, 2.10000000e+02, 4.09700000e+01],[7.60000000e+01, 2.20000000e+02, 2.35200000e+01],[7.40000000e+01, 1.90000000e+02, 2.81900000e+01],[7.30000000e+01, 2.10000000e+02, 2.68400000e+01],[7.40000000e+01, 2.25000000e+02, 2.61600000e+01],[7.00000000e+01, 1.80000000e+02, 2.86700000e+01],[7.20000000e+01, 1.85000000e+02, 2.42000000e+01],[7.30000000e+01, 1.70000000e+02, 2.70800000e+01],[7.30000000e+01, 1.85000000e+02, 2.47600000e+01],[7.30000000e+01, 1.85000000e+02, 2.33600000e+01],[7.30000000e+01, 1.80000000e+02, 2.53500000e+01],[7.10000000e+01, 1.78000000e+02, 2.46300000e+01],[7.40000000e+01, 1.75000000e+02, 2.40200000e+01],[7.40000000e+01, 2.00000000e+02, 2.45800000e+01],[7.20000000e+01, 2.04000000e+02, 3.08200000e+01],[7.40000000e+01, 2.11000000e+02, 3.28900000e+01],[7.10000000e+01, 1.90000000e+02, 3.33300000e+01],[7.40000000e+04, 2.10000000e+02, 3.35200000e+01],[7.30000000e+01, 1.90000000e+02, 3.62400000e+01],[7.50000000e+01, 1.90000000e+02, 2.85000000e+01],[7.50000000e+01, 1.85000000e+02, 2.94200000e+01],[7.90000000e+01, 2.90000000e+02, 2.66100000e+01],[7.30000000e+01, 1.75000000e+02, 2.37900000e+01],[7.50000000e+01, 1.85000000e+02, 2.49600000e+01],[7.60000000e+01, 2.00000000e+02, 2.59300000e+01],[7.40000000e+01, 2.20000000e+02, 2.28100000e+01],[7.60000000e+01, 1.70000000e+02, 2.52900000e+01],[7.80000000e+01, 2.20000000e+02, 2.60700000e+01],[7.40000000e+01, 1.90000000e+02, 2.60900000e+01],[7.60000000e+01, 2.20000000e+02, 2.32300000e+01],[7.20000000e+01, 2.05000000e+02, 3.34900000e+01],[7.40000000e+01, 2.00000000e+02, 3.18400000e+01],[7.60000000e+01, 2.50000000e+02, 4.23000000e+01],[7.40000000e+01, 2.25000000e+02, 3.58200000e+01],[7.50000000e+01, 2.15000000e+02, 3.52700000e+01],[7.80000000e+01, 2.10000000e+02, 2.68100000e+01],[7.50000000e+01, 2.15000000e+02, 3.84900000e+01],[7.20000000e+01, 1.95000000e+02, 3.26800000e+01],[7.40000000e+01, 2.00000000e+02, 3.49300000e+01],[7.20000000e+01, 1.94000000e+02, 2.62600000e+01],[7.40000000e+01, 2.20000000e+02, 2.75600000e+01],[7.00000000e+01, 1.80000000e+02, 2.39800000e+01],[7.10000000e+01, 1.80000000e+02, 2.97300000e+01],[7.00000000e+01, 1.70000000e+02, 3.13300000e+01],[7.50000000e+01, 1.95000000e+02, 2.71300000e+01],[7.10000000e+01, 1.80000000e+02, 2.67500000e+01],[7.10000000e+01, 1.70000000e+02, 2.70900000e+01],[7.30000000e+01, 2.06000000e+02, 2.92300000e+01],[7.20000000e+01, 2.05000000e+02, 2.88800000e+01],[7.10000000e+01, 2.00000000e+02, 3.30100000e+01],[7.30000000e+01, 2.25000000e+02, 3.05700000e+01],[7.20000000e+01, 2.01000000e+02, 3.12400000e+01],[7.50000000e+01, 2.25000000e+02, 2.49500000e+01],[7.40000000e+01, 2.33000000e+02, 2.46200000e+01],[7.40000000e+01, 1.80000000e+02, 2.49800000e+01],[7.50000000e+01, 2.25000000e+02, 2.62200000e+01],[7.30000000e+01, 1.80000000e+02, 2.60400000e+01],[7.70000000e+01, 2.20000000e+02, 2.64500000e+01],[7.30000000e+01, 1.80000000e+02, 2.52500000e+01],[7.60000000e+01, 2.37000000e+02, 2.77700000e+01],[7.50000000e+01, 2.15000000e+02, 3.51600000e+01],[7.40000000e+01, 1.90000000e+02, 3.71000000e+01],[7.60000000e+01, 2.35000000e+02, 3.45100000e+01],[7.50000000e+01, 1.90000000e+02, 2.92800000e+01],[7.30000000e+01, 1.80000000e+02, 3.21400000e+01],[7.10000000e+01, 1.65000000e+02, 2.39400000e+01],[7.60000000e+01, 1.95000000e+02, 2.74500000e+01],[7.50000000e+04, 2.00000000e+02, 2.87700000e+01],[7.20000000e+01, 1.90000000e+02, 2.35800000e+01],[7.10000000e+01, 1.90000000e+02, 2.75600000e+01],[7.70000000e+01, 1.85000000e+02, 2.40100000e+01],[7.30000000e+01, 1.85000000e+02, 2.65200000e+01],[7.40000000e+01, 2.05000000e+02, 3.55400000e+01],[7.10000000e+01, 1.90000000e+02, 2.94300000e+01],[7.20000000e+01, 2.05000000e+02, 2.99000000e+01],[7.40000000e+01, 2.06000000e+02, 3.27000000e+01],[7.50000000e+01, 2.20000000e+02, 2.88000000e+01],[7.30000000e+01, 2.08000000e+02, 3.28200000e+01],[7.20000000e+01, 1.70000000e+02, 2.43600000e+01],[7.50000000e+01, 1.95000000e+02, 3.26800000e+01],[7.50000000e+01, 2.10000000e+02, 3.15900000e+01],[7.40000000e+01, 1.90000000e+02, 3.33200000e+01],[7.20000000e+01, 2.11000000e+02, 3.29700000e+01],[7.40000000e+01, 2.30000000e+02, 3.27200000e+01],[7.10000000e+01, 1.70000000e+02, 2.25500000e+01],[7.00000000e+01, 1.85000000e+02, 2.74500000e+01],[7.40000000e+01, 1.85000000e+02, 3.82300000e+01],[7.70000000e+01, 2.41000000e+02, 3.11400000e+01],[7.70000000e+01, 2.25000000e+02, 3.47100000e+01],[7.50000000e+01, 2.10000000e+02, 2.61300000e+01],[7.50000000e+01, 1.75000000e+02, 2.44300000e+01],[7.80000000e+01, 2.30000000e+02, 2.37600000e+01],[7.50000000e+01, 2.00000000e+02, 2.69200000e+01],[7.60000000e+01, 2.15000000e+02, 2.58500000e+01],[7.30000000e+01, 1.98000000e+02, 3.01600000e+01],[7.50000000e+01, 2.26000000e+02, 2.50300000e+01],[7.50000000e+01, 2.78000000e+02, 2.42100000e+01],[7.90000000e+01, 2.15000000e+02, 2.65100000e+01],[7.70000000e+01, 2.30000000e+02, 2.63600000e+01],[7.60000000e+01, 2.40000000e+02, 3.08800000e+01],[7.10000000e+01, 1.84000000e+02, 3.25700000e+01],[7.50000000e+01, 2.19000000e+02, 3.76800000e+01],[7.40000000e+01, 1.70000000e+02, 3.72500000e+01],[6.90000000e+01, 2.18000000e+02, 3.52500000e+01],[7.10000000e+01, 1.90000000e+02, 3.39500000e+01],[7.60000000e+01, 2.25000000e+02, 3.26600000e+01],[7.20000000e+01, 2.20000000e+02, 2.66800000e+01],[7.20000000e+01, 1.76000000e+02, 2.51800000e+01],[7.00000000e+01, 1.90000000e+02, 3.13900000e+01],[7.20000000e+01, 1.97000000e+02, 3.37400000e+01],[7.30000000e+01, 2.04000000e+02, 3.14200000e+01],[7.10000000e+01, 1.67000000e+02, 2.75000000e+01],[7.20000000e+01, 1.80000000e+02, 2.42500000e+01],[7.10000000e+01, 1.95000000e+02, 2.97800000e+01],[7.30000000e+01, 2.20000000e+02, 3.00000000e+01],[7.20000000e+01, 2.15000000e+02, 3.30900000e+01],[7.30000000e+01, 1.85000000e+02, 2.59600000e+01],[7.40000000e+04, 1.90000000e+02, 2.33400000e+01],[7.40000000e+01, 2.05000000e+02, 2.99800000e+01],[7.20000000e+01, 2.05000000e+02, 3.82800000e+01],[7.50000000e+01, 2.00000000e+02, 2.49700000e+01],[7.40000000e+01, 2.10000000e+02, 2.43400000e+01],[7.40000000e+01, 2.15000000e+02, 2.94900000e+01],[7.70000000e+01, 2.00000000e+02, 2.40200000e+01],[7.50000000e+01, 2.05000000e+02, 2.47300000e+01],[7.30000000e+01, 2.11000000e+02, 4.23000000e+01],[7.20000000e+01, 1.90000000e+02, 2.95400000e+01],[7.10000000e+01, 2.08000000e+02, 2.99500000e+01],[7.40000000e+01, 2.00000000e+02, 2.92400000e+01],[7.70000000e+01, 2.10000000e+02, 3.03000000e+01],[7.50000000e+01, 2.32000000e+02, 4.07700000e+01],[7.50000000e+01, 2.30000000e+02, 3.88500000e+01],[7.50000000e+01, 2.10000000e+02, 2.23100000e+01],[7.80000000e+01, 2.20000000e+02, 2.54400000e+01],[7.80000000e+01, 2.10000000e+02, 2.17800000e+01],[7.40000000e+01, 2.02000000e+02, 2.26400000e+01],[7.60000000e+01, 2.12000000e+02, 2.61100000e+01],[7.80000000e+01, 2.25000000e+02, 2.75500000e+01],[7.60000000e+01, 1.70000000e+02, 2.46300000e+01],[7.00000000e+01, 1.90000000e+02, 2.35800000e+01],[7.20000000e+01, 2.00000000e+02, 3.07300000e+01],[8.00000000e+01, 2.37000000e+02, 3.21700000e+01],[7.40000000e+01, 2.20000000e+02, 3.04300000e+01],[7.40000000e+01, 1.70000000e+02, 2.32700000e+01],[7.10000000e+01, 1.93000000e+02, 3.25100000e+01],[7.00000000e+01, 1.90000000e+02, 2.50800000e+01],[7.20000000e+01, 1.50000000e+02, 2.24100000e+01],[7.10000000e+01, 2.20000000e+02, 2.79000000e+01],[7.40000000e+01, 2.00000000e+02, 3.47400000e+01],[7.10000000e+01, 1.90000000e+02, 3.07900000e+01],[7.20000000e+01, 1.85000000e+02, 2.57100000e+01],[7.10000000e+01, 1.85000000e+02, 2.92600000e+01],[7.40000000e+01, 2.00000000e+02, 2.15800000e+01],[6.90000000e+01, 1.72000000e+02, 3.33600000e+01],[7.60000000e+01, 2.20000000e+02, 2.49400000e+01],[7.50000000e+01, 2.25000000e+02, 2.09000000e+01],[7.50000000e+01, 1.90000000e+02, 2.15200000e+01],[7.60000000e+01, 1.95000000e+02, 2.58500000e+01],[7.30000000e+01, 2.19000000e+02, 2.72700000e+01],[7.60000000e+01, 1.90000000e+02, 2.67500000e+01],[7.30000000e+01, 1.97000000e+02, 3.60300000e+01],[7.70000000e+01, 2.00000000e+02, 3.05200000e+01],[7.30000000e+01, 1.95000000e+02, 3.25500000e+01],[7.20000000e+01, 2.10000000e+02, 2.98600000e+01],[7.20000000e+01, 1.77000000e+02, 2.95800000e+01],[7.70000000e+01, 2.20000000e+02, 3.00200000e+01],[7.70000000e+01, 2.35000000e+02, 2.91600000e+01],[7.10000000e+04, 1.80000000e+02, 2.23000000e+01],[7.40000000e+01, 1.95000000e+02, 2.20600000e+01],[7.40000000e+01, 1.95000000e+02, 2.56500000e+01],[7.30000000e+01, 1.90000000e+02, 2.54900000e+01],[7.80000000e+01, 2.30000000e+02, 2.78600000e+01],[7.50000000e+01, 1.90000000e+02, 2.37300000e+01],[7.30000000e+01, 2.00000000e+02, 3.17800000e+01],[7.00000000e+01, 1.90000000e+02, 2.30600000e+01],[7.40000000e+01, 1.90000000e+02, 2.66000000e+01],[7.20000000e+01, 2.00000000e+02, 2.93900000e+01],[7.30000000e+01, 2.00000000e+02, 2.65100000e+01],[7.30000000e+01, 1.84000000e+02, 2.50800000e+01],[7.50000000e+01, 2.00000000e+02, 2.57600000e+01],[7.50000000e+01, 1.80000000e+02, 2.25200000e+01],[7.40000000e+01, 2.19000000e+02, 2.55700000e+01],[7.60000000e+01, 1.87000000e+02, 2.54300000e+01],[7.30000000e+01, 2.00000000e+02, 3.46500000e+01],[7.40000000e+01, 2.20000000e+02, 2.26800000e+01],[7.50000000e+01, 2.05000000e+02, 2.14600000e+01],[7.50000000e+01, 1.90000000e+02, 2.34700000e+01],[7.20000000e+01, 1.70000000e+02, 2.31000000e+01],[7.30000000e+01, 1.60000000e+02, 2.91400000e+01],[7.30000000e+01, 2.15000000e+02, 2.97700000e+01],[7.20000000e+01, 1.75000000e+02, 2.38500000e+01],[7.40000000e+01, 2.05000000e+02, 2.88800000e+01],[7.80000000e+01, 2.00000000e+02, 2.44900000e+01],[7.60000000e+01, 2.14000000e+02, 2.51900000e+01],[7.30000000e+01, 2.00000000e+02, 2.74800000e+01],[7.40000000e+01, 1.90000000e+02, 2.83100000e+01],[7.50000000e+01, 1.80000000e+02, 2.65400000e+01],[7.00000000e+01, 2.05000000e+02, 2.67700000e+01],[7.50000000e+01, 2.20000000e+02, 2.37500000e+01],[7.10000000e+01, 1.90000000e+02, 2.64100000e+01],[7.20000000e+01, 2.15000000e+02, 3.64700000e+01],[7.80000000e+01, 2.35000000e+02, 2.60600000e+01],[7.50000000e+01, 1.91000000e+02, 2.75500000e+01],[7.30000000e+01, 2.00000000e+02, 3.12800000e+01],[7.30000000e+01, 1.81000000e+02, 2.90400000e+01],[7.10000000e+01, 2.00000000e+02, 3.29500000e+01],[7.50000000e+01, 2.10000000e+02, 2.66500000e+01],[7.70000000e+01, 2.40000000e+02, 2.75000000e+01],[7.20000000e+01, 1.85000000e+02, 3.09000000e+01],[6.90000000e+01, 1.65000000e+02, 2.90900000e+01],[7.30000000e+01, 1.90000000e+02, 3.66700000e+01],[7.40000000e+01, 1.85000000e+02, 2.34400000e+01],[7.20000000e+01, 1.75000000e+02, 2.90900000e+01],[7.00000000e+01, 1.55000000e+02, 2.28900000e+01],[7.50000000e+01, 2.10000000e+02, 2.54800000e+01],[7.00000000e+01, 1.70000000e+02, 2.58400000e+01],[7.20000000e+01, 1.75000000e+02, 2.72000000e+01],[7.20000000e+04, 2.20000000e+02, 2.52200000e+01],[7.40000000e+01, 2.10000000e+02, 2.46700000e+01],[7.30000000e+01, 2.05000000e+02, 3.92500000e+01],[7.40000000e+01, 2.00000000e+02, 3.21700000e+01],[7.60000000e+01, 2.05000000e+02, 3.27700000e+01],[7.50000000e+01, 1.95000000e+02, 2.98300000e+01],[8.00000000e+01, 2.40000000e+02, 3.10200000e+01],[7.20000000e+01, 1.50000000e+02, 2.97300000e+01],[7.50000000e+01, 2.00000000e+02, 2.84800000e+01],[7.30000000e+01, 2.15000000e+02, 2.65100000e+01],[7.40000000e+01, 2.02000000e+02, 2.60000000e+01],[7.40000000e+01, 2.00000000e+02, 2.33600000e+01],[7.30000000e+01, 1.90000000e+02, 2.59000000e+01],[7.50000000e+01, 2.05000000e+02, 2.85000000e+01],[7.50000000e+01, 1.90000000e+02, 2.56200000e+01],[7.10000000e+01, 1.60000000e+02, 3.09400000e+01],[7.30000000e+01, 2.15000000e+02, 2.65900000e+01],[7.50000000e+01, 1.85000000e+02, 2.27800000e+01],[7.40000000e+01, 2.00000000e+02, 3.22600000e+01],[7.40000000e+01, 1.90000000e+02, 3.03500000e+01],[7.20000000e+01, 2.10000000e+02, 3.32600000e+01],[7.40000000e+01, 1.85000000e+02, 3.23500000e+01],[7.40000000e+01, 2.20000000e+02, 2.73000000e+01],[7.40000000e+01, 1.90000000e+02, 3.20800000e+01],[7.30000000e+01, 2.02000000e+02, 2.52500000e+01],[7.60000000e+01, 2.05000000e+02, 2.50300000e+01],[7.50000000e+01, 2.20000000e+02, 2.68900000e+01],[7.20000000e+01, 1.75000000e+02, 2.46900000e+01],[7.30000000e+01, 1.60000000e+02, 2.24400000e+01],[7.30000000e+01, 1.90000000e+02, 3.03600000e+01],[7.30000000e+01, 2.00000000e+02, 2.62700000e+01],[7.20000000e+01, 2.29000000e+02, 2.95000000e+01],[7.20000000e+01, 2.06000000e+02, 2.97500000e+01],[7.20000000e+01, 2.20000000e+02, 3.83000000e+01],[7.20000000e+01, 1.80000000e+02, 3.97500000e+01],[7.10000000e+01, 1.95000000e+02, 3.28400000e+01],[7.50000000e+01, 1.75000000e+02, 2.66600000e+01],[7.50000000e+01, 1.88000000e+02, 2.49400000e+01],[7.40000000e+01, 2.30000000e+02, 2.77600000e+01],[7.30000000e+01, 1.90000000e+02, 2.36600000e+01],[7.50000000e+01, 2.00000000e+02, 2.49600000e+01],[7.90000000e+01, 1.90000000e+02, 2.36500000e+01],[7.40000000e+01, 2.19000000e+02, 2.94200000e+01],[7.60000000e+01, 2.35000000e+02, 3.21800000e+01],[7.30000000e+01, 1.80000000e+02, 2.66600000e+01],[7.40000000e+01, 1.80000000e+02, 2.74700000e+01],[7.40000000e+01, 1.80000000e+02, 2.56600000e+01],[7.20000000e+01, 2.00000000e+02, 3.51300000e+01],[7.40000000e+01, 2.34000000e+02, 3.11500000e+01],[7.40000000e+01, 1.85000000e+02, 3.56700000e+01],[7.50000000e+04, 2.20000000e+02, 2.96000000e+01],[7.80000000e+01, 2.23000000e+02, 3.01400000e+01],[7.40000000e+01, 2.00000000e+02, 2.45300000e+01],[7.40000000e+01, 2.10000000e+02, 2.44900000e+01],[7.40000000e+01, 2.00000000e+02, 2.62800000e+01],[7.70000000e+01, 2.10000000e+02, 2.40600000e+01],[7.00000000e+01, 1.90000000e+02, 3.58800000e+01],[7.30000000e+01, 1.77000000e+02, 3.04200000e+01],[7.40000000e+01, 2.27000000e+02, 3.00900000e+01],[7.30000000e+01, 1.80000000e+02, 2.65000000e+01],[7.10000000e+01, 1.95000000e+02, 2.49400000e+01],[7.50000000e+01, 1.99000000e+02, 2.96000000e+01],[7.10000000e+01, 1.75000000e+02, 3.24300000e+01],[7.20000000e+01, 1.85000000e+02, 3.71600000e+01],[7.70000000e+01, 2.40000000e+02, 3.05700000e+01],[7.40000000e+01, 2.10000000e+02, 2.70100000e+01],[7.00000000e+01, 1.80000000e+02, 3.02300000e+01],[7.70000000e+01, 1.94000000e+02, 2.60300000e+01],[7.30000000e+01, 2.25000000e+02, 2.82300000e+01],[7.20000000e+01, 1.80000000e+02, 2.52100000e+01],[7.60000000e+01, 2.05000000e+02, 2.54500000e+01],[7.10000000e+01, 1.93000000e+02, 2.62400000e+01],[7.60000000e+01, 2.30000000e+02, 3.01500000e+01],[7.80000000e+01, 2.30000000e+02, 2.98000000e+01],[7.50000000e+01, 2.20000000e+02, 3.34100000e+01],[7.30000000e+01, 2.00000000e+02, 3.09500000e+01],[7.80000000e+01, 2.49000000e+02, 3.11700000e+01],[7.40000000e+01, 1.90000000e+02, 3.09500000e+01],[7.90000000e+01, 2.08000000e+02, 2.94400000e+01],[7.50000000e+01, 2.45000000e+02, 2.71400000e+01],[7.60000000e+01, 2.50000000e+02, 2.62100000e+01],[7.20000000e+01, 1.60000000e+02, 2.40800000e+01],[7.50000000e+01, 1.92000000e+02, 2.39600000e+01],[7.50000000e+01, 2.20000000e+02, 2.49400000e+01],[7.00000000e+01, 1.70000000e+02, 2.95600000e+01],[7.20000000e+01, 1.97000000e+02, 2.64200000e+01],[7.00000000e+01, 1.55000000e+02, 2.39200000e+01],[7.40000000e+01, 1.90000000e+02, 2.52300000e+01],[7.10000000e+01, 2.00000000e+02, 3.58200000e+01],[7.60000000e+01, 2.20000000e+02, 2.38700000e+01],[7.30000000e+01, 2.10000000e+02, 3.25700000e+01],[7.60000000e+01, 2.28000000e+02, 2.57900000e+01],[7.10000000e+01, 1.90000000e+02, 3.14700000e+01],[6.90000000e+01, 1.60000000e+02, 2.26100000e+01],[7.20000000e+01, 1.84000000e+02, 2.48500000e+01],[7.20000000e+01, 1.80000000e+02, 2.73300000e+01],[6.90000000e+01, 1.80000000e+02, 2.66700000e+01],[7.30000000e+01, 2.00000000e+02, 3.74300000e+01],[6.90000000e+01, 1.76000000e+02, 2.93100000e+01],[7.30000000e+01, 1.60000000e+02, 2.98500000e+01],[7.40000000e+04, 2.22000000e+02, 2.79300000e+01],[7.40000000e+01, 2.11000000e+02, 3.16200000e+01],[7.20000000e+01, 1.95000000e+02, 3.05500000e+01],[7.10000000e+01, 2.00000000e+02, 2.47700000e+01],[7.20000000e+01, 1.75000000e+02, 3.37700000e+01],[7.20000000e+01, 2.06000000e+02, 2.79700000e+01],[7.60000000e+01, 2.40000000e+02, 2.78500000e+01],[7.60000000e+01, 1.85000000e+02, 2.32600000e+01],[7.60000000e+01, 2.60000000e+02, 2.53800000e+01],[7.40000000e+01, 1.85000000e+02, 2.33500000e+01],[7.60000000e+01, 2.21000000e+02, 2.54500000e+01],[7.50000000e+01, 2.05000000e+02, 2.64900000e+01],[7.10000000e+01, 2.00000000e+02, 2.40000000e+01],[7.20000000e+01, 1.70000000e+02, 2.41600000e+01],[7.10000000e+01, 2.01000000e+02, 2.81000000e+01],[7.30000000e+01, 2.05000000e+02, 2.56500000e+01],[7.50000000e+01, 1.85000000e+02, 2.85800000e+01],[7.60000000e+01, 2.05000000e+02, 3.22700000e+01],[7.50000000e+01, 2.45000000e+02, 2.98600000e+01],[7.10000000e+01, 2.20000000e+02, 2.51400000e+01],[7.50000000e+01, 2.10000000e+02, 2.30300000e+01],[7.40000000e+01, 2.20000000e+02, 3.02500000e+01],[7.20000000e+01, 1.85000000e+02, 3.06700000e+01],[7.30000000e+01, 1.75000000e+02, 2.77300000e+01],[7.30000000e+01, 1.70000000e+02, 2.33400000e+01],[7.30000000e+01, 1.80000000e+02, 2.59400000e+01],[7.30000000e+01, 2.00000000e+02, 3.15600000e+01],[7.60000000e+01, 2.10000000e+02, 3.48500000e+01],[7.20000000e+01, 1.75000000e+02, 2.39800000e+01],[7.60000000e+01, 2.20000000e+02, 2.31400000e+01],[7.30000000e+01, 2.06000000e+02, 2.89900000e+01],[7.30000000e+01, 1.80000000e+02, 2.50200000e+01],[7.30000000e+01, 2.10000000e+02, 2.98500000e+01],[7.50000000e+01, 1.95000000e+02, 2.70300000e+01],[7.50000000e+01, 2.00000000e+02, 2.51500000e+01],[7.70000000e+01, 2.00000000e+02, 2.71200000e+01],[7.30000000e+01, 1.64000000e+02, 3.16300000e+01],[7.20000000e+01, 1.80000000e+02, 3.26200000e+01],[7.50000000e+01, 2.20000000e+02, 3.97900000e+01],[7.00000000e+01, 1.95000000e+02, 3.44700000e+01],[7.40000000e+01, 2.05000000e+02, 2.34700000e+01],[7.20000000e+01, 1.70000000e+02, 2.53100000e+01],[8.00000000e+01, 2.40000000e+02, 2.71000000e+01],[7.10000000e+01, 2.10000000e+02, 2.43500000e+01],[7.10000000e+01, 1.95000000e+02, 2.34500000e+01],[7.40000000e+01, 2.00000000e+02, 2.82400000e+01],[7.40000000e+01, 2.05000000e+02, 2.87700000e+01],[7.30000000e+01, 1.92000000e+02, 2.65300000e+01],[7.50000000e+01, 1.90000000e+02, 2.56400000e+01],[7.60000000e+01, 1.70000000e+02, 2.58300000e+01],[7.30000000e+04, 2.40000000e+02, 3.80600000e+01],[7.70000000e+01, 2.00000000e+02, 3.63800000e+01],[7.20000000e+01, 2.05000000e+02, 2.52700000e+01],[7.30000000e+01, 1.75000000e+02, 2.72000000e+01],[7.70000000e+01, 2.50000000e+02, 3.15900000e+01],[7.60000000e+01, 2.20000000e+02, 2.95600000e+01],[7.10000000e+01, 2.24000000e+02, 3.55000000e+01],[7.50000000e+01, 2.10000000e+02, 3.03500000e+01],[7.30000000e+01, 1.95000000e+02, 2.41100000e+01],[7.40000000e+01, 1.80000000e+02, 2.32900000e+01],[7.70000000e+01, 2.45000000e+02, 3.14800000e+01],[7.10000000e+01, 1.75000000e+02, 2.72300000e+01],[7.20000000e+01, 1.80000000e+02, 2.40700000e+01],[7.30000000e+01, 2.15000000e+02, 2.86800000e+01],[6.90000000e+01, 1.75000000e+02, 2.70500000e+01],[7.30000000e+01, 1.80000000e+02, 3.11500000e+01],[7.00000000e+01, 1.95000000e+02, 3.18500000e+01],[7.40000000e+01, 2.30000000e+02, 3.16800000e+01],[7.60000000e+01, 2.30000000e+02, 3.42300000e+01],[7.30000000e+01, 2.05000000e+02, 3.20100000e+01],[7.30000000e+01, 2.15000000e+02, 2.54100000e+01],[7.50000000e+01, 1.95000000e+02, 2.47300000e+01],[7.30000000e+01, 1.80000000e+02, 2.56600000e+01],[7.90000000e+01, 2.05000000e+02, 2.45000000e+01],[7.40000000e+01, 1.80000000e+02, 2.43800000e+01],[7.30000000e+01, 1.90000000e+02, 2.68900000e+01],[7.40000000e+01, 1.80000000e+02, 2.42000000e+01],[7.70000000e+01, 1.90000000e+02, 2.69700000e+01],[7.50000000e+01, 1.90000000e+02, 2.52100000e+01],[7.40000000e+01, 2.20000000e+02, 3.04600000e+01],[7.30000000e+01, 2.10000000e+02, 2.85300000e+01],[7.70000000e+01, 2.55000000e+02, 2.57500000e+01],[7.30000000e+01, 1.90000000e+02, 3.11500000e+01],[7.70000000e+01, 2.30000000e+02, 2.64800000e+01],[7.40000000e+01, 2.00000000e+02, 2.69300000e+01],[7.40000000e+01, 2.05000000e+02, 2.95500000e+01],[7.30000000e+01, 2.10000000e+02, 3.47500000e+01],[7.70000000e+01, 2.25000000e+02, 2.97100000e+01],[7.40000000e+01, 2.15000000e+02, 2.98300000e+01],[7.70000000e+01, 2.20000000e+02, 3.35700000e+01],[7.50000000e+01, 2.05000000e+02, 2.82100000e+01],[7.70000000e+01, 2.00000000e+02, 2.75400000e+01],[7.50000000e+01, 2.20000000e+02, 2.60500000e+01],[7.10000000e+01, 1.97000000e+02, 2.36400000e+01],[7.40000000e+01, 2.25000000e+02, 2.48200000e+01],[7.00000000e+01, 1.87000000e+02, 2.98000000e+01],[7.90000000e+01, 2.45000000e+02, 3.47100000e+01],[7.20000000e+01, 1.85000000e+02, 2.92200000e+01],[7.20000000e+01, 1.85000000e+02, 2.39600000e+01],[7.00000000e+01, 1.75000000e+02, 2.38700000e+01],[7.40000000e+04, 2.00000000e+02, 2.67700000e+01],[7.40000000e+01, 1.80000000e+02, 2.34900000e+01],[7.20000000e+01, 1.88000000e+02, 2.67700000e+01],[7.30000000e+01, 2.25000000e+02, 2.45100000e+01],[7.20000000e+01, 2.00000000e+02, 3.32300000e+01],[7.40000000e+01, 2.10000000e+02, 3.10400000e+01],[7.40000000e+01, 2.45000000e+02, 3.20200000e+01],[7.60000000e+01, 2.13000000e+02, 3.14400000e+01],[8.20000000e+01, 2.31000000e+02, 4.34700000e+01],[7.40000000e+01, 1.65000000e+02, 2.83800000e+01],[7.40000000e+01, 2.28000000e+02, 2.78100000e+01],[7.00000000e+01, 2.10000000e+02, 2.45700000e+01],[7.30000000e+01, 2.50000000e+02, 2.33400000e+01],[7.30000000e+01, 1.91000000e+02, 2.70900000e+01],[7.40000000e+01, 1.90000000e+02, 2.51400000e+01],[7.70000000e+01, 2.00000000e+02, 2.70700000e+01],[7.20000000e+01, 2.15000000e+02, 2.40200000e+01],[7.60000000e+01, 2.54000000e+02, 2.76000000e+01],[7.30000000e+01, 2.32000000e+02, 2.79900000e+01],[7.30000000e+01, 1.80000000e+02, 2.75600000e+01],[7.20000000e+01, 2.15000000e+02, 2.86300000e+01],[7.40000000e+01, 2.20000000e+02, 3.09900000e+01],[7.40000000e+01, 1.80000000e+02, 2.63300000e+01],[7.10000000e+01, 2.00000000e+02, 2.69700000e+01],[7.20000000e+01, 1.70000000e+02, 2.28500000e+01],[7.50000000e+01, 1.95000000e+02, 2.31900000e+01],[7.40000000e+01, 2.10000000e+02, 2.38700000e+01],[7.40000000e+01, 2.00000000e+02, 3.39800000e+01],[7.70000000e+01, 2.20000000e+02, 2.82600000e+01],[7.00000000e+01, 1.65000000e+02, 2.91200000e+01],[7.10000000e+01, 1.80000000e+02, 2.61800000e+01],[7.30000000e+01, 2.00000000e+02, 2.80300000e+01],[7.60000000e+01, 2.00000000e+02, 2.30800000e+01],[7.10000000e+01, 1.70000000e+02, 2.62400000e+01],[7.50000000e+01, 2.24000000e+02, 2.66300000e+01],[7.40000000e+01, 2.20000000e+02, 2.42100000e+01],[7.20000000e+01, 1.80000000e+02, 2.30100000e+01],[7.60000000e+01, 1.98000000e+02, 2.31300000e+01],[7.90000000e+01, 2.40000000e+02, 2.30800000e+01],[7.60000000e+01, 2.39000000e+02, 2.51300000e+01],[7.30000000e+01, 1.85000000e+02, 2.46600000e+01],[7.60000000e+01, 2.10000000e+02, 2.60300000e+01],[7.80000000e+01, 2.20000000e+02, 2.87000000e+01],[7.50000000e+01, 2.00000000e+02, 2.55700000e+01],[7.60000000e+01, 1.95000000e+02, 2.46500000e+01],[7.20000000e+01, 2.20000000e+02, 2.55500000e+01],[7.20000000e+01, 2.30000000e+02, 2.22700000e+01],[7.30000000e+01, 1.70000000e+02, 2.47600000e+01],[7.30000000e+01, 2.20000000e+02, 2.39800000e+01],[7.50000000e+01, 2.30000000e+02, 2.78500000e+01],[7.10000000e+04, 1.65000000e+02, 2.21400000e+01],[7.60000000e+01, 2.05000000e+02, 2.70500000e+01],[7.00000000e+01, 1.92000000e+02, 3.14500000e+01],[7.50000000e+01, 2.10000000e+02, 3.20300000e+01],[7.40000000e+01, 2.05000000e+02, 2.99500000e+01],[7.50000000e+01, 2.00000000e+02, 2.34700000e+01],[7.30000000e+01, 2.10000000e+02, 3.72100000e+01],[7.10000000e+01, 1.85000000e+02, 2.56700000e+01],[7.10000000e+01, 1.95000000e+02, 3.46900000e+01],[7.20000000e+01, 2.02000000e+02, 3.00400000e+01],[7.30000000e+01, 2.05000000e+02, 3.25200000e+01],[7.30000000e+01, 1.95000000e+02, 2.41500000e+01],[7.20000000e+01, 1.80000000e+02, 2.68600000e+01],[6.90000000e+01, 2.00000000e+02, 2.79400000e+01],[7.30000000e+01, 1.85000000e+02, 2.66300000e+01],[7.80000000e+01, 2.40000000e+02, 2.73100000e+01],[7.10000000e+01, 1.85000000e+02, 3.05500000e+01],[7.30000000e+01, 2.20000000e+02, 4.06800000e+01],[7.50000000e+01, 2.05000000e+02, 3.72700000e+01],[7.60000000e+01, 2.05000000e+02, 2.57800000e+01],[7.00000000e+01, 1.80000000e+02, 3.09800000e+01],[7.40000000e+01, 2.01000000e+02, 2.84100000e+01],[7.70000000e+01, 1.90000000e+02, 3.00100000e+01],[7.50000000e+01, 2.08000000e+02, 3.15700000e+01],[7.90000000e+01, 2.40000000e+02, 2.88100000e+01],[7.20000000e+01, 1.80000000e+02, 2.40900000e+01],[7.70000000e+01, 2.30000000e+02, 2.64700000e+01],[7.30000000e+01, 1.95000000e+02, 3.05000000e+01],[7.50000000e+01, 2.15000000e+02, 2.37400000e+01],[7.50000000e+01, 1.90000000e+02, 2.44900000e+01],[7.50000000e+01, 1.95000000e+02, 2.67300000e+01],[7.30000000e+01, 2.15000000e+02, 2.70100000e+01],[7.30000000e+01, 2.15000000e+02, 3.97500000e+01],[7.60000000e+01, 2.20000000e+02, 2.71600000e+01],[7.70000000e+01, 2.20000000e+02, 2.57400000e+01],[7.50000000e+01, 2.30000000e+02, 3.74300000e+01],[7.00000000e+01, 1.95000000e+02, 3.98500000e+01],[7.10000000e+01, 1.90000000e+02, 2.86200000e+01],[7.10000000e+01, 1.95000000e+02, 2.39000000e+01],[7.50000000e+01, 2.09000000e+02, 2.51800000e+01],[7.40000000e+01, 2.04000000e+02, 3.35300000e+01],[6.90000000e+01, 1.70000000e+02, 3.30300000e+01],[7.00000000e+01, 1.85000000e+02, 3.13500000e+01],[7.50000000e+01, 2.05000000e+02, 2.23900000e+01],[7.20000000e+01, 1.75000000e+02, 2.79900000e+01],[7.50000000e+01, 2.10000000e+02, 2.72200000e+01],[7.30000000e+01, 1.90000000e+02, 2.74900000e+01],[7.20000000e+01, 1.80000000e+02, 2.75300000e+01],[7.20000000e+01, 1.80000000e+02, 2.62600000e+01],[7.20000000e+01, 1.60000000e+02, 2.51800000e+01],[7.60000000e+04, 2.35000000e+02, 2.71200000e+01],[7.50000000e+01, 2.00000000e+02, 2.76900000e+01],[7.40000000e+01, 2.10000000e+02, 2.56900000e+01],[6.90000000e+01, 1.80000000e+02, 2.81100000e+01],[7.30000000e+01, 1.90000000e+02, 3.12100000e+01],[7.20000000e+01, 1.97000000e+02, 3.08000000e+01],[7.20000000e+01, 2.03000000e+02, 3.02100000e+01],[7.50000000e+01, 2.05000000e+02, 2.80600000e+01],[7.70000000e+01, 1.70000000e+02, 2.65200000e+01],[7.60000000e+01, 2.00000000e+02, 2.31000000e+01],[8.00000000e+01, 2.50000000e+02, 2.50200000e+01],[7.70000000e+01, 2.00000000e+02, 2.61400000e+01],[7.60000000e+01, 2.20000000e+02, 2.53800000e+01],[7.90000000e+01, 2.00000000e+02, 2.76000000e+01],[7.10000000e+01, 1.90000000e+02, 2.55000000e+01],[7.50000000e+01, 1.70000000e+02, 2.42400000e+01],[7.30000000e+01, 1.90000000e+02, 2.33200000e+01],[7.60000000e+01, 2.20000000e+02, 3.15600000e+01],[7.70000000e+01, 2.15000000e+02, 3.41900000e+01],[7.30000000e+01, 2.06000000e+02, 3.67800000e+01],[7.60000000e+01, 2.15000000e+02, 2.77300000e+01],[7.00000000e+01, 1.85000000e+02, 3.48800000e+01],[7.50000000e+01, 2.35000000e+02, 3.10000000e+01],[7.30000000e+01, 1.88000000e+02, 4.85200000e+01],[7.50000000e+01, 2.30000000e+02, 3.46800000e+01],[7.00000000e+01, 1.95000000e+02, 3.73800000e+01],[6.90000000e+01, 1.68000000e+02, 2.43300000e+01],[7.10000000e+01, 1.90000000e+02, 3.73000000e+01],[7.20000000e+01, 1.60000000e+02, 2.37200000e+01],[7.20000000e+01, 2.00000000e+02, 2.41900000e+01],[7.30000000e+01, 2.00000000e+02, 2.57000000e+01],[7.00000000e+01, 1.89000000e+02, 2.90600000e+01],[7.00000000e+01, 1.80000000e+02, 3.34800000e+01],[7.30000000e+01, 1.90000000e+02, 2.98500000e+01],[7.60000000e+01, 2.00000000e+02, 3.43000000e+01],[7.50000000e+01, 2.20000000e+02, 4.06600000e+01],[7.20000000e+01, 1.87000000e+02, 2.19000000e+01],[7.30000000e+01, 2.40000000e+02, 2.73900000e+01],[7.90000000e+01, 1.90000000e+02, 2.31300000e+01],[7.10000000e+01, 1.80000000e+02, 3.53500000e+01],[7.20000000e+01, 1.85000000e+02, 4.09300000e+01],[7.40000000e+01, 2.10000000e+02, 3.36700000e+01],[7.40000000e+01, 2.20000000e+02, 3.73900000e+01],[7.40000000e+01, 2.19000000e+02, 2.79700000e+01],[7.20000000e+01, 1.90000000e+02, 2.55400000e+01],[7.60000000e+01, 1.93000000e+02, 2.58100000e+01],[7.60000000e+01, 1.75000000e+02, 2.25300000e+01],[7.20000000e+01, 1.80000000e+02, 2.28600000e+01],[7.20000000e+01, 2.15000000e+02, 2.40700000e+01],[7.10000000e+01, 2.10000000e+02, 2.95000000e+01],[7.20000000e+04, 2.00000000e+02, 3.00300000e+01],[7.20000000e+01, 1.90000000e+02, 2.73800000e+01],[7.00000000e+01, 1.85000000e+02, 3.05100000e+01],[7.70000000e+01, 2.20000000e+02, 2.83000000e+01],[7.40000000e+01, 1.70000000e+02, 2.98400000e+01],[7.20000000e+01, 1.95000000e+02, 3.34100000e+01],[7.60000000e+01, 2.05000000e+02, 3.36000000e+01],[7.10000000e+01, 1.95000000e+02, 3.56000000e+01],[7.60000000e+01, 2.10000000e+02, 2.41900000e+01],[7.10000000e+01, 1.90000000e+02, 3.78800000e+01],[7.30000000e+01, 1.90000000e+02, 2.75600000e+01],[7.00000000e+01, 1.80000000e+02, 2.44200000e+01],[7.30000000e+01, 2.20000000e+02, 3.10500000e+01],[7.30000000e+01, 1.90000000e+02, 3.15600000e+01],[7.20000000e+01, 1.86000000e+02, 3.55500000e+01],[7.10000000e+01, 1.85000000e+02, 4.12100000e+01],[7.10000000e+01, 1.90000000e+02, 2.71200000e+01],[7.10000000e+01, 1.80000000e+02, 2.69700000e+01],[7.20000000e+01, 1.90000000e+02, 2.89200000e+01],[7.20000000e+01, 1.70000000e+02, 3.00600000e+01],[7.40000000e+01, 2.10000000e+02, 3.15100000e+01],[7.40000000e+01, 2.40000000e+02, 3.06900000e+01],[7.40000000e+01, 2.20000000e+02, 3.01900000e+01],[7.10000000e+01, 1.80000000e+02, 3.81100000e+01],[7.20000000e+01, 2.10000000e+02, 2.86800000e+01],[7.50000000e+01, 2.10000000e+02, 2.74400000e+01],[7.20000000e+01, 1.95000000e+02, 2.46300000e+01],[7.10000000e+01, 1.60000000e+02, 2.81100000e+01],[7.20000000e+01, 1.80000000e+02, 2.89000000e+01],[7.20000000e+01, 2.05000000e+02, 2.41100000e+01],[7.20000000e+01, 2.00000000e+02, 4.05300000e+01],[7.20000000e+01, 1.85000000e+02, 2.95000000e+01],[7.40000000e+01, 2.45000000e+02, 2.86200000e+01],[7.40000000e+01, 1.90000000e+02, 2.64200000e+01],[7.70000000e+01, 2.10000000e+02, 3.01800000e+01],[7.50000000e+01, 2.00000000e+02, 3.37500000e+01],[7.30000000e+01, 2.00000000e+02, 3.00600000e+01],[7.50000000e+01, 2.22000000e+02, 2.92200000e+01],[7.30000000e+01, 2.15000000e+02, 2.44700000e+01],[7.60000000e+01, 2.40000000e+02, 2.49400000e+01],[7.20000000e+01, 1.70000000e+02, 2.87700000e+01],[7.70000000e+01, 2.20000000e+02, 2.85400000e+01],[7.50000000e+01, 1.56000000e+02, 2.73200000e+01],[7.20000000e+01, 1.90000000e+02, 3.51200000e+01],[7.10000000e+01, 2.02000000e+02, 2.40400000e+01],[7.10000000e+01, 2.21000000e+02, 3.63900000e+01],[7.50000000e+01, 2.00000000e+02, 2.28100000e+01],[7.20000000e+01, 1.90000000e+02, 3.36000000e+01],[7.30000000e+01, 2.10000000e+02, 3.89800000e+01],[7.30000000e+01, 1.90000000e+02, 3.43900000e+01],[7.10000000e+04, 2.00000000e+02, 3.31500000e+01],[7.00000000e+01, 1.65000000e+02, 2.93500000e+01],[7.50000000e+01, 1.90000000e+02, 2.65900000e+01],[7.10000000e+01, 1.85000000e+02, 2.34600000e+01],[7.60000000e+01, 2.30000000e+02, 2.24300000e+01],[7.30000000e+01, 2.08000000e+02, 2.48900000e+01],[6.80000000e+01, 2.09000000e+02, 2.46700000e+01],[7.10000000e+01, 1.75000000e+02, 2.61700000e+01],[7.20000000e+01, 1.80000000e+02, 2.95400000e+01],[7.40000000e+01, 2.00000000e+02, 3.94900000e+01],[7.70000000e+01, 2.05000000e+02, 3.40800000e+01],[7.20000000e+01, 2.00000000e+02, 3.05200000e+01],[7.60000000e+01, 2.50000000e+02, 2.87700000e+01],[7.80000000e+01, 2.10000000e+02, 3.37500000e+01],[8.10000000e+01, 2.30000000e+02, 3.26900000e+01],[7.20000000e+01, 2.44000000e+02, 2.25900000e+01],[7.30000000e+01, 2.02000000e+02, 3.70400000e+01],[7.60000000e+01, 2.40000000e+02, 2.27000000e+01],[7.20000000e+01, 2.00000000e+02, 2.56000000e+01],[7.20000000e+01, 2.15000000e+02, 2.72300000e+01],[7.40000000e+01, 1.77000000e+02, 2.57400000e+01],[7.60000000e+01, 2.10000000e+02, 3.02900000e+01],[7.30000000e+01, 1.70000000e+02, 2.67200000e+01],[7.60000000e+01, 2.15000000e+02, 3.39000000e+01],[7.50000000e+01, 2.17000000e+02, 2.98600000e+01],[7.00000000e+01, 1.98000000e+02, 3.61300000e+01],[7.10000000e+01, 2.00000000e+02, 2.75400000e+01],[7.40000000e+01, 2.20000000e+02, 3.14900000e+01],[7.20000000e+01, 1.70000000e+02, 2.81000000e+01],[7.30000000e+01, 2.00000000e+02, 3.40700000e+01],[7.60000000e+01, 2.30000000e+02, 2.72800000e+01],[7.60000000e+01, 2.31000000e+02, 3.08000000e+01],[7.30000000e+01, 1.83000000e+02, 2.82000000e+01],[7.10000000e+01, 1.92000000e+02, 2.79000000e+01],[6.80000000e+01, 1.67000000e+02, 2.82600000e+01],[7.10000000e+01, 1.90000000e+02, 3.09600000e+01],[7.10000000e+01, 1.80000000e+02, 2.41800000e+01],[7.40000000e+01, 1.80000000e+02, 2.75200000e+01],[7.70000000e+01, 2.15000000e+02, 2.77800000e+01],[6.90000000e+01, 1.60000000e+02, 2.62500000e+01],[7.20000000e+01, 2.05000000e+02, 2.95000000e+01],[7.60000000e+01, 2.23000000e+02, 3.03900000e+01],[7.50000000e+01, 1.75000000e+02, 2.31800000e+01],[7.60000000e+01, 1.70000000e+02, 2.58100000e+01],[7.50000000e+01, 1.90000000e+02, 2.30100000e+01],[7.60000000e+01, 2.40000000e+02, 3.17200000e+01],[7.20000000e+01, 1.75000000e+02, 4.42800000e+01],[7.40000000e+01, 2.30000000e+02, 3.69100000e+01],[7.60000000e+01, 2.23000000e+02, 2.65400000e+01],[7.40000000e+01, 1.96000000e+02, 2.92700000e+01],[7.20000000e+04, 1.67000000e+02, 3.05100000e+01],[7.50000000e+01, 1.95000000e+02, 3.12800000e+01],[7.80000000e+01, 1.90000000e+02, 2.65100000e+01],[7.70000000e+01, 2.50000000e+02, 3.48700000e+01],[7.00000000e+01, 1.90000000e+02, 3.92800000e+01],[7.20000000e+01, 1.90000000e+02, 2.85600000e+01],[7.90000000e+01, 1.90000000e+02, 2.78200000e+01],[7.40000000e+01, 1.70000000e+02, 2.59400000e+01],[7.10000000e+01, 1.60000000e+02, 2.85300000e+01],[6.80000000e+01, 1.50000000e+02, 2.21100000e+01],[7.70000000e+01, 2.25000000e+02, 2.77100000e+01],[7.50000000e+01, 2.20000000e+02, 3.73800000e+01],[7.10000000e+01, 2.09000000e+02, 3.06700000e+01],[7.20000000e+01, 2.10000000e+02, 3.04800000e+01],[7.00000000e+01, 1.76000000e+02, 2.71200000e+01],[7.20000000e+01, 2.60000000e+02, 2.28100000e+01],[7.20000000e+01, 1.95000000e+02, 2.44600000e+01],[7.30000000e+01, 1.90000000e+02, 3.47300000e+01],[7.20000000e+01, 1.84000000e+02, 3.65300000e+01],[7.40000000e+01, 1.80000000e+02, 2.45300000e+01],[7.20000000e+01, 1.95000000e+02, 2.71700000e+01],[7.20000000e+01, 1.95000000e+02, 2.69000000e+01],[7.50000000e+01, 2.19000000e+02, 3.36700000e+01],[7.20000000e+01, 2.25000000e+02, 2.91400000e+01],[7.30000000e+01, 2.12000000e+02, 3.26100000e+01],[7.40000000e+01, 2.02000000e+02, 3.38700000e+01],[7.20000000e+01, 1.85000000e+02, 2.44100000e+01],[7.80000000e+01, 2.00000000e+02, 2.49400000e+01],[7.50000000e+01, 2.09000000e+02, 2.73600000e+01],[7.20000000e+01, 2.00000000e+02, 2.63300000e+01],[7.40000000e+01, 1.95000000e+02, 2.57200000e+01],[7.50000000e+01, 2.28000000e+02, 2.87000000e+01],[7.50000000e+01, 2.10000000e+02, 2.85300000e+01],[7.60000000e+01, 1.90000000e+02, 2.60700000e+01],[7.40000000e+01, 2.12000000e+02, 2.73100000e+01],[7.40000000e+01, 1.90000000e+02, 2.32600000e+01],[7.30000000e+01, 2.18000000e+02, 2.86200000e+01],[7.40000000e+01, 2.20000000e+02, 3.21600000e+01],[7.10000000e+01, 1.90000000e+02, 3.84300000e+01],[7.40000000e+01, 2.35000000e+02, 3.18100000e+01],[7.50000000e+01, 2.10000000e+02, 2.91000000e+01],[7.60000000e+01, 2.00000000e+02, 3.12800000e+01],[7.40000000e+01, 1.88000000e+02, 2.91700000e+01],[7.60000000e+01, 2.10000000e+02, 2.58900000e+01],[7.60000000e+01, 2.35000000e+02, 2.61300000e+01],[7.30000000e+01, 1.88000000e+02, 2.91300000e+01],[7.50000000e+01, 2.15000000e+02, 2.89200000e+01],[7.50000000e+01, 2.16000000e+02, 2.60100000e+01],[7.40000000e+01, 2.20000000e+02, 2.48100000e+01],[6.80000000e+01, 1.80000000e+02, 2.87900000e+01],[7.20000000e+04, 1.85000000e+02, 3.37700000e+01],[7.50000000e+01, 2.00000000e+02, 3.38500000e+01],[7.10000000e+01, 2.10000000e+02, 2.73600000e+01],[7.00000000e+01, 2.20000000e+02, 2.60100000e+01],[7.20000000e+01, 1.85000000e+02, 2.99500000e+01],[7.30000000e+01, 2.31000000e+02, 2.81200000e+01],[7.20000000e+01, 2.10000000e+02, 3.28700000e+01],[7.50000000e+01, 1.95000000e+02, 3.12000000e+01],[7.40000000e+01, 2.00000000e+02, 3.41400000e+01],[7.00000000e+01, 2.05000000e+02, 3.61100000e+01],[7.60000000e+01, 2.00000000e+02, 2.63100000e+01],[7.10000000e+01, 1.90000000e+02, 2.75000000e+01],[8.20000000e+01, 2.50000000e+02, 2.77700000e+01],[7.20000000e+01, 1.85000000e+02, 4.08800000e+01],[7.30000000e+01, 1.80000000e+02, 2.57500000e+01],[7.40000000e+01, 1.70000000e+02, 3.14100000e+01],[7.10000000e+01, 1.80000000e+02, 3.08400000e+01],[7.50000000e+01, 2.08000000e+02, 3.05700000e+01],[7.70000000e+01, 2.35000000e+02, 3.97900000e+01],[7.20000000e+01, 2.15000000e+02, 3.93800000e+01],[7.40000000e+01, 2.44000000e+02, 2.94200000e+01],[7.20000000e+01, 2.20000000e+02, 2.61900000e+01],[7.30000000e+01, 1.85000000e+02, 2.37400000e+01],[7.80000000e+01, 2.30000000e+02, 2.60300000e+01],[7.70000000e+01, 1.90000000e+02, 2.85900000e+01],[7.30000000e+01, 2.00000000e+02, 2.67700000e+01],[7.30000000e+01, 1.80000000e+02, 2.72100000e+01],[7.30000000e+01, 1.90000000e+02, 2.48700000e+01],[7.30000000e+01, 1.96000000e+02, 3.02600000e+01],[7.30000000e+01, 1.80000000e+02, 2.23400000e+01],[7.60000000e+01, 2.30000000e+02, 2.62000000e+01],[7.50000000e+01, 2.24000000e+02, 2.84500000e+01],[7.00000000e+01, 1.60000000e+02, 2.76300000e+01],[7.30000000e+01, 1.78000000e+02, 2.59300000e+01],[7.20000000e+01, 2.05000000e+02, 2.89400000e+01],[7.30000000e+01, 1.85000000e+02, 2.68000000e+01],[7.50000000e+01, 2.10000000e+02, 2.24200000e+01],[7.40000000e+01, 1.80000000e+02, 2.72600000e+01],[7.30000000e+01, 1.90000000e+02, 2.83800000e+01],[7.30000000e+01, 2.00000000e+02, 2.52300000e+01],[7.60000000e+01, 2.57000000e+02, 2.81600000e+01],[7.30000000e+01, 1.90000000e+02, 2.84800000e+01],[7.50000000e+01, 2.20000000e+02, 2.67800000e+01],[7.00000000e+01, 1.65000000e+02, 2.52400000e+01],[7.70000000e+01, 2.05000000e+02, 2.74500000e+01],[7.20000000e+01, 2.00000000e+02, 2.90500000e+01],[7.70000000e+01, 2.08000000e+02, 2.90800000e+01],[7.40000000e+01, 1.85000000e+02, 2.58400000e+01],[7.50000000e+01, 2.15000000e+02, 2.54000000e+01],[7.50000000e+01, 1.70000000e+02, 2.65400000e+01],[7.50000000e+04, 2.35000000e+02, 2.27300000e+01],[7.50000000e+01, 2.10000000e+02, 2.85300000e+01],[7.20000000e+01, 1.70000000e+02, 2.53700000e+01],[7.40000000e+01, 1.80000000e+02, 2.53500000e+01],[7.10000000e+01, 1.70000000e+02, 2.64300000e+01],[7.60000000e+01, 1.90000000e+02, 2.54300000e+01],[7.10000000e+01, 1.50000000e+02, 2.92300000e+01],[7.50000000e+01, 2.30000000e+02, 3.02200000e+01],[7.60000000e+01, 2.03000000e+02, 3.23000000e+01],[8.30000000e+01, 2.60000000e+02, 2.84200000e+01],[7.50000000e+01, 2.46000000e+02, 2.52400000e+01],[7.40000000e+01, 1.86000000e+02, 2.91300000e+01],[7.60000000e+01, 2.10000000e+02, 2.46300000e+01],[7.20000000e+01, 1.98000000e+02, 2.49500000e+01],[7.20000000e+01, 2.10000000e+02, 2.80600000e+01],[7.50000000e+01, 2.15000000e+02, 2.58600000e+01],[7.50000000e+01, 1.80000000e+02, 2.73200000e+01],[7.20000000e+01, 2.00000000e+02, 2.59100000e+01],[7.70000000e+01, 2.45000000e+02, 2.66300000e+01],[7.30000000e+01, 2.00000000e+02, 2.59500000e+01],[7.20000000e+01, 1.92000000e+02, 2.91700000e+01],[7.00000000e+01, 1.92000000e+02, 2.91900000e+01],[7.40000000e+01, 2.00000000e+02, 2.84400000e+01],[7.20000000e+01, 1.92000000e+02, 2.63600000e+01],[7.40000000e+01, 2.05000000e+02, 2.82900000e+01],[7.20000000e+01, 1.90000000e+02, 2.94500000e+01],[7.10000000e+01, 1.86000000e+02, 2.53400000e+01],[7.00000000e+01, 1.70000000e+02, 2.68600000e+01],[7.10000000e+01, 1.97000000e+02, 2.63600000e+01],[7.60000000e+01, 2.19000000e+02, 2.73900000e+01],[7.40000000e+01, 2.00000000e+02, 2.58400000e+01],[7.60000000e+01, 2.20000000e+02, 2.50800000e+01],[7.40000000e+01, 2.07000000e+02, 2.38700000e+01],[7.40000000e+01, 2.25000000e+02, 2.46800000e+01],[7.40000000e+01, 2.07000000e+02, 2.46400000e+01],[7.50000000e+01, 2.12000000e+02, 2.91900000e+01],[7.50000000e+01, 2.25000000e+02, 2.88400000e+01],[7.10000000e+01, 1.70000000e+02, 2.53300000e+01],[7.10000000e+01, 1.90000000e+02, 2.44500000e+01],[7.40000000e+01, 2.10000000e+02, 2.83200000e+01],[7.70000000e+01, 2.30000000e+02, 3.23400000e+01],[7.10000000e+01, 2.10000000e+02, 3.49700000e+01],[7.40000000e+01, 2.00000000e+02, 3.20400000e+01],[7.50000000e+01, 2.38000000e+02, 2.34900000e+01],[7.70000000e+01, 2.34000000e+02, 2.60900000e+01],[7.60000000e+01, 2.22000000e+02, 2.64100000e+01],[7.40000000e+01, 2.00000000e+02, 2.65500000e+01],[7.60000000e+01, 1.90000000e+02, 2.46200000e+01],[7.20000000e+01, 1.70000000e+02, 2.84900000e+01],[7.10000000e+01, 2.20000000e+02, 3.26100000e+01],[7.20000000e+04, 2.23000000e+02, 2.80600000e+01],[7.50000000e+01, 2.10000000e+02, 2.80800000e+01],[7.30000000e+01, 2.15000000e+02, 3.73400000e+01],[6.80000000e+01, 1.96000000e+02, 3.52500000e+01],[7.20000000e+01, 1.75000000e+02, 2.47700000e+01],[6.90000000e+01, 1.75000000e+02, 3.98500000e+01],[7.30000000e+01, 1.89000000e+02, 3.54900000e+01],[7.30000000e+01, 2.05000000e+02, 3.18400000e+01],[7.50000000e+01, 2.10000000e+02, 2.66700000e+01],[7.00000000e+01, 1.80000000e+02, 3.47500000e+01],[7.00000000e+01, 1.80000000e+02, 2.89100000e+01],[7.40000000e+01, 1.97000000e+02, 3.27300000e+01],[7.50000000e+01, 2.20000000e+02, 3.57200000e+01],[7.40000000e+01, 2.28000000e+02, 4.26000000e+01],[7.40000000e+01, 1.90000000e+02, 2.62200000e+01],[7.30000000e+01, 2.04000000e+02, 2.18500000e+01],[7.40000000e+01, 1.65000000e+02, 2.42800000e+01],[7.50000000e+01, 2.16000000e+02, 2.24100000e+01],[7.70000000e+01, 2.20000000e+02, 3.25600000e+01],[7.30000000e+01, 2.08000000e+02, 3.27400000e+01],[7.40000000e+01, 2.10000000e+02, 2.63900000e+01],[7.60000000e+01, 2.15000000e+02, 2.88000000e+01],[7.40000000e+01, 1.95000000e+02, 2.82000000e+01],[7.50000000e+01, 2.00000000e+02, 2.65200000e+01],[7.30000000e+01, 2.15000000e+02, 3.45200000e+01],[7.60000000e+01, 2.29000000e+02, 3.43200000e+01],[7.80000000e+01, 2.40000000e+02, 2.69800000e+01],[7.50000000e+01, 2.07000000e+02, 2.88600000e+01],[7.30000000e+01, 2.05000000e+02, 2.49600000e+01],[7.70000000e+01, 2.08000000e+02, 2.53000000e+01],[7.40000000e+01, 1.85000000e+02, 2.70600000e+01],[7.20000000e+01, 1.90000000e+02, 2.54400000e+01],[7.40000000e+01, 1.70000000e+02, 2.55300000e+01],[7.20000000e+01, 2.08000000e+02, 3.48700000e+01],[7.10000000e+01, 2.25000000e+02, 2.46300000e+01],[7.30000000e+01, 1.90000000e+02, 2.79900000e+01],[7.50000000e+01, 2.25000000e+02, 2.71200000e+01],[7.30000000e+01, 1.85000000e+02, 3.11400000e+01],[6.70000000e+01, 1.80000000e+02, 3.02100000e+01],[6.70000000e+01, 1.65000000e+02, 3.21100000e+01],[7.60000000e+01, 2.40000000e+02, 3.19100000e+01],[7.40000000e+01, 2.20000000e+02, 3.44400000e+01],[7.30000000e+01, 2.12000000e+02, 3.66800000e+01],[7.00000000e+01, 1.63000000e+02, 3.76600000e+01],[7.50000000e+01, 2.15000000e+02, 3.09800000e+01],[7.00000000e+01, 1.75000000e+02, 2.70700000e+01],[7.20000000e+01, 2.05000000e+02, 2.91100000e+01],[7.70000000e+01, 2.10000000e+02, 2.58200000e+01],[7.90000000e+01, 2.05000000e+02, 2.55000000e+01],[7.80000000e+01, 2.08000000e+02, 2.95700000e+01],[7.40000000e+04, 2.15000000e+02, 2.53700000e+01],[7.50000000e+01, 1.80000000e+02, 3.39900000e+01],[7.50000000e+01, 2.00000000e+02, 2.98600000e+01],[7.80000000e+01, 2.30000000e+02, 3.18400000e+01],[7.60000000e+01, 2.11000000e+02, 3.83100000e+01],[7.50000000e+01, 2.30000000e+02, 3.44800000e+01],[6.90000000e+01, 1.90000000e+02, 3.68800000e+01],[7.50000000e+01, 2.20000000e+02, 3.23400000e+01],[7.20000000e+01, 1.80000000e+02, 3.15800000e+01],[7.50000000e+01, 2.05000000e+02, 2.88900000e+01],[7.30000000e+01, 1.90000000e+02, 2.50800000e+01],[7.40000000e+01, 1.80000000e+02, 2.57300000e+01],[7.50000000e+01, 2.05000000e+02, 2.51900000e+01],[7.50000000e+01, 1.90000000e+02, 3.10100000e+01],[7.30000000e+01, 1.95000000e+02, 2.79200000e+01]])\n",
    "print(np_baseball)\n",
    "# tạo mảng np_height từ np_baseball\n",
    "import numpy as np\n",
    "np_height = np_baseball[:, 0]\n",
    "print(np_height)\n",
    "# in ra chiều cao trung bình\n",
    "print(np.mean(np_height))\n",
    "\n",
    "# in ra trung vị của np_height\n",
    "print(np.median(np_height))\n"
   ]
  },
  {
   "cell_type": "markdown",
   "metadata": {},
   "source": [
    "Kết quả đúng:\n",
    "\n",
    "```\n",
    "    1586.46108374\n",
    "    74.0\n",
    "```    "
   ]
  },
  {
   "cell_type": "markdown",
   "metadata": {},
   "source": [
    "## 11.2. Bài tập: Kiểm tra dữ liệu cầu thủ"
   ]
  },
  {
   "cell_type": "markdown",
   "metadata": {},
   "source": [
    "Sau khi bạn báo cáo lại độ lệch bất thường giữa trung bình và trung vị chiều cao cầu thủ cho Liên đoàn Bóng rổ, đơn vị này đã rà soát và sửa lại một số lỗi trong dữ liệu và gửi lại cho bạn. Dữ liệu mới này được khai báo trong đoạn code dưới đây với mảng `np_baseball`. Chúng ta hãy cùng làm một số thống kê trên dữ liệu mới này:\n",
    "\n",
    "- Tính trung bình cộng chiều cao, dùng hàm `np.mean()`\n",
    "- Tính trung vị của chiều cao, dùng hàm `np.median()`\n",
    "- Tính độ lệch chuẩn của chiều cao, dùng hàm `np.std()`\n",
    "- Tính hệ số tương quan (correlation coefficient) giữa chiều cao và cân nặng của cầu thủ (cột thứ nhất và thứ hai trong mảng `np_baseball`), sử dụng hàm [`np.corrcoef()`](https://docs.scipy.org/doc/numpy-1.10.0/reference/generated/numpy.corrcoef.html)."
   ]
  },
  {
   "cell_type": "code",
   "execution_count": 136,
   "metadata": {},
   "outputs": [
    {
     "name": "stdout",
     "output_type": "stream",
     "text": [
      "Trung bình: 73.6896551724138\n",
      "Trung vị: 74.0\n",
      "Độ lệch chuẩn: 2.312791881046546\n",
      "Hệ số tương quan: [[1.         0.53153932]\n",
      " [0.53153932 1.        ]]\n"
     ]
    }
   ],
   "source": [
    "import numpy as np\n",
    "\n",
    "# khởi tạo\n",
    "np_baseball = np.array([[74.,180., 22.99],[74.,215., 34.69],[72.,210., 30.78],[72.,210., 35.43],[73.,188., 35.71],[69.,176., 29.39],[69.,209., 30.77],[71.,200., 35.07],[76.,231., 30.19],[71.,180., 27.05],[73.,188., 23.88],[73.,180., 26.96],[74.,185., 23.29],[74.,160., 26.11],[69.,180., 27.55],[70.,185., 34.27],[73.,189., 27.99],[75.,185., 22.38],[78.,219., 22.89],[79.,230., 25.76],[76.,205., 36.33],[74.,230., 31.17],[76.,195., 32.31],[72.,180., 31.03],[71.,192., 29.26],[75.,225., 29.47],[77.,203., 32.46],[74.,195., 35.67],[73.,182., 25.89],[74.,188., 26.55],[78.,200., 24.17],[73.,180., 26.69],[75.,200., 25.13],[73.,200., 27.9 ],[75.,245., 30.17],[75.,240., 31.36],[74.,215., 30.99],[69.,185., 32.24],[71.,175., 27.61],[74.,199., 28.2 ],[73.,200., 28.85],[73.,215., 24.21],[76.,200., 22.02],[74.,205., 24.97],[74.,206., 26.78],[70.,186., 32.51],[72.,188., 30.95],[77.,220., 33.09],[74.,210., 32.74],[70.,195., 30.69],[73.,200., 23.45],[75.,200., 24.94],[76.,212., 24.09],[76.,224., 35.23],[78.,210., 27.43],[74.,205., 30.6 ],[74.,220., 27.94],[76.,195., 29.99],[77.,200., 25.17],[81.,260., 24.13],[78.,228., 30.46],[75.,270., 25.96],[77.,200., 22.55],[75.,210., 26.29],[76.,190., 24.79],[74.,220., 31.74],[72.,180., 23.92],[72.,205., 25.33],[75.,210., 24.02],[73.,220., 23.7 ],[73.,211., 31.59],[73.,200., 29.95],[70.,180., 23.64],[70.,190., 32.33],[70.,170., 23.13],[76.,230., 26.6 ],[68.,155., 26.46],[71.,185., 25.75],[72.,185., 27.51],[75.,200., 25.11],[75.,225., 32.51],[75.,225., 34.67],[75.,220., 31.06],[68.,160., 29.1 ],[74.,205., 28.66],[78.,235., 28.35],[71.,250., 33.77],[73.,210., 30.89],[76.,190., 37.74],[74.,160., 24.14],[74.,200., 25.71],[79.,205., 24.41],[75.,222., 24.32],[73.,195., 28.09],[76.,205., 33.31],[74.,220., 36.4 ],[74.,220., 37.36],[73.,170., 31.61],[72.,185., 25.14],[74.,195., 30.29],[73.,220., 36.37],[74.,230., 34.89],[72.,180., 23.79],[73.,220., 27.96],[69.,180., 23.54],[72.,180., 31.37],[73.,170., 31.29],[75.,210., 33.01],[75.,215., 25.1 ],[73.,200., 31.28],[72.,213., 34.75],[72.,180., 23.46],[76.,192., 25.37],[74.,235., 29.57],[72.,185., 27.33],[77.,235., 40.29],[74.,210., 40.58],[77.,222., 26.79],[75.,210., 32.55],[76.,230., 26.27],[80.,220., 29.47],[74.,180., 29.07],[74.,190., 23.15],[75.,200., 24.9 ],[78.,210., 23.29],[73.,194., 31.18],[73.,180., 26.56],[74.,190., 25.03],[75.,240., 35.66],[76.,200., 29.64],[71.,198., 30.74],[73.,200., 28.43],[74.,195., 33.77],[76.,210., 40.97],[76.,220., 23.52],[74.,190., 28.19],[73.,210., 26.84],[74.,225., 26.16],[70.,180., 28.67],[72.,185., 24.2 ],[73.,170., 27.08],[73.,185., 24.76],[73.,185., 23.36],[73.,180., 25.35],[71.,178., 24.63],[74.,175., 24.02],[74.,200., 24.58],[72.,204., 30.82],[74.,211., 32.89],[71.,190., 33.33],[74.,210., 33.52],[73.,190., 36.24],[75.,190., 28.5 ],[75.,185., 29.42],[79.,290., 26.61],[73.,175., 23.79],[75.,185., 24.96],[76.,200., 25.93],[74.,220., 22.81],[76.,170., 25.29],[78.,220., 26.07],[74.,190., 26.09],[76.,220., 23.23],[72.,205., 33.49],[74.,200., 31.84],[76.,250., 42.3 ],[74.,225., 35.82],[75.,215., 35.27],[78.,210., 26.81],[75.,215., 38.49],[72.,195., 32.68],[74.,200., 34.93],[72.,194., 26.26],[74.,220., 27.56],[70.,180., 23.98],[71.,180., 29.73],[70.,170., 31.33],[75.,195., 27.13],[71.,180., 26.75],[71.,170., 27.09],[73.,206., 29.23],[72.,205., 28.88],[71.,200., 33.01],[73.,225., 30.57],[72.,201., 31.24],[75.,225., 24.95],[74.,233., 24.62],[74.,180., 24.98],[75.,225., 26.22],[73.,180., 26.04],[77.,220., 26.45],[73.,180., 25.25],[76.,237., 27.77],[75.,215., 35.16],[74.,190., 37.1 ],[76.,235., 34.51],[75.,190., 29.28],[73.,180., 32.14],[71.,165., 23.94],[76.,195., 27.45],[75.,200., 28.77],[72.,190., 23.58],[71.,190., 27.56],[77.,185., 24.01],[73.,185., 26.52],[74.,205., 35.54],[71.,190., 29.43],[72.,205., 29.9 ],[74.,206., 32.7 ],[75.,220., 28.8 ],[73.,208., 32.82],[72.,170., 24.36],[75.,195., 32.68],[75.,210., 31.59],[74.,190., 33.32],[72.,211., 32.97],[74.,230., 32.72],[71.,170., 22.55],[70.,185., 27.45],[74.,185., 38.23],[77.,241., 31.14],[77.,225., 34.71],[75.,210., 26.13],[75.,175., 24.43],[78.,230., 23.76],[75.,200., 26.92],[76.,215., 25.85],[73.,198., 30.16],[75.,226., 25.03],[75.,278., 24.21],[79.,215., 26.51],[77.,230., 26.36],[76.,240., 30.88],[71.,184., 32.57],[75.,219., 37.68],[74.,170., 37.25],[69.,218., 35.25],[71.,190., 33.95],[76.,225., 32.66],[72.,220., 26.68],[72.,176., 25.18],[70.,190., 31.39],[72.,197., 33.74],[73.,204., 31.42],[71.,167., 27.5 ],[72.,180., 24.25],[71.,195., 29.78],[73.,220., 30.],[72.,215., 33.09],[73.,185., 25.96],[74.,190., 23.34],[74.,205., 29.98],[72.,205., 38.28],[75.,200., 24.97],[74.,210., 24.34],[74.,215., 29.49],[77.,200., 24.02],[75.,205., 24.73],[73.,211., 42.3 ],[72.,190., 29.54],[71.,208., 29.95],[74.,200., 29.24],[77.,210., 30.3 ],[75.,232., 40.77],[75.,230., 38.85],[75.,210., 22.31],[78.,220., 25.44],[78.,210., 21.78],[74.,202., 22.64],[76.,212., 26.11],[78.,225., 27.55],[76.,170., 24.63],[70.,190., 23.58],[72.,200., 30.73],[80.,237., 32.17],[74.,220., 30.43],[74.,170., 23.27],[71.,193., 32.51],[70.,190., 25.08],[72.,150., 22.41],[71.,220., 27.9 ],[74.,200., 34.74],[71.,190., 30.79],[72.,185., 25.71],[71.,185., 29.26],[74.,200., 21.58],[69.,172., 33.36],[76.,220., 24.94],[75.,225., 20.9 ],[75.,190., 21.52],[76.,195., 25.85],[73.,219., 27.27],[76.,190., 26.75],[73.,197., 36.03],[77.,200., 30.52],[73.,195., 32.55],[72.,210., 29.86],[72.,177., 29.58],[77.,220., 30.02],[77.,235., 29.16],[71.,180., 22.3 ],[74.,195., 22.06],[74.,195., 25.65],[73.,190., 25.49],[78.,230., 27.86],[75.,190., 23.73],[73.,200., 31.78],[70.,190., 23.06],[74.,190., 26.6 ],[72.,200., 29.39],[73.,200., 26.51],[73.,184., 25.08],[75.,200., 25.76],[75.,180., 22.52],[74.,219., 25.57],[76.,187., 25.43],[73.,200., 34.65],[74.,220., 22.68],[75.,205., 21.46],[75.,190., 23.47],[72.,170., 23.1 ],[73.,160., 29.14],[73.,215., 29.77],[72.,175., 23.85],[74.,205., 28.88],[78.,200., 24.49],[76.,214., 25.19],[73.,200., 27.48],[74.,190., 28.31],[75.,180., 26.54],[70.,205., 26.77],[75.,220., 23.75],[71.,190., 26.41],[72.,215., 36.47],[78.,235., 26.06],[75.,191., 27.55],[73.,200., 31.28],[73.,181., 29.04],[71.,200., 32.95],[75.,210., 26.65],[77.,240., 27.5 ],[72.,185., 30.9 ],[69.,165., 29.09],[73.,190., 36.67],[74.,185., 23.44],[72.,175., 29.09],[70.,155., 22.89],[75.,210., 25.48],[70.,170., 25.84],[72.,175., 27.2 ],[72.,220., 25.22],[74.,210., 24.67],[73.,205., 39.25],[74.,200., 32.17],[76.,205., 32.77],[75.,195., 29.83],[80.,240., 31.02],[72.,150., 29.73],[75.,200., 28.48],[73.,215., 26.51],[74.,202., 26.],[74.,200., 23.36],[73.,190., 25.9 ],[75.,205., 28.5 ],[75.,190., 25.62],[71.,160., 30.94],[73.,215., 26.59],[75.,185., 22.78],[74.,200., 32.26],[74.,190., 30.35],[72.,210., 33.26],[74.,185., 32.35],[74.,220., 27.3 ],[74.,190., 32.08],[73.,202., 25.25],[76.,205., 25.03],[75.,220., 26.89],[72.,175., 24.69],[73.,160., 22.44],[73.,190., 30.36],[73.,200., 26.27],[72.,229., 29.5 ],[72.,206., 29.75],[72.,220., 38.3 ],[72.,180., 39.75],[71.,195., 32.84],[75.,175., 26.66],[75.,188., 24.94],[74.,230., 27.76],[73.,190., 23.66],[75.,200., 24.96],[79.,190., 23.65],[74.,219., 29.42],[76.,235., 32.18],[73.,180., 26.66],[74.,180., 27.47],[74.,180., 25.66],[72.,200., 35.13],[74.,234., 31.15],[74.,185., 35.67],[75.,220., 29.6 ],[78.,223., 30.14],[74.,200., 24.53],[74.,210., 24.49],[74.,200., 26.28],[77.,210., 24.06],[70.,190., 35.88],[73.,177., 30.42],[74.,227., 30.09],[73.,180., 26.5 ],[71.,195., 24.94],[75.,199., 29.6 ],[71.,175., 32.43],[72.,185., 37.16],[77.,240., 30.57],[74.,210., 27.01],[70.,180., 30.23],[77.,194., 26.03],[73.,225., 28.23],[72.,180., 25.21],[76.,205., 25.45],[71.,193., 26.24],[76.,230., 30.15],[78.,230., 29.8 ],[75.,220., 33.41],[73.,200., 30.95],[78.,249., 31.17],[74.,190., 30.95],[79.,208., 29.44],[75.,245., 27.14],[76.,250., 26.21],[72.,160., 24.08],[75.,192., 23.96],[75.,220., 24.94],[70.,170., 29.56],[72.,197., 26.42],[70.,155., 23.92],[74.,190., 25.23],[71.,200., 35.82],[76.,220., 23.87],[73.,210., 32.57],[76.,228., 25.79],[71.,190., 31.47],[69.,160., 22.61],[72.,184., 24.85],[72.,180., 27.33],[69.,180., 26.67],[73.,200., 37.43],[69.,176., 29.31],[73.,160., 29.85],[74.,222., 27.93],[74.,211., 31.62],[72.,195., 30.55],[71.,200., 24.77],[72.,175., 33.77],[72.,206., 27.97],[76.,240., 27.85],[76.,185., 23.26],[76.,260., 25.38],[74.,185., 23.35],[76.,221., 25.45],[75.,205., 26.49],[71.,200., 24.],[72.,170., 24.16],[71.,201., 28.1 ],[73.,205., 25.65],[75.,185., 28.58],[76.,205., 32.27],[75.,245., 29.86],[71.,220., 25.14],[75.,210., 23.03],[74.,220., 30.25],[72.,185., 30.67],[73.,175., 27.73],[73.,170., 23.34],[73.,180., 25.94],[73.,200., 31.56],[76.,210., 34.85],[72.,175., 23.98],[76.,220., 23.14],[73.,206., 28.99],[73.,180., 25.02],[73.,210., 29.85],[75.,195., 27.03],[75.,200., 25.15],[77.,200., 27.12],[73.,164., 31.63],[72.,180., 32.62],[75.,220., 39.79],[70.,195., 34.47],[74.,205., 23.47],[72.,170., 25.31],[80.,240., 27.1 ],[71.,210., 24.35],[71.,195., 23.45],[74.,200., 28.24],[74.,205., 28.77],[73.,192., 26.53],[75.,190., 25.64],[76.,170., 25.83],[73.,240., 38.06],[77.,200., 36.38],[72.,205., 25.27],[73.,175., 27.2 ],[77.,250., 31.59],[76.,220., 29.56],[71.,224., 35.5 ],[75.,210., 30.35],[73.,195., 24.11],[74.,180., 23.29],[77.,245., 31.48],[71.,175., 27.23],[72.,180., 24.07],[73.,215., 28.68],[69.,175., 27.05],[73.,180., 31.15],[70.,195., 31.85],[74.,230., 31.68],[76.,230., 34.23],[73.,205., 32.01],[73.,215., 25.41],[75.,195., 24.73],[73.,180., 25.66],[79.,205., 24.5 ],[74.,180., 24.38],[73.,190., 26.89],[74.,180., 24.2 ],[77.,190., 26.97],[75.,190., 25.21],[74.,220., 30.46],[73.,210., 28.53],[77.,255., 25.75],[73.,190., 31.15],[77.,230., 26.48],[74.,200., 26.93],[74.,205., 29.55],[73.,210., 34.75],[77.,225., 29.71],[74.,215., 29.83],[77.,220., 33.57],[75.,205., 28.21],[77.,200., 27.54],[75.,220., 26.05],[71.,197., 23.64],[74.,225., 24.82],[70.,187., 29.8 ],[79.,245., 34.71],[72.,185., 29.22],[72.,185., 23.96],[70.,175., 23.87],[74.,200., 26.77],[74.,180., 23.49],[72.,188., 26.77],[73.,225., 24.51],[72.,200., 33.23],[74.,210., 31.04],[74.,245., 32.02],[76.,213., 31.44],[82.,231., 43.47],[74.,165., 28.38],[74.,228., 27.81],[70.,210., 24.57],[73.,250., 23.34],[73.,191., 27.09],[74.,190., 25.14],[77.,200., 27.07],[72.,215., 24.02],[76.,254., 27.6 ],[73.,232., 27.99],[73.,180., 27.56],[72.,215., 28.63],[74.,220., 30.99],[74.,180., 26.33],[71.,200., 26.97],[72.,170., 22.85],[75.,195., 23.19],[74.,210., 23.87],[74.,200., 33.98],[77.,220., 28.26],[70.,165., 29.12],[71.,180., 26.18],[73.,200., 28.03],[76.,200., 23.08],[71.,170., 26.24],[75.,224., 26.63],[74.,220., 24.21],[72.,180., 23.01],[76.,198., 23.13],[79.,240., 23.08],[76.,239., 25.13],[73.,185., 24.66],[76.,210., 26.03],[78.,220., 28.7 ],[75.,200., 25.57],[76.,195., 24.65],[72.,220., 25.55],[72.,230., 22.27],[73.,170., 24.76],[73.,220., 23.98],[75.,230., 27.85],[71.,165., 22.14],[76.,205., 27.05],[70.,192., 31.45],[75.,210., 32.03],[74.,205., 29.95],[75.,200., 23.47],[73.,210., 37.21],[71.,185., 25.67],[71.,195., 34.69],[72.,202., 30.04],[73.,205., 32.52],[73.,195., 24.15],[72.,180., 26.86],[69.,200., 27.94],[73.,185., 26.63],[78.,240., 27.31],[71.,185., 30.55],[73.,220., 40.68],[75.,205., 37.27],[76.,205., 25.78],[70.,180., 30.98],[74.,201., 28.41],[77.,190., 30.01],[75.,208., 31.57],[79.,240., 28.81],[72.,180., 24.09],[77.,230., 26.47],[73.,195., 30.5 ],[75.,215., 23.74],[75.,190., 24.49],[75.,195., 26.73],[73.,215., 27.01],[73.,215., 39.75],[76.,220., 27.16],[77.,220., 25.74],[75.,230., 37.43],[70.,195., 39.85],[71.,190., 28.62],[71.,195., 23.9 ],[75.,209., 25.18],[74.,204., 33.53],[69.,170., 33.03],[70.,185., 31.35],[75.,205., 22.39],[72.,175., 27.99],[75.,210., 27.22],[73.,190., 27.49],[72.,180., 27.53],[72.,180., 26.26],[72.,160., 25.18],[76.,235., 27.12],[75.,200., 27.69],[74.,210., 25.69],[69.,180., 28.11],[73.,190., 31.21],[72.,197., 30.8 ],[72.,203., 30.21],[75.,205., 28.06],[77.,170., 26.52],[76.,200., 23.1 ],[80.,250., 25.02],[77.,200., 26.14],[76.,220., 25.38],[79.,200., 27.6 ],[71.,190., 25.5 ],[75.,170., 24.24],[73.,190., 23.32],[76.,220., 31.56],[77.,215., 34.19],[73.,206., 36.78],[76.,215., 27.73],[70.,185., 34.88],[75.,235., 31.],[73.,188., 48.52],[75.,230., 34.68],[70.,195., 37.38],[69.,168., 24.33],[71.,190., 37.3 ],[72.,160., 23.72],[72.,200., 24.19],[73.,200., 25.7 ],[70.,189., 29.06],[70.,180., 33.48],[73.,190., 29.85],[76.,200., 34.3 ],[75.,220., 40.66],[72.,187., 21.9 ],[73.,240., 27.39],[79.,190., 23.13],[71.,180., 35.35],[72.,185., 40.93],[74.,210., 33.67],[74.,220., 37.39],[74.,219., 27.97],[72.,190., 25.54],[76.,193., 25.81],[76.,175., 22.53],[72.,180., 22.86],[72.,215., 24.07],[71.,210., 29.5 ],[72.,200., 30.03],[72.,190., 27.38],[70.,185., 30.51],[77.,220., 28.3 ],[74.,170., 29.84],[72.,195., 33.41],[76.,205., 33.6 ],[71.,195., 35.6 ],[76.,210., 24.19],[71.,190., 37.88],[73.,190., 27.56],[70.,180., 24.42],[73.,220., 31.05],[73.,190., 31.56],[72.,186., 35.55],[71.,185., 41.21],[71.,190., 27.12],[71.,180., 26.97],[72.,190., 28.92],[72.,170., 30.06],[74.,210., 31.51],[74.,240., 30.69],[74.,220., 30.19],[71.,180., 38.11],[72.,210., 28.68],[75.,210., 27.44],[72.,195., 24.63],[71.,160., 28.11],[72.,180., 28.9 ],[72.,205., 24.11],[72.,200., 40.53],[72.,185., 29.5 ],[74.,245., 28.62],[74.,190., 26.42],[77.,210., 30.18],[75.,200., 33.75],[73.,200., 30.06],[75.,222., 29.22],[73.,215., 24.47],[76.,240., 24.94],[72.,170., 28.77],[77.,220., 28.54],[75.,156., 27.32],[72.,190., 35.12],[71.,202., 24.04],[71.,221., 36.39],[75.,200., 22.81],[72.,190., 33.6 ],[73.,210., 38.98],[73.,190., 34.39],[71.,200., 33.15],[70.,165., 29.35],[75.,190., 26.59],[71.,185., 23.46],[76.,230., 22.43],[73.,208., 24.89],[68.,209., 24.67],[71.,175., 26.17],[72.,180., 29.54],[74.,200., 39.49],[77.,205., 34.08],[72.,200., 30.52],[76.,250., 28.77],[78.,210., 33.75],[81.,230., 32.69],[72.,244., 22.59],[73.,202., 37.04],[76.,240., 22.7 ],[72.,200., 25.6 ],[72.,215., 27.23],[74.,177., 25.74],[76.,210., 30.29],[73.,170., 26.72],[76.,215., 33.9 ],[75.,217., 29.86],[70.,198., 36.13],[71.,200., 27.54],[74.,220., 31.49],[72.,170., 28.1 ],[73.,200., 34.07],[76.,230., 27.28],[76.,231., 30.8 ],[73.,183., 28.2 ],[71.,192., 27.9 ],[68.,167., 28.26],[71.,190., 30.96],[71.,180., 24.18],[74.,180., 27.52],[77.,215., 27.78],[69.,160., 26.25],[72.,205., 29.5 ],[76.,223., 30.39],[75.,175., 23.18],[76.,170., 25.81],[75.,190., 23.01],[76.,240., 31.72],[72.,175., 44.28],[74.,230., 36.91],[76.,223., 26.54],[74.,196., 29.27],[72.,167., 30.51],[75.,195., 31.28],[78.,190., 26.51],[77.,250., 34.87],[70.,190., 39.28],[72.,190., 28.56],[79.,190., 27.82],[74.,170., 25.94],[71.,160., 28.53],[68.,150., 22.11],[77.,225., 27.71],[75.,220., 37.38],[71.,209., 30.67],[72.,210., 30.48],[70.,176., 27.12],[72.,260., 22.81],[72.,195., 24.46],[73.,190., 34.73],[72.,184., 36.53],[74.,180., 24.53],[72.,195., 27.17],[72.,195., 26.9 ],[75.,219., 33.67],[72.,225., 29.14],[73.,212., 32.61],[74.,202., 33.87],[72.,185., 24.41],[78.,200., 24.94],[75.,209., 27.36],[72.,200., 26.33],[74.,195., 25.72],[75.,228., 28.7 ],[75.,210., 28.53],[76.,190., 26.07],[74.,212., 27.31],[74.,190., 23.26],[73.,218., 28.62],[74.,220., 32.16],[71.,190., 38.43],[74.,235., 31.81],[75.,210., 29.1 ],[76.,200., 31.28],[74.,188., 29.17],[76.,210., 25.89],[76.,235., 26.13],[73.,188., 29.13],[75.,215., 28.92],[75.,216., 26.01],[74.,220., 24.81],[68.,180., 28.79],[72.,185., 33.77],[75.,200., 33.85],[71.,210., 27.36],[70.,220., 26.01],[72.,185., 29.95],[73.,231., 28.12],[72.,210., 32.87],[75.,195., 31.2 ],[74.,200., 34.14],[70.,205., 36.11],[76.,200., 26.31],[71.,190., 27.5 ],[82.,250., 27.77],[72.,185., 40.88],[73.,180., 25.75],[74.,170., 31.41],[71.,180., 30.84],[75.,208., 30.57],[77.,235., 39.79],[72.,215., 39.38],[74.,244., 29.42],[72.,220., 26.19],[73.,185., 23.74],[78.,230., 26.03],[77.,190., 28.59],[73.,200., 26.77],[73.,180., 27.21],[73.,190., 24.87],[73.,196., 30.26],[73.,180., 22.34],[76.,230., 26.2 ],[75.,224., 28.45],[70.,160., 27.63],[73.,178., 25.93],[72.,205., 28.94],[73.,185., 26.8 ],[75.,210., 22.42],[74.,180., 27.26],[73.,190., 28.38],[73.,200., 25.23],[76.,257., 28.16],[73.,190., 28.48],[75.,220., 26.78],[70.,165., 25.24],[77.,205., 27.45],[72.,200., 29.05],[77.,208., 29.08],[74.,185., 25.84],[75.,215., 25.4 ],[75.,170., 26.54],[75.,235., 22.73],[75.,210., 28.53],[72.,170., 25.37],[74.,180., 25.35],[71.,170., 26.43],[76.,190., 25.43],[71.,150., 29.23],[75.,230., 30.22],[76.,203., 32.3 ],[83.,260., 28.42],[75.,246., 25.24],[74.,186., 29.13],[76.,210., 24.63],[72.,198., 24.95],[72.,210., 28.06],[75.,215., 25.86],[75.,180., 27.32],[72.,200., 25.91],[77.,245., 26.63],[73.,200., 25.95],[72.,192., 29.17],[70.,192., 29.19],[74.,200., 28.44],[72.,192., 26.36],[74.,205., 28.29],[72.,190., 29.45],[71.,186., 25.34],[70.,170., 26.86],[71.,197., 26.36],[76.,219., 27.39],[74.,200., 25.84],[76.,220., 25.08],[74.,207., 23.87],[74.,225., 24.68],[74.,207., 24.64],[75.,212., 29.19],[75.,225., 28.84],[71.,170., 25.33],[71.,190., 24.45],[74.,210., 28.32],[77.,230., 32.34],[71.,210., 34.97],[74.,200., 32.04],[75.,238., 23.49],[77.,234., 26.09],[76.,222., 26.41],[74.,200., 26.55],[76.,190., 24.62],[72.,170., 28.49],[71.,220., 32.61],[72.,223., 28.06],[75.,210., 28.08],[73.,215., 37.34],[68.,196., 35.25],[72.,175., 24.77],[69.,175., 39.85],[73.,189., 35.49],[73.,205., 31.84],[75.,210., 26.67],[70.,180., 34.75],[70.,180., 28.91],[74.,197., 32.73],[75.,220., 35.72],[74.,228., 42.6 ],[74.,190., 26.22],[73.,204., 21.85],[74.,165., 24.28],[75.,216., 22.41],[77.,220., 32.56],[73.,208., 32.74],[74.,210., 26.39],[76.,215., 28.8 ],[74.,195., 28.2 ],[75.,200., 26.52],[73.,215., 34.52],[76.,229., 34.32],[78.,240., 26.98],[75.,207., 28.86],[73.,205., 24.96],[77.,208., 25.3 ],[74.,185., 27.06],[72.,190., 25.44],[74.,170., 25.53],[72.,208., 34.87],[71.,225., 24.63],[73.,190., 27.99],[75.,225., 27.12],[73.,185., 31.14],[67.,180., 30.21],[67.,165., 32.11],[76.,240., 31.91],[74.,220., 34.44],[73.,212., 36.68],[70.,163., 37.66],[75.,215., 30.98],[70.,175., 27.07],[72.,205., 29.11],[77.,210., 25.82],[79.,205., 25.5 ],[78.,208., 29.57],[74.,215., 25.37],[75.,180., 33.99],[75.,200., 29.86],[78.,230., 31.84],[76.,211., 38.31],[75.,230., 34.48],[69.,190., 36.88],[75.,220., 32.34],[72.,180., 31.58],[75.,205., 28.89],[73.,190., 25.08],[74.,180., 25.73],[75.,205., 25.19],[75.,190., 31.01],[73.,195., 27.92]])\n",
    "\n",
    "# in ra chiều cao trung bình (chiều cao nằm ở cột thứ nhất trong mảng)\n",
    "avg = np.mean(np_baseball[:,0])\n",
    "print(\"Trung bình: \" + str(avg))\n",
    "\n",
    "# in ra trung vị của mảng chiều cao (thay thế giá trị 'None')\n",
    "med = np.median(np_baseball[:,0])\n",
    "print(\"Trung vị: \" + str(med))\n",
    "\n",
    "# in ra độ lệch chuẩn của mảng chiều cao (thay thế giá trị 'None')\n",
    "stddev = np.std(np_baseball[:,0])\n",
    "print(\"Độ lệch chuẩn: \" + str(stddev))\n",
    "\n",
    "# in ra hệ số tương quan (correlation coefficient) của cột thứ nhất và cột thứ hai (thay thế giá trị 'None')\n",
    "corr = np.corrcoef(np_baseball[:,0], np_baseball[:,1])\n",
    "print(\"Hệ số tương quan: \" + str(corr))"
   ]
  },
  {
   "cell_type": "markdown",
   "metadata": {},
   "source": [
    "Kết quả đúng:\n",
    "\n",
    "```\n",
    "Trung bình: 73.6896551724\n",
    "Trung vị: 74.0\n",
    "Độ lệch chuẩn: 2.31279188105\n",
    "Hệ số tương quan: [[ 1.          0.53153932]\n",
    " [ 0.53153932  1.        ]]\n",
    "```"
   ]
  },
  {
   "cell_type": "markdown",
   "metadata": {},
   "source": [
    "## 11.3. Bài tập: Dữ liệu cầu thủ bóng đá"
   ]
  },
  {
   "cell_type": "markdown",
   "metadata": {},
   "source": [
    "Hãy chuyển sang thế giới của môn thể thao Vua: môn bóng đá. Bạn được FIFA gửi cho dữ liệu về chiều cao và vị trí thi đấu của các cầu thủ đang thi đấu tại Ngoại hạng Anh. Dữ liệu này được lưu trong 2 danh sách:\n",
    "\n",
    "- `positions = ['GK', 'M', 'A', 'D', ...]`\n",
    "- `heights = [191, 184, 185, 180, ...]`\n",
    "\n",
    "Mỗi phần tử của danh sách tương ứng với dữ liệu của một cầu thủ. Chiều cao được tính theo đơn vị centimet. Có 4 vị trí thi đấu là: thủ môn (`GK`), hậu vệ (`D`), tiền vệ (`M`) và tiền đạo (`A`). Cầu thủ thứ nhất trong danh sách là thủ môn nên có chiều cao rất tốt (191cm).\n",
    "\n",
    "Bạn đang tranh luận với một số bạn khác về chiều cao của các cầu thủ. Bạn cho rằng trung vị chiều cao của các thủ môn lớn hơn trung vị chiều cao của các cầu thủ còn lại, nhưng các bạn khác lại không nghĩ như vậy.\n",
    "\n",
    "Hãy sử dụng bộ dữ liệu mà FIFA cung cấp và các kỹ năng thống kê với Python của bạn để chứng minh giả thuyết của bạn là đúng:\n",
    "\n",
    "- Trước tiên hãy chuyển 2 danh sách sang dạng mảng `numpy` để ta có thể tận dụng các hàm thống kê trong gói công cụ này.\n",
    "- Trích xuất ra chiều cao của các thủ môn. Hãy dùng phép so sánh `np_positions == 'GK'` để trích ra mảng bool trong đó các vị trí thủ môn sẽ nhận giá trị `True`. Sử dụng mảng này để trích xuất ra chiều cao các thủ môn từ mảng `np_heights`.\n",
    "- Làm tương tự để lấy ra chiều cao của các cầu thủ còn lại, lần này hãy dùng phép so sánh `np_positions != 'GK'`.\n",
    "- Dùng hàm `np.median()` để tìm trung vị của 2 mảng vừa trích chọn được."
   ]
  },
  {
   "cell_type": "code",
   "execution_count": 137,
   "metadata": {},
   "outputs": [
    {
     "name": "stdout",
     "output_type": "stream",
     "text": [
      "Chiều cao trung vị các thủ môn: 188.0\n",
      "Chiều cao trung vị của các cầu thủ khác: 181.0\n"
     ]
    }
   ],
   "source": [
    "# import numpy\n",
    "import numpy as np\n",
    "\n",
    "# khởi tạo\n",
    "positions = ['GK', 'M', 'A', 'D', 'M', 'D', 'M', 'M', 'M', 'A', 'M', 'M', 'A', 'A', 'A', 'M', 'D', 'A', 'D', 'M', 'GK', 'D', 'D', 'M', 'M', 'M', 'M', 'D', 'M', 'GK', 'D', 'GK', 'D', 'D', 'M', 'A', 'M', 'D', 'M', 'GK', 'M', 'GK', 'A', 'D', 'GK', 'A', 'GK', 'GK', 'GK', 'GK', 'A', 'D', 'A', 'D', 'D', 'M', 'D', 'M', 'D', 'D', 'GK', 'GK', 'D', 'M', 'M', 'GK', 'M', 'D', 'M', 'M', 'D', 'D', 'M', 'M', 'D', 'A', 'A', 'M', 'M', 'M', 'A', 'D', 'D', 'A', 'A', 'M', 'M', 'M', 'D', 'D', 'A', 'A', 'D', 'M', 'M', 'M', 'D', 'M', 'M', 'D', 'M', 'A', 'M', 'M', 'GK', 'M', 'D', 'M', 'M', 'D', 'M', 'M', 'A', 'GK', 'D', 'M', 'GK', 'M', 'M', 'M', 'M', 'D', 'D', 'M', 'D', 'M', 'D', 'M', 'M', 'A', 'M', 'GK', 'A', 'M', 'D', 'M', 'D', 'GK', 'D', 'D', 'M', 'A', 'GK', 'M', 'D', 'A', 'D', 'A', 'A', 'M', 'D', 'M', 'A', 'GK', 'D', 'M', 'GK', 'A', 'D', 'D', 'D', 'GK', 'GK', 'M', 'D', 'GK', 'D', 'M', 'GK', 'A', 'D', 'GK', 'GK', 'D', 'M', 'GK', 'D', 'D', 'D', 'M', 'D', 'M', 'D', 'D', 'A', 'D', 'D', 'D', 'M', 'M', 'A', 'D', 'M', 'M', 'D', 'M', 'A', 'A', 'D', 'A', 'GK', 'M', 'A', 'A', 'D', 'D', 'A', 'D', 'GK', 'D', 'M', 'D', 'D', 'M', 'M', 'GK', 'D', 'M', 'GK', 'GK', 'D', 'M', 'D', 'D', 'M', 'A', 'D', 'D', 'M', 'A', 'A', 'A', 'A', 'A', 'M', 'D', 'D', 'A', 'M', 'GK', 'M', 'GK', 'A', 'A', 'GK', 'M', 'D', 'M', 'D', 'D', 'M', 'M', 'A', 'A', 'D', 'D', 'D', 'M', 'M', 'GK', 'D', 'M', 'M', 'D', 'D', 'D', 'M', 'M', 'M', 'D', 'M', 'A', 'A', 'D', 'D', 'M', 'GK', 'A', 'D', 'D', 'D', 'GK', 'D', 'M', 'D', 'A', 'A', 'GK', 'A', 'D', 'M', 'M', 'GK', 'A', 'A', 'M', 'D', 'A', 'M', 'M', 'M', 'D', 'D', 'D', 'M', 'D', 'A', 'M', 'M', 'M', 'A', 'M', 'M', 'D', 'M', 'D', 'M', 'M', 'A', 'D', 'D', 'M', 'A', 'D', 'D', 'M', 'M', 'M', 'D', 'M', 'D', 'A', 'D', 'D', 'M', 'D', 'A', 'D', 'D', 'GK', 'M', 'M', 'M', 'GK', 'M', 'A', 'D', 'D', 'M', 'A', 'GK', 'M', 'D', 'A', 'M', 'A', 'A', 'A', 'M', 'GK', 'A', 'A', 'M', 'A', 'D', 'D', 'D', 'A', 'GK', 'D', 'D', 'D', 'D', 'GK', 'A', 'GK', 'D', 'D', 'M', 'GK', 'D', 'D', 'D', 'A', 'D', 'D', 'GK', 'D', 'D', 'D', 'GK', 'D', 'GK', 'A', 'M', 'A', 'M', 'A', 'D', 'D', 'D', 'GK', 'GK', 'GK', 'M', 'A', 'M', 'D', 'M', 'A', 'GK', 'M', 'D', 'M', 'M', 'D', 'A', 'GK', 'M', 'A', 'GK', 'GK', 'M', 'A', 'A', 'M', 'GK', 'GK', 'D', 'M', 'A', 'D', 'A', 'D', 'D', 'A', 'D', 'M', 'D', 'D', 'M', 'D', 'A', 'GK', 'D', 'D', 'GK', 'A', 'D', 'D', 'GK', 'D', 'A', 'M', 'A', 'A', 'GK', 'D', 'A', 'D', 'A', 'D', 'GK', 'D', 'D', 'A', 'A', 'M', 'A', 'GK', 'M', 'D', 'A', 'D', 'M', 'M', 'D', 'M', 'GK', 'D', 'M', 'A', 'A', 'M', 'M', 'M', 'GK', 'GK', 'D', 'A', 'M', 'GK', 'D', 'M', 'GK', 'M', 'M', 'GK', 'M', 'D', 'A', 'D', 'M', 'M', 'A', 'M', 'GK', 'A', 'GK', 'A', 'M', 'GK', 'GK', 'D', 'D', 'M', 'M', 'D', 'GK', 'A', 'M', 'GK', 'A', 'GK', 'D', 'D', 'M', 'M', 'M', 'D', 'M', 'M', 'GK', 'M', 'D', 'M', 'D', 'GK', 'M', 'A', 'GK', 'A', 'M', 'M', 'A', 'M', 'M', 'A', 'A', 'A', 'M', 'GK', 'D', 'D', 'M', 'D', 'GK', 'D', 'M', 'M', 'M', 'A', 'D', 'A', 'D', 'A', 'M', 'M', 'D', 'M', 'M', 'D', 'D', 'GK', 'M', 'A', 'GK', 'A', 'A', 'M', 'D', 'GK', 'D', 'M', 'M', 'GK', 'GK', 'D', 'D', 'M', 'D', 'M', 'M', 'M', 'M', 'GK', 'M', 'D', 'M', 'D', 'GK', 'A', 'M', 'D', 'M', 'A', 'A', 'D', 'D', 'D', 'M', 'GK', 'D', 'A', 'M', 'D', 'A', 'GK', 'M', 'D', 'M', 'D', 'A', 'A', 'M', 'A', 'D', 'D', 'M', 'A', 'M', 'M', 'A', 'D', 'GK', 'A', 'M', 'D', 'M', 'A', 'D', 'D', 'D', 'GK', 'D', 'M', 'GK', 'M', 'M', 'GK', 'M', 'M', 'D', 'M', 'D', 'D', 'M', 'D', 'A', 'M', 'D', 'D', 'GK', 'D', 'M', 'M', 'GK', 'GK', 'M', 'D', 'D', 'A', 'GK', 'D', 'D', 'D', 'GK', 'A', 'A', 'D', 'A', 'D', 'M', 'D', 'D', 'A', 'M', 'GK', 'D', 'M', 'D', 'M', 'A', 'A', 'GK', 'M', 'D', 'A', 'D', 'D', 'M', 'A', 'A', 'D', 'M', 'M', 'D', 'A', 'D', 'M', 'A', 'M', 'D', 'D', 'D', 'A', 'GK', 'D', 'D', 'M', 'M', 'A', 'M', 'A', 'D', 'M', 'A', 'A', 'GK', 'A', 'D', 'A', 'M', 'A', 'D', 'D', 'D', 'GK', 'A', 'D', 'D', 'D', 'A', 'A', 'A', 'M', 'GK', 'GK', 'D', 'A', 'GK', 'D', 'A', 'M', 'M', 'D', 'GK', 'M', 'A', 'M', 'D', 'M', 'M', 'M', 'D', 'A', 'GK', 'GK', 'D', 'M', 'D', 'D', 'D', 'M', 'GK', 'M', 'D', 'D', 'D', 'A', 'A', 'GK', 'D', 'D', 'M', 'M', 'D', 'D', 'M', 'M', 'D', 'A', 'M', 'D', 'M', 'M', 'M', 'A', 'GK', 'D', 'D', 'D', 'A', 'M', 'M', 'A', 'M', 'M', 'D', 'M', 'D', 'M', 'A', 'D', 'D', 'M', 'M', 'M', 'D', 'M', 'M', 'D', 'M', 'M', 'M', 'D', 'D', 'A', 'D', 'A', 'A', 'D', 'D', 'M', 'M', 'A', 'A', 'GK', 'A', 'GK', 'M', 'M', 'GK', 'D', 'GK', 'A', 'GK', 'D', 'M', 'GK', 'M', 'D', 'D', 'D', 'GK', 'M', 'GK', 'D', 'D', 'D', 'D', 'GK', 'A', 'M', 'M', 'D', 'GK', 'GK', 'GK', 'D', 'D', 'M', 'D', 'D', 'GK', 'D', 'A', 'D', 'M', 'D', 'D', 'D', 'M', 'D', 'M', 'D', 'M', 'D', 'D', 'M', 'M', 'D', 'D', 'A', 'M', 'D', 'M', 'A', 'M', 'D', 'A', 'M', 'D', 'GK', 'D', 'D', 'A', 'D', 'M', 'D', 'GK', 'A', 'D', 'A', 'M', 'A', 'A', 'GK', 'D', 'M', 'D', 'A', 'D', 'A', 'M', 'M', 'D', 'D', 'D', 'A', 'GK', 'A', 'D', 'M', 'M', 'M', 'D', 'A', 'A', 'D', 'D', 'M', 'D', 'D', 'D', 'GK', 'D', 'M', 'D', 'D', 'A', 'D', 'M', 'M', 'M', 'M', 'A', 'M', 'M', 'D', 'A', 'M', 'D', 'M', 'M', 'M', 'M', 'M', 'GK', 'D', 'M', 'A', 'D', 'D', 'M', 'M', 'M', 'A', 'M', 'GK', 'A', 'A', 'GK', 'A', 'A', 'GK', 'M', 'D', 'M', 'D', 'A', 'D', 'D', 'M', 'D', 'M', 'D', 'D', 'M', 'D', 'D', 'A', 'A', 'A', 'M', 'A', 'D', 'D', 'M', 'A', 'GK', 'D', 'M', 'A', 'D', 'GK', 'D', 'M', 'M', 'A', 'D', 'M', 'D', 'D', 'D', 'GK', 'M', 'A', 'A', 'A', 'D', 'GK', 'M', 'GK', 'M', 'GK', 'GK', 'M', 'M', 'M', 'D', 'GK', 'D', 'A', 'A', 'A', 'A', 'A', 'D', 'M', 'D', 'D', 'M', 'D', 'A', 'A', 'M', 'D', 'GK', 'D', 'M', 'A', 'D', 'D', 'A', 'M', 'M', 'D', 'D', 'A', 'D', 'M', 'D', 'A', 'A', 'D', 'M', 'M', 'GK', 'D', 'A', 'A', 'A', 'D', 'D', 'GK', 'M', 'M', 'A', 'M', 'M', 'GK', 'D', 'D', 'D', 'A', 'GK', 'M', 'D', 'M', 'D', 'GK', 'M', 'A', 'M', 'D', 'A', 'M', 'GK', 'D', 'D', 'A', 'M', 'D', 'M', 'GK', 'M', 'M', 'GK', 'A', 'M', 'D', 'D', 'A', 'D', 'A', 'D', 'D', 'M', 'M', 'D', 'M', 'GK', 'D', 'M', 'M', 'D', 'GK', 'M', 'M', 'GK', 'D', 'D', 'M', 'M', 'D', 'D', 'A', 'M', 'A', 'M', 'A', 'D', 'D', 'D', 'A', 'D', 'GK', 'A', 'M', 'D', 'D', 'D', 'GK', 'M', 'A', 'D', 'GK', 'M', 'D', 'A', 'GK', 'GK', 'A', 'D', 'M', 'A', 'D', 'GK', 'D', 'D', 'A', 'D', 'D', 'A', 'M', 'M', 'GK', 'D', 'D', 'M', 'GK', 'D', 'D', 'D', 'D', 'D', 'D', 'D', 'D', 'A', 'D', 'M', 'A', 'M', 'M', 'M', 'A', 'D', 'D', 'D', 'M', 'D', 'A', 'D', 'A', 'D', 'D', 'D', 'D', 'D', 'M', 'D', 'GK', 'D', 'M', 'A', 'M', 'GK', 'M', 'M', 'M', 'D', 'M', 'M', 'M', 'M', 'A', 'D', 'M', 'A', 'GK', 'M', 'M', 'D', 'D', 'M', 'A', 'A', 'A', 'GK', 'M', 'D', 'M', 'M', 'D', 'GK', 'D', 'GK', 'D', 'M', 'M', 'A', 'D', 'GK', 'A', 'D', 'A', 'A', 'D', 'A', 'M', 'A', 'M', 'M', 'M', 'D', 'M', 'M', 'D', 'D', 'M', 'D', 'D', 'D', 'A', 'M', 'D', 'M', 'A', 'A', 'GK', 'GK', 'M', 'A', 'M', 'D', 'D', 'D', 'GK', 'A', 'GK', 'D', 'M', 'D', 'M', 'D', 'A', 'M', 'D', 'M', 'D', 'GK', 'M', 'D', 'D', 'M', 'D', 'GK', 'A', 'D', 'D', 'GK', 'GK', 'D', 'A', 'A', 'M', 'A', 'D', 'GK', 'A', 'M', 'GK', 'GK', 'D', 'M', 'D', 'M', 'D', 'M', 'M', 'M', 'M', 'A', 'D', 'A', 'D', 'M', 'M', 'M', 'A', 'M', 'GK', 'M', 'A', 'M', 'M', 'A', 'D', 'GK', 'M', 'M', 'D', 'D', 'M', 'M', 'M', 'D', 'D', 'M', 'A', 'M', 'D', 'GK', 'D', 'M', 'D', 'D', 'M', 'A', 'GK', 'A', 'GK', 'GK', 'D', 'M', 'A', 'M', 'D', 'M', 'GK', 'D', 'M', 'D', 'A', 'D', 'D', 'D', 'GK', 'D', 'GK', 'M', 'D', 'A', 'A', 'M', 'M', 'M', 'A', 'GK', 'M', 'D', 'A', 'A', 'GK', 'A', 'M', 'M', 'D', 'D', 'D', 'D', 'A', 'D', 'GK', 'D', 'M', 'A', 'M', 'A', 'M', 'M', 'M', 'M', 'M', 'M', 'A', 'M', 'M', 'D', 'GK', 'M', 'A', 'GK', 'A', 'GK', 'M', 'M', 'M', 'M', 'A', 'A', 'GK', 'GK', 'A', 'M', 'M', 'A', 'M', 'D', 'A', 'M', 'M', 'M', 'GK', 'M', 'M', 'A', 'D', 'GK', 'D', 'GK', 'D', 'D', 'D', 'A', 'M', 'M', 'M', 'D', 'A', 'D', 'M', 'M', 'D', 'D', 'A', 'A', 'A', 'A', 'M', 'A', 'GK', 'M', 'D', 'M', 'M', 'A', 'D', 'M', 'M', 'GK', 'M', 'A', 'M', 'D', 'M', 'A', 'M', 'M', 'GK', 'D', 'D', 'GK', 'D', 'M', 'D', 'D', 'M', 'D', 'D', 'D', 'M', 'M', 'M', 'A', 'M', 'A', 'M', 'D', 'M', 'GK', 'D', 'A', 'M', 'A', 'M', 'GK', 'A', 'D', 'D', 'D', 'GK', 'D', 'A', 'A', 'M', 'M', 'D', 'M', 'A', 'M', 'M', 'M', 'M', 'D', 'A', 'D', 'A', 'M', 'A', 'M', 'M', 'M', 'M', 'M', 'GK', 'A', 'M', 'D', 'M', 'D', 'A', 'GK', 'D', 'M', 'A', 'A', 'A', 'A', 'M', 'D', 'GK', 'A', 'M', 'A', 'GK', 'D', 'D', 'D', 'D', 'A', 'D', 'M', 'D', 'D', 'A', 'M', 'GK', 'D', 'M', 'M', 'GK', 'A', 'M', 'D', 'M', 'M', 'M', 'A', 'A', 'A', 'D', 'M', 'A', 'D', 'M', 'A', 'D', 'A', 'GK', 'A', 'A', 'GK', 'GK', 'M', 'M', 'D', 'M', 'M', 'D', 'M', 'D', 'GK', 'D', 'M', 'A', 'D', 'M', 'GK', 'D', 'M', 'GK', 'D', 'GK', 'A', 'D', 'M', 'A', 'A', 'M', 'M', 'D', 'D', 'M', 'A', 'D', 'M', 'A', 'D', 'D', 'A', 'M', 'M', 'M', 'M', 'A', 'M', 'D', 'M', 'D', 'GK', 'GK', 'A', 'A', 'A', 'A', 'D', 'D', 'A', 'D', 'M', 'M', 'A', 'A', 'D', 'D', 'M', 'GK', 'A', 'D', 'A', 'GK', 'GK', 'A', 'D', 'M', 'A', 'D', 'M', 'M', 'A', 'D', 'M', 'M', 'D', 'D', 'M', 'D', 'GK', 'M', 'A', 'A', 'D', 'A', 'D', 'D', 'GK', 'D', 'D', 'GK', 'D', 'A', 'D', 'D', 'D', 'M', 'D', 'M', 'M', 'GK', 'A', 'D', 'GK', 'D', 'M', 'A', 'M', 'M', 'GK', 'M', 'GK', 'D', 'D', 'D', 'M', 'A', 'D', 'D', 'D', 'GK', 'M', 'A', 'D', 'M', 'GK', 'M', 'D', 'M', 'M', 'A', 'A', 'M', 'D', 'M', 'A', 'M', 'A', 'M', 'D', 'M', 'D', 'GK', 'M', 'A', 'D', 'A', 'A', 'D', 'M', 'D', 'D', 'M', 'D', 'D', 'M', 'M', 'M', 'M', 'M', 'A', 'D', 'A', 'D', 'M', 'A', 'M', 'M', 'M', 'D', 'M', 'D', 'M', 'M', 'M', 'A', 'D', 'M', 'M', 'M', 'M', 'D', 'D', 'GK', 'D', 'M', 'D', 'M', 'A', 'D', 'GK', 'D', 'A', 'A', 'A', 'M', 'M', 'M', 'M', 'M', 'GK', 'D', 'D', 'A', 'M', 'D', 'D', 'M', 'A', 'A', 'D', 'GK', 'GK', 'M', 'D', 'A', 'M', 'GK', 'GK', 'GK', 'D', 'M', 'M', 'A', 'D', 'D', 'M', 'M', 'D', 'A', 'M', 'D', 'M', 'A', 'GK', 'GK', 'D', 'GK', 'M', 'M', 'M', 'M', 'D', 'M', 'D', 'A', 'D', 'M', 'D', 'D', 'GK', 'A', 'A', 'M', 'D', 'D', 'A', 'M', 'M', 'D', 'A', 'M', 'M', 'M', 'D', 'A', 'M', 'GK', 'D', 'D', 'A', 'A', 'M', 'A', 'M', 'D', 'D', 'GK', 'M', 'D', 'M', 'M', 'D', 'D', 'D', 'D', 'D', 'A', 'M', 'M', 'M', 'D', 'M', 'GK', 'A', 'D', 'D', 'GK', 'M', 'M', 'A', 'A', 'M', 'M', 'A', 'D', 'A', 'D', 'M', 'GK', 'M', 'D', 'D', 'M', 'M', 'A', 'M', 'M', 'GK', 'A', 'A', 'GK', 'D', 'D', 'M', 'D', 'D', 'D', 'A', 'D', 'GK', 'M', 'A', 'D', 'D', 'GK', 'GK', 'GK', 'D', 'M', 'GK', 'M', 'D', 'M', 'M', 'A', 'GK', 'M', 'D', 'D', 'M', 'GK', 'A', 'GK', 'A', 'A', 'M', 'D', 'A', 'M', 'A', 'M', 'D', 'GK', 'D', 'M', 'A', 'A', 'M', 'M', 'D', 'GK', 'D', 'D', 'A', 'A', 'A', 'GK', 'D', 'M', 'D', 'GK', 'D', 'D', 'D', 'GK', 'M', 'M', 'D', 'D', 'D', 'A', 'A', 'D', 'A', 'A', 'D', 'D', 'M', 'GK', 'M', 'M', 'D', 'M', 'A', 'M', 'A', 'GK', 'D', 'D', 'M', 'M', 'A', 'GK', 'D', 'GK', 'D', 'D', 'M', 'A', 'M', 'M', 'M', 'A', 'A', 'D', 'M', 'M', 'M', 'M', 'A', 'D', 'D', 'M', 'M', 'M', 'GK', 'M', 'A', 'M', 'A', 'D', 'M', 'D', 'D', 'A', 'D', 'M', 'M', 'D', 'M', 'A', 'D', 'M', 'D', 'M', 'M', 'M', 'GK', 'A', 'D', 'M', 'D', 'D', 'M', 'D', 'A', 'GK', 'D', 'D', 'A', 'D', 'D', 'GK', 'M', 'D', 'D', 'M', 'M', 'M', 'M', 'M', 'D', 'A', 'A', 'A', 'A', 'M', 'M', 'A', 'A', 'A', 'D', 'M', 'M', 'A', 'A', 'A', 'D', 'M', 'M', 'M', 'GK', 'M', 'M', 'M', 'M', 'A', 'M', 'D', 'D', 'D', 'D', 'A', 'M', 'M', 'M', 'A', 'M', 'D', 'M', 'D', 'M', 'M', 'M', 'M', 'M', 'D', 'A', 'M', 'M', 'M', 'D', 'M', 'A', 'D', 'D', 'D', 'D', 'A', 'D', 'A', 'A', 'D', 'A', 'GK', 'M', 'M', 'A', 'D', 'D', 'M', 'A', 'M', 'A', 'A', 'GK', 'A', 'D', 'D', 'M', 'A', 'M', 'D', 'A', 'GK', 'A', 'A', 'D', 'D', 'M', 'A', 'GK', 'A', 'D', 'M', 'M', 'M', 'M', 'M', 'D', 'D', 'M', 'GK', 'D', 'M', 'M', 'A', 'D', 'M', 'D', 'GK', 'A', 'D', 'D', 'A', 'M', 'D', 'D', 'M', 'M', 'A', 'M', 'D', 'M', 'D', 'D', 'D', 'M', 'M', 'M', 'D', 'GK', 'D', 'D', 'GK', 'D', 'D', 'A', 'A', 'D', 'A', 'A', 'D', 'M', 'D', 'D', 'D', 'A', 'A', 'GK', 'M', 'A', 'D', 'M', 'M', 'M', 'D', 'M', 'GK', 'A', 'GK', 'M', 'M', 'GK', 'D', 'D', 'M', 'GK', 'M', 'M', 'M', 'M', 'GK', 'D', 'GK', 'M', 'M', 'M', 'D', 'D', 'D', 'M', 'A', 'M', 'M', 'A', 'M', 'M', 'A', 'M', 'D', 'A', 'D', 'A', 'D', 'D', 'M', 'A', 'GK', 'A', 'M', 'D', 'M', 'D', 'A', 'M', 'D', 'M', 'M', 'M', 'M', 'GK', 'M', 'M', 'A', 'A', 'GK', 'M', 'D', 'M', 'A', 'M', 'M', 'D', 'D', 'M', 'GK', 'A', 'D', 'A', 'M', 'A', 'D', 'D', 'M', 'A', 'M', 'M', 'D', 'M', 'D', 'D', 'D', 'M', 'A', 'M', 'D', 'A', 'D', 'A', 'D', 'GK', 'M', 'A', 'D', 'M', 'M', 'M', 'GK', 'D', 'M', 'A', 'A', 'A', 'D', 'D', 'D', 'D', 'M', 'D', 'M', 'A', 'A', 'GK', 'D', 'D', 'GK', 'D', 'A', 'D', 'M', 'A', 'D', 'A', 'A', 'D', 'GK', 'A', 'D', 'D', 'A', 'A', 'M', 'A', 'M', 'A', 'M', 'D', 'D', 'D', 'M', 'A', 'GK', 'M', 'M', 'A', 'D', 'D', 'M', 'A', 'A', 'D', 'D', 'M', 'D', 'D', 'A', 'M', 'D', 'M', 'A', 'D', 'D', 'M', 'A', 'D', 'M', 'A', 'D', 'D', 'GK', 'D', 'M', 'D', 'GK', 'A', 'M', 'D', 'D', 'M', 'A', 'M', 'M', 'M', 'M', 'M', 'M', 'A', 'M', 'M', 'GK', 'M', 'M', 'M', 'A', 'A', 'A', 'D', 'M', 'GK', 'GK', 'A', 'M', 'D', 'GK', 'M', 'A', 'M', 'D', 'D', 'M', 'D', 'A', 'D', 'D', 'GK', 'D', 'M', 'A', 'A', 'D', 'A', 'M', 'D', 'A', 'GK', 'A', 'D', 'A', 'D', 'GK', 'GK', 'GK', 'M', 'D', 'D', 'M', 'GK', 'D', 'A', 'D', 'GK', 'D', 'M', 'M', 'D', 'M', 'M', 'M', 'A', 'D', 'M', 'GK', 'D', 'D', 'A', 'GK', 'M', 'M', 'M', 'D', 'GK', 'D', 'D', 'M', 'D', 'D', 'GK', 'A', 'GK', 'D', 'A', 'D', 'M', 'D', 'A', 'A', 'M', 'D', 'D', 'D', 'M', 'GK', 'M', 'D', 'D', 'GK', 'D', 'M', 'D', 'A', 'D', 'A', 'M', 'M', 'M', 'D', 'A', 'GK', 'M', 'M', 'D', 'D', 'A', 'A', 'GK', 'GK', 'D', 'A', 'M', 'GK', 'M', 'M', 'A', 'D', 'M', 'A', 'A', 'GK', 'M', 'A', 'A', 'D', 'M', 'M', 'D', 'A', 'D', 'A', 'A', 'D', 'M', 'D', 'A', 'D', 'D', 'M', 'M', 'M', 'M', 'M', 'A', 'D', 'D', 'M', 'D', 'D', 'GK', 'D', 'M', 'D', 'M', 'GK', 'D', 'M', 'A', 'M', 'M', 'M', 'M', 'D', 'D', 'D', 'A', 'GK', 'A', 'GK', 'M', 'D', 'GK', 'GK', 'A', 'M', 'A', 'D', 'D', 'D', 'M', 'M', 'D', 'D', 'A', 'M', 'A', 'M', 'M', 'GK', 'M', 'D', 'A', 'M', 'A', 'M', 'D', 'D', 'D', 'D', 'D', 'D', 'A', 'D', 'GK', 'M', 'M', 'GK', 'GK', 'D', 'D', 'M', 'A', 'D', 'D', 'D', 'GK', 'GK', 'M', 'M', 'M', 'GK', 'D', 'M', 'M', 'M', 'M', 'D', 'D', 'A', 'D', 'A', 'A', 'GK', 'M', 'D', 'D', 'M', 'M', 'M', 'D', 'A', 'M', 'GK', 'M', 'GK', 'GK', 'D', 'M', 'GK', 'D', 'M', 'M', 'D', 'M', 'D', 'A', 'D', 'D', 'D', 'A', 'M', 'A', 'D', 'D', 'A', 'D', 'D', 'M', 'M', 'D', 'A', 'D', 'A', 'D', 'A', 'A', 'M', 'A', 'D', 'M', 'M', 'M', 'GK', 'GK', 'M', 'M', 'D', 'A', 'D', 'D', 'M', 'A', 'A', 'M', 'D', 'D', 'D', 'D', 'GK', 'M', 'M', 'D', 'D', 'D', 'D', 'M', 'D', 'D', 'D', 'M', 'D', 'M', 'D', 'A', 'D', 'D', 'A', 'A', 'D', 'D', 'M', 'D', 'GK', 'D', 'M', 'A', 'M', 'GK', 'D', 'D', 'M', 'A', 'M', 'A', 'M', 'A', 'A', 'A', 'M', 'D', 'M', 'D', 'M', 'D', 'A', 'M', 'D', 'M', 'A', 'M', 'M', 'D', 'A', 'A', 'A', 'D', 'A', 'M', 'D', 'M', 'A', 'M', 'D', 'A', 'M', 'A', 'GK', 'D', 'M', 'D', 'M', 'D', 'A', 'M', 'A', 'D', 'M', 'M', 'D', 'GK', 'A', 'M', 'M', 'M', 'M', 'D', 'D', 'M', 'A', 'M', 'M', 'D', 'M', 'M', 'D', 'GK', 'D', 'D', 'M', 'M', 'D', 'M', 'A', 'D', 'GK', 'A', 'M', 'D', 'A', 'A', 'A', 'A', 'GK', 'M', 'D', 'M', 'M', 'D', 'A', 'M', 'GK', 'D', 'M', 'A', 'M', 'GK', 'M', 'A', 'GK', 'A', 'D', 'A', 'M', 'M', 'D', 'M', 'D', 'M', 'D', 'A', 'M', 'A', 'D', 'D', 'M', 'GK', 'D', 'D', 'M', 'M', 'A', 'M', 'D', 'A', 'A', 'D', 'GK', 'GK', 'D', 'A', 'M', 'D', 'D', 'M', 'GK', 'D', 'M', 'M', 'D', 'M', 'GK', 'D', 'A', 'M', 'GK', 'M', 'M', 'M', 'A', 'M', 'M', 'GK', 'M', 'D', 'D', 'D', 'D', 'D', 'M', 'D', 'M', 'D', 'A', 'GK', 'M', 'D', 'D', 'A', 'GK', 'D', 'M', 'A', 'M', 'D', 'M', 'D', 'GK', 'M', 'GK', 'A', 'D', 'D', 'A', 'D', 'A', 'M', 'M', 'M', 'D', 'D', 'D', 'M', 'D', 'D', 'M', 'D', 'D', 'M', 'M', 'GK', 'M', 'GK', 'M', 'M', 'D', 'D', 'GK', 'D', 'M', 'D', 'D', 'A', 'M', 'GK', 'D', 'M', 'D', 'D', 'D', 'M', 'M', 'M', 'D', 'A', 'A', 'A', 'A', 'GK', 'D', 'GK', 'A', 'A', 'D', 'M', 'M', 'A', 'A', 'D', 'M', 'M', 'GK', 'M', 'D', 'D', 'M', 'D', 'GK', 'D', 'GK', 'M', 'D', 'D', 'GK', 'D', 'A', 'M', 'D', 'GK', 'D', 'A', 'A', 'A', 'D', 'GK', 'D', 'D', 'GK', 'GK', 'A', 'A', 'M', 'D', 'D', 'D', 'GK', 'A', 'M', 'M', 'M', 'A', 'A', 'M', 'D', 'D', 'D', 'D', 'M', 'D', 'A', 'A', 'D', 'D', 'D', 'D', 'M', 'M', 'M', 'D', 'D', 'M', 'A', 'M', 'D', 'D', 'A', 'GK', 'D', 'D', 'GK', 'M', 'D', 'M', 'A', 'A', 'A', 'A', 'GK', 'A', 'D', 'D', 'M', 'M', 'A', 'A', 'A', 'D', 'M', 'A', 'A', 'A', 'D', 'GK', 'D', 'M', 'D', 'M', 'M', 'M', 'A', 'A', 'A', 'D', 'A', 'A', 'D', 'A', 'A', 'M', 'D', 'M', 'A', 'A', 'M', 'A', 'M', 'M', 'D', 'D', 'M', 'D', 'GK', 'D', 'A', 'D', 'M', 'D', 'A', 'A', 'D', 'M', 'A', 'D', 'M', 'D', 'D', 'M', 'D', 'A', 'D', 'M', 'D', 'M', 'GK', 'A', 'D', 'GK', 'A', 'D', 'A', 'A', 'D', 'M', 'M', 'M', 'D', 'M', 'A', 'D', 'M', 'D', 'D', 'M', 'D', 'M', 'D', 'D', 'M', 'D', 'M', 'D', 'M', 'GK', 'D', 'M', 'M', 'M', 'M', 'M', 'D', 'M', 'GK', 'M', 'M', 'D', 'M', 'D', 'M', 'D', 'D', 'GK', 'A', 'D', 'A', 'A', 'M', 'D', 'M', 'M', 'GK', 'D', 'D', 'GK', 'A', 'GK', 'D', 'A', 'A', 'A', 'D', 'GK', 'A', 'M', 'A', 'A', 'GK', 'M', 'A', 'D', 'GK', 'D', 'M', 'A', 'M', 'A', 'A', 'M', 'D', 'M', 'GK', 'D', 'D', 'M', 'A', 'D', 'M', 'D', 'M', 'M', 'D', 'D', 'A', 'A', 'M', 'D', 'A', 'M', 'D', 'A', 'D', 'D', 'M', 'D', 'M', 'M', 'A', 'M', 'A', 'D', 'M', 'D', 'A', 'D', 'D', 'A', 'A', 'GK', 'D', 'M', 'A', 'A', 'A', 'M', 'D', 'D', 'GK', 'M', 'A', 'D', 'GK', 'M', 'D', 'A', 'M', 'M', 'A', 'D', 'M', 'D', 'A', 'M', 'M', 'D', 'D', 'M', 'M', 'GK', 'D', 'A', 'M', 'A', 'D', 'M', 'M', 'M', 'M', 'M', 'D', 'M', 'D', 'A', 'A', 'D', 'D', 'A', 'GK', 'D', 'M', 'GK', 'M', 'GK', 'D', 'D', 'A', 'A', 'D', 'D', 'A', 'M', 'D', 'M', 'M', 'M', 'D', 'M', 'D', 'A', 'M', 'M', 'A', 'A', 'M', 'M', 'D', 'D', 'D', 'D', 'D', 'A', 'M', 'M', 'M', 'D', 'GK', 'GK', 'A', 'D', 'M', 'M', 'M', 'M', 'M', 'A', 'D', 'M', 'D', 'D', 'A', 'D', 'D', 'M', 'D', 'A', 'D', 'D', 'D', 'A', 'M', 'M', 'D', 'A', 'A', 'D', 'A', 'A', 'D', 'D', 'D', 'M', 'M', 'M', 'D', 'A', 'A', 'A', 'M', 'M', 'D', 'GK', 'M', 'A', 'A', 'D', 'D', 'D', 'A', 'A', 'A', 'M', 'D', 'A', 'GK', 'A', 'M', 'A', 'D', 'A', 'D', 'D', 'M', 'A', 'M', 'M', 'M', 'M', 'M', 'A', 'M', 'A', 'A', 'D', 'GK', 'M', 'GK', 'D', 'A', 'M', 'GK', 'D', 'M', 'D', 'M', 'A', 'A', 'D', 'D', 'M', 'D', 'M', 'M', 'D', 'M', 'GK', 'A', 'D', 'D', 'D', 'A', 'D', 'M', 'D', 'D', 'A', 'M', 'D', 'A', 'D', 'M', 'D', 'A', 'GK', 'D', 'D', 'A', 'GK', 'M', 'M', 'GK', 'A', 'D', 'M', 'M', 'A', 'D', 'M', 'A', 'M', 'D', 'M', 'M', 'A', 'M', 'D', 'D', 'M', 'D', 'A', 'D', 'D', 'D', 'D', 'M', 'M', 'D', 'M', 'A', 'M', 'D', 'M', 'D', 'A', 'A', 'GK', 'M', 'D', 'D', 'M', 'D', 'M', 'A', 'A', 'D', 'GK', 'A', 'D', 'D', 'A', 'M', 'M', 'M', 'A', 'M', 'M', 'M', 'M', 'M', 'A', 'D', 'D', 'D', 'D', 'D', 'M', 'D', 'D', 'M', 'D', 'M', 'D', 'D', 'M', 'D', 'M', 'M', 'M', 'GK', 'D', 'GK', 'GK', 'GK', 'D', 'M', 'A', 'D', 'A', 'D', 'M', 'M', 'A', 'M', 'M', 'D', 'D', 'A', 'GK', 'GK', 'M', 'D', 'M', 'GK', 'M', 'D', 'D', 'D', 'D', 'D', 'GK', 'M', 'D', 'M', 'A', 'D', 'M', 'A', 'M', 'GK', 'M', 'M', 'D', 'D', 'D', 'M', 'M', 'D', 'M', 'GK', 'M', 'D', 'GK', 'A', 'M', 'A', 'D', 'D', 'D', 'A', 'A', 'GK', 'A', 'M', 'M', 'D', 'M', 'M', 'D', 'A', 'GK', 'A', 'D', 'GK', 'M', 'A', 'M', 'GK', 'D', 'GK', 'M', 'A', 'M', 'M', 'A', 'D', 'M', 'D', 'D', 'D', 'D', 'M', 'M', 'M', 'A', 'A', 'M', 'D', 'A', 'M', 'A', 'M', 'M', 'A', 'M', 'A', 'A', 'A', 'M', 'M', 'GK', 'D', 'D', 'D', 'D', 'D', 'M', 'GK', 'A', 'D', 'D', 'D', 'M', 'GK', 'M', 'D', 'GK', 'A', 'D', 'D', 'M', 'M', 'M', 'M', 'M', 'M', 'A', 'D', 'M', 'A', 'A', 'M', 'M', 'A', 'A', 'M', 'A', 'D', 'A', 'D', 'D', 'M', 'M', 'M', 'D', 'D', 'M', 'GK', 'A', 'A', 'M', 'A', 'D', 'A', 'D', 'D', 'A', 'M', 'A', 'A', 'M', 'M', 'D', 'M', 'A', 'A', 'D', 'D', 'D', 'A', 'D', 'M', 'A', 'D', 'D', 'D', 'M', 'M', 'D', 'D', 'D', 'GK', 'M', 'M', 'A', 'A', 'A', 'D', 'M', 'M', 'GK', 'GK', 'D', 'D', 'A', 'D', 'D', 'M', 'D', 'A', 'D', 'A', 'M', 'M', 'D', 'M', 'GK', 'A', 'M', 'D', 'M', 'M', 'M', 'GK', 'D', 'A', 'D', 'A', 'D', 'M', 'D', 'D', 'A', 'A', 'M', 'D', 'M', 'M', 'GK', 'M', 'D', 'M', 'D', 'M', 'GK', 'A', 'M', 'D', 'A', 'D', 'M', 'D', 'M', 'A', 'M', 'M', 'M', 'D', 'GK', 'GK', 'D', 'GK', 'D', 'D', 'A', 'D', 'A', 'M', 'D', 'A', 'M', 'A', 'A', 'GK', 'M', 'A', 'GK', 'M', 'M', 'A', 'M', 'A', 'GK', 'A', 'M', 'A', 'M', 'D', 'A', 'M', 'GK', 'M', 'M', 'A', 'GK', 'A', 'D', 'M', 'M', 'A', 'M', 'D', 'D', 'A', 'D', 'D', 'A', 'GK', 'M', 'M', 'GK', 'M', 'M', 'A', 'A', 'D', 'A', 'M', 'A', 'M', 'M', 'M', 'M', 'M', 'A', 'M', 'M', 'A', 'D', 'M', 'M', 'D', 'A', 'D', 'M', 'GK', 'D', 'M', 'A', 'D', 'M', 'D', 'A', 'M', 'D', 'A', 'M', 'D', 'M', 'D', 'A', 'A', 'A', 'M', 'A', 'D', 'M', 'M', 'D', 'M', 'A', 'D', 'M', 'A', 'A', 'D', 'D', 'D', 'M', 'D', 'M', 'M', 'A', 'M', 'M', 'M', 'A', 'A', 'M', 'M', 'GK', 'M', 'M', 'M', 'M', 'GK', 'D', 'D', 'M', 'A', 'D', 'GK', 'D', 'A', 'GK', 'D', 'A', 'D', 'M', 'M', 'A', 'M', 'A', 'M', 'D', 'A', 'M', 'D', 'M', 'A', 'M', 'D', 'M', 'D', 'D', 'M', 'D', 'D', 'D', 'A', 'D', 'M', 'A', 'A', 'M', 'A', 'M', 'A', 'M', 'D', 'A', 'D', 'A', 'M', 'M', 'M', 'M', 'A', 'M', 'D', 'M', 'D', 'A', 'GK', 'D', 'GK', 'M', 'D', 'A', 'D', 'GK', 'GK', 'M', 'M', 'A', 'GK', 'M', 'D', 'M', 'A', 'A', 'D', 'D', 'A', 'D', 'D', 'M', 'M', 'D', 'M', 'A', 'M', 'D', 'GK', 'A', 'M', 'GK', 'A', 'D', 'M', 'A', 'M', 'M', 'D', 'A', 'A', 'D', 'D', 'M', 'M', 'D', 'M', 'M', 'A', 'M', 'A', 'D', 'M', 'A', 'M', 'M', 'D', 'M', 'A', 'A', 'M', 'GK', 'M', 'M', 'D', 'M', 'D', 'D', 'M', 'M', 'D', 'M', 'M', 'M', 'A', 'M', 'A', 'A', 'D', 'M', 'GK', 'A', 'M', 'GK', 'A', 'A', 'A', 'A', 'A', 'A', 'D', 'M', 'D', 'D', 'M', 'GK', 'D', 'A', 'M', 'D', 'M', 'A', 'M', 'D', 'D', 'A', 'A', 'A', 'D', 'M', 'M', 'M', 'M', 'M', 'GK', 'M', 'A', 'A', 'D', 'D', 'D', 'M', 'A', 'M', 'D', 'A', 'D', 'D', 'A', 'M', 'GK', 'M', 'GK', 'D', 'A', 'GK', 'A', 'A', 'D', 'M', 'D', 'A', 'GK', 'M', 'M', 'D', 'D', 'D', 'GK', 'GK', 'A', 'D', 'D', 'M', 'A', 'D', 'D', 'D', 'M', 'D', 'GK', 'M', 'M', 'M', 'M', 'GK', 'D', 'GK', 'M', 'A', 'A', 'A', 'M', 'M', 'M', 'M', 'A', 'A', 'A', 'GK', 'D', 'D', 'D', 'M', 'M', 'D', 'GK', 'D', 'A', 'A', 'M', 'M', 'D', 'M', 'M', 'M', 'A', 'D', 'A', 'D', 'D', 'M', 'D', 'M', 'M', 'D', 'A', 'D', 'GK', 'A', 'GK', 'M', 'M', 'D', 'A', 'GK', 'A', 'A', 'M', 'M', 'M', 'GK', 'A', 'M', 'M', 'GK', 'A', 'A', 'D', 'A', 'A', 'M', 'A', 'D', 'A', 'A', 'M', 'A', 'A', 'M', 'M', 'A', 'GK', 'M', 'M', 'D', 'M', 'M', 'M', 'A', 'M', 'D', 'M', 'M', 'A', 'M', 'M', 'D', 'M', 'GK', 'GK', 'M', 'M', 'A', 'M', 'D', 'D', 'D', 'M', 'M', 'M', 'A', 'M', 'D', 'M', 'A', 'A', 'A', 'D', 'GK', 'M', 'M', 'M', 'A', 'GK', 'D', 'M', 'A', 'D', 'M', 'M', 'A', 'GK', 'A', 'D', 'A', 'M', 'D', 'A', 'M', 'A', 'D', 'A', 'D', 'A', 'D', 'A', 'D', 'A', 'D', 'M', 'A', 'M', 'M', 'A', 'D', 'M', 'D', 'M', 'D', 'GK', 'A', 'M', 'D', 'A', 'A', 'GK', 'A', 'A', 'A', 'D', 'M', 'D', 'A', 'D', 'A', 'M', 'D', 'M', 'M', 'D', 'M', 'A', 'M', 'D', 'A', 'D', 'A', 'M', 'M', 'M', 'A', 'A', 'M', 'A', 'M', 'D', 'A', 'A', 'M', 'M', 'D', 'D', 'D', 'M', 'A', 'A', 'M', 'D', 'D', 'A', 'D', 'D', 'A', 'D', 'D', 'D', 'A', 'D', 'M', 'D', 'GK', 'GK', 'D', 'M', 'D', 'D', 'GK', 'D', 'D', 'GK', 'D', 'M', 'D', 'M', 'M', 'A', 'GK', 'A', 'M', 'A', 'M', 'A', 'A', 'M', 'D', 'D', 'A', 'D', 'M', 'A', 'M', 'M', 'M', 'M', 'D', 'M', 'A', 'A', 'D', 'D', 'GK', 'D', 'M', 'M', 'D', 'M', 'D', 'D', 'M', 'D', 'M', 'M', 'M', 'D', 'M', 'M', 'A', 'M', 'M', 'D', 'A', 'A', 'A', 'M', 'D', 'M', 'M', 'M', 'D', 'A', 'D', 'M', 'M', 'D', 'GK', 'D', 'D', 'M', 'D', 'M', 'M', 'D', 'A', 'M', 'D', 'M', 'D', 'D', 'A', 'A', 'GK', 'M', 'A', 'A', 'D', 'A', 'M', 'D', 'GK', 'A', 'M', 'M', 'D', 'D', 'A', 'A', 'D', 'D', 'A', 'D', 'D', 'D', 'D', 'A', 'M', 'M', 'M', 'D', 'GK', 'M', 'A', 'M', 'GK', 'M', 'GK', 'D', 'A', 'D', 'A', 'M', 'A', 'D', 'D', 'M', 'M', 'D', 'GK', 'M', 'M', 'D', 'D', 'D', 'D', 'M', 'M', 'D', 'GK', 'D', 'A', 'M', 'GK', 'D', 'D', 'GK', 'A', 'M', 'A', 'D', 'D', 'D', 'M', 'GK', 'M', 'D', 'A', 'D', 'M', 'A', 'A', 'M', 'M', 'D', 'M', 'M', 'M', 'M', 'M', 'D', 'A', 'M', 'D', 'A', 'M', 'D', 'D', 'GK', 'D', 'D', 'A', 'D', 'A', 'GK', 'D', 'A', 'A', 'M', 'A', 'M', 'M', 'M', 'D', 'A', 'M', 'M', 'A', 'M', 'M', 'M', 'D', 'M', 'M', 'M', 'A', 'A', 'GK', 'A', 'A', 'D', 'A', 'GK', 'D', 'A', 'D', 'M', 'D', 'GK', 'A', 'M', 'D', 'A', 'D', 'M', 'M', 'M', 'M', 'A', 'M', 'D', 'GK', 'M', 'M', 'D', 'A', 'M', 'A', 'A', 'D', 'A', 'D', 'D', 'D', 'M', 'D', 'A', 'A', 'GK', 'GK', 'D', 'D', 'M', 'D', 'M', 'D', 'M', 'M', 'D', 'M', 'D', 'D', 'M', 'D', 'D', 'A', 'D', 'A', 'M', 'M', 'GK', 'A', 'A', 'M', 'D', 'GK', 'D', 'D', 'A', 'D', 'M', 'M', 'M', 'D', 'M', 'M', 'A', 'D', 'D', 'A', 'D', 'M', 'A', 'A', 'A', 'M', 'A', 'M', 'M', 'GK', 'GK', 'D', 'D', 'M', 'A', 'D', 'D', 'GK', 'M', 'GK', 'D', 'D', 'A', 'M', 'M', 'D', 'M', 'M', 'M', 'M', 'D', 'A', 'M', 'M', 'GK', 'M', 'D', 'A', 'D', 'D', 'D', 'D', 'D', 'A', 'M', 'M', 'D', 'A', 'GK', 'D', 'M', 'D', 'D', 'D', 'D', 'M', 'M', 'D', 'GK', 'M', 'D', 'M', 'M', 'A', 'A', 'M', 'M', 'GK', 'A', 'D', 'M', 'M', 'M', 'A', 'M', 'A', 'A', 'D', 'M', 'D', 'D', 'M', 'D', 'D', 'D', 'M', 'GK', 'D', 'D', 'GK', 'A', 'A', 'D', 'A', 'D', 'M', 'D', 'A', 'D', 'D', 'A', 'A', 'M', 'A', 'M', 'M', 'M', 'A', 'A', 'M', 'A', 'A', 'D', 'M', 'M', 'D', 'A', 'A', 'M', 'M', 'M', 'D', 'A', 'M', 'D', 'A', 'D', 'D', 'A', 'D', 'A', 'D', 'A', 'M', 'D', 'D', 'D', 'GK', 'M', 'M', 'M', 'A', 'M', 'M', 'D', 'M', 'D', 'D', 'A', 'D', 'M', 'M', 'M', 'M', 'M', 'GK', 'GK', 'A', 'A', 'GK', 'GK', 'D', 'D', 'D', 'A', 'A', 'M', 'GK', 'A', 'M', 'A', 'M', 'A', 'M', 'A', 'A', 'M', 'A', 'D', 'M', 'M', 'M', 'M', 'A', 'GK', 'D', 'M', 'M', 'D', 'A', 'A', 'A', 'M', 'D', 'D', 'D', 'M', 'M', 'M', 'D', 'M', 'A', 'D', 'M', 'M', 'M', 'M', 'M', 'D', 'A', 'GK', 'M', 'M', 'M', 'D', 'A', 'D', 'GK', 'M', 'D', 'A', 'D', 'D', 'A', 'A', 'D', 'M', 'M', 'D', 'D', 'M', 'D', 'A', 'M', 'M', 'A', 'M', 'D', 'D', 'M', 'D', 'D', 'M', 'A', 'GK', 'A', 'A', 'D', 'M', 'A', 'A', 'A', 'D', 'GK', 'M', 'A', 'A', 'M', 'A', 'GK', 'D', 'A', 'M', 'M', 'A', 'D', 'A', 'D', 'A', 'A', 'M', 'M', 'A', 'A', 'M', 'D', 'D', 'D', 'D', 'GK', 'A', 'GK', 'A', 'D', 'D', 'D', 'A', 'D', 'A', 'M', 'M', 'M', 'M', 'M', 'A', 'M', 'D', 'D', 'D', 'A', 'D', 'M', 'GK', 'M', 'D', 'D', 'M', 'D', 'GK', 'M', 'A', 'M', 'M', 'D', 'D', 'M', 'A', 'D', 'A', 'M', 'GK', 'M', 'D', 'A', 'D', 'A', 'D', 'M', 'GK', 'D', 'M', 'A', 'A', 'A', 'A', 'D', 'A', 'D', 'D', 'D', 'D', 'GK', 'D', 'GK', 'D', 'D', 'A', 'A', 'A', 'GK', 'D', 'M', 'GK', 'M', 'M', 'GK', 'D', 'A', 'A', 'D', 'M', 'M', 'M', 'A', 'D', 'M', 'D', 'M', 'A', 'D', 'M', 'D', 'A', 'GK', 'D', 'M', 'D', 'GK', 'D', 'M', 'GK', 'M', 'D', 'A', 'A', 'D', 'A', 'D', 'A', 'D', 'A', 'D', 'M', 'M', 'D', 'M', 'A', 'D', 'M', 'D', 'D', 'M', 'A', 'A', 'M', 'A', 'M', 'M', 'A', 'GK', 'GK', 'M', 'GK', 'D', 'D', 'A', 'M', 'D', 'GK', 'D', 'GK', 'D', 'A', 'M', 'A', 'GK', 'D', 'GK', 'A', 'M', 'M', 'M', 'D', 'M', 'M', 'M', 'GK', 'D', 'D', 'M', 'M', 'D', 'D', 'A', 'M', 'M', 'M', 'A', 'GK', 'D', 'A', 'M', 'M', 'GK', 'A', 'A', 'M', 'A', 'M', 'M', 'M', 'M', 'M', 'M', 'GK', 'M', 'M', 'D', 'M', 'M', 'D', 'D', 'GK', 'M', 'D', 'GK', 'D', 'M', 'M', 'A', 'D', 'M', 'M', 'D', 'D', 'D', 'M', 'M', 'M', 'A', 'D', 'A', 'GK', 'M', 'A', 'M', 'D', 'M', 'M', 'D', 'M', 'M', 'M', 'M', 'D', 'M', 'D', 'M', 'A', 'GK', 'A', 'A', 'D', 'D', 'D', 'A', 'M', 'D', 'D', 'M', 'M', 'M', 'M', 'M', 'D', 'D', 'GK', 'GK', 'D', 'M', 'D', 'A', 'D', 'D', 'M', 'D', 'M', 'M', 'A', 'A', 'D', 'D', 'D', 'M', 'D', 'D', 'A', 'D', 'M', 'A', 'A', 'D', 'D', 'A', 'A', 'D', 'GK', 'M', 'M', 'A', 'A', 'M', 'A', 'A', 'M', 'GK', 'M', 'D', 'A', 'A', 'A', 'M', 'M', 'M', 'D', 'M', 'A', 'M', 'A', 'A', 'M', 'D', 'A', 'GK', 'M', 'D', 'A', 'D', 'D', 'M', 'M', 'A', 'D', 'M', 'D', 'A', 'M', 'M', 'M', 'A', 'M', 'M', 'M', 'M', 'A', 'A', 'M', 'A', 'A', 'D', 'D', 'GK', 'A', 'M', 'A', 'D', 'A', 'M', 'GK', 'D', 'M', 'M', 'D', 'M', 'D', 'D', 'A', 'M', 'A', 'GK', 'A', 'A', 'D', 'M', 'D', 'A', 'D', 'M', 'D', 'M', 'A', 'GK', 'M', 'M', 'M', 'M', 'A', 'M', 'M', 'D', 'M', 'M', 'D', 'M', 'M', 'A', 'M', 'M', 'M', 'M', 'D', 'M', 'M', 'D', 'A', 'A', 'D', 'D', 'M', 'M', 'M', 'M', 'GK', 'GK', 'A', 'M', 'M', 'A', 'M', 'M', 'M', 'D', 'M', 'D', 'M', 'M', 'A', 'M', 'GK', 'A', 'A', 'A', 'GK', 'M', 'A', 'M', 'D', 'M', 'M', 'A', 'M', 'M', 'M', 'M', 'M', 'M', 'M', 'M', 'M', 'GK', 'D', 'M', 'M', 'D', 'GK', 'GK', 'D', 'M', 'A', 'A', 'M', 'A', 'M', 'M', 'M', 'A', 'GK', 'M', 'M', 'A', 'D', 'M', 'M', 'M', 'D', 'M', 'A', 'M', 'D', 'M', 'A', 'A', 'A', 'D', 'D', 'D', 'D', 'A', 'D', 'M', 'D', 'M', 'D', 'A', 'M', 'D', 'A', 'D', 'A', 'GK', 'A', 'D', 'M', 'A', 'M', 'D', 'M', 'D', 'M', 'M', 'D', 'A', 'M', 'A', 'D', 'M', 'D', 'D', 'A', 'GK', 'A', 'A', 'M', 'M', 'M', 'M', 'A', 'M', 'A', 'A', 'D', 'M', 'GK', 'M', 'D', 'A', 'M', 'A', 'M', 'GK', 'A', 'M', 'D', 'M', 'D', 'A', 'A', 'D', 'M', 'A', 'M', 'M', 'A', 'M', 'A', 'M', 'M', 'A', 'D', 'D', 'D', 'GK', 'D', 'A', 'D', 'D', 'M', 'D', 'A', 'D', 'D', 'D', 'M', 'M', 'A', 'D', 'M', 'D', 'A', 'D', 'M', 'M', 'D', 'D', 'M', 'M', 'D', 'GK', 'D', 'D', 'D', 'M', 'D', 'A', 'D', 'A', 'D', 'M', 'M', 'GK', 'A', 'A', 'M', 'D', 'GK', 'D', 'M', 'D', 'M', 'A', 'GK', 'GK', 'M', 'M', 'A', 'M', 'M', 'A', 'M', 'GK', 'D', 'D', 'M', 'M', 'D', 'M', 'A', 'M', 'GK', 'D', 'D', 'D', 'A', 'A', 'GK', 'D', 'GK', 'D', 'D', 'GK', 'D', 'A', 'A', 'M', 'D', 'A', 'D', 'D', 'M', 'D', 'A', 'A', 'M', 'M', 'A', 'D', 'M', 'M', 'A', 'D', 'M', 'M', 'A', 'A', 'M', 'M', 'A', 'D', 'M', 'M', 'D', 'M', 'D', 'GK', 'A', 'M', 'A', 'A', 'D', 'A', 'M', 'M', 'M', 'D', 'D', 'D', 'M', 'D', 'A', 'M', 'GK', 'M', 'A', 'GK', 'M', 'M', 'M', 'A', 'M', 'GK', 'D', 'A', 'D', 'D', 'D', 'D', 'D', 'M', 'M', 'M', 'GK', 'A', 'D', 'A', 'M', 'A', 'A', 'M', 'A', 'D', 'M', 'M', 'A', 'M', 'A', 'D', 'M', 'D', 'A', 'D', 'M', 'M', 'M', 'A', 'D', 'A', 'D', 'A', 'M', 'M', 'M', 'A', 'M', 'M', 'A', 'D', 'M', 'D', 'D', 'M', 'M', 'D', 'M', 'A', 'D', 'M', 'A', 'M', 'GK', 'D', 'M', 'A', 'GK', 'M', 'A', 'A', 'D', 'M', 'A', 'D', 'A', 'GK', 'D', 'D', 'A', 'M', 'A', 'D', 'D', 'D', 'A', 'M', 'D', 'GK', 'A', 'A', 'M', 'D', 'D', 'GK', 'D', 'M', 'M', 'D', 'M', 'A', 'A', 'M', 'M', 'A', 'D', 'M', 'M', 'M', 'D', 'M', 'D', 'M', 'M', 'A', 'A', 'D', 'A', 'A', 'A', 'M', 'M', 'A', 'M', 'M', 'GK', 'M', 'D', 'D', 'M', 'A', 'M', 'M', 'M', 'A', 'A', 'A', 'A', 'D', 'D', 'A', 'D', 'D', 'M', 'D', 'GK', 'GK', 'M', 'D', 'D', 'A', 'D', 'M', 'GK', 'A', 'M', 'M', 'A', 'M', 'A', 'A', 'D', 'A', 'D', 'A', 'D', 'D', 'D', 'D', 'D', 'M', 'GK', 'M', 'A', 'M', 'M', 'M', 'D', 'M', 'M', 'A', 'M', 'D', 'D', 'D', 'M', 'D', 'M', 'M', 'D', 'GK', 'GK', 'D', 'M', 'M', 'M', 'D', 'M', 'M', 'D', 'GK', 'A', 'GK', 'D', 'M', 'A', 'M', 'M', 'M', 'A', 'A', 'A', 'M', 'M', 'A', 'D', 'A', 'A', 'D', 'M', 'D', 'D', 'M', 'A', 'D', 'A', 'D', 'M', 'A', 'A', 'M', 'A', 'A', 'M', 'D', 'M', 'A', 'M', 'M', 'M', 'A', 'D', 'A', 'A', 'A', 'D', 'D', 'M', 'M', 'M', 'D', 'D', 'M', 'A', 'M', 'M', 'A', 'M', 'D', 'D', 'A', 'M', 'A', 'M', 'D', 'D', 'M', 'M', 'GK', 'D', 'M', 'D', 'M', 'D', 'D', 'D', 'A', 'A', 'M', 'M', 'M', 'A', 'D', 'A', 'D', 'M', 'D', 'M', 'A', 'A', 'D', 'M', 'A', 'A', 'D', 'A', 'GK', 'D', 'M', 'M', 'M', 'A', 'M', 'A', 'A', 'GK', 'M', 'D', 'A', 'A', 'A', 'GK', 'GK', 'M', 'M', 'D', 'D', 'M', 'M', 'D', 'GK', 'M', 'GK', 'M', 'M', 'A', 'M', 'A', 'M', 'D', 'M', 'M', 'D', 'A', 'GK', 'D', 'GK', 'M', 'D', 'A', 'M', 'D', 'D', 'D', 'A', 'D', 'M', 'M', 'M', 'A', 'M', 'A', 'M', 'D', 'M', 'A', 'A', 'D', 'M', 'M', 'M', 'M', 'A', 'D', 'M', 'A', 'D', 'D', 'A', 'D', 'M', 'M', 'D', 'M', 'A', 'M', 'M', 'A', 'A', 'M', 'A', 'GK', 'M', 'GK', 'A', 'A', 'A', 'M', 'A', 'GK', 'M', 'A', 'D', 'M', 'D', 'M', 'D', 'A', 'A', 'D', 'M', 'M', 'D', 'D', 'D', 'D', 'M', 'M', 'A', 'D', 'GK', 'M', 'M', 'A', 'GK', 'D', 'A', 'M', 'D', 'D', 'GK', 'A', 'D', 'D', 'M', 'M', 'A', 'D', 'GK', 'D', 'M', 'M', 'M', 'A', 'M', 'M', 'A', 'D', 'GK', 'GK', 'D', 'D', 'M', 'D', 'M', 'D', 'M', 'GK', 'A', 'A', 'D', 'A', 'M', 'D', 'D', 'D', 'GK', 'D', 'A', 'A', 'D', 'D', 'D', 'M', 'A', 'D', 'M', 'A', 'M', 'GK', 'A', 'M', 'A', 'D', 'D', 'M', 'D', 'D', 'A', 'M', 'M', 'D', 'D', 'D', 'D', 'M', 'M', 'A', 'A', 'D', 'D', 'M', 'GK', 'A', 'A', 'A', 'M', 'D', 'M', 'D', 'M', 'M', 'M', 'D', 'D', 'A', 'D', 'M', 'M', 'D', 'M', 'M', 'A', 'A', 'A', 'GK', 'M', 'D', 'D', 'M', 'M', 'D', 'M', 'D', 'D', 'M', 'D', 'A', 'M', 'D', 'M', 'A', 'A', 'GK', 'D', 'M', 'M', 'A', 'A', 'A', 'GK', 'A', 'M', 'M', 'M', 'A', 'D', 'M', 'D', 'A', 'A', 'A', 'M', 'A', 'A', 'M', 'GK', 'A', 'A', 'A', 'M', 'D', 'M', 'D', 'D', 'D', 'A', 'M', 'A', 'GK', 'M', 'D', 'D', 'D', 'M', 'A', 'GK', 'M', 'D', 'M', 'M', 'M', 'M', 'GK', 'D', 'M', 'A', 'D', 'D', 'D', 'A', 'GK', 'M', 'D', 'M', 'M', 'A', 'A', 'M', 'M', 'D', 'D', 'D', 'GK', 'GK', 'M', 'A', 'D', 'A', 'D', 'D', 'M', 'GK', 'D', 'M', 'A', 'M', 'A', 'M', 'D', 'D', 'M', 'A', 'D', 'M', 'D', 'D', 'M', 'M', 'D', 'M', 'A', 'A', 'D', 'M', 'A', 'M', 'M', 'GK', 'M', 'M', 'M', 'D', 'GK', 'D', 'A', 'M', 'M', 'GK', 'M', 'A', 'A', 'D', 'D', 'D', 'GK', 'M', 'M', 'A', 'M', 'M', 'M', 'D', 'M', 'A', 'M', 'D', 'D', 'A', 'M', 'GK', 'D', 'D', 'M', 'D', 'A', 'GK', 'D', 'A', 'M', 'A', 'D', 'D', 'GK', 'A', 'D', 'M', 'M', 'A', 'M', 'M', 'D', 'GK', 'M', 'M', 'D', 'GK', 'M', 'GK', 'A', 'D', 'M', 'M', 'A', 'A', 'M', 'A', 'M', 'GK', 'D', 'D', 'M', 'M', 'M', 'M', 'A', 'D', 'A', 'GK', 'D', 'D', 'D', 'M', 'GK', 'D', 'GK', 'GK', 'A', 'D', 'GK', 'GK', 'A', 'GK', 'M', 'A', 'M', 'M', 'M', 'M', 'M', 'D', 'GK', 'M', 'D', 'D', 'A', 'A', 'D', 'D', 'GK', 'M', 'A', 'M', 'M', 'D', 'M', 'D', 'D', 'A', 'M', 'M', 'M', 'D', 'A', 'D', 'GK', 'M', 'D', 'M', 'A', 'A', 'D', 'A', 'M', 'A', 'D', 'M', 'A', 'M', 'GK', 'D', 'A', 'A', 'M', 'A', 'D', 'A', 'A', 'M', 'D', 'M', 'D', 'D', 'M', 'GK', 'A', 'A', 'D', 'D', 'D', 'M', 'M', 'M', 'A', 'M', 'D', 'A', 'M', 'D', 'M', 'M', 'A', 'D', 'GK', 'M', 'A', 'D', 'M', 'A', 'D', 'M', 'M', 'D', 'M', 'D', 'A', 'M', 'A', 'M', 'GK', 'A', 'M', 'M', 'D', 'M', 'M', 'D', 'D', 'A', 'M', 'M', 'M', 'M', 'A', 'M', 'M', 'D', 'A', 'D', 'A', 'M', 'A', 'D', 'GK', 'A', 'D', 'M', 'GK', 'D', 'D', 'D', 'A', 'D', 'M', 'M', 'A', 'M', 'A', 'M', 'M', 'D', 'A', 'A', 'D', 'D', 'M', 'D', 'GK', 'A', 'D', 'A', 'D', 'M', 'D', 'D', 'D', 'GK', 'D', 'D', 'A', 'GK', 'D', 'D', 'D', 'A', 'A', 'GK', 'D', 'D', 'D', 'A', 'A', 'M', 'M', 'D', 'D', 'D', 'GK', 'A', 'D', 'M', 'D', 'A', 'D', 'M', 'D', 'A', 'D', 'M', 'A', 'A', 'D', 'A', 'M', 'M', 'A', 'D', 'A', 'A', 'M', 'D', 'GK', 'M', 'A', 'M', 'D', 'D', 'D', 'A', 'D', 'M', 'D', 'A', 'M', 'D', 'D', 'D', 'D', 'M', 'A', 'M', 'M', 'GK', 'D', 'M', 'GK', 'A', 'A', 'D', 'M', 'M', 'A', 'D', 'M', 'M', 'M', 'A', 'A', 'M', 'A', 'A', 'D', 'A', 'A', 'D', 'M', 'M', 'D', 'D', 'M', 'M', 'GK', 'M', 'D', 'D', 'M', 'GK', 'A', 'D', 'D', 'A', 'A', 'D', 'A', 'M', 'GK', 'A', 'D', 'M', 'M', 'M', 'GK', 'A', 'M', 'A', 'A', 'A', 'A', 'M', 'A', 'A', 'M', 'D', 'M', 'M', 'A', 'D', 'D', 'A', 'A', 'M', 'M', 'M', 'M', 'D', 'D', 'A', 'M', 'D', 'A', 'D', 'D', 'D', 'A', 'M', 'M', 'M', 'D', 'M', 'M', 'M', 'M', 'M', 'M', 'A', 'A', 'A', 'D', 'GK', 'M', 'M', 'M', 'A', 'A', 'M', 'M', 'M', 'A', 'M', 'M', 'GK', 'M', 'D', 'A', 'M', 'D', 'GK', 'M', 'GK', 'M', 'M', 'A', 'M', 'D', 'A', 'M', 'M', 'A', 'M', 'M', 'A', 'M', 'M', 'A', 'D', 'M', 'M', 'D', 'D', 'M', 'D', 'A', 'D', 'A', 'A', 'D', 'A', 'M', 'A', 'M', 'GK', 'A', 'M', 'M', 'A', 'D', 'D', 'A', 'A', 'A', 'A', 'A', 'D', 'M', 'D', 'M', 'M', 'GK', 'D', 'D', 'A', 'GK', 'M', 'D', 'D', 'M', 'D', 'D', 'M', 'D', 'M', 'M', 'M', 'M', 'M', 'M', 'M', 'D', 'M', 'M', 'A', 'M', 'D', 'D', 'D', 'D', 'M', 'A', 'D', 'D', 'D', 'A', 'D', 'A', 'A', 'D', 'D', 'D', 'A', 'D', 'M', 'M', 'D', 'M', 'A', 'D', 'M', 'D', 'A', 'D', 'A', 'D', 'A', 'M', 'GK', 'D', 'GK', 'M', 'D', 'M', 'A', 'D', 'A', 'D', 'A', 'M', 'D', 'GK', 'A', 'A', 'M', 'M', 'M', 'M', 'M', 'M', 'M', 'A', 'D', 'M', 'D', 'D', 'D', 'A', 'A', 'A', 'M', 'M', 'D', 'GK', 'A', 'A', 'M', 'A', 'A', 'M', 'D', 'M', 'M', 'M', 'M', 'M', 'M', 'A', 'A', 'D', 'A', 'A', 'M', 'M', 'M', 'M', 'M', 'D', 'D', 'A', 'A', 'M', 'D', 'D', 'M', 'A', 'M', 'D', 'M', 'M', 'D', 'D', 'M', 'D', 'M', 'M', 'A', 'A', 'D', 'A', 'A', 'D', 'A', 'A', 'M', 'D', 'M', 'GK', 'A', 'D', 'D', 'GK', 'GK', 'D', 'D', 'M', 'M', 'A', 'A', 'A', 'D', 'M', 'D', 'M', 'D', 'D', 'A', 'A', 'A', 'A', 'D', 'A', 'A', 'M', 'M', 'D', 'A', 'M', 'M', 'M', 'A', 'M', 'M', 'D', 'GK', 'A', 'M', 'GK', 'D', 'D', 'M', 'A', 'GK', 'M', 'M', 'M', 'D', 'M', 'M', 'M', 'M', 'A', 'M', 'GK', 'M', 'A', 'M', 'M', 'M', 'M', 'A', 'A', 'A', 'M', 'D', 'M', 'D', 'D', 'M', 'M', 'A', 'D', 'M', 'D', 'M', 'A', 'M', 'A', 'D', 'A', 'GK', 'M', 'M', 'D', 'M', 'A', 'M', 'M', 'M', 'D', 'GK', 'GK', 'D', 'M', 'D', 'A', 'M', 'A', 'GK', 'D', 'D', 'M', 'GK', 'D', 'D', 'A', 'M', 'D', 'A', 'M', 'M', 'M', 'D', 'M', 'D', 'A', 'M', 'A', 'A', 'M', 'M', 'A', 'M', 'M', 'A', 'GK', 'D', 'GK', 'D', 'A', 'D', 'M', 'GK', 'D', 'M', 'M', 'GK', 'M', 'M', 'A', 'A', 'M', 'GK', 'D', 'GK', 'A', 'D', 'M', 'A', 'D', 'A', 'A', 'A', 'A', 'M', 'A', 'D', 'A', 'A', 'GK', 'M', 'M', 'D', 'D', 'D', 'A', 'GK', 'GK', 'D', 'M', 'D', 'GK', 'M', 'GK', 'M', 'D', 'A', 'M', 'D', 'M', 'M', 'A', 'D', 'A', 'A', 'M', 'D', 'A', 'GK', 'A', 'A', 'M', 'GK', 'M', 'M', 'A', 'D', 'M', 'M', 'GK', 'D', 'M', 'M', 'M', 'M', 'A', 'D', 'GK', 'A', 'M', 'D', 'M', 'A', 'M', 'D', 'D', 'M', 'M', 'A', 'GK', 'GK', 'A', 'D', 'M', 'M', 'M', 'M', 'D', 'D', 'D', 'M', 'M', 'D', 'D', 'D', 'GK', 'D', 'D', 'M', 'D', 'D', 'D', 'M', 'M', 'A', 'A', 'M', 'A', 'GK', 'D', 'D', 'M', 'M', 'A', 'D', 'GK', 'A', 'M', 'D', 'A', 'D', 'GK', 'GK', 'M', 'D', 'A', 'M', 'D', 'A', 'A', 'M', 'M', 'D', 'D', 'D', 'A', 'GK', 'A', 'A', 'M', 'M', 'M', 'M', 'D', 'A', 'M', 'A', 'A', 'D', 'D', 'D', 'A', 'M', 'D', 'D', 'D', 'D', 'D', 'A', 'A', 'A', 'M', 'D', 'A', 'A', 'M', 'M', 'D', 'D', 'A', 'M', 'M', 'A', 'A', 'M', 'D', 'D', 'A', 'A', 'GK', 'A', 'A', 'M', 'A', 'D', 'GK', 'D', 'M', 'A', 'M', 'A', 'M', 'D', 'M', 'D', 'D', 'GK', 'M', 'D', 'A', 'M', 'D', 'D', 'M', 'A', 'D', 'M', 'M', 'D', 'D', 'D', 'A', 'D', 'D', 'M', 'M', 'M', 'A', 'GK', 'GK', 'M', 'D', 'M', 'A', 'D', 'A', 'GK', 'M', 'A', 'A', 'A', 'GK', 'M', 'M', 'M', 'M', 'M', 'D', 'M', 'GK', 'A', 'A', 'M', 'A', 'A', 'A', 'M', 'D', 'M', 'D', 'A', 'M', 'M', 'GK', 'M', 'D', 'GK', 'D', 'D', 'M', 'D', 'A', 'M', 'A', 'M', 'D', 'D', 'GK', 'D', 'D', 'M', 'D', 'M', 'A', 'M', 'D', 'GK', 'A', 'M', 'GK', 'A', 'A', 'A', 'M', 'M', 'GK', 'M', 'D', 'M', 'D', 'GK', 'GK', 'D', 'D', 'M', 'A', 'M', 'D', 'A', 'A', 'D', 'A', 'M', 'D', 'M', 'A', 'A', 'GK', 'M', 'D', 'M', 'A', 'M', 'A', 'A', 'A', 'D', 'D', 'M', 'M', 'M', 'A', 'A', 'A', 'GK', 'M', 'A', 'D', 'D', 'M', 'D', 'M', 'A', 'M', 'M', 'A', 'A', 'D', 'D', 'D', 'A', 'D', 'A', 'D', 'D', 'A', 'GK', 'D', 'M', 'M', 'GK', 'M', 'M', 'D', 'A', 'A', 'M', 'D', 'M', 'D', 'D', 'D', 'A', 'GK', 'D', 'GK', 'M', 'D', 'M', 'A', 'A', 'D', 'M', 'D', 'D', 'A', 'A', 'M', 'M', 'D', 'D', 'D', 'D', 'M', 'M', 'D', 'A', 'M', 'D', 'D', 'M', 'A', 'M', 'M', 'D', 'A', 'M', 'D', 'M', 'D', 'M', 'D', 'D', 'D', 'M', 'A', 'M', 'A', 'A', 'GK', 'A', 'D', 'M', 'A', 'D', 'GK', 'D', 'A', 'M', 'M', 'M', 'M', 'M', 'M', 'M', 'M', 'A', 'D', 'A', 'D', 'M', 'M', 'A', 'D', 'D', 'D', 'D', 'D', 'A', 'A', 'A', 'A', 'A', 'M', 'GK', 'M', 'M', 'D', 'M', 'M', 'M', 'M', 'M', 'M', 'D', 'D', 'M', 'M', 'M', 'D', 'M', 'M', 'A', 'M', 'M', 'M', 'D', 'A', 'M', 'GK', 'A', 'D', 'A', 'M', 'M', 'D', 'M', 'A', 'M', 'A', 'A', 'M', 'D', 'A', 'A', 'A', 'M', 'A', 'M', 'D', 'M', 'D', 'A', 'D', 'M', 'A', 'D', 'GK', 'D', 'D', 'A', 'A', 'A', 'M', 'M', 'A', 'M', 'M', 'M', 'A', 'D', 'D', 'A', 'A', 'GK', 'A', 'D', 'GK', 'M', 'M', 'D', 'M', 'GK', 'D', 'GK', 'D', 'M', 'A', 'M', 'A', 'M', 'A', 'D', 'D', 'D', 'D', 'D', 'GK', 'A', 'A', 'A', 'D', 'D', 'M', 'M', 'D', 'M', 'GK', 'M', 'A', 'GK', 'M', 'M', 'D', 'A', 'A', 'M', 'GK', 'D', 'A', 'A', 'M', 'A', 'D', 'GK', 'M', 'GK', 'M', 'A', 'D', 'A', 'D', 'A', 'A', 'M', 'A', 'A', 'GK', 'M', 'D', 'D', 'M', 'A', 'A', 'GK', 'D', 'M', 'M', 'M', 'A', 'A', 'A', 'D', 'GK', 'A', 'D', 'M', 'A', 'GK', 'A', 'A', 'GK', 'D', 'M', 'A', 'A', 'D', 'M', 'D', 'D', 'A', 'M', 'M', 'GK', 'D', 'D', 'A', 'A', 'M', 'D', 'A', 'A', 'M', 'D', 'M', 'A', 'D', 'D', 'D', 'M', 'M', 'D', 'D', 'M', 'M', 'A', 'D', 'A', 'M', 'D', 'D', 'M', 'M', 'A', 'A', 'D', 'M', 'M', 'D', 'A', 'A', 'M', 'D', 'D', 'D', 'M', 'GK', 'D', 'A', 'M', 'D', 'A', 'M', 'M', 'A', 'M', 'A', 'GK', 'A', 'D', 'D', 'M', 'A', 'A', 'A', 'D', 'D', 'A', 'D', 'D', 'M', 'GK', 'D', 'D', 'M', 'M', 'M', 'M', 'A', 'D', 'M', 'D', 'D', 'M', 'A', 'D', 'M', 'D', 'A', 'A', 'A', 'A', 'M', 'GK', 'M', 'A', 'A', 'D', 'D', 'M', 'M', 'M', 'A', 'D', 'A', 'GK', 'D', 'D', 'A', 'M', 'M', 'D', 'A', 'GK', 'D', 'M', 'M', 'M', 'A', 'M', 'D', 'D', 'M', 'D', 'GK', 'GK', 'D', 'D', 'M', 'D', 'M', 'M', 'M', 'M', 'M', 'D', 'M', 'M', 'D', 'M', 'M', 'GK', 'D', 'GK', 'A', 'M', 'M', 'D', 'D', 'M', 'M', 'D', 'M', 'D', 'D', 'M', 'D', 'D', 'A', 'GK', 'A', 'M', 'A', 'D', 'D', 'A', 'M', 'GK', 'D', 'A', 'D', 'A', 'M', 'D', 'A', 'M', 'GK', 'M', 'A', 'A', 'GK', 'M', 'D', 'M', 'A', 'M', 'D', 'M', 'M', 'GK', 'D', 'M', 'A', 'A', 'A', 'M', 'A', 'D', 'M', 'M', 'A', 'M', 'A', 'M', 'GK', 'M', 'A', 'D', 'M', 'A', 'M', 'D', 'GK', 'A', 'A', 'D', 'D', 'D', 'M', 'D', 'A', 'A', 'A', 'M', 'M', 'D', 'A', 'A', 'A', 'M', 'A', 'M', 'A', 'D', 'GK', 'GK', 'M', 'D', 'GK', 'A', 'A', 'M', 'M', 'D', 'D', 'M', 'M', 'GK', 'D', 'D', 'GK', 'M', 'M', 'M', 'A', 'GK', 'A', 'M', 'A', 'M', 'D', 'M', 'M', 'GK', 'M', 'A', 'GK', 'D', 'GK', 'GK', 'A', 'D', 'A', 'GK', 'M', 'M', 'A', 'GK', 'A', 'M', 'M', 'A', 'M', 'D', 'D', 'M', 'M', 'A', 'M', 'M', 'M', 'A', 'A', 'M', 'A', 'D', 'D', 'GK', 'A', 'D', 'D', 'D', 'D', 'M', 'D', 'M', 'A', 'GK', 'A', 'D', 'A', 'A', 'A', 'A', 'D', 'GK', 'D', 'M', 'D', 'M', 'A', 'D', 'A', 'M', 'D', 'GK', 'A', 'M', 'D', 'D', 'GK', 'D', 'A', 'M', 'M', 'D', 'M', 'A', 'M', 'M', 'M', 'M', 'M', 'D', 'M', 'A', 'D', 'M', 'D', 'A', 'GK', 'D', 'A', 'M', 'D', 'D', 'GK', 'A', 'M', 'M', 'D', 'D', 'M', 'D', 'D', 'D', 'GK', 'A', 'M', 'M', 'D', 'M', 'D', 'M', 'D', 'A', 'A', 'M', 'D', 'GK', 'D', 'D', 'A', 'D', 'GK', 'D', 'GK', 'M', 'M', 'GK', 'A', 'D', 'M', 'D', 'D', 'A', 'GK', 'GK', 'D', 'A', 'A', 'D', 'D', 'M', 'M', 'D', 'M', 'M', 'D', 'M', 'D', 'M', 'M', 'D', 'D', 'D', 'M', 'D', 'D', 'GK', 'GK', 'M', 'GK', 'D', 'A', 'M', 'D', 'GK', 'M', 'GK', 'D', 'M', 'D', 'M', 'D', 'D', 'A', 'D', 'M', 'M', 'M', 'D', 'M', 'M', 'D', 'D', 'A', 'D', 'A', 'A', 'M', 'D', 'A', 'M', 'D', 'D', 'D', 'D', 'M', 'D', 'D', 'A', 'M', 'D', 'M', 'A', 'M', 'D', 'M', 'M', 'M', 'A', 'M', 'D', 'GK', 'M', 'M', 'A', 'D', 'D', 'D', 'D', 'A', 'D', 'D', 'D', 'M', 'D', 'D', 'D', 'A', 'D', 'M', 'A', 'D', 'M', 'M', 'GK', 'M', 'A', 'M', 'M', 'M', 'D', 'M', 'M', 'M', 'D', 'A', 'M', 'D', 'M', 'A', 'D', 'D', 'A', 'D', 'M', 'M', 'M', 'GK', 'M', 'D', 'M', 'A', 'D', 'D', 'M', 'A', 'M', 'A', 'M', 'A', 'D', 'A', 'M', 'M', 'M', 'M', 'D', 'A', 'A', 'M', 'GK', 'A', 'D', 'D', 'M', 'D', 'M', 'D', 'M', 'D', 'M', 'A', 'M', 'D', 'M', 'M', 'D', 'M', 'D', 'A', 'A', 'D', 'A', 'D', 'GK', 'D', 'M', 'D', 'M', 'D', 'D', 'D', 'M', 'M', 'M', 'D', 'A', 'D', 'GK', 'D', 'M', 'D', 'A', 'M', 'GK', 'D', 'M', 'D', 'M', 'D', 'M', 'GK', 'GK', 'D', 'M', 'A', 'D', 'GK', 'M', 'M', 'D', 'M', 'D', 'GK', 'GK', 'D', 'A', 'M', 'GK', 'A', 'M', 'M', 'M', 'M', 'D', 'GK', 'D', 'M', 'D', 'M', 'D', 'A', 'A', 'GK', 'GK', 'A', 'D', 'A', 'GK', 'M', 'A', 'A', 'M', 'GK', 'GK', 'D', 'M', 'D', 'M', 'A', 'D', 'D', 'M', 'GK', 'D', 'A', 'M', 'M', 'M', 'M', 'A', 'D', 'GK', 'GK', 'D', 'M', 'D', 'M', 'A', 'D', 'A', 'M', 'D', 'M', 'M', 'D', 'A', 'M', 'D', 'M', 'M', 'D', 'A', 'GK', 'M', 'GK', 'D', 'D', 'D', 'GK', 'D', 'M', 'M', 'M', 'D', 'GK', 'M', 'D', 'A', 'M', 'M', 'A', 'GK', 'M', 'D', 'D', 'M', 'M', 'D', 'M', 'M', 'GK', 'A', 'M', 'A', 'A', 'A', 'GK', 'D', 'D', 'D', 'D', 'GK', 'D', 'GK', 'D', 'D', 'GK', 'M', 'D', 'D', 'M', 'D', 'M', 'GK', 'A', 'M', 'M', 'A', 'D', 'D', 'D', 'D', 'GK', 'A', 'D', 'M', 'D', 'D', 'A', 'M', 'M', 'M', 'A', 'GK', 'M', 'D', 'M', 'D', 'M', 'M', 'GK', 'D', 'GK', 'A', 'D', 'GK', 'M', 'M', 'M', 'M', 'M', 'A', 'M', 'D', 'M', 'D', 'D', 'GK', 'M', 'D', 'GK', 'M', 'D', 'D', 'M', 'D', 'GK', 'A', 'A', 'D', 'D', 'M', 'M', 'M', 'M', 'D', 'A', 'M', 'M', 'D', 'A', 'GK', 'D', 'D', 'D', 'M', 'GK', 'D', 'D', 'D', 'M', 'M', 'D', 'M', 'M', 'D', 'D', 'M', 'D', 'M', 'A', 'M', 'M', 'D', 'M', 'D', 'D', 'GK', 'A', 'M', 'GK', 'M', 'M', 'D', 'M', 'GK', 'M', 'D', 'A', 'D', 'M', 'D', 'M', 'A', 'A', 'M', 'M', 'M', 'M', 'D', 'D', 'D', 'A', 'D', 'A', 'D', 'A', 'A', 'D', 'GK', 'A', 'D', 'A', 'D', 'A', 'A', 'D', 'M', 'M', 'D', 'M', 'A', 'M', 'D', 'M', 'M', 'A', 'A', 'D', 'GK', 'A', 'M', 'M', 'D', 'M', 'D', 'D', 'D', 'GK', 'D', 'GK', 'A', 'M', 'M', 'D', 'A', 'D', 'M', 'D', 'D', 'D', 'A', 'D', 'M', 'M', 'M', 'D', 'GK', 'M', 'M', 'M', 'M', 'M', 'D', 'D', 'GK', 'M', 'M', 'A', 'A', 'M', 'A', 'M', 'D', 'M', 'A', 'M', 'D', 'A', 'D', 'D', 'M', 'A', 'M', 'D', 'M', 'M', 'GK', 'GK', 'GK', 'A', 'A', 'M', 'A', 'M', 'A', 'M', 'GK', 'D', 'GK', 'M', 'GK', 'M', 'D', 'D', 'A', 'GK', 'D', 'M', 'D', 'M', 'A', 'A', 'D', 'D', 'A', 'D', 'M', 'A', 'M', 'M', 'D', 'M', 'M', 'M', 'A', 'M', 'GK', 'D', 'GK', 'M', 'D', 'A', 'M', 'D', 'D', 'D', 'A', 'M', 'GK', 'A', 'A', 'D', 'M', 'A', 'GK', 'D', 'D', 'A', 'M', 'D', 'M', 'D', 'D', 'D', 'D', 'D', 'A', 'M', 'M', 'M', 'M', 'GK', 'D', 'A', 'A', 'GK', 'A', 'M', 'D', 'D', 'D', 'GK', 'D', 'M', 'GK', 'M', 'A', 'M', 'GK', 'M', 'A', 'M', 'A', 'D', 'M', 'D', 'A', 'D', 'A', 'GK', 'D', 'A', 'M', 'GK', 'M', 'GK', 'D', 'GK', 'D', 'M', 'M', 'D', 'D', 'M', 'M', 'D', 'A', 'A', 'M', 'D', 'M', 'A', 'D', 'D', 'GK', 'M', 'D', 'A', 'D', 'M', 'GK', 'D', 'GK', 'M', 'D', 'D', 'M', 'D', 'A', 'D', 'M', 'D', 'GK', 'M', 'GK', 'A', 'M', 'GK', 'GK', 'D', 'D', 'A', 'D', 'M', 'GK', 'D', 'A', 'D', 'A', 'A', 'M', 'A', 'A', 'M', 'D', 'M', 'A', 'GK', 'D', 'M', 'D', 'M', 'GK', 'A', 'A', 'GK', 'A', 'A', 'A', 'D', 'D', 'A', 'GK', 'M', 'A', 'M', 'M', 'D', 'D', 'M', 'M', 'M', 'D', 'D', 'M', 'M', 'D', 'M', 'M', 'D', 'M', 'D', 'M', 'GK', 'GK', 'M', 'M', 'M', 'A', 'A', 'M', 'D', 'A', 'M', 'M', 'GK', 'M', 'A', 'A', 'A', 'D', 'D', 'M']\n",
    "heights = [191, 184, 185, 180, 181, 187, 170, 179, 183, 186, 185, 170, 187, 183, 173, 188, 183, 180, 188, 175, 193, 180, 185, 170, 183, 173, 185, 185, 168, 190, 178, 185, 185, 193, 183, 184, 178, 180, 177, 188, 177, 187, 186, 183, 189, 179, 196, 190, 189, 188, 188, 188, 182, 185, 184, 178, 185, 193, 188, 179, 189, 188, 180, 178, 186, 188, 180, 185, 172, 179, 180, 174, 183, 178, 187, 178, 193, 181, 180, 187, 179, 173, 175, 188, 187, 175, 171, 179, 180, 188, 185, 196, 183, 184, 186, 178, 188, 168, 176, 178, 178, 192, 172, 170, 190, 175, 174, 179, 177, 187, 184, 185, 175, 193, 185, 191, 181, 183, 176, 176, 182, 192, 187, 170, 189, 171, 181, 183, 178, 182, 186, 191, 175, 179, 180, 181, 178, 193, 179, 181, 186, 190, 190, 192, 185, 178, 182, 171, 182, 173, 192, 175, 183, 183, 184, 176, 183, 186, 178, 185, 188, 193, 193, 170, 188, 196, 175, 180, 184, 173, 180, 190, 186, 182, 183, 195, 188, 187, 190, 180, 194, 182, 182, 183, 178, 183, 171, 185, 177, 180, 195, 173, 185, 186, 187, 178, 185, 174, 175, 176, 191, 170, 183, 180, 174, 191, 179, 178, 187, 191, 183, 180, 184, 183, 180, 185, 184, 181, 186, 185, 182, 175, 173, 175, 176, 174, 184, 177, 185, 162, 180, 171, 183, 180, 180, 191, 196, 191, 176, 186, 171, 190, 188, 180, 185, 176, 187, 188, 182, 178, 176, 175, 177, 191, 183, 189, 173, 180, 180, 185, 185, 180, 181, 183, 180, 185, 175, 175, 177, 177, 182, 167, 176, 180, 194, 180, 187, 174, 182, 174, 181, 188, 188, 180, 183, 183, 184, 188, 170, 182, 183, 170, 186, 191, 187, 188, 177, 180, 182, 174, 183, 178, 182, 190, 180, 182, 181, 180, 176, 172, 186, 180, 185, 186, 179, 185, 180, 187, 181, 185, 181, 183, 181, 175, 187, 178, 182, 182, 183, 184, 170, 178, 175, 186, 175, 178, 185, 178, 190, 187, 173, 186, 177, 193, 183, 175, 185, 179, 167, 175, 183, 188, 184, 191, 184, 170, 169, 175, 175, 185, 193, 172, 179, 180, 179, 186, 180, 176, 190, 175, 175, 186, 196, 186, 187, 182, 178, 185, 183, 191, 183, 185, 186, 180, 169, 185, 194, 186, 183, 183, 191, 189, 194, 174, 168, 185, 160, 191, 185, 186, 179, 188, 185, 189, 183, 183, 176, 183, 180, 171, 187, 175, 190, 178, 175, 181, 185, 188, 180, 171, 184, 176, 181, 183, 178, 171, 187, 186, 186, 174, 174, 186, 193, 191, 180, 181, 177, 195, 190, 185, 168, 183, 175, 191, 184, 182, 188, 182, 180, 192, 191, 185, 188, 180, 179, 183, 192, 183, 183, 180, 173, 180, 190, 183, 182, 175, 180, 178, 181, 188, 175, 180, 183, 191, 183, 180, 182, 178, 189, 183, 183, 178, 170, 178, 173, 180, 184, 180, 188, 180, 184, 191, 188, 195, 197, 186, 191, 189, 196, 185, 178, 200, 176, 184, 189, 181, 185, 184, 191, 191, 184, 190, 190, 170, 183, 183, 169, 183, 185, 178, 183, 186, 190, 186, 188, 186, 183, 179, 172, 185, 180, 183, 189, 180, 182, 185, 180, 193, 185, 175, 182, 182, 180, 185, 180, 188, 175, 183, 185, 185, 176, 189, 186, 181, 181, 185, 188, 176, 179, 178, 178, 180, 185, 183, 183, 185, 186, 185, 188, 172, 175, 186, 181, 190, 177, 184, 191, 173, 178, 180, 185, 183, 186, 175, 189, 189, 189, 189, 183, 166, 178, 175, 179, 185, 180, 190, 181, 185, 179, 185, 188, 183, 173, 180, 181, 175, 182, 177, 182, 180, 182, 184, 181, 177, 178, 180, 183, 194, 185, 191, 180, 187, 181, 183, 183, 180, 185, 178, 177, 183, 178, 173, 183, 191, 188, 188, 178, 175, 186, 183, 180, 184, 184, 194, 174, 178, 193, 175, 190, 186, 186, 180, 186, 183, 177, 180, 175, 184, 184, 178, 166, 183, 186, 168, 178, 181, 188, 187, 180, 172, 185, 186, 191, 172, 184, 186, 192, 180, 177, 183, 175, 180, 170, 180, 188, 180, 178, 196, 192, 186, 175, 184, 175, 171, 187, 170, 183, 184, 178, 187, 179, 177, 172, 180, 170, 177, 184, 185, 191, 188, 193, 183, 188, 185, 183, 185, 187, 189, 188, 174, 173, 172, 179, 171, 176, 173, 185, 183, 187, 178, 176, 187, 171, 185, 174, 186, 179, 192, 173, 183, 183, 183, 186, 184, 185, 171, 184, 189, 183, 173, 184, 183, 184, 184, 179, 184, 185, 181, 170, 176, 191, 173, 183, 178, 189, 183, 187, 202, 180, 183, 186, 182, 186, 182, 190, 178, 185, 181, 186, 171, 183, 185, 184, 190, 167, 175, 172, 190, 168, 180, 188, 191, 178, 178, 175, 183, 191, 183, 182, 187, 181, 175, 186, 175, 189, 180, 188, 180, 183, 179, 184, 178, 185, 185, 182, 179, 183, 170, 183, 178, 187, 184, 168, 186, 183, 179, 186, 170, 178, 184, 191, 187, 174, 178, 186, 184, 193, 188, 185, 188, 173, 175, 195, 180, 187, 182, 183, 188, 173, 197, 173, 187, 184, 190, 188, 174, 190, 185, 182, 191, 187, 193, 173, 180, 172, 176, 191, 187, 184, 184, 199, 175, 191, 190, 183, 192, 191, 189, 174, 185, 184, 185, 185, 193, 183, 189, 177, 183, 188, 170, 185, 178, 188, 178, 170, 193, 173, 173, 180, 180, 175, 173, 185, 185, 189, 176, 173, 183, 175, 179, 193, 188, 183, 183, 175, 183, 176, 180, 185, 180, 187, 180, 177, 196, 175, 176, 188, 187, 183, 173, 191, 183, 188, 186, 176, 173, 171, 179, 173, 192, 182, 180, 191, 182, 192, 185, 192, 186, 179, 178, 186, 179, 176, 182, 184, 178, 182, 182, 190, 183, 188, 187, 183, 172, 175, 182, 179, 174, 188, 186, 174, 191, 180, 188, 183, 183, 184, 180, 175, 188, 181, 188, 186, 188, 175, 188, 178, 180, 175, 185, 185, 176, 184, 173, 182, 176, 185, 194, 185, 177, 184, 171, 186, 184, 178, 180, 187, 186, 180, 190, 188, 182, 174, 193, 178, 184, 170, 166, 176, 168, 200, 180, 182, 192, 167, 186, 178, 175, 174, 188, 184, 189, 174, 193, 182, 194, 183, 170, 170, 173, 184, 178, 177, 178, 172, 169, 191, 175, 176, 178, 183, 181, 175, 191, 181, 177, 170, 180, 184, 186, 178, 191, 183, 178, 188, 180, 178, 178, 193, 177, 183, 179, 170, 183, 179, 184, 184, 174, 190, 191, 188, 180, 185, 183, 194, 183, 178, 180, 183, 171, 178, 184, 190, 185, 185, 173, 188, 185, 178, 173, 189, 194, 169, 179, 170, 183, 188, 173, 190, 182, 191, 176, 179, 192, 189, 183, 180, 178, 194, 178, 180, 185, 183, 184, 181, 184, 170, 183, 179, 179, 172, 178, 188, 187, 170, 178, 186, 180, 185, 175, 173, 175, 173, 167, 173, 181, 188, 180, 180, 184, 164, 170, 179, 179, 173, 178, 182, 187, 179, 175, 191, 180, 180, 183, 172, 187, 179, 184, 167, 182, 175, 193, 188, 189, 182, 165, 173, 181, 183, 180, 180, 183, 183, 183, 180, 173, 180, 190, 185, 183, 167, 191, 185, 185, 182, 178, 183, 183, 184, 189, 182, 186, 178, 187, 182, 185, 182, 191, 185, 185, 191, 173, 180, 168, 187, 182, 183, 183, 186, 174, 193, 188, 185, 199, 186, 174, 170, 189, 186, 176, 178, 188, 175, 178, 173, 177, 189, 178, 183, 176, 185, 198, 175, 183, 180, 194, 175, 181, 174, 183, 188, 185, 175, 174, 171, 175, 189, 182, 189, 177, 183, 185, 183, 178, 185, 177, 175, 172, 181, 170, 179, 170, 164, 166, 176, 176, 191, 169, 175, 184, 184, 168, 178, 179, 177, 185, 171, 179, 173, 182, 183, 193, 191, 189, 176, 185, 177, 172, 177, 188, 178, 185, 181, 175, 181, 183, 175, 177, 180, 181, 174, 182, 185, 173, 185, 173, 188, 189, 188, 173, 180, 182, 190, 180, 181, 174, 184, 182, 177, 182, 188, 175, 176, 184, 187, 193, 175, 185, 181, 186, 182, 180, 178, 182, 175, 184, 184, 182, 180, 182, 178, 183, 168, 183, 186, 191, 185, 177, 186, 172, 181, 176, 181, 185, 185, 182, 185, 177, 177, 180, 175, 188, 174, 177, 179, 171, 170, 185, 186, 168, 180, 185, 176, 182, 188, 180, 179, 194, 181, 181, 181, 188, 182, 177, 191, 176, 182, 183, 176, 184, 175, 196, 177, 175, 179, 187, 181, 175, 174, 178, 192, 178, 183, 182, 167, 187, 185, 179, 166, 180, 190, 176, 177, 171, 181, 187, 185, 176, 174, 179, 188, 178, 173, 188, 180, 178, 185, 177, 172, 178, 184, 193, 185, 187, 190, 188, 189, 177, 180, 175, 180, 178, 185, 194, 188, 182, 170, 176, 190, 168, 186, 172, 177, 176, 181, 185, 175, 180, 185, 186, 193, 178, 185, 189, 190, 185, 182, 191, 178, 187, 175, 193, 178, 182, 179, 178, 187, 174, 179, 191, 170, 178, 180, 193, 182, 176, 176, 176, 186, 187, 175, 187, 187, 176, 184, 173, 186, 190, 191, 187, 186, 196, 186, 175, 194, 184, 193, 192, 172, 179, 190, 183, 192, 182, 184, 183, 186, 172, 172, 175, 192, 187, 198, 178, 172, 190, 185, 182, 196, 185, 182, 183, 184, 188, 181, 175, 176, 175, 191, 190, 174, 184, 180, 181, 184, 177, 183, 174, 180, 175, 179, 179, 177, 177, 175, 175, 182, 188, 172, 181, 185, 176, 180, 180, 195, 178, 180, 183, 186, 185, 175, 181, 180, 186, 188, 189, 193, 190, 185, 189, 191, 187, 182, 192, 181, 170, 183, 176, 188, 191, 177, 172, 177, 188, 181, 178, 178, 168, 178, 182, 189, 174, 185, 185, 183, 186, 188, 182, 186, 174, 179, 187, 185, 177, 188, 192, 183, 172, 191, 184, 168, 186, 177, 180, 199, 189, 180, 189, 178, 172, 185, 180, 171, 190, 186, 185, 173, 178, 179, 182, 184, 182, 179, 196, 182, 185, 184, 180, 179, 178, 185, 178, 184, 173, 171, 172, 185, 184, 178, 180, 175, 185, 188, 196, 180, 173, 178, 175, 182, 188, 183, 185, 177, 183, 190, 184, 186, 175, 188, 188, 171, 183, 185, 196, 185, 170, 183, 183, 170, 173, 180, 180, 188, 185, 178, 173, 185, 185, 180, 188, 185, 177, 182, 185, 184, 177, 168, 183, 188, 188, 171, 188, 191, 186, 183, 184, 180, 177, 187, 178, 180, 179, 189, 192, 187, 186, 185, 193, 179, 185, 190, 182, 185, 180, 185, 191, 173, 191, 177, 183, 175, 198, 185, 173, 178, 180, 193, 178, 176, 175, 180, 182, 191, 175, 177, 184, 185, 185, 198, 180, 188, 176, 185, 193, 173, 173, 185, 191, 188, 178, 183, 191, 192, 178, 183, 192, 175, 180, 165, 180, 180, 178, 182, 181, 192, 186, 186, 170, 183, 186, 185, 178, 189, 189, 181, 175, 172, 187, 185, 175, 180, 178, 191, 180, 188, 193, 169, 180, 170, 185, 185, 188, 180, 175, 180, 183, 175, 177, 174, 182, 184, 180, 184, 180, 178, 183, 184, 193, 175, 174, 175, 188, 183, 185, 178, 188, 175, 172, 185, 186, 186, 182, 177, 185, 176, 175, 180, 172, 175, 182, 186, 176, 182, 175, 183, 180, 184, 190, 188, 186, 185, 172, 175, 172, 172, 182, 174, 188, 190, 194, 168, 185, 188, 183, 185, 185, 178, 171, 173, 180, 200, 178, 178, 164, 182, 186, 195, 191, 186, 185, 173, 180, 185, 177, 178, 180, 184, 186, 183, 186, 183, 174, 178, 181, 183, 185, 174, 184, 192, 181, 174, 186, 191, 180, 188, 188, 188, 182, 193, 193, 179, 183, 182, 182, 183, 184, 184, 185, 168, 175, 185, 173, 181, 184, 186, 191, 179, 181, 183, 181, 196, 184, 186, 184, 181, 188, 180, 186, 180, 183, 184, 189, 182, 185, 183, 186, 193, 188, 188, 188, 180, 193, 186, 185, 185, 183, 180, 198, 178, 178, 185, 180, 182, 182, 185, 173, 180, 185, 191, 175, 180, 174, 183, 183, 181, 190, 169, 170, 182, 172, 180, 182, 186, 183, 191, 185, 185, 178, 188, 187, 175, 180, 198, 190, 192, 183, 190, 181, 170, 189, 186, 188, 178, 186, 180, 175, 180, 163, 182, 177, 183, 177, 172, 173, 165, 172, 173, 177, 184, 183, 179, 174, 170, 192, 188, 191, 191, 185, 191, 175, 185, 185, 178, 165, 163, 180, 178, 180, 175, 179, 176, 183, 186, 180, 187, 171, 170, 177, 185, 176, 182, 176, 180, 170, 183, 183, 180, 192, 178, 178, 180, 180, 165, 168, 192, 178, 185, 179, 181, 193, 186, 175, 175, 191, 190, 175, 172, 176, 189, 184, 166, 180, 183, 193, 187, 175, 190, 184, 184, 177, 178, 176, 171, 183, 184, 176, 189, 180, 181, 170, 187, 185, 173, 183, 180, 172, 178, 183, 180, 180, 187, 178, 179, 187, 179, 181, 182, 182, 187, 180, 190, 178, 174, 190, 173, 185, 173, 189, 193, 184, 185, 171, 192, 177, 180, 174, 179, 180, 172, 196, 175, 185, 178, 175, 186, 178, 185, 188, 182, 188, 183, 189, 185, 193, 190, 177, 193, 184, 176, 181, 192, 185, 174, 193, 176, 185, 188, 179, 187, 192, 183, 188, 178, 185, 178, 169, 184, 193, 173, 185, 177, 178, 185, 186, 183, 182, 183, 178, 183, 165, 178, 177, 182, 180, 190, 179, 177, 184, 183, 183, 177, 179, 188, 186, 187, 175, 186, 182, 182, 189, 184, 176, 180, 172, 189, 174, 185, 190, 186, 177, 183, 180, 178, 191, 185, 178, 189, 189, 190, 185, 187, 185, 178, 176, 176, 173, 176, 188, 178, 193, 181, 197, 180, 186, 178, 184, 187, 184, 190, 185, 190, 187, 180, 184, 171, 196, 185, 176, 186, 193, 173, 178, 183, 168, 186, 184, 189, 177, 170, 189, 188, 176, 183, 178, 183, 173, 180, 181, 178, 179, 190, 177, 187, 174, 184, 179, 188, 190, 190, 176, 187, 173, 180, 168, 170, 188, 184, 180, 185, 176, 179, 180, 176, 185, 175, 170, 170, 180, 187, 172, 178, 182, 180, 181, 180, 180, 200, 186, 178, 186, 191, 176, 178, 183, 184, 175, 181, 165, 173, 171, 180, 178, 175, 185, 180, 177, 190, 178, 191, 185, 188, 173, 183, 184, 176, 177, 184, 178, 183, 180, 187, 182, 172, 166, 185, 185, 180, 197, 181, 188, 181, 178, 183, 176, 185, 178, 190, 178, 196, 188, 187, 183, 172, 183, 198, 186, 191, 184, 189, 178, 182, 182, 178, 180, 169, 177, 172, 175, 178, 187, 187, 185, 187, 173, 188, 176, 170, 185, 184, 173, 185, 180, 187, 180, 190, 180, 183, 176, 167, 171, 185, 175, 182, 186, 178, 172, 177, 175, 181, 185, 189, 182, 182, 182, 178, 185, 183, 188, 177, 178, 192, 182, 195, 183, 180, 177, 180, 178, 178, 182, 188, 182, 188, 188, 178, 178, 183, 175, 183, 179, 178, 191, 197, 180, 178, 188, 187, 185, 188, 187, 184, 183, 171, 184, 188, 185, 175, 191, 185, 183, 173, 180, 191, 183, 186, 180, 183, 193, 176, 185, 188, 188, 191, 185, 184, 176, 188, 187, 176, 193, 181, 177, 183, 184, 181, 185, 183, 192, 185, 175, 180, 183, 182, 173, 196, 180, 188, 185, 194, 172, 175, 178, 182, 193, 188, 178, 178, 178, 180, 189, 177, 186, 185, 183, 186, 176, 185, 183, 175, 178, 187, 190, 190, 184, 187, 173, 185, 173, 193, 188, 183, 185, 174, 183, 175, 180, 186, 180, 185, 178, 188, 178, 186, 188, 180, 183, 192, 185, 188, 180, 183, 185, 183, 188, 180, 174, 175, 178, 185, 180, 188, 180, 180, 185, 185, 173, 180, 183, 174, 186, 183, 180, 188, 176, 184, 180, 188, 176, 188, 173, 188, 180, 180, 178, 186, 187, 188, 176, 182, 189, 187, 184, 188, 180, 197, 178, 174, 180, 175, 170, 180, 183, 185, 180, 185, 179, 183, 185, 193, 188, 175, 190, 180, 170, 175, 185, 170, 187, 180, 179, 165, 184, 184, 183, 186, 174, 170, 180, 185, 172, 175, 175, 175, 173, 185, 173, 185, 188, 188, 185, 180, 173, 183, 181, 174, 187, 179, 194, 183, 170, 170, 173, 180, 187, 187, 187, 185, 185, 182, 170, 186, 178, 187, 180, 179, 178, 180, 180, 171, 188, 180, 186, 185, 178, 188, 187, 180, 175, 170, 183, 179, 186, 191, 172, 193, 191, 186, 175, 187, 182, 181, 169, 188, 186, 183, 183, 180, 184, 183, 171, 183, 183, 174, 191, 193, 183, 178, 167, 178, 183, 173, 180, 163, 188, 181, 188, 188, 188, 184, 191, 178, 175, 193, 185, 165, 175, 183, 191, 183, 185, 183, 185, 180, 178, 180, 174, 180, 180, 191, 178, 185, 183, 178, 178, 183, 188, 183, 183, 180, 168, 183, 183, 191, 183, 185, 182, 185, 173, 188, 178, 175, 188, 190, 182, 174, 175, 176, 188, 183, 185, 180, 182, 194, 175, 185, 176, 180, 192, 184, 183, 173, 189, 190, 187, 179, 171, 185, 178, 189, 175, 181, 196, 176, 177, 184, 183, 184, 187, 188, 183, 183, 175, 196, 188, 183, 185, 192, 191, 183, 185, 177, 174, 176, 182, 183, 181, 177, 176, 187, 180, 182, 168, 180, 183, 173, 185, 178, 172, 178, 183, 180, 174, 185, 183, 174, 186, 183, 184, 178, 184, 188, 180, 162, 183, 183, 170, 177, 190, 175, 183, 179, 175, 188, 176, 180, 188, 180, 190, 180, 175, 191, 196, 185, 175, 167, 186, 167, 185, 186, 186, 168, 165, 179, 170, 189, 175, 184, 169, 186, 182, 175, 186, 172, 181, 177, 186, 176, 193, 175, 189, 180, 170, 184, 169, 178, 173, 186, 192, 173, 184, 185, 188, 180, 175, 190, 175, 181, 166, 191, 174, 180, 185, 193, 180, 183, 176, 180, 178, 193, 185, 175, 185, 190, 185, 188, 185, 188, 182, 176, 193, 180, 182, 183, 184, 185, 187, 185, 172, 188, 180, 174, 176, 181, 180, 179, 171, 184, 187, 193, 193, 187, 183, 180, 184, 202, 182, 176, 175, 176, 180, 180, 185, 177, 185, 167, 178, 184, 183, 181, 190, 184, 180, 180, 183, 178, 176, 187, 171, 185, 189, 193, 184, 174, 187, 192, 180, 178, 175, 188, 175, 177, 188, 185, 180, 192, 182, 178, 185, 173, 180, 178, 170, 193, 178, 176, 181, 178, 180, 178, 178, 188, 178, 183, 188, 175, 180, 188, 189, 195, 176, 178, 173, 182, 187, 183, 176, 187, 191, 180, 185, 189, 180, 186, 182, 188, 191, 195, 186, 191, 186, 177, 179, 185, 179, 192, 180, 186, 171, 178, 178, 181, 175, 182, 185, 190, 183, 193, 182, 178, 179, 172, 185, 176, 183, 175, 185, 184, 176, 180, 186, 185, 172, 186, 173, 184, 191, 196, 188, 188, 182, 186, 184, 176, 185, 178, 184, 181, 180, 180, 174, 183, 182, 173, 175, 178, 185, 175, 190, 180, 188, 178, 182, 175, 170, 181, 186, 170, 169, 177, 180, 183, 178, 177, 172, 175, 189, 180, 182, 179, 178, 188, 197, 168, 180, 187, 173, 180, 178, 175, 183, 198, 191, 191, 169, 179, 173, 178, 174, 182, 176, 186, 178, 175, 174, 180, 185, 185, 177, 183, 187, 185, 183, 185, 178, 188, 189, 191, 178, 178, 185, 193, 178, 180, 175, 178, 183, 172, 188, 183, 183, 185, 173, 191, 183, 174, 180, 178, 185, 185, 184, 184, 198, 178, 175, 180, 180, 175, 178, 183, 186, 185, 180, 178, 179, 183, 194, 171, 183, 181, 192, 191, 176, 178, 183, 172, 174, 185, 176, 188, 193, 175, 185, 180, 193, 191, 173, 175, 175, 181, 184, 176, 175, 185, 173, 193, 180, 180, 185, 185, 191, 180, 178, 178, 183, 174, 180, 185, 175, 196, 188, 186, 180, 176, 188, 175, 185, 185, 178, 191, 185, 178, 178, 183, 175, 175, 185, 186, 181, 185, 191, 186, 176, 178, 183, 171, 172, 190, 183, 184, 175, 185, 182, 188, 183, 187, 188, 181, 178, 174, 172, 178, 173, 185, 187, 188, 174, 179, 185, 185, 175, 183, 178, 161, 172, 179, 187, 177, 184, 185, 168, 180, 178, 185, 179, 172, 185, 190, 184, 174, 185, 193, 185, 175, 176, 173, 175, 181, 178, 185, 183, 170, 187, 182, 182, 185, 184, 189, 188, 178, 196, 186, 183, 179, 169, 181, 186, 187, 158, 188, 180, 174, 178, 185, 178, 191, 180, 180, 173, 173, 173, 175, 173, 173, 171, 169, 177, 178, 190, 181, 182, 180, 180, 190, 189, 181, 177, 183, 191, 181, 180, 185, 170, 185, 178, 187, 179, 172, 185, 183, 170, 187, 175, 193, 192, 184, 188, 183, 183, 178, 178, 173, 186, 169, 188, 191, 198, 190, 178, 183, 178, 183, 179, 183, 187, 181, 178, 181, 180, 178, 174, 167, 180, 170, 183, 177, 178, 187, 176, 186, 177, 191, 178, 175, 169, 188, 168, 180, 179, 182, 180, 181, 171, 178, 176, 186, 178, 180, 178, 191, 186, 183, 179, 201, 188, 178, 176, 190, 177, 181, 180, 188, 188, 186, 188, 189, 184, 188, 177, 176, 182, 188, 178, 170, 185, 190, 190, 187, 183, 176, 176, 181, 185, 173, 184, 176, 180, 177, 184, 179, 182, 183, 181, 185, 190, 181, 172, 196, 184, 190, 178, 183, 183, 190, 185, 180, 183, 181, 188, 185, 180, 170, 188, 186, 178, 180, 175, 182, 176, 189, 183, 174, 182, 192, 188, 180, 189, 193, 188, 188, 185, 173, 188, 183, 187, 180, 188, 179, 173, 183, 178, 173, 190, 170, 181, 186, 180, 178, 178, 183, 180, 175, 183, 180, 181, 181, 180, 187, 185, 188, 184, 183, 179, 177, 184, 180, 184, 188, 170, 178, 175, 188, 175, 183, 175, 192, 186, 185, 192, 193, 182, 175, 165, 188, 182, 165, 172, 172, 185, 178, 183, 180, 187, 183, 193, 191, 182, 191, 181, 180, 176, 187, 167, 178, 186, 185, 188, 182, 178, 175, 170, 170, 178, 184, 168, 183, 187, 183, 188, 175, 180, 175, 183, 184, 180, 188, 180, 188, 183, 178, 193, 180, 186, 192, 180, 180, 175, 194, 170, 173, 178, 183, 185, 191, 176, 180, 185, 185, 193, 187, 177, 176, 180, 184, 178, 184, 176, 172, 178, 175, 170, 175, 187, 171, 175, 181, 180, 178, 178, 171, 185, 180, 188, 170, 184, 180, 175, 183, 178, 181, 172, 181, 174, 173, 182, 175, 196, 187, 185, 178, 173, 185, 178, 188, 192, 179, 177, 177, 185, 186, 188, 186, 182, 169, 176, 188, 189, 175, 186, 173, 174, 176, 180, 179, 178, 188, 172, 175, 190, 185, 188, 186, 183, 180, 190, 185, 185, 175, 184, 175, 178, 188, 178, 195, 192, 184, 184, 181, 185, 177, 178, 188, 173, 180, 183, 183, 183, 178, 188, 180, 185, 186, 175, 183, 192, 190, 188, 179, 185, 190, 171, 182, 175, 180, 185, 180, 180, 185, 177, 168, 168, 190, 175, 188, 182, 178, 183, 183, 173, 187, 182, 173, 186, 185, 188, 178, 178, 176, 180, 181, 185, 166, 189, 182, 179, 184, 173, 174, 178, 185, 182, 169, 183, 192, 180, 179, 180, 183, 181, 168, 185, 182, 188, 172, 183, 191, 180, 176, 173, 181, 183, 181, 179, 194, 172, 174, 173, 183, 181, 185, 181, 168, 181, 180, 193, 188, 172, 187, 180, 191, 175, 182, 172, 186, 186, 184, 174, 189, 172, 185, 185, 181, 185, 173, 185, 190, 191, 180, 179, 193, 169, 185, 188, 180, 178, 170, 183, 172, 174, 175, 187, 178, 189, 194, 170, 188, 179, 194, 187, 183, 183, 191, 170, 183, 173, 175, 185, 178, 180, 189, 168, 172, 184, 192, 174, 184, 177, 176, 179, 187, 182, 188, 184, 189, 168, 183, 178, 180, 180, 176, 174, 189, 179, 183, 186, 183, 173, 175, 183, 173, 187, 171, 178, 190, 183, 175, 191, 180, 178, 190, 167, 171, 181, 184, 173, 185, 182, 185, 175, 173, 184, 166, 181, 192, 174, 178, 178, 189, 184, 193, 183, 186, 191, 180, 183, 180, 189, 184, 185, 172, 183, 180, 185, 176, 170, 188, 187, 184, 184, 183, 185, 190, 182, 186, 190, 180, 182, 180, 183, 185, 191, 189, 178, 188, 180, 183, 173, 174, 173, 169, 178, 173, 185, 180, 186, 190, 194, 178, 193, 179, 185, 178, 184, 188, 175, 166, 179, 178, 175, 190, 183, 174, 172, 172, 187, 172, 180, 182, 193, 199, 192, 192, 167, 184, 185, 190, 184, 183, 189, 183, 183, 182, 168, 173, 184, 168, 183, 183, 179, 187, 180, 189, 185, 178, 176, 179, 182, 178, 188, 187, 182, 183, 191, 179, 190, 169, 186, 172, 186, 186, 185, 192, 186, 193, 174, 184, 187, 180, 180, 182, 172, 176, 183, 185, 179, 176, 182, 187, 184, 188, 184, 181, 190, 185, 180, 182, 183, 184, 190, 186, 176, 182, 182, 170, 186, 168, 178, 183, 198, 189, 182, 192, 165, 179, 190, 178, 170, 177, 171, 186, 183, 185, 186, 185, 187, 183, 190, 184, 181, 182, 185, 183, 184, 182, 188, 185, 184, 192, 191, 183, 173, 163, 183, 170, 180, 186, 189, 176, 183, 174, 183, 178, 175, 175, 183, 175, 178, 184, 192, 183, 170, 186, 178, 186, 180, 178, 190, 180, 180, 191, 176, 180, 170, 181, 180, 189, 188, 180, 196, 202, 195, 180, 187, 190, 178, 178, 191, 186, 175, 180, 184, 185, 186, 174, 172, 176, 191, 178, 183, 178, 184, 168, 192, 177, 177, 184, 175, 180, 179, 182, 184, 173, 180, 180, 178, 174, 186, 184, 188, 181, 173, 183, 175, 192, 183, 183, 183, 183, 196, 172, 191, 192, 170, 178, 187, 188, 185, 176, 184, 189, 180, 194, 177, 168, 184, 174, 188, 180, 184, 184, 188, 180, 185, 180, 177, 170, 194, 202, 176, 180, 170, 175, 170, 175, 188, 174, 173, 186, 178, 185, 180, 180, 174, 186, 183, 183, 177, 183, 183, 180, 180, 172, 189, 180, 178, 180, 180, 183, 187, 182, 188, 193, 183, 179, 178, 180, 179, 182, 183, 178, 176, 170, 188, 178, 185, 180, 188, 185, 192, 183, 193, 181, 175, 185, 178, 194, 187, 178, 188, 170, 170, 180, 184, 185, 175, 180, 186, 189, 195, 188, 168, 183, 193, 183, 185, 188, 183, 186, 186, 174, 175, 180, 184, 175, 175, 175, 184, 170, 180, 176, 187, 193, 184, 183, 189, 191, 178, 185, 180, 180, 191, 183, 178, 193, 178, 184, 179, 173, 188, 180, 178, 187, 179, 187, 178, 183, 175, 187, 171, 188, 171, 183, 187, 188, 176, 169, 174, 191, 177, 168, 184, 183, 191, 191, 179, 170, 177, 191, 180, 186, 196, 171, 178, 185, 186, 180, 181, 187, 179, 175, 172, 188, 191, 197, 193, 165, 186, 195, 186, 181, 186, 185, 182, 175, 180, 174, 180, 180, 185, 185, 173, 178, 174, 193, 181, 172, 193, 187, 186, 168, 178, 183, 178, 169, 182, 176, 174, 179, 181, 179, 183, 188, 185, 193, 185, 181, 185, 183, 183, 175, 181, 172, 181, 178, 172, 184, 188, 186, 175, 178, 160, 184, 174, 178, 191, 176, 188, 171, 177, 181, 189, 175, 181, 183, 174, 186, 187, 181, 188, 187, 186, 173, 177, 187, 179, 188, 170, 178, 185, 175, 191, 185, 183, 173, 175, 182, 184, 185, 180, 183, 188, 171, 176, 180, 186, 178, 188, 186, 186, 193, 185, 181, 178, 183, 177, 183, 183, 176, 180, 183, 185, 172, 186, 177, 188, 168, 190, 188, 176, 195, 178, 181, 179, 187, 180, 179, 182, 184, 187, 180, 170, 195, 181, 178, 190, 169, 173, 181, 191, 193, 187, 183, 191, 188, 175, 192, 181, 183, 180, 185, 182, 185, 188, 184, 182, 191, 183, 190, 194, 177, 182, 184, 181, 175, 180, 178, 184, 175, 180, 181, 170, 183, 189, 176, 183, 174, 186, 194, 184, 181, 187, 181, 180, 181, 184, 191, 180, 175, 185, 168, 176, 180, 173, 176, 179, 182, 173, 181, 188, 186, 174, 183, 175, 183, 173, 181, 189, 188, 190, 174, 174, 186, 180, 180, 188, 175, 185, 190, 183, 183, 173, 180, 188, 183, 193, 178, 177, 187, 179, 184, 187, 180, 182, 191, 180, 176, 175, 170, 190, 184, 188, 184, 187, 175, 185, 173, 183, 187, 194, 180, 183, 175, 186, 184, 180, 183, 181, 173, 183, 190, 190, 182, 188, 173, 183, 190, 173, 183, 180, 184, 188, 188, 187, 183, 184, 188, 192, 178, 190, 172, 180, 176, 186, 174, 190, 183, 186, 184, 182, 180, 173, 182, 184, 178, 188, 182, 178, 184, 193, 186, 186, 191, 180, 188, 182, 191, 189, 184, 193, 177, 177, 183, 186, 173, 185, 171, 168, 184, 170, 175, 180, 173, 170, 188, 185, 190, 179, 193, 178, 182, 180, 190, 189, 183, 181, 186, 188, 189, 188, 187, 193, 191, 186, 168, 183, 182, 192, 193, 188, 191, 180, 188, 186, 176, 184, 182, 192, 184, 180, 175, 184, 173, 177, 182, 187, 192, 185, 170, 180, 171, 174, 183, 186, 188, 182, 190, 186, 180, 190, 175, 185, 181, 172, 189, 165, 173, 170, 189, 183, 180, 174, 173, 170, 182, 181, 160, 176, 178, 163, 179, 174, 191, 176, 171, 180, 173, 190, 193, 186, 183, 181, 178, 167, 179, 178, 180, 183, 182, 171, 188, 175, 182, 180, 183, 191, 183, 188, 172, 176, 180, 194, 196, 170, 186, 175, 186, 180, 192, 169, 179, 183, 175, 183, 173, 190, 191, 180, 174, 185, 184, 186, 173, 188, 192, 176, 181, 197, 169, 174, 171, 178, 175, 174, 188, 181, 180, 175, 193, 186, 184, 175, 180, 171, 188, 180, 178, 171, 192, 194, 180, 183, 175, 180, 183, 185, 176, 185, 170, 185, 186, 183, 190, 178, 183, 179, 174, 179, 182, 183, 183, 187, 181, 164, 178, 190, 183, 191, 172, 188, 190, 183, 180, 186, 186, 183, 178, 170, 179, 175, 193, 183, 183, 175, 186, 178, 182, 183, 184, 170, 183, 182, 193, 188, 184, 187, 182, 178, 178, 183, 183, 183, 188, 194, 182, 174, 185, 175, 185, 193, 182, 187, 180, 175, 182, 187, 168, 173, 178, 191, 168, 180, 172, 178, 178, 178, 176, 183, 190, 187, 183, 185, 193, 178, 188, 170, 185, 187, 175, 175, 184, 176, 183, 185, 187, 174, 175, 190, 173, 187, 186, 178, 189, 178, 182, 178, 182, 191, 197, 176, 168, 180, 173, 183, 177, 184, 180, 186, 191, 180, 194, 182, 180, 182, 177, 178, 187, 184, 190, 185, 175, 175, 178, 184, 188, 184, 180, 187, 186, 193, 186, 195, 184, 191, 183, 168, 178, 184, 170, 187, 180, 187, 190, 173, 181, 185, 183, 188, 189, 181, 184, 178, 187, 187, 184, 173, 186, 168, 184, 181, 175, 185, 175, 208, 191, 176, 178, 192, 174, 181, 192, 176, 193, 185, 182, 179, 185, 178, 183, 180, 188, 180, 183, 184, 191, 171, 183, 178, 178, 177, 183, 178, 174, 175, 178, 185, 175, 172, 185, 185, 188, 180, 195, 180, 194, 180, 170, 183, 188, 175, 194, 180, 173, 175, 179, 184, 183, 185, 187, 182, 189, 190, 174, 170, 179, 174, 191, 179, 173, 172, 188, 188, 198, 172, 175, 185, 185, 173, 183, 188, 194, 183, 176, 193, 175, 187, 182, 185, 176, 178, 191, 185, 178, 185, 191, 185, 181, 178, 180, 182, 183, 177, 185, 175, 175, 185, 185, 183, 191, 184, 187, 180, 175, 180, 179, 167, 180, 180, 182, 188, 179, 178, 192, 185, 178, 183, 180, 182, 178, 188, 179, 185, 186, 186, 174, 179, 180, 179, 170, 186, 186, 189, 191, 182, 196, 185, 175, 178, 188, 180, 170, 188, 191, 179, 175, 185, 196, 181, 189, 185, 186, 178, 185, 185, 183, 193, 185, 178, 177, 174, 188, 193, 183, 183, 180, 186, 180, 185, 183, 168, 187, 191, 172, 178, 185, 185, 193, 175, 191, 165, 179, 169, 166, 180, 178, 188, 173, 179, 192, 178, 170, 176, 180, 180, 191, 185, 186, 180, 172, 170, 185, 187, 184, 190, 180, 180, 183, 174, 177, 174, 171, 186, 183, 178, 185, 185, 180, 182, 183, 184, 187, 169, 180, 175, 178, 178, 170, 193, 183, 176, 185, 188, 182, 177, 183, 191, 185, 183, 189, 177, 183, 194, 176, 171, 179, 186, 188, 165, 181, 186, 180, 183, 185, 184, 185, 180, 174, 173, 194, 182, 176, 185, 177, 176, 183, 187, 183, 184, 183, 190, 190, 181, 182, 181, 171, 183, 177, 178, 180, 180, 172, 176, 178, 179, 194, 191, 175, 188, 186, 183, 184, 186, 188, 193, 173, 181, 180, 178, 173, 183, 168, 182, 190, 188, 180, 177, 182, 180, 195, 196, 176, 182, 196, 174, 173, 182, 176, 175, 186, 180, 173, 180, 190, 176, 182, 182, 180, 162, 174, 192, 180, 183, 170, 185, 180, 187, 181, 188, 172, 172, 179, 182, 180, 181, 175, 169, 199, 180, 173, 181, 192, 177, 178, 173, 185, 179, 196, 176, 185, 187, 184, 179, 183, 188, 192, 188, 190, 185, 180, 180, 187, 182, 194, 177, 180, 183, 168, 186, 173, 197, 182, 179, 183, 194, 176, 181, 165, 186, 180, 186, 178, 187, 171, 180, 178, 177, 183, 179, 192, 189, 180, 190, 180, 168, 183, 185, 186, 183, 178, 185, 185, 180, 183, 182, 185, 183, 178, 184, 183, 181, 168, 185, 190, 165, 188, 185, 177, 192, 181, 182, 185, 190, 180, 185, 180, 185, 182, 185, 188, 182, 183, 191, 175, 172, 183, 193, 178, 183, 186, 186, 176, 187, 181, 179, 183, 179, 179, 186, 178, 183, 184, 176, 181, 185, 178, 178, 180, 188, 190, 182, 197, 172, 189, 178, 186, 192, 186, 180, 184, 185, 186, 186, 178, 190, 202, 183, 174, 166, 176, 178, 186, 189, 180, 176, 168, 175, 174, 196, 185, 190, 182, 188, 178, 173, 190, 178, 180, 180, 188, 174, 180, 188, 192, 180, 188, 176, 193, 180, 183, 187, 184, 170, 190, 173, 183, 175, 187, 182, 185, 178, 188, 170, 183, 177, 190, 173, 179, 169, 183, 191, 180, 183, 195, 178, 182, 185, 174, 173, 183, 193, 189, 171, 189, 187, 186, 179, 180, 181, 174, 183, 188, 178, 177, 183, 190, 180, 180, 175, 178, 183, 193, 170, 171, 192, 196, 179, 172, 180, 170, 186, 188, 176, 184, 192, 181, 191, 183, 189, 188, 180, 186, 177, 186, 172, 183, 185, 178, 173, 187, 180, 177, 173, 172, 185, 177, 172, 175, 187, 172, 188, 174, 177, 173, 176, 189, 167, 175, 169, 174, 178, 172, 176, 189, 180, 182, 177, 170, 173, 187, 178, 181, 187, 190, 186, 187, 187, 169, 185, 196, 188, 180, 186, 195, 181, 186, 180, 170, 183, 180, 193, 181, 189, 189, 184, 184, 179, 176, 172, 172, 180, 177, 176, 178, 190, 183, 183, 177, 188, 190, 186, 196, 186, 187, 192, 186, 180, 179, 175, 186, 176, 185, 185, 185, 181, 184, 180, 195, 183, 179, 186, 188, 188, 183, 188, 183, 175, 180, 175, 181, 181, 193, 175, 185, 175, 180, 177, 178, 172, 179, 174, 180, 176, 170, 192, 176, 177, 185, 180, 189, 188, 188, 183, 179, 189, 187, 179, 181, 180, 183, 201, 178, 180, 184, 175, 176, 198, 190, 179, 181, 177, 178, 185, 187, 185, 180, 171, 188, 177, 176, 184, 185, 191, 192, 175, 185, 172, 183, 172, 173, 182, 180, 189, 185, 183, 185, 192, 188, 183, 184, 173, 177, 176, 174, 178, 183, 192, 174, 191, 173, 173, 180, 174, 174, 176, 188, 188, 188, 173, 185, 180, 191, 193, 185, 186, 182, 177, 178, 178, 178, 181, 188, 175, 177, 186, 180, 178, 170, 186, 191, 174, 177, 183, 182, 183, 185, 180, 185, 175, 172, 184, 177, 187, 181, 167, 182, 182, 190, 187, 185, 183, 178, 187, 178, 188, 196, 175, 183, 175, 175, 173, 180, 180, 185, 191, 179, 176, 182, 180, 175, 180, 180, 180, 181, 179, 182, 178, 183, 173, 180, 180, 180, 190, 185, 197, 174, 187, 171, 186, 183, 183, 176, 183, 186, 180, 177, 173, 185, 177, 175, 180, 193, 179, 178, 180, 177, 183, 193, 192, 180, 175, 195, 184, 180, 181, 183, 189, 176, 190, 187, 180, 188, 185, 183, 178, 180, 188, 179, 188, 181, 198, 191, 193, 180, 180, 173, 186, 193, 173, 180, 170, 188, 180, 177, 186, 176, 178, 175, 190, 188, 180, 173, 188, 179, 185, 187, 173, 180, 171, 173, 176, 174, 183, 178, 179, 186, 184, 175, 184, 174, 188, 185, 184, 186, 191, 185, 178, 182, 186, 185, 185, 178, 193, 183, 182, 185, 185, 196, 180, 178, 191, 187, 177, 170, 190, 181, 188, 194, 180, 175, 181, 188, 178, 192, 178, 185, 190, 183, 172, 181, 192, 190, 182, 185, 188, 181, 185, 168, 180, 176, 180, 174, 178, 179, 187, 183, 180, 184, 173, 183, 177, 172, 171, 186, 190, 187, 191, 187, 189, 177, 182, 187, 178, 184, 173, 188, 184, 175, 170, 186, 184, 189, 195, 182, 175, 175, 186, 174, 178, 174, 196, 192, 176, 182, 182, 194, 175, 175, 182, 184, 177, 178, 177, 182, 175, 185, 170, 185, 173, 188, 185, 173, 179, 177, 183, 178, 182, 185, 197, 191, 173, 171, 183, 181, 180, 181, 178, 189, 180, 172, 184, 188, 173, 183, 174, 190, 187, 182, 178, 174, 165, 187, 176, 176, 183, 188, 175, 183, 182, 186, 180, 183, 192, 185, 168, 184, 174, 176, 184, 186, 193, 185, 180, 174, 191, 190, 189, 190, 183, 177, 183, 183, 186, 180, 185, 185, 170, 176, 186, 175, 191, 173, 173, 176, 185, 176, 175, 183, 175, 189, 184, 181, 183, 175, 184, 190, 179, 178, 192, 184, 173, 180, 188, 188, 190, 179, 177, 190, 182, 203, 190, 183, 180, 189, 194, 180, 184, 185, 180, 187, 194, 173, 187, 173, 180, 185, 190, 179, 178, 194, 186, 180, 186, 176, 195, 182, 170, 163, 175, 178, 176, 181, 178, 178, 180, 185, 179, 192, 190, 177, 185, 175, 178, 176, 175, 172, 187, 190, 167, 193, 183, 173, 183, 175, 196, 180, 172, 187, 182, 180, 175, 171, 190, 180, 184, 177, 191, 186, 183, 185, 181, 192, 176, 166, 187, 180, 174, 181, 194, 176, 184, 187, 183, 183, 184, 180, 191, 178, 172, 174, 185, 178, 185, 172, 181, 183, 170, 175, 189, 191, 180, 176, 177, 184, 173, 178, 175, 194, 196, 184, 180, 181, 188, 180, 187, 175, 176, 179, 189, 177, 181, 177, 179, 193, 196, 187, 183, 179, 183, 182, 173, 188, 188, 175, 191, 185, 186, 187, 174, 188, 184, 182, 193, 175, 191, 185, 183, 185, 192, 177, 181, 182, 189, 184, 183, 169, 173, 197, 182, 178, 181, 185, 185, 173, 175, 181, 178, 179, 170, 180, 182, 169, 185, 185, 173, 174, 186, 178, 190, 178, 194, 180, 180, 189, 172, 171, 173, 186, 178, 178, 190, 175, 178, 179, 185, 191, 172, 179, 178, 172, 184, 183, 178, 178, 178, 186, 178, 185, 188, 186, 187, 188, 181, 193, 184, 187, 181, 181, 174, 175, 178, 178, 193, 173, 188, 176, 178, 173, 178, 185, 178, 178, 175, 180, 169, 192, 181, 176, 193, 185, 176, 185, 176, 180, 179, 187, 184, 178, 170, 175, 178, 178, 185, 180, 175, 185, 176, 175, 179, 177, 175, 180, 185, 191, 181, 171, 188, 188, 196, 187, 185, 192, 169, 190, 196, 179, 182, 180, 192, 186, 180, 191, 179, 169, 167, 183, 175, 180, 193, 191, 187, 190, 180, 191, 188, 181, 177, 173, 170, 184, 185, 175, 194, 180, 174, 180, 190, 191, 170, 182, 185, 174, 191, 181, 180, 188, 183, 183, 183, 167, 191, 170, 191, 191, 180, 181, 165, 176, 191, 191, 170, 190, 185, 183, 186, 176, 181, 188, 170, 178, 178, 188, 188, 183, 175, 175, 187, 191, 173, 184, 183, 191, 194, 184, 176, 180, 175, 181, 182, 178, 170, 183, 177, 191, 191, 176, 177, 178, 181, 183, 173, 188, 173, 180, 191, 175, 185, 175, 188, 193, 176, 186, 178, 185, 183, 194, 183, 184, 188, 188, 180, 188, 182, 188, 185, 168, 176, 196, 178, 185, 185, 172, 183, 188, 181, 184, 188, 183, 171, 184, 183, 193, 188, 168, 183, 181, 178, 182, 178, 180, 188, 191, 168, 185, 190, 175, 181, 182, 180, 177, 181, 163, 183, 182, 180, 178, 178, 178, 171, 182, 180, 193, 180, 178, 177, 175, 183, 193, 188, 180, 185, 190, 193, 190, 166, 182, 178, 167, 176, 173, 175, 185, 177, 178, 186, 173, 180, 183, 191, 187, 183, 180, 183, 181, 177, 177, 190, 180, 185, 186, 187, 196, 189, 173, 185, 183, 175, 188, 193, 180, 185, 170, 178, 182, 188, 175, 172, 183, 175, 181, 178, 182, 183, 175, 187, 170, 188, 178, 182, 188, 167, 188, 185, 187, 184, 183, 180, 191, 183, 175, 182, 191, 178, 172, 185, 180, 190, 191, 180, 175, 173, 178, 185, 188, 179, 177, 185, 193, 180, 183, 185, 188, 190, 187, 179, 189, 178, 182, 189, 184, 186, 178, 192, 184, 175, 187, 185, 180, 177, 185, 183, 185, 175, 187, 188, 184, 183, 179, 182, 193, 189, 183, 180, 194, 187, 165, 177, 180, 190, 174, 178, 178, 185, 185, 194, 185, 191, 193, 173, 185, 180, 178, 185, 188, 186, 180, 180, 180, 180, 190, 179, 179, 192, 197, 183, 168, 180, 180, 188, 179, 178, 180, 183, 178, 185, 177, 185, 180, 179, 190, 180, 183, 192, 189, 178, 178, 174, 170, 176, 170, 195, 178, 187, 178, 183, 167, 178, 178, 170, 180, 180, 180, 185, 175, 183, 180, 173, 185, 180, 175, 185, 178, 175, 184, 184, 179, 174, 189, 176, 184, 180, 182, 188, 180, 173, 186, 179, 188, 184, 180, 178, 178, 181, 185, 182, 180, 180, 188, 172, 183, 191, 181, 178, 191, 191, 178, 173, 188, 179, 180, 193, 179, 185, 178, 179, 183, 168, 183, 184, 180, 203, 173, 180, 170, 193, 175, 175, 178, 191, 174, 188, 167, 173, 183, 184, 183, 187, 177, 176, 184, 185, 184, 180, 181, 193, 175, 177, 184, 185, 189, 179, 182, 173, 165, 184, 191, 175, 185, 187, 170, 184, 178, 174, 179, 178, 181, 194, 179, 185, 180, 178, 184, 178, 188, 176, 191, 174, 180, 180, 182, 180, 192, 188, 172, 168, 177, 165, 194, 174, 181, 177, 174, 180, 177, 191, 179, 194, 185, 176, 194, 187, 187, 173, 188, 178, 185, 180, 177, 176, 185, 182, 182, 185, 169, 179, 179, 182, 176, 172, 171, 190, 175, 178, 190, 180, 191, 179, 187, 189, 180, 188, 178, 187, 181, 189, 185, 178, 190, 189, 175, 185, 176, 180, 185, 186, 188, 198, 182, 192, 182, 190, 182, 189, 191, 183, 192, 181, 180, 178, 181, 191, 182, 178, 173, 192, 188, 180, 175, 187, 187, 182, 185, 182, 185, 180, 189, 177, 182, 172, 184, 174, 184, 168, 175, 180, 183, 175, 174, 185, 185, 195, 178, 180, 180, 182, 179, 172, 187, 181, 165, 177, 198, 180, 179, 174, 180, 183, 191, 196, 182, 180, 185, 181, 178, 176, 179, 191, 188, 176, 175, 178, 190, 192, 185, 180, 174, 175, 175, 178, 181, 193, 173, 185, 170, 190, 189, 182, 180, 180, 175, 180, 179, 185, 182, 179, 182, 185, 174, 177, 173, 186, 182, 191, 171, 183, 192, 185, 184, 180, 183, 178, 170, 183, 185, 190, 179, 191, 173, 182, 191, 171, 186, 173, 175, 183, 187, 180, 178, 197, 187, 171, 179, 186, 178, 180, 175, 177, 176, 183, 183, 173, 180, 170, 178, 170, 176, 189, 185, 180, 180, 178, 176, 175, 180, 183, 170, 178, 180, 184, 181, 178, 180, 177, 178, 178, 176, 179, 188, 184, 185, 179, 190, 170, 190, 187, 183, 185, 185, 187, 177, 185, 175, 179, 181, 180, 176, 162, 179, 193, 185, 176, 178, 183, 177, 182, 177, 182, 174, 175, 180, 184, 178, 188, 180, 183, 185, 182, 177, 176, 183, 187, 197, 187, 180, 182, 182, 182, 186, 185, 172, 174, 181, 186, 189, 175, 178, 193, 180, 174, 182, 180, 193, 180, 181, 173, 188, 187, 174, 171, 180, 178, 180, 179, 191, 183, 185, 178, 183, 178, 191, 181, 184, 172, 187, 180, 180, 190, 184, 188, 188, 188, 183, 179, 182, 176, 178, 173, 185, 185, 189, 178, 188, 178, 176, 181, 167, 180, 185, 180, 183, 189, 194, 185, 190, 185, 179, 178, 173, 177, 180, 178, 175, 183, 170, 179, 186, 188, 186, 175, 179, 177, 186, 176, 173, 183, 178, 178, 186, 180, 185, 173, 171, 172, 188, 183, 182, 187, 176, 173, 185, 180, 183, 170, 180, 193, 175, 174, 177, 188, 180, 182, 186, 187, 186, 180, 184, 190, 165, 193, 189, 180, 175, 188, 180, 169, 183, 173, 183, 179, 189, 182, 186, 179, 182, 179, 181, 182, 181, 175, 190, 184, 183, 183, 186, 186, 173, 180, 188, 175, 181, 179, 183, 186, 173, 168, 184, 183, 178, 193, 178, 177, 189, 178, 176, 182, 174, 180, 179, 180, 183, 173, 183, 185, 185, 188, 188, 173, 160, 174, 182, 178, 183, 178, 183, 193, 188, 175, 196, 175, 185, 185, 183, 185, 183, 180, 165, 175, 183, 183, 183, 178, 180, 178, 173, 179, 186, 187, 185, 175, 173, 175, 191, 188, 195, 191, 185, 187, 178, 176, 184, 185, 177, 175, 170, 175, 181, 194, 186, 175, 174, 176, 188, 174, 173, 191, 182, 176, 173, 190, 181, 173, 188, 170, 194, 178, 177, 181, 186, 180, 191, 179, 178, 180, 178, 175, 181, 170, 182, 184, 182, 180, 175, 178, 168, 175, 188, 183, 184, 188, 185, 185, 190, 172, 183, 168, 180, 185, 173, 184, 172, 164, 185, 183, 191, 181, 175, 191, 178, 180, 180, 180, 175, 182, 185, 191, 175, 185, 183, 176, 173, 182, 183, 179, 192, 183, 182, 199, 188, 185, 196, 185, 178, 183, 188, 187, 183, 184, 184, 185, 188, 177, 180, 194, 187, 175, 191, 186, 178, 178, 191, 185, 180, 173, 179, 170, 183, 196, 180, 193, 188, 178, 173, 178, 179, 181, 178, 179, 176, 181, 194, 177, 184, 184, 179, 178, 180, 185, 178, 188, 174, 187, 177, 179, 170, 181, 186, 176, 180, 177, 190, 185, 180, 179, 189, 185, 175, 182, 184, 180, 182, 180, 187, 184, 187, 177, 194, 186, 176, 179, 184, 170, 185, 175, 177, 178, 182, 174, 180, 188, 175, 189, 180, 188, 183, 191, 172, 183, 189, 179, 188, 171, 180, 193, 183, 176, 182, 170, 183, 182, 178, 183, 179, 179, 178, 178, 188, 186, 175, 193, 178, 180, 176, 180, 186, 170, 169, 180, 179, 178, 180, 186, 178, 180, 178, 185, 178, 188, 193, 180, 178, 189, 180, 175, 192, 191, 183, 185, 180, 182, 183, 189, 176, 178, 183, 188, 170, 182, 183, 171, 171, 180, 178, 178, 176, 174, 187, 180, 187, 175, 188, 184, 194, 175, 173, 193, 176, 174, 197, 191, 173, 177, 175, 182, 181, 179, 189, 176, 172, 175, 186, 170, 178, 181, 180, 185, 178, 185, 185, 192, 187, 185, 185, 180, 182, 185, 180, 177, 190, 179, 190, 192, 183, 179, 183, 193, 193, 187, 178, 183, 168, 182, 186, 177, 189, 175, 183, 172, 168, 180, 193, 193, 193, 180, 181, 193, 175, 171, 183, 178, 183, 184, 178, 180, 180, 180, 180, 178, 177, 189, 175, 180, 183, 186, 178, 191, 184, 190, 181, 177, 178, 172, 189, 193, 187, 193, 181, 185, 193, 183, 192, 175, 171, 190, 169, 181, 188, 187, 188, 183, 182, 179, 178, 170, 190, 199, 180, 190, 186, 183, 190, 181, 180, 175, 177, 190, 178, 181, 182, 178, 191, 184, 181, 187, 174, 178, 183, 184, 180, 185, 185, 199, 173, 180, 180, 172, 183, 175, 175, 181, 184, 182, 182, 184, 174, 180, 178, 186, 187, 180, 183, 185, 183, 193, 185, 179, 197, 185, 171, 188, 183, 187, 188, 175, 186, 188, 188, 165, 184, 180, 191, 194, 182, 169, 191, 176, 183, 173, 182, 184, 191, 173, 173, 180, 171, 174, 170, 191, 186, 190, 188, 180, 186, 182, 173, 180, 175, 190, 183, 180, 195, 175, 182, 186, 172, 189, 170, 182, 185, 182, 170, 192, 175, 183, 187, 190, 175, 178, 191, 170, 180, 183, 174, 186, 186, 185, 180, 180, 175, 182, 193, 177, 176, 178, 180, 170, 190, 183, 178, 185, 177, 180, 180, 190, 185, 193, 180, 195, 182, 187, 189, 176, 179, 178, 180, 194, 194, 183, 171, 185, 189, 185, 183, 190, 181, 186, 175, 185, 179, 178, 181, 182, 188, 176, 182, 175, 188, 188, 178, 196, 173, 180, 190, 166, 176, 180, 185, 188, 174, 185, 189, 188, 176, 181, 190, 175, 180, 178, 188, 178, 178, 181, 189, 185, 178, 175, 183, 188, 186, 173, 191, 185, 195, 184, 175, 198, 185, 185, 170, 180, 185, 175, 185, 179, 186, 183, 176, 183, 180, 177, 187, 171, 183, 183, 185, 170, 181, 188, 177, 181, 183, 191, 195, 178, 194, 182, 174, 187, 182, 183, 193, 182, 185, 183, 176, 177, 178, 177, 179, 186, 185, 180, 184, 178, 180, 178, 185, 183, 185, 178, 188, 178, 187, 187, 178, 170, 180, 181, 192, 173, 183, 183, 180, 185, 183, 175, 183, 187, 171, 182, 185, 191, 179, 185, 183, 180, 190, 176, 175, 175, 182, 179, 175, 192, 179, 178, 182, 176, 180, 187, 185, 183, 180, 186, 171, 189, 191, 184, 186, 189, 180, 180, 192, 188, 176, 190, 183, 181, 178, 183, 178, 180, 183, 184, 180, 177, 193, 172, 191, 180, 184, 190, 178, 178, 182, 193, 184, 194, 180, 182, 186, 183, 166, 177, 190, 185, 187, 190, 178, 196, 190, 182, 183, 183, 173, 185, 184, 195, 181, 183, 183, 191, 186, 182, 191, 175, 172, 190, 185, 183, 187, 185, 179, 186, 184, 167, 184, 174, 184, 179, 185, 185, 180, 190, 191, 185, 185, 180, 191, 188, 190, 186, 173, 188, 193, 188, 179, 180, 175, 186, 187, 186, 183, 175, 181, 179, 190, 169, 184, 196, 183, 190, 189, 194, 186, 170, 175, 180, 181, 187, 184, 187, 166, 185, 183, 177, 184, 175, 178, 186, 186, 183, 187, 173, 180, 172, 185, 182, 184, 188, 175, 175, 182, 175, 188, 185, 188, 183, 182, 180, 194, 186, 187, 173, 190, 182, 185, 187, 180, 177, 180, 196, 177, 191, 190, 193, 182, 169, 190, 175, 182, 193, 170, 174, 174, 170, 181, 181, 191, 180, 183, 171, 180, 180, 191, 178, 178, 188, 180, 175, 169, 191, 180, 188, 173, 188, 191, 189, 188, 185, 196, 188, 188, 188, 176, 191, 171, 180, 183, 180, 196, 183, 180, 170, 182, 181, 193, 172, 175, 194, 178, 189, 184, 185, 185, 177, 163, 190, 175, 201, 191, 184, 193, 175, 183, 183, 178, 191, 193, 194, 178, 181, 180, 183, 175, 182, 183, 178, 178, 178, 181, 173, 186, 184, 193, 175, 175, 185, 179, 175, 182, 178, 175, 187, 173, 180, 180, 185, 178, 176, 179, 189, 183, 184, 173, 178, 178, 176, 193, 183, 182, 170, 185, 185, 198, 180, 173, 182, 187, 188, 175, 168, 185, 182, 174, 190, 179, 181, 183, 185, 180, 185, 178, 188, 182, 179, 175, 189, 179, 179, 181, 193, 188, 186, 188, 183, 183, 178, 182, 180, 177, 179, 181, 177, 181, 175, 175, 185, 191, 188, 181, 186, 194, 191, 179, 188, 193, 185, 178, 185, 191, 180, 164, 186, 190, 174, 181, 173, 191, 182, 178, 178, 173, 178, 180, 177, 193, 168, 184, 185, 185, 175, 191, 180, 184, 190, 188, 185, 188, 170, 180, 177, 188, 196, 168, 183, 191, 191, 185, 188, 174, 170, 178, 180, 193, 170, 182, 176, 173, 170, 183, 180, 183, 173, 183, 185, 191, 179, 180, 173, 183, 173, 181, 185, 192, 191, 198, 185, 183, 178, 191, 185, 174, 178, 180, 191, 181, 191, 178, 182, 178, 175, 174, 175, 190, 175, 183, 175, 193, 173, 184, 178, 183, 191, 178, 174, 189, 174, 193, 180, 178, 189, 175, 185, 180, 185, 177, 173, 186, 173, 178, 175, 175, 183, 188, 188, 193, 188, 170, 183, 175, 175, 183, 180, 185, 185, 185, 173, 180, 180, 178, 182, 183, 185, 180, 175, 178, 193, 183, 185, 183, 178, 180, 187, 178, 180, 178, 191, 188, 185, 183, 177, 170, 188, 173, 182, 186, 185, 185, 186, 185, 184, 182, 188, 192, 183, 185, 173, 196, 182, 176, 181, 185, 188, 185, 183, 184, 188, 173, 186, 178, 188, 179, 191, 191, 188, 183, 176, 186, 175, 180, 183, 180, 185, 185, 187, 183, 180, 170, 181, 182, 181, 185, 168, 184, 191, 184, 183, 194, 190, 189, 181, 177, 190, 179, 186, 178, 190, 175, 192, 191, 183, 191, 184, 174, 192, 187, 178, 176, 175, 191, 179, 188, 178, 171, 180, 182, 173, 177, 192, 183, 175, 182, 178, 188, 192, 183, 186, 188, 180, 191, 180, 173, 191, 185, 181, 175, 180, 178, 175, 184, 179, 171, 180, 182, 174, 190, 170, 179, 175, 178, 177, 178, 171, 188, 173, 179, 182, 183, 185, 165, 182, 194, 181, 176, 180, 172, 187, 178, 187, 180, 182, 174, 196, 196, 175, 189, 175, 183, 179, 179]\n",
    "\n",
    "# chuyển 2 danh sách sang 2 mảng numpy: np_positions, np_heights\n",
    "np_positions = np.array(positions)\n",
    "np_heights = np.array(heights)\n",
    "\n",
    "# chiều cao của các thủ môn: gk_heights\n",
    "gk_heights = np_heights[np_positions == 'GK']\n",
    "\n",
    "# chiều cao của các cầu thủ khác: other_heights\n",
    "other_heights = np_heights[np_positions != 'GK']\n",
    "\n",
    "# in ra chiều cao trung vị các thủ môn (thay thế giá trị None)\n",
    "print(\"Chiều cao trung vị các thủ môn: \" + str(np.median(gk_heights)))\n",
    "\n",
    "# in ra chiều cao trung vị của các cầu thủ khác (thay thế giá trị None)\n",
    "print(\"Chiều cao trung vị của các cầu thủ khác: \" + str(np.median(other_heights)))"
   ]
  },
  {
   "cell_type": "markdown",
   "metadata": {},
   "source": [
    "Kết quả đúng:\n",
    "\n",
    "```\n",
    "Chiều cao trung vị các thủ môn: 188.0\n",
    "Chiều cao trung vị của các cầu thủ khác: 181.0\n",
    "```"
   ]
  },
  {
   "cell_type": "markdown",
   "metadata": {},
   "source": [
    "# Phần 12: Sử dụng `matplotlib` để biểu diễn dữ liệu (cơ bản)"
   ]
  },
  {
   "cell_type": "markdown",
   "metadata": {},
   "source": [
    "Data visualization (tạm dịch là biểu diễn dữ liệu) là một bước quan trọng trong phân tích dữ liệu, giúp ta có cái nhìn trực quan hơn về dữ liệu của mình.\n",
    "\n",
    "Trong mục này, ta sẽ làm quen với gói công cụ `matplotlib` để thực hành một số cách vẽ đồ thị từ dữ liệu. Cũng giống như `numpy`, `matplotlib` đã được cài đặt cùng với *Anaconda*."
   ]
  },
  {
   "cell_type": "markdown",
   "metadata": {},
   "source": [
    "## 12.1. Vẽ đường thẳng"
   ]
  },
  {
   "cell_type": "markdown",
   "metadata": {},
   "source": [
    "Để sử dụng công cụ vẽ đồ thị trong `matplotlib`, ta cần nhập gói `pyplot` từ trong `matplotlib`, sau đó ta có thể đặt tên nó là `plt` để tiết kiệm thời gian code:\n",
    "\n",
    "```\n",
    "import matplotlib.pyplot as plt\n",
    "```\n",
    "\n",
    "Một ví dụ về cách biểu diễn dữ liệu trên các đường thẳng sử dụng `matplotlib`:"
   ]
  },
  {
   "cell_type": "code",
   "execution_count": 89,
   "metadata": {},
   "outputs": [
    {
     "data": {
      "image/png": "[encoded data removed]",
      "text/plain": [
       "<Figure size 640x480 with 1 Axes>"
      ]
     },
     "metadata": {},
     "output_type": "display_data"
    }
   ],
   "source": [
    "import matplotlib.pyplot as plt\n",
    "x = [1990, 1995, 2000, 2005]\n",
    "y = [1.1, 1.3, 1.7, 2.5]\n",
    "plt.plot(x,y)\n",
    "plt.show()"
   ]
  },
  {
   "cell_type": "markdown",
   "metadata": {},
   "source": [
    "*Giải thích:* ta có dữ kiện về dân số của 1 khu vực trong các năm 1990 đến năm 2005, dữ liệu thu 5 năm một lần. Ta biểu diễn dữ kiện năm bằng danh sách `x`, và dữ kiện dân số bằng danh sách `y`. Sau đó ta truyền `x` và `y` vào hàm `plt.plot()` để nó tính toán các điểm cần vẽ. Hàm `plt.show()` dùng để in ra đồ thị mà nó vừa tính toán.\n",
    "\n",
    "**Bài tập:** Cho dữ kiện về dân số trong các năm 1950-2100 được biểu diễn bởi 2 danh sách `year` và `pop` trong đoạn code dưới đây. Hoàn thành đoạn code còn lại theo yêu cầu: "
   ]
  },
  {
   "cell_type": "code",
   "execution_count": 138,
   "metadata": {},
   "outputs": [
    {
     "name": "stdout",
     "output_type": "stream",
     "text": [
      "2100\n",
      "10.85\n"
     ]
    },
    {
     "data": {
      "image/png": "[encoded data removed]",
      "text/plain": [
       "<Figure size 640x480 with 1 Axes>"
      ]
     },
     "metadata": {},
     "output_type": "display_data"
    }
   ],
   "source": [
    "# khởi tạo\n",
    "year = [1950, 1951, 1952, 1953, 1954, 1955, 1956, 1957, 1958, 1959, 1960, 1961, 1962, 1963, 1964, 1965, 1966, 1967, 1968, 1969, 1970, 1971, 1972, 1973, 1974, 1975, 1976, 1977, 1978, 1979, 1980, 1981, 1982, 1983, 1984, 1985, 1986, 1987, 1988, 1989, 1990, 1991, 1992, 1993, 1994, 1995, 1996, 1997, 1998, 1999, 2000, 2001, 2002, 2003, 2004, 2005, 2006, 2007, 2008, 2009, 2010, 2011, 2012, 2013, 2014, 2015, 2016, 2017, 2018, 2019, 2020, 2021, 2022, 2023, 2024, 2025, 2026, 2027, 2028, 2029, 2030, 2031, 2032, 2033, 2034, 2035, 2036, 2037, 2038, 2039, 2040, 2041, 2042, 2043, 2044, 2045, 2046, 2047, 2048, 2049, 2050, 2051, 2052, 2053, 2054, 2055, 2056, 2057, 2058, 2059, 2060, 2061, 2062, 2063, 2064, 2065, 2066, 2067, 2068, 2069, 2070, 2071, 2072, 2073, 2074, 2075, 2076, 2077, 2078, 2079, 2080, 2081, 2082, 2083, 2084, 2085, 2086, 2087, 2088, 2089, 2090, 2091, 2092, 2093, 2094, 2095, 2096, 2097, 2098, 2099, 2100]\n",
    "pop = [2.53, 2.57, 2.62, 2.67, 2.71, 2.76, 2.81, 2.86, 2.92, 2.97, 3.03, 3.08, 3.14, 3.2, 3.26, 3.33, 3.4, 3.47, 3.54, 3.62, 3.69, 3.77, 3.84, 3.92, 4.0, 4.07, 4.15, 4.22, 4.3, 4.37, 4.45, 4.53, 4.61, 4.69, 4.78, 4.86, 4.95, 5.05, 5.14, 5.23, 5.32, 5.41, 5.49, 5.58, 5.66, 5.74, 5.82, 5.9, 5.98, 6.05, 6.13, 6.2, 6.28, 6.36, 6.44, 6.51, 6.59, 6.67, 6.75, 6.83, 6.92, 7.0, 7.08, 7.16, 7.24, 7.32, 7.4, 7.48, 7.56, 7.64, 7.72, 7.79, 7.87, 7.94, 8.01, 8.08, 8.15, 8.22, 8.29, 8.36, 8.42, 8.49, 8.56, 8.62, 8.68, 8.74, 8.8, 8.86, 8.92, 8.98, 9.04, 9.09, 9.15, 9.2, 9.26, 9.31, 9.36, 9.41, 9.46, 9.5, 9.55, 9.6, 9.64, 9.68, 9.73, 9.77, 9.81, 9.85, 9.88, 9.92, 9.96, 9.99, 10.03, 10.06, 10.09, 10.13, 10.16, 10.19, 10.22, 10.25, 10.28, 10.31, 10.33, 10.36, 10.38, 10.41, 10.43, 10.46, 10.48, 10.5, 10.52, 10.55, 10.57, 10.59, 10.61, 10.63, 10.65, 10.66, 10.68, 10.7, 10.72, 10.73, 10.75, 10.77, 10.78, 10.79, 10.81, 10.82, 10.83, 10.84, 10.85]\n",
    "\n",
    "# in ra phần tử cuối cùng của year và pop\n",
    "print(year[-1])\n",
    "print(pop[-1])\n",
    "\n",
    "# nhập vào matplotlib.pyplot, đặt tên nội bộ là plt\n",
    "import matplotlib.pyplot as plt\n",
    "\n",
    "# vẽ đồ thị đường thẳng: year nằm ở trục x, pop nằm ở trục y\n",
    "plt.plot(year, pop)\n",
    "# hiển thị đồ thị\n",
    "plt.show()"
   ]
  },
  {
   "cell_type": "markdown",
   "metadata": {},
   "source": [
    "## 12.2. Vẽ đường thẳng (tiếp)"
   ]
  },
  {
   "cell_type": "markdown",
   "metadata": {},
   "source": [
    "Không phải lúc nào biểu diễn dữ liệu bằng đồ thị đường thẳng cũng cho ta kết quả có ý nghĩa. Hãy cùng thực hành với dữ liệu sau đây để thấy được hạn chế của loại đồ thị này.\n",
    "\n",
    "Dữ liệu này được thu thập năm 2007, gồm 2 danh sách sau:\n",
    "\n",
    "- `life_exp`: tuổi thọ trung bình của các quốc gia\n",
    "- `gdp_cap`: GDP bình quân đầu người của các quốc gia\n",
    "\n",
    "Yêu cầu:\n",
    "- In ra dữ liệu về tuổi thọ trung bình và GDP bình quân đầu người của quốc gia cuối cùng trong danh sách đã cho (Zimbabwe).\n",
    "- Vẽ đồ thị đường thẳng với trục x là `life_exp`, trục y là `gdp_cap`.\n",
    "- Hãy xem kết quả vẽ, bạn thấy với dữ liệu này ta có nên vẽ như vậy không?"
   ]
  },
  {
   "cell_type": "code",
   "execution_count": 143,
   "metadata": {},
   "outputs": [
    {
     "name": "stdout",
     "output_type": "stream",
     "text": [
      "Tuổi thọ trung bình của quốc gia cuối cùng: 43.487\n",
      "GDP bình quân đầu người của quốc gia cuối cùng: 469.70929810000007\n"
     ]
    },
    {
     "data": {
      "image/png": "[encoded data removed]",
      "text/plain": [
       "<Figure size 640x480 with 1 Axes>"
      ]
     },
     "metadata": {},
     "output_type": "display_data"
    }
   ],
   "source": [
    "# import\n",
    "import matplotlib.pyplot as plt\n",
    "\n",
    "# dữ liệu\n",
    "gdp_cap = [974.58033839999996, 5937.0295259999984, 6223.3674650000003, 4797.2312670000001, 12779.379639999999, 34435.367439999995, 36126.492700000003, 29796.048340000001, 1391.253792, 33692.605080000001, 1441.2848730000001, 3822.137084, 7446.2988029999997, 12569.851769999999, 9065.8008250000003, 10680.792820000001, 1217.0329939999999, 430.07069159999998, 1713.7786860000001, 2042.0952400000001, 36319.235009999997, 706.01653699999997, 1704.0637240000001, 13171.638849999999, 4959.1148540000004, 7006.5804189999999, 986.14787920000003, 277.55185870000003, 3632.5577979999998, 9645.06142, 1544.7501119999999, 14619.222719999998, 8948.1029230000004, 22833.308509999999, 35278.418740000001, 2082.4815670000007, 6025.3747520000015, 6873.2623260000009, 5581.1809979999998, 5728.3535140000004, 12154.089749999999, 641.36952360000021, 690.80557590000001, 33207.0844, 30470.0167, 13206.48452, 752.74972649999995, 32170.37442, 1327.6089099999999, 27538.41188, 5186.0500030000003, 942.6542111, 579.23174299999982, 1201.637154, 3548.3308460000007, 39724.978669999997, 18008.944439999999, 36180.789190000003, 2452.210407, 3540.6515639999998, 11605.71449, 4471.0619059999999, 40675.996350000001, 25523.277099999999, 28569.719700000001, 7320.8802620000015, 31656.068060000001, 4519.4611709999999, 1463.249282, 1593.06548, 23348.139730000006, 47306.989780000004, 10461.05868, 1569.3314419999999, 414.5073415, 12057.49928, 1044.7701259999999, 759.34991009999999, 12451.6558, 1042.581557, 1803.151496, 10956.991120000001, 11977.57496, 3095.7722710000007, 9253.896111, 3820.1752299999998, 823.68562050000003, 944.0, 4811.0604290000001, 1091.359778, 36797.933319999996, 25185.009109999999, 2749.3209649999999, 619.67689239999982, 2013.9773049999999, 49357.190170000002, 22316.192869999999, 2605.94758, 9809.1856360000002, 4172.8384640000004, 7408.9055609999996, 3190.4810160000002, 15389.924680000002, 20509.64777, 19328.709009999999, 7670.122558, 10808.47561, 863.08846390000019, 1598.4350890000001, 21654.83194, 1712.4721360000001, 9786.5347139999994, 862.54075610000018, 47143.179640000002, 18678.314350000001, 25768.257590000001, 926.14106830000003, 9269.6578079999999, 28821.063699999999, 3970.0954069999998, 2602.3949950000001, 4513.4806429999999, 33859.748350000002, 37506.419070000004, 4184.5480889999999, 28718.276839999999, 1107.482182, 7458.3963269999977, 882.9699437999999, 18008.509239999999, 7092.9230250000001, 8458.2763840000007, 1056.3801209999999, 33203.261279999999, 42951.65309, 10611.46299, 11415.805689999999, 2441.5764039999999, 3025.3497980000002, 2280.769906, 1271.211593, 469.70929810000007]\n",
    "life_exp = [43.828000000000003, 76.423000000000002, 72.301000000000002, 42.731000000000002, 75.319999999999993, 81.234999999999999, 79.828999999999994, 75.635000000000005, 64.061999999999998, 79.441000000000003, 56.728000000000002, 65.554000000000002, 74.852000000000004, 50.728000000000002, 72.390000000000001, 73.004999999999995, 52.295000000000002, 49.579999999999998, 59.722999999999999, 50.43, 80.653000000000006, 44.741000000000007, 50.651000000000003, 78.552999999999997, 72.960999999999999, 72.888999999999996, 65.152000000000001, 46.462000000000003, 55.322000000000003, 78.781999999999996, 48.328000000000003, 75.748000000000005, 78.272999999999996, 76.486000000000004, 78.331999999999994, 54.790999999999997, 72.234999999999999, 74.994, 71.338000000000022, 71.878, 51.578999999999994, 58.039999999999999, 52.947000000000003, 79.313000000000002, 80.656999999999996, 56.734999999999999, 59.448, 79.406000000000006, 60.021999999999998, 79.483000000000004, 70.259, 56.006999999999998, 46.388000000000012, 60.915999999999997, 70.198000000000008, 82.207999999999998, 73.338000000000022, 81.757000000000005, 64.698000000000008, 70.650000000000006, 70.963999999999999, 59.545000000000002, 78.885000000000005, 80.745000000000005, 80.546000000000006, 72.566999999999993, 82.602999999999994, 72.534999999999997, 54.109999999999999, 67.296999999999997, 78.623000000000005, 77.588000000000022, 71.992999999999995, 42.591999999999999, 45.677999999999997, 73.951999999999998, 59.443000000000012, 48.302999999999997, 74.241, 54.466999999999999, 64.164000000000001, 72.801000000000002, 76.194999999999993, 66.802999999999997, 74.543000000000006, 71.164000000000001, 42.082000000000001, 62.069000000000003, 52.906000000000013, 63.784999999999997, 79.762, 80.203999999999994, 72.899000000000001, 56.866999999999997, 46.859000000000002, 80.195999999999998, 75.640000000000001, 65.483000000000004, 75.536999999999978, 71.751999999999995, 71.421000000000006, 71.688000000000002, 75.563000000000002, 78.097999999999999, 78.746000000000024, 76.441999999999993, 72.475999999999999, 46.241999999999997, 65.528000000000006, 72.777000000000001, 63.061999999999998, 74.001999999999995, 42.568000000000012, 79.971999999999994, 74.662999999999997, 77.926000000000002, 48.158999999999999, 49.338999999999999, 80.941000000000003, 72.396000000000001, 58.555999999999997, 39.613, 80.884, 81.701000000000022, 74.143000000000001, 78.400000000000006, 52.517000000000003, 70.616, 58.420000000000002, 69.819000000000003, 73.923000000000002, 71.777000000000001, 51.542000000000002, 79.424999999999997, 78.242000000000004, 76.384, 73.747, 74.248999999999995, 73.421999999999997, 62.698, 42.383999999999993, 43.487000000000002]\n",
    "# - In ra dữ liệu về tuổi thọ trung bình và GDP bình quân đầu người của quốc gia cuối cùng trong danh sách đã cho (Zimbabwe).\n",
    "# - Vẽ đồ thị đường thẳng với trục x là `life_exp`, trục y là `gdp_cap`.\n",
    "# - Hãy xem kết quả vẽ, bạn thấy với dữ liệu này ta có nên vẽ như vậy không?\n",
    "\n",
    "print(\"Tuổi thọ trung bình của quốc gia cuối cùng: \" + str(life_exp[-1]))\n",
    "print(\"GDP bình quân đầu người của quốc gia cuối cùng: \" + str(gdp_cap[-1]))\n",
    "\n",
    "# vẽ đồ thị\n",
    "\n",
    "plt.plot(sorted(life_exp), sorted(gdp_cap))\n",
    "plt.show()\n"
   ]
  },
  {
   "cell_type": "markdown",
   "metadata": {},
   "source": [
    "## 12.3. Vẽ đồ thị phân tán"
   ]
  },
  {
   "cell_type": "markdown",
   "metadata": {},
   "source": [
    "Một lựa chọn tốt hơn cho việc biểu diễn dữ liệu ở bài trước là sử dụng đồ thị phân tán (scatter plot). Để vẽ đồ thị dạng phân tán sử dụng `matplotlib`, ta làm như sau:\n",
    "\n",
    "```\n",
    "import matplotlib.pyplot as plt\n",
    "plt.scatter(x,y)\n",
    "plt.show()\n",
    "```\n",
    "\n",
    "Hãy dùng công thức này để làm bài tập sau:\n",
    "\n",
    "- Sửa lại dòng vẽ đồ thị đã viết ở đoạn code bên dưới, sử dụng hàm `plt.scatter()` thay vì `plt.plot()`.\n",
    "- Sử dụng hàm `plt.xscale('log')` để đánh dấu các vị trí trên trục x theo số mũ của 10.\n",
    "- Hiển thị đồ thị bằng hàm `plt.show()`."
   ]
  },
  {
   "cell_type": "code",
   "execution_count": 144,
   "metadata": {},
   "outputs": [
    {
     "data": {
      "image/png": "[encoded data removed]",
      "text/plain": [
       "<Figure size 640x480 with 1 Axes>"
      ]
     },
     "metadata": {},
     "output_type": "display_data"
    }
   ],
   "source": [
    "# import\n",
    "import matplotlib.pyplot as plt\n",
    "\n",
    "# dữ liệu\n",
    "gdp_cap = [974.58033839999996, 5937.0295259999984, 6223.3674650000003, 4797.2312670000001, 12779.379639999999, 34435.367439999995, 36126.492700000003, 29796.048340000001, 1391.253792, 33692.605080000001, 1441.2848730000001, 3822.137084, 7446.2988029999997, 12569.851769999999, 9065.8008250000003, 10680.792820000001, 1217.0329939999999, 430.07069159999998, 1713.7786860000001, 2042.0952400000001, 36319.235009999997, 706.01653699999997, 1704.0637240000001, 13171.638849999999, 4959.1148540000004, 7006.5804189999999, 986.14787920000003, 277.55185870000003, 3632.5577979999998, 9645.06142, 1544.7501119999999, 14619.222719999998, 8948.1029230000004, 22833.308509999999, 35278.418740000001, 2082.4815670000007, 6025.3747520000015, 6873.2623260000009, 5581.1809979999998, 5728.3535140000004, 12154.089749999999, 641.36952360000021, 690.80557590000001, 33207.0844, 30470.0167, 13206.48452, 752.74972649999995, 32170.37442, 1327.6089099999999, 27538.41188, 5186.0500030000003, 942.6542111, 579.23174299999982, 1201.637154, 3548.3308460000007, 39724.978669999997, 18008.944439999999, 36180.789190000003, 2452.210407, 3540.6515639999998, 11605.71449, 4471.0619059999999, 40675.996350000001, 25523.277099999999, 28569.719700000001, 7320.8802620000015, 31656.068060000001, 4519.4611709999999, 1463.249282, 1593.06548, 23348.139730000006, 47306.989780000004, 10461.05868, 1569.3314419999999, 414.5073415, 12057.49928, 1044.7701259999999, 759.34991009999999, 12451.6558, 1042.581557, 1803.151496, 10956.991120000001, 11977.57496, 3095.7722710000007, 9253.896111, 3820.1752299999998, 823.68562050000003, 944.0, 4811.0604290000001, 1091.359778, 36797.933319999996, 25185.009109999999, 2749.3209649999999, 619.67689239999982, 2013.9773049999999, 49357.190170000002, 22316.192869999999, 2605.94758, 9809.1856360000002, 4172.8384640000004, 7408.9055609999996, 3190.4810160000002, 15389.924680000002, 20509.64777, 19328.709009999999, 7670.122558, 10808.47561, 863.08846390000019, 1598.4350890000001, 21654.83194, 1712.4721360000001, 9786.5347139999994, 862.54075610000018, 47143.179640000002, 18678.314350000001, 25768.257590000001, 926.14106830000003, 9269.6578079999999, 28821.063699999999, 3970.0954069999998, 2602.3949950000001, 4513.4806429999999, 33859.748350000002, 37506.419070000004, 4184.5480889999999, 28718.276839999999, 1107.482182, 7458.3963269999977, 882.9699437999999, 18008.509239999999, 7092.9230250000001, 8458.2763840000007, 1056.3801209999999, 33203.261279999999, 42951.65309, 10611.46299, 11415.805689999999, 2441.5764039999999, 3025.3497980000002, 2280.769906, 1271.211593, 469.70929810000007]\n",
    "life_exp = [43.828000000000003, 76.423000000000002, 72.301000000000002, 42.731000000000002, 75.319999999999993, 81.234999999999999, 79.828999999999994, 75.635000000000005, 64.061999999999998, 79.441000000000003, 56.728000000000002, 65.554000000000002, 74.852000000000004, 50.728000000000002, 72.390000000000001, 73.004999999999995, 52.295000000000002, 49.579999999999998, 59.722999999999999, 50.43, 80.653000000000006, 44.741000000000007, 50.651000000000003, 78.552999999999997, 72.960999999999999, 72.888999999999996, 65.152000000000001, 46.462000000000003, 55.322000000000003, 78.781999999999996, 48.328000000000003, 75.748000000000005, 78.272999999999996, 76.486000000000004, 78.331999999999994, 54.790999999999997, 72.234999999999999, 74.994, 71.338000000000022, 71.878, 51.578999999999994, 58.039999999999999, 52.947000000000003, 79.313000000000002, 80.656999999999996, 56.734999999999999, 59.448, 79.406000000000006, 60.021999999999998, 79.483000000000004, 70.259, 56.006999999999998, 46.388000000000012, 60.915999999999997, 70.198000000000008, 82.207999999999998, 73.338000000000022, 81.757000000000005, 64.698000000000008, 70.650000000000006, 70.963999999999999, 59.545000000000002, 78.885000000000005, 80.745000000000005, 80.546000000000006, 72.566999999999993, 82.602999999999994, 72.534999999999997, 54.109999999999999, 67.296999999999997, 78.623000000000005, 77.588000000000022, 71.992999999999995, 42.591999999999999, 45.677999999999997, 73.951999999999998, 59.443000000000012, 48.302999999999997, 74.241, 54.466999999999999, 64.164000000000001, 72.801000000000002, 76.194999999999993, 66.802999999999997, 74.543000000000006, 71.164000000000001, 42.082000000000001, 62.069000000000003, 52.906000000000013, 63.784999999999997, 79.762, 80.203999999999994, 72.899000000000001, 56.866999999999997, 46.859000000000002, 80.195999999999998, 75.640000000000001, 65.483000000000004, 75.536999999999978, 71.751999999999995, 71.421000000000006, 71.688000000000002, 75.563000000000002, 78.097999999999999, 78.746000000000024, 76.441999999999993, 72.475999999999999, 46.241999999999997, 65.528000000000006, 72.777000000000001, 63.061999999999998, 74.001999999999995, 42.568000000000012, 79.971999999999994, 74.662999999999997, 77.926000000000002, 48.158999999999999, 49.338999999999999, 80.941000000000003, 72.396000000000001, 58.555999999999997, 39.613, 80.884, 81.701000000000022, 74.143000000000001, 78.400000000000006, 52.517000000000003, 70.616, 58.420000000000002, 69.819000000000003, 73.923000000000002, 71.777000000000001, 51.542000000000002, 79.424999999999997, 78.242000000000004, 76.384, 73.747, 74.248999999999995, 73.421999999999997, 62.698, 42.383999999999993, 43.487000000000002]\n",
    "\n",
    "# sửa lại dòng code sau để sử dụng hàm scatter\n",
    "plt.scatter(gdp_cap, life_exp)\n",
    "\n",
    "# sử dụng hàm xscale để đánh dấu các vị trí trên trục x theo số mũ của 10\n",
    "plt.xscale(\"log\")\n",
    "\n",
    "# Show plot\n",
    "plt.show()\n"
   ]
  },
  {
   "cell_type": "markdown",
   "metadata": {},
   "source": [
    "## 12.4. Vẽ đồ thị phân tán (tiếp)"
   ]
  },
  {
   "cell_type": "markdown",
   "metadata": {},
   "source": [
    "Trong bài này, dữ liệu và dân số các nước được cung cấp (danh sách `pop`). Hãy vẽ đồ thị phân tán với trục hoành là dân số, trục tung là tuổi thọ trung bình. Bạn có tìm được mối liên hệ nào giữa hai số liệu này khôn?"
   ]
  },
  {
   "cell_type": "code",
   "execution_count": 145,
   "metadata": {},
   "outputs": [
    {
     "data": {
      "image/png": "[encoded data removed]",
      "text/plain": [
       "<Figure size 640x480 with 1 Axes>"
      ]
     },
     "metadata": {},
     "output_type": "display_data"
    }
   ],
   "source": [
    "# import\n",
    "import matplotlib.pyplot as plt\n",
    "\n",
    "# dữ liệu\n",
    "life_exp = [43.828000000000003, 76.423000000000002, 72.301000000000002, 42.731000000000002, 75.319999999999993, 81.234999999999999, 79.828999999999994, 75.635000000000005, 64.061999999999998, 79.441000000000003, 56.728000000000002, 65.554000000000002, 74.852000000000004, 50.728000000000002, 72.390000000000001, 73.004999999999995, 52.295000000000002, 49.579999999999998, 59.722999999999999, 50.43, 80.653000000000006, 44.741000000000007, 50.651000000000003, 78.552999999999997, 72.960999999999999, 72.888999999999996, 65.152000000000001, 46.462000000000003, 55.322000000000003, 78.781999999999996, 48.328000000000003, 75.748000000000005, 78.272999999999996, 76.486000000000004, 78.331999999999994, 54.790999999999997, 72.234999999999999, 74.994, 71.338000000000022, 71.878, 51.578999999999994, 58.039999999999999, 52.947000000000003, 79.313000000000002, 80.656999999999996, 56.734999999999999, 59.448, 79.406000000000006, 60.021999999999998, 79.483000000000004, 70.259, 56.006999999999998, 46.388000000000012, 60.915999999999997, 70.198000000000008, 82.207999999999998, 73.338000000000022, 81.757000000000005, 64.698000000000008, 70.650000000000006, 70.963999999999999, 59.545000000000002, 78.885000000000005, 80.745000000000005, 80.546000000000006, 72.566999999999993, 82.602999999999994, 72.534999999999997, 54.109999999999999, 67.296999999999997, 78.623000000000005, 77.588000000000022, 71.992999999999995, 42.591999999999999, 45.677999999999997, 73.951999999999998, 59.443000000000012, 48.302999999999997, 74.241, 54.466999999999999, 64.164000000000001, 72.801000000000002, 76.194999999999993, 66.802999999999997, 74.543000000000006, 71.164000000000001, 42.082000000000001, 62.069000000000003, 52.906000000000013, 63.784999999999997, 79.762, 80.203999999999994, 72.899000000000001, 56.866999999999997, 46.859000000000002, 80.195999999999998, 75.640000000000001, 65.483000000000004, 75.536999999999978, 71.751999999999995, 71.421000000000006, 71.688000000000002, 75.563000000000002, 78.097999999999999, 78.746000000000024, 76.441999999999993, 72.475999999999999, 46.241999999999997, 65.528000000000006, 72.777000000000001, 63.061999999999998, 74.001999999999995, 42.568000000000012, 79.971999999999994, 74.662999999999997, 77.926000000000002, 48.158999999999999, 49.338999999999999, 80.941000000000003, 72.396000000000001, 58.555999999999997, 39.613, 80.884, 81.701000000000022, 74.143000000000001, 78.400000000000006, 52.517000000000003, 70.616, 58.420000000000002, 69.819000000000003, 73.923000000000002, 71.777000000000001, 51.542000000000002, 79.424999999999997, 78.242000000000004, 76.384, 73.747, 74.248999999999995, 73.421999999999997, 62.698, 42.383999999999993, 43.487000000000002]\n",
    "pop = [31.889923, 3.6005229999999999, 33.333216, 12.420476000000001, 40.301926999999999, 20.434176000000001, 8.199783, 0.70857300000000001, 150.448339, 10.392226000000001, 8.0783140000000007, 9.1191519999999997, 4.5521979999999997, 1.6391309999999999, 190.01064700000001, 7.3228580000000001, 14.326203, 8.3905049999999992, 14.131857999999999, 17.696293000000001, 33.390141, 4.3690379999999998, 10.238807, 16.284741, 1318.683096, 44.227550000000001, 0.71096000000000004, 64.606758999999997, 3.8006099999999998, 4.1338840000000001, 18.013408999999999, 4.4933120000000004, 11.416987000000001, 10.228744000000001, 5.4681199999999999, 0.49637399999999998, 9.3196220000000007, 13.75568, 80.264543000000003, 6.9396880000000003, 0.55120100000000005, 4.9065849999999998, 76.511887000000002, 5.2384599999999999, 61.083916000000002, 1.4548669999999999, 1.6883589999999999, 82.400996000000006, 22.873338, 10.706289999999999, 12.572927999999999, 9.9478139999999993, 1.4720409999999999, 8.5028140000000008, 7.4837629999999997, 6.9804120000000003, 9.9561080000000004, 0.301931, 1110.3963309999999, 223.547, 69.453569999999999, 27.499638000000001, 4.1090859999999996, 6.426679, 58.147733000000002, 2.780132, 127.467972, 6.0531930000000003, 35.610177, 23.301725000000001, 49.044789999999999, 2.5055589999999999, 3.921278, 2.0126490000000001, 3.1939419999999998, 6.0369140000000003, 19.167653999999999, 13.327078999999999, 24.821286000000001, 12.031795000000001, 3.2700650000000002, 1.250882, 108.700891, 2.8741270000000001, 0.68473600000000001, 33.757174999999997, 19.951656, 47.761980000000001, 2.0550799999999998, 28.901789999999998, 16.570613000000002, 4.1157709999999996, 5.6753559999999998, 12.894864999999999, 135.03116399999999, 4.6279260000000004, 3.2048969999999999, 169.27061699999999, 3.2421730000000002, 6.6671469999999999, 28.674757, 91.077286999999998, 38.518241000000003, 10.642836000000001, 3.942491, 0.79809399999999997, 22.276056000000001, 8.8605879999999999, 0.19957900000000001, 27.601037999999999, 12.267493, 10.150264999999999, 6.1445619999999996, 4.5530090000000003, 5.4475020000000001, 2.0092449999999999, 9.1187729999999991, 43.997827999999998, 40.448191000000001, 20.378239000000001, 42.292929000000001, 1.1330659999999999, 9.0310880000000004, 7.5546610000000003, 19.314747000000001, 23.174294, 38.13964, 65.068149000000005, 5.7015789999999997, 1.056608, 10.276158000000001, 71.158647000000002, 29.170397999999999, 60.776237999999999, 301.13994700000001, 3.4474960000000001, 26.084662000000002, 85.262355999999997, 4.018332, 22.211742999999998, 11.746034999999999, 12.311143]\n",
    "\n",
    "# vẽ đồ thị\n",
    "plt.scatter(pop, life_exp)\n",
    "plt.xscale(\"log\")\n",
    "plt.show()\n"
   ]
  },
  {
   "cell_type": "markdown",
   "metadata": {},
   "source": [
    "# Phần 13: Histograms"
   ]
  },
  {
   "cell_type": "markdown",
   "metadata": {},
   "source": [
    "Histogram là một dạng đồ thị cho phép hiển thị dạng phân phối tần suất của một tập dữ liệu liên tục. Nó cho phép ta kiểm tra dạng phân phối, độ trôi, độ nhọn, điểm dị biệt của tập dữ liệu. Histogram là một công cụ hữu ích để chúng ta có được những phân tích, nhận xét ban đầu về dữ liệu."
   ]
  },
  {
   "cell_type": "markdown",
   "metadata": {},
   "source": [
    "## 13.1. Xây dựng histogram với `matplotlib`"
   ]
  },
  {
   "cell_type": "markdown",
   "metadata": {},
   "source": [
    "Trong `matplotlib`, để xây dựng histogram cho 1 tập dữ liệu, ta sử dụng hàm `plt.hist()`. Bạn có thể xem hướng dẫn sử dụng của hàm ở dưới đây:"
   ]
  },
  {
   "cell_type": "code",
   "execution_count": 94,
   "metadata": {},
   "outputs": [
    {
     "name": "stdout",
     "output_type": "stream",
     "text": [
      "Help on function hist in module matplotlib.pyplot:\n",
      "\n",
      "hist(x: 'ArrayLike | Sequence[ArrayLike]', bins: 'int | Sequence[float] | str | None' = None, *, range: 'tuple[float, float] | None' = None, density: 'bool' = False, weights: 'ArrayLike | None' = None, cumulative: 'bool | float' = False, bottom: 'ArrayLike | float | None' = None, histtype: \"Literal['bar', 'barstacked', 'step', 'stepfilled']\" = 'bar', align: \"Literal['left', 'mid', 'right']\" = 'mid', orientation: \"Literal['vertical', 'horizontal']\" = 'vertical', rwidth: 'float | None' = None, log: 'bool' = False, color: 'ColorType | Sequence[ColorType] | None' = None, label: 'str | Sequence[str] | None' = None, stacked: 'bool' = False, data=None, **kwargs) -> 'tuple[np.ndarray | list[np.ndarray], np.ndarray, BarContainer | Polygon | list[BarContainer | Polygon]]'\n",
      "    Compute and plot a histogram.\n",
      "\n",
      "    This method uses `numpy.histogram` to bin the data in *x* and count the\n",
      "    number of values in each bin, then draws the distribution either as a\n",
      "    `.BarContainer` or `.Polygon`. The *bins*, *range*, *density*, and\n",
      "    *weights* parameters are forwarded to `numpy.histogram`.\n",
      "\n",
      "    If the data has already been binned and counted, use `~.bar` or\n",
      "    `~.stairs` to plot the distribution::\n",
      "\n",
      "        counts, bins = np.histogram(x)\n",
      "        plt.stairs(counts, bins)\n",
      "\n",
      "    Alternatively, plot pre-computed bins and counts using ``hist()`` by\n",
      "    treating each bin as a single point with a weight equal to its count::\n",
      "\n",
      "        plt.hist(bins[:-1], bins, weights=counts)\n",
      "\n",
      "    The data input *x* can be a singular array, a list of datasets of\n",
      "    potentially different lengths ([*x0*, *x1*, ...]), or a 2D ndarray in\n",
      "    which each column is a dataset. Note that the ndarray form is\n",
      "    transposed relative to the list form. If the input is an array, then\n",
      "    the return value is a tuple (*n*, *bins*, *patches*); if the input is a\n",
      "    sequence of arrays, then the return value is a tuple\n",
      "    ([*n0*, *n1*, ...], *bins*, [*patches0*, *patches1*, ...]).\n",
      "\n",
      "    Masked arrays are not supported.\n",
      "\n",
      "    Parameters\n",
      "    ----------\n",
      "    x : (n,) array or sequence of (n,) arrays\n",
      "        Input values, this takes either a single array or a sequence of\n",
      "        arrays which are not required to be of the same length.\n",
      "\n",
      "    bins : int or sequence or str, default: :rc:`hist.bins`\n",
      "        If *bins* is an integer, it defines the number of equal-width bins\n",
      "        in the range.\n",
      "\n",
      "        If *bins* is a sequence, it defines the bin edges, including the\n",
      "        left edge of the first bin and the right edge of the last bin;\n",
      "        in this case, bins may be unequally spaced.  All but the last\n",
      "        (righthand-most) bin is half-open.  In other words, if *bins* is::\n",
      "\n",
      "            [1, 2, 3, 4]\n",
      "\n",
      "        then the first bin is ``[1, 2)`` (including 1, but excluding 2) and\n",
      "        the second ``[2, 3)``.  The last bin, however, is ``[3, 4]``, which\n",
      "        *includes* 4.\n",
      "\n",
      "        If *bins* is a string, it is one of the binning strategies\n",
      "        supported by `numpy.histogram_bin_edges`: 'auto', 'fd', 'doane',\n",
      "        'scott', 'stone', 'rice', 'sturges', or 'sqrt'.\n",
      "\n",
      "    range : tuple or None, default: None\n",
      "        The lower and upper range of the bins. Lower and upper outliers\n",
      "        are ignored. If not provided, *range* is ``(x.min(), x.max())``.\n",
      "        Range has no effect if *bins* is a sequence.\n",
      "\n",
      "        If *bins* is a sequence or *range* is specified, autoscaling\n",
      "        is based on the specified bin range instead of the\n",
      "        range of x.\n",
      "\n",
      "    density : bool, default: False\n",
      "        If ``True``, draw and return a probability density: each bin\n",
      "        will display the bin's raw count divided by the total number of\n",
      "        counts *and the bin width*\n",
      "        (``density = counts / (sum(counts) * np.diff(bins))``),\n",
      "        so that the area under the histogram integrates to 1\n",
      "        (``np.sum(density * np.diff(bins)) == 1``).\n",
      "\n",
      "        If *stacked* is also ``True``, the sum of the histograms is\n",
      "        normalized to 1.\n",
      "\n",
      "    weights : (n,) array-like or None, default: None\n",
      "        An array of weights, of the same shape as *x*.  Each value in\n",
      "        *x* only contributes its associated weight towards the bin count\n",
      "        (instead of 1).  If *density* is ``True``, the weights are\n",
      "        normalized, so that the integral of the density over the range\n",
      "        remains 1.\n",
      "\n",
      "    cumulative : bool or -1, default: False\n",
      "        If ``True``, then a histogram is computed where each bin gives the\n",
      "        counts in that bin plus all bins for smaller values. The last bin\n",
      "        gives the total number of datapoints.\n",
      "\n",
      "        If *density* is also ``True`` then the histogram is normalized such\n",
      "        that the last bin equals 1.\n",
      "\n",
      "        If *cumulative* is a number less than 0 (e.g., -1), the direction\n",
      "        of accumulation is reversed.  In this case, if *density* is also\n",
      "        ``True``, then the histogram is normalized such that the first bin\n",
      "        equals 1.\n",
      "\n",
      "    bottom : array-like or float, default: 0\n",
      "        Location of the bottom of each bin, i.e. bins are drawn from\n",
      "        ``bottom`` to ``bottom + hist(x, bins)`` If a scalar, the bottom\n",
      "        of each bin is shifted by the same amount. If an array, each bin\n",
      "        is shifted independently and the length of bottom must match the\n",
      "        number of bins. If None, defaults to 0.\n",
      "\n",
      "    histtype : {'bar', 'barstacked', 'step', 'stepfilled'}, default: 'bar'\n",
      "        The type of histogram to draw.\n",
      "\n",
      "        - 'bar' is a traditional bar-type histogram.  If multiple data\n",
      "          are given the bars are arranged side by side.\n",
      "        - 'barstacked' is a bar-type histogram where multiple\n",
      "          data are stacked on top of each other.\n",
      "        - 'step' generates a lineplot that is by default unfilled.\n",
      "        - 'stepfilled' generates a lineplot that is by default filled.\n",
      "\n",
      "    align : {'left', 'mid', 'right'}, default: 'mid'\n",
      "        The horizontal alignment of the histogram bars.\n",
      "\n",
      "        - 'left': bars are centered on the left bin edges.\n",
      "        - 'mid': bars are centered between the bin edges.\n",
      "        - 'right': bars are centered on the right bin edges.\n",
      "\n",
      "    orientation : {'vertical', 'horizontal'}, default: 'vertical'\n",
      "        If 'horizontal', `~.Axes.barh` will be used for bar-type histograms\n",
      "        and the *bottom* kwarg will be the left edges.\n",
      "\n",
      "    rwidth : float or None, default: None\n",
      "        The relative width of the bars as a fraction of the bin width.  If\n",
      "        ``None``, automatically compute the width.\n",
      "\n",
      "        Ignored if *histtype* is 'step' or 'stepfilled'.\n",
      "\n",
      "    log : bool, default: False\n",
      "        If ``True``, the histogram axis will be set to a log scale.\n",
      "\n",
      "    color : :mpltype:`color` or list of :mpltype:`color` or None, default: None\n",
      "        Color or sequence of colors, one per dataset.  Default (``None``)\n",
      "        uses the standard line color sequence.\n",
      "\n",
      "    label : str or list of str, optional\n",
      "        String, or sequence of strings to match multiple datasets.  Bar\n",
      "        charts yield multiple patches per dataset, but only the first gets\n",
      "        the label, so that `~.Axes.legend` will work as expected.\n",
      "\n",
      "    stacked : bool, default: False\n",
      "        If ``True``, multiple data are stacked on top of each other If\n",
      "        ``False`` multiple data are arranged side by side if histtype is\n",
      "        'bar' or on top of each other if histtype is 'step'\n",
      "\n",
      "    Returns\n",
      "    -------\n",
      "    n : array or list of arrays\n",
      "        The values of the histogram bins. See *density* and *weights* for a\n",
      "        description of the possible semantics.  If input *x* is an array,\n",
      "        then this is an array of length *nbins*. If input is a sequence of\n",
      "        arrays ``[data1, data2, ...]``, then this is a list of arrays with\n",
      "        the values of the histograms for each of the arrays in the same\n",
      "        order.  The dtype of the array *n* (or of its element arrays) will\n",
      "        always be float even if no weighting or normalization is used.\n",
      "\n",
      "    bins : array\n",
      "        The edges of the bins. Length nbins + 1 (nbins left edges and right\n",
      "        edge of last bin).  Always a single array even when multiple data\n",
      "        sets are passed in.\n",
      "\n",
      "    patches : `.BarContainer` or list of a single `.Polygon` or list of such objects\n",
      "        Container of individual artists used to create the histogram\n",
      "        or list of such containers if there are multiple input datasets.\n",
      "\n",
      "    Other Parameters\n",
      "    ----------------\n",
      "    data : indexable object, optional\n",
      "        If given, the following parameters also accept a string ``s``, which is\n",
      "        interpreted as ``data[s]`` if ``s`` is a key in ``data``:\n",
      "\n",
      "        *x*, *weights*\n",
      "\n",
      "    **kwargs\n",
      "        `~matplotlib.patches.Patch` properties. The following properties\n",
      "        additionally accept a sequence of values corresponding to the\n",
      "        datasets in *x*:\n",
      "        *edgecolor*, *facecolor*, *linewidth*, *linestyle*, *hatch*.\n",
      "\n",
      "        .. versionadded:: 3.10\n",
      "           Allowing sequences of values in above listed Patch properties.\n",
      "\n",
      "    See Also\n",
      "    --------\n",
      "    hist2d : 2D histogram with rectangular bins\n",
      "    hexbin : 2D histogram with hexagonal bins\n",
      "    stairs : Plot a pre-computed histogram\n",
      "    bar : Plot a pre-computed histogram\n",
      "\n",
      "    Notes\n",
      "    -----\n",
      "\n",
      "    .. note::\n",
      "\n",
      "        This is the :ref:`pyplot wrapper <pyplot_interface>` for `.axes.Axes.hist`.\n",
      "\n",
      "    For large numbers of bins (>1000), plotting can be significantly\n",
      "    accelerated by using `~.Axes.stairs` to plot a pre-computed histogram\n",
      "    (``plt.stairs(*np.histogram(data))``), or by setting *histtype* to\n",
      "    'step' or 'stepfilled' rather than 'bar' or 'barstacked'.\n",
      "\n"
     ]
    }
   ],
   "source": [
    "from matplotlib import pyplot as plt\n",
    "help(plt.hist)"
   ]
  },
  {
   "cell_type": "markdown",
   "metadata": {},
   "source": [
    "Ta cần truyền vào tham số bắt buộc là dữ liệu `x`. Tham số `bins` là số lượng ngăn dữ liệu mà ta muốn chia.\n",
    "\n",
    "**Bài tập:** Cho dữ liệu `life_exp`, vẽ histogram của dữ liệu này."
   ]
  },
  {
   "cell_type": "code",
   "execution_count": 146,
   "metadata": {},
   "outputs": [
    {
     "data": {
      "image/png": "[encoded data removed]",
      "text/plain": [
       "<Figure size 640x480 with 1 Axes>"
      ]
     },
     "metadata": {},
     "output_type": "display_data"
    }
   ],
   "source": [
    "# import\n",
    "import matplotlib.pyplot as plt\n",
    "\n",
    "# dữ liệu\n",
    "life_exp = [43.828000000000003, 76.423000000000002, 72.301000000000002, 42.731000000000002, 75.319999999999993, 81.234999999999999, 79.828999999999994, 75.635000000000005, 64.061999999999998, 79.441000000000003, 56.728000000000002, 65.554000000000002, 74.852000000000004, 50.728000000000002, 72.390000000000001, 73.004999999999995, 52.295000000000002, 49.579999999999998, 59.722999999999999, 50.43, 80.653000000000006, 44.741000000000007, 50.651000000000003, 78.552999999999997, 72.960999999999999, 72.888999999999996, 65.152000000000001, 46.462000000000003, 55.322000000000003, 78.781999999999996, 48.328000000000003, 75.748000000000005, 78.272999999999996, 76.486000000000004, 78.331999999999994, 54.790999999999997, 72.234999999999999, 74.994, 71.338000000000022, 71.878, 51.578999999999994, 58.039999999999999, 52.947000000000003, 79.313000000000002, 80.656999999999996, 56.734999999999999, 59.448, 79.406000000000006, 60.021999999999998, 79.483000000000004, 70.259, 56.006999999999998, 46.388000000000012, 60.915999999999997, 70.198000000000008, 82.207999999999998, 73.338000000000022, 81.757000000000005, 64.698000000000008, 70.650000000000006, 70.963999999999999, 59.545000000000002, 78.885000000000005, 80.745000000000005, 80.546000000000006, 72.566999999999993, 82.602999999999994, 72.534999999999997, 54.109999999999999, 67.296999999999997, 78.623000000000005, 77.588000000000022, 71.992999999999995, 42.591999999999999, 45.677999999999997, 73.951999999999998, 59.443000000000012, 48.302999999999997, 74.241, 54.466999999999999, 64.164000000000001, 72.801000000000002, 76.194999999999993, 66.802999999999997, 74.543000000000006, 71.164000000000001, 42.082000000000001, 62.069000000000003, 52.906000000000013, 63.784999999999997, 79.762, 80.203999999999994, 72.899000000000001, 56.866999999999997, 46.859000000000002, 80.195999999999998, 75.640000000000001, 65.483000000000004, 75.536999999999978, 71.751999999999995, 71.421000000000006, 71.688000000000002, 75.563000000000002, 78.097999999999999, 78.746000000000024, 76.441999999999993, 72.475999999999999, 46.241999999999997, 65.528000000000006, 72.777000000000001, 63.061999999999998, 74.001999999999995, 42.568000000000012, 79.971999999999994, 74.662999999999997, 77.926000000000002, 48.158999999999999, 49.338999999999999, 80.941000000000003, 72.396000000000001, 58.555999999999997, 39.613, 80.884, 81.701000000000022, 74.143000000000001, 78.400000000000006, 52.517000000000003, 70.616, 58.420000000000002, 69.819000000000003, 73.923000000000002, 71.777000000000001, 51.542000000000002, 79.424999999999997, 78.242000000000004, 76.384, 73.747, 74.248999999999995, 73.421999999999997, 62.698, 42.383999999999993, 43.487000000000002]\n",
    "\n",
    "# xây dựng histogram\n",
    "plt.hist(life_exp, bins=15)\n",
    "\n",
    "# hiển thị đồ thị\n",
    "plt.show()\n"
   ]
  },
  {
   "cell_type": "markdown",
   "metadata": {},
   "source": [
    "## 13.2. Xây dựng histogram với `matplotlib` (tiếp): bins"
   ]
  },
  {
   "cell_type": "markdown",
   "metadata": {},
   "source": [
    "Số lượng ngăn dữ liệu (bins) là rất quan trọng khi ta muốn xây dựng một histogram. Trong trường hợp của bài tập trên, khi ta không truyền vào hàm `hist()` tham số này, nó đã tự chia ra 10 ngăn dữ liệu cho chúng ta. Thực tế, không có một chuẩn mực chính xác để ta quyết đinh số lượng bins, tuy nhiên ta nên chọn tham số này sao cho đảm bảo độ rộng của từng bin không quá lớn hoặc không quá nhỏ, nếu không ta sẽ không thể nhìn ra các đặc điểm của dữ liệu.\n",
    "\n",
    "**Bài tập:** Sử dụng thêm tham số `bins` truyền vào hàm `plt.hist()` để hoàn thành đoạn code sau. Trong đoạn code này, các hàm để hiển thị đồ thị đã được làm sẵn cho bạn. Hàm `plt.clf()` dùng để xóa dữ liệu đồ thị cũ khỏi `plt` để ta có thể tiếp tục truyền dữ liệu mới vào."
   ]
  },
  {
   "cell_type": "code",
   "execution_count": 147,
   "metadata": {},
   "outputs": [
    {
     "data": {
      "image/png": "[encoded data removed]",
      "text/plain": [
       "<Figure size 640x480 with 1 Axes>"
      ]
     },
     "metadata": {},
     "output_type": "display_data"
    },
    {
     "data": {
      "image/png": "[encoded data removed]",
      "text/plain": [
       "<Figure size 640x480 with 1 Axes>"
      ]
     },
     "metadata": {},
     "output_type": "display_data"
    },
    {
     "data": {
      "text/plain": [
       "<Figure size 640x480 with 0 Axes>"
      ]
     },
     "metadata": {},
     "output_type": "display_data"
    }
   ],
   "source": [
    "# import\n",
    "import matplotlib.pyplot as plt\n",
    "\n",
    "# dữ liệu\n",
    "life_exp = [43.828000000000003, 76.423000000000002, 72.301000000000002, 42.731000000000002, 75.319999999999993, 81.234999999999999, 79.828999999999994, 75.635000000000005, 64.061999999999998, 79.441000000000003, 56.728000000000002, 65.554000000000002, 74.852000000000004, 50.728000000000002, 72.390000000000001, 73.004999999999995, 52.295000000000002, 49.579999999999998, 59.722999999999999, 50.43, 80.653000000000006, 44.741000000000007, 50.651000000000003, 78.552999999999997, 72.960999999999999, 72.888999999999996, 65.152000000000001, 46.462000000000003, 55.322000000000003, 78.781999999999996, 48.328000000000003, 75.748000000000005, 78.272999999999996, 76.486000000000004, 78.331999999999994, 54.790999999999997, 72.234999999999999, 74.994, 71.338000000000022, 71.878, 51.578999999999994, 58.039999999999999, 52.947000000000003, 79.313000000000002, 80.656999999999996, 56.734999999999999, 59.448, 79.406000000000006, 60.021999999999998, 79.483000000000004, 70.259, 56.006999999999998, 46.388000000000012, 60.915999999999997, 70.198000000000008, 82.207999999999998, 73.338000000000022, 81.757000000000005, 64.698000000000008, 70.650000000000006, 70.963999999999999, 59.545000000000002, 78.885000000000005, 80.745000000000005, 80.546000000000006, 72.566999999999993, 82.602999999999994, 72.534999999999997, 54.109999999999999, 67.296999999999997, 78.623000000000005, 77.588000000000022, 71.992999999999995, 42.591999999999999, 45.677999999999997, 73.951999999999998, 59.443000000000012, 48.302999999999997, 74.241, 54.466999999999999, 64.164000000000001, 72.801000000000002, 76.194999999999993, 66.802999999999997, 74.543000000000006, 71.164000000000001, 42.082000000000001, 62.069000000000003, 52.906000000000013, 63.784999999999997, 79.762, 80.203999999999994, 72.899000000000001, 56.866999999999997, 46.859000000000002, 80.195999999999998, 75.640000000000001, 65.483000000000004, 75.536999999999978, 71.751999999999995, 71.421000000000006, 71.688000000000002, 75.563000000000002, 78.097999999999999, 78.746000000000024, 76.441999999999993, 72.475999999999999, 46.241999999999997, 65.528000000000006, 72.777000000000001, 63.061999999999998, 74.001999999999995, 42.568000000000012, 79.971999999999994, 74.662999999999997, 77.926000000000002, 48.158999999999999, 49.338999999999999, 80.941000000000003, 72.396000000000001, 58.555999999999997, 39.613, 80.884, 81.701000000000022, 74.143000000000001, 78.400000000000006, 52.517000000000003, 70.616, 58.420000000000002, 69.819000000000003, 73.923000000000002, 71.777000000000001, 51.542000000000002, 79.424999999999997, 78.242000000000004, 76.384, 73.747, 74.248999999999995, 73.421999999999997, 62.698, 42.383999999999993, 43.487000000000002]\n",
    "\n",
    "# xây dựng histogram với 5 bins\n",
    "plt.hist(life_exp, bins=5)\n",
    "\n",
    "# hiển thị đồ thị, sau đó xóa dữ liệu cũ khỏi plt\n",
    "plt.show()\n",
    "plt.clf()\n",
    "\n",
    "# xây dựng lại histogram với 20 bins\n",
    "plt.hist(life_exp, bins=20)\n",
    "\n",
    "# hiển thị đồ thị, sau đó xóa dữ liệu cũ khỏi plt\n",
    "plt.show()\n",
    "plt.clf()"
   ]
  },
  {
   "cell_type": "markdown",
   "metadata": {},
   "source": [
    "## 13.3. Xây dựng histogram với `matplotlib` (tiếp): so sánh"
   ]
  },
  {
   "cell_type": "markdown",
   "metadata": {},
   "source": [
    "Một thao tác quan trọng khi phân tích dữ liệu là so sánh. Histogram giúp ta có một cái nhìn trực quan để đưa ra những so sánh ban đầu trên các tập dữ liệu.\n",
    "\n",
    "Ở đoạn code dưới đây, dữ liệu và tuổi thọ trung bình của các nước trong năm 1950 được cung cấp thêm cho bạn (`life_exp1950`), bên cạnh dữ liệu năm 2007 (`life_exp`). Hãy hoàn thành đoạn code dưới đây. Bạn có thấy những sự khác biệt nào lớn giữa 2 dữ liệu này không? "
   ]
  },
  {
   "cell_type": "code",
   "execution_count": 148,
   "metadata": {},
   "outputs": [
    {
     "data": {
      "text/plain": [
       "<Figure size 640x480 with 0 Axes>"
      ]
     },
     "metadata": {},
     "output_type": "display_data"
    },
    {
     "data": {
      "text/plain": [
       "<Figure size 640x480 with 0 Axes>"
      ]
     },
     "metadata": {},
     "output_type": "display_data"
    }
   ],
   "source": [
    "# import\n",
    "import matplotlib.pyplot as plt\n",
    "\n",
    "# dữ liệu\n",
    "life_exp = [43.828000000000003, 76.423000000000002, 72.301000000000002, 42.731000000000002, 75.319999999999993, 81.234999999999999, 79.828999999999994, 75.635000000000005, 64.061999999999998, 79.441000000000003, 56.728000000000002, 65.554000000000002, 74.852000000000004, 50.728000000000002, 72.390000000000001, 73.004999999999995, 52.295000000000002, 49.579999999999998, 59.722999999999999, 50.43, 80.653000000000006, 44.741000000000007, 50.651000000000003, 78.552999999999997, 72.960999999999999, 72.888999999999996, 65.152000000000001, 46.462000000000003, 55.322000000000003, 78.781999999999996, 48.328000000000003, 75.748000000000005, 78.272999999999996, 76.486000000000004, 78.331999999999994, 54.790999999999997, 72.234999999999999, 74.994, 71.338000000000022, 71.878, 51.578999999999994, 58.039999999999999, 52.947000000000003, 79.313000000000002, 80.656999999999996, 56.734999999999999, 59.448, 79.406000000000006, 60.021999999999998, 79.483000000000004, 70.259, 56.006999999999998, 46.388000000000012, 60.915999999999997, 70.198000000000008, 82.207999999999998, 73.338000000000022, 81.757000000000005, 64.698000000000008, 70.650000000000006, 70.963999999999999, 59.545000000000002, 78.885000000000005, 80.745000000000005, 80.546000000000006, 72.566999999999993, 82.602999999999994, 72.534999999999997, 54.109999999999999, 67.296999999999997, 78.623000000000005, 77.588000000000022, 71.992999999999995, 42.591999999999999, 45.677999999999997, 73.951999999999998, 59.443000000000012, 48.302999999999997, 74.241, 54.466999999999999, 64.164000000000001, 72.801000000000002, 76.194999999999993, 66.802999999999997, 74.543000000000006, 71.164000000000001, 42.082000000000001, 62.069000000000003, 52.906000000000013, 63.784999999999997, 79.762, 80.203999999999994, 72.899000000000001, 56.866999999999997, 46.859000000000002, 80.195999999999998, 75.640000000000001, 65.483000000000004, 75.536999999999978, 71.751999999999995, 71.421000000000006, 71.688000000000002, 75.563000000000002, 78.097999999999999, 78.746000000000024, 76.441999999999993, 72.475999999999999, 46.241999999999997, 65.528000000000006, 72.777000000000001, 63.061999999999998, 74.001999999999995, 42.568000000000012, 79.971999999999994, 74.662999999999997, 77.926000000000002, 48.158999999999999, 49.338999999999999, 80.941000000000003, 72.396000000000001, 58.555999999999997, 39.613, 80.884, 81.701000000000022, 74.143000000000001, 78.400000000000006, 52.517000000000003, 70.616, 58.420000000000002, 69.819000000000003, 73.923000000000002, 71.777000000000001, 51.542000000000002, 79.424999999999997, 78.242000000000004, 76.384, 73.747, 74.248999999999995, 73.421999999999997, 62.698, 42.383999999999993, 43.487000000000002]\n",
    "life_exp1950 = [28.8, 55.23, 43.08, 30.02, 62.48, 69.12, 66.8, 50.94, 37.48, 68.0, 38.22, 40.41, 53.82, 47.62, 50.92, 59.6, 31.98, 39.03, 39.42, 38.52, 68.75, 35.46, 38.09, 54.74, 44.0, 50.64, 40.72, 39.14, 42.11, 57.21, 40.48, 61.21, 59.42, 66.87, 70.78, 34.81, 45.93, 48.36, 41.89, 45.26, 34.48, 35.93, 34.08, 66.55, 67.41, 37.0, 30.0, 67.5, 43.15, 65.86, 42.02, 33.61, 32.5, 37.58, 41.91, 60.96, 64.03, 72.49, 37.37, 37.47, 44.87, 45.32, 66.91, 65.39, 65.94, 58.53, 63.03, 43.16, 42.27, 50.06, 47.45, 55.56, 55.93, 42.14, 38.48, 42.72, 36.68, 36.26, 48.46, 33.68, 40.54, 50.99, 50.79, 42.24, 59.16, 42.87, 31.29, 36.32, 41.72, 36.16, 72.13, 69.39, 42.31, 37.44, 36.32, 72.67, 37.58, 43.44, 55.19, 62.65, 43.9, 47.75, 61.31, 59.82, 64.28, 52.72, 61.05, 40.0, 46.47, 39.88, 37.28, 58.0, 30.33, 60.4, 64.36, 65.57, 32.98, 45.01, 64.94, 57.59, 38.64, 41.41, 71.86, 69.62, 45.88, 58.5, 41.22, 50.85, 38.6, 59.1, 44.6, 43.58, 39.98, 69.18, 68.44, 66.07, 55.09, 40.41, 43.16, 32.55, 42.04, 48.45]\n",
    "\n",
    "# xây dựng Histogram của life_exp, 15 bins\n",
    "\n",
    "\n",
    "# hiển thị đồ thị, sau đó xóa dữ liệu cũ khỏi plt\n",
    "plt.show()\n",
    "plt.clf()\n",
    "\n",
    "# xây dựng Histogram của life_exp1950, 15 bins\n",
    "\n",
    "\n",
    "# hiển thị đồ thị, sau đó xóa dữ liệu cũ khỏi plt\n",
    "plt.show()\n",
    "plt.clf()"
   ]
  },
  {
   "cell_type": "markdown",
   "metadata": {},
   "source": [
    "# Phần 14: Tùy biến đồ thị với `matplotlib`"
   ]
  },
  {
   "cell_type": "markdown",
   "metadata": {},
   "source": [
    "## 14.1. Nhãn của đồ thị"
   ]
  },
  {
   "cell_type": "markdown",
   "metadata": {},
   "source": [
    "Các đồ thị chúng ta vừa vẽ đã biểu diễn được dữ liệu một cách trực quan, tuy nhiên để mọi người đọc có thể hiểu được các thông số trên các đồ thị này, ta cần phải làm rõ các thông tin về dữ liệu như: trục tung, trục hoành thể hiện dữ liệu gì, đơn vị đo của các dữ liệu đó, tên của đồ thị,...\n",
    "\n",
    "Trong `matplotlib`, có một số hàm hỗ trợ ta thiết lập thông tin cho đồ thị:\n",
    "\n",
    "- `plt.xlabel()`: thiết lập nhãn dữ liệu trên trục x\n",
    "- `plt.ylabel()`: thiết lập nhãn dữ liệu trên trục y\n",
    "- `plt.title()`: thiết lập tên của đồ thị\n",
    "\n",
    "Ví dụ, nếu muốn đặt tên trục x là `\"Năm\"`, ta dùng hàm `plt.xlabel(\"Năm\")`. Tất cả các hàm tùy biến đồ thị này đều phải đặt giữa 2 lệnh `plt.scatter()` và `plt.show()` thì mới có hiệu quả.\n",
    "\n",
    "**Bài tập:** Cho dữ kiện về GDP bình quân đầu người (`gdp_cap`) và tuổi thọ trung bình (`life_exp`) của các quốc gia. Hãy vẽ đồ thị phân tán với `gdp_cap` là dữ kiện trên trục x, `life_exp` là dữ kiện trên trục y. Đồ thị cần chứa các thông tin sau:\n",
    "\n",
    "- Nhãn của trục x: xâu `xlab`\n",
    "- Nhãn của trục y: xâu `ylab`\n",
    "- Tên của đồ thị: xâu `title`"
   ]
  },
  {
   "cell_type": "code",
   "execution_count": 149,
   "metadata": {},
   "outputs": [
    {
     "data": {
      "image/png": "[encoded data removed]",
      "text/plain": [
       "<Figure size 640x480 with 1 Axes>"
      ]
     },
     "metadata": {},
     "output_type": "display_data"
    }
   ],
   "source": [
    "# import\n",
    "import matplotlib.pyplot as plt\n",
    "\n",
    "# dữ liệu\n",
    "gdp_cap = [974.58033839999996, 5937.0295259999984, 6223.3674650000003, 4797.2312670000001, 12779.379639999999, 34435.367439999995, 36126.492700000003, 29796.048340000001, 1391.253792, 33692.605080000001, 1441.2848730000001, 3822.137084, 7446.2988029999997, 12569.851769999999, 9065.8008250000003, 10680.792820000001, 1217.0329939999999, 430.07069159999998, 1713.7786860000001, 2042.0952400000001, 36319.235009999997, 706.01653699999997, 1704.0637240000001, 13171.638849999999, 4959.1148540000004, 7006.5804189999999, 986.14787920000003, 277.55185870000003, 3632.5577979999998, 9645.06142, 1544.7501119999999, 14619.222719999998, 8948.1029230000004, 22833.308509999999, 35278.418740000001, 2082.4815670000007, 6025.3747520000015, 6873.2623260000009, 5581.1809979999998, 5728.3535140000004, 12154.089749999999, 641.36952360000021, 690.80557590000001, 33207.0844, 30470.0167, 13206.48452, 752.74972649999995, 32170.37442, 1327.6089099999999, 27538.41188, 5186.0500030000003, 942.6542111, 579.23174299999982, 1201.637154, 3548.3308460000007, 39724.978669999997, 18008.944439999999, 36180.789190000003, 2452.210407, 3540.6515639999998, 11605.71449, 4471.0619059999999, 40675.996350000001, 25523.277099999999, 28569.719700000001, 7320.8802620000015, 31656.068060000001, 4519.4611709999999, 1463.249282, 1593.06548, 23348.139730000006, 47306.989780000004, 10461.05868, 1569.3314419999999, 414.5073415, 12057.49928, 1044.7701259999999, 759.34991009999999, 12451.6558, 1042.581557, 1803.151496, 10956.991120000001, 11977.57496, 3095.7722710000007, 9253.896111, 3820.1752299999998, 823.68562050000003, 944.0, 4811.0604290000001, 1091.359778, 36797.933319999996, 25185.009109999999, 2749.3209649999999, 619.67689239999982, 2013.9773049999999, 49357.190170000002, 22316.192869999999, 2605.94758, 9809.1856360000002, 4172.8384640000004, 7408.9055609999996, 3190.4810160000002, 15389.924680000002, 20509.64777, 19328.709009999999, 7670.122558, 10808.47561, 863.08846390000019, 1598.4350890000001, 21654.83194, 1712.4721360000001, 9786.5347139999994, 862.54075610000018, 47143.179640000002, 18678.314350000001, 25768.257590000001, 926.14106830000003, 9269.6578079999999, 28821.063699999999, 3970.0954069999998, 2602.3949950000001, 4513.4806429999999, 33859.748350000002, 37506.419070000004, 4184.5480889999999, 28718.276839999999, 1107.482182, 7458.3963269999977, 882.9699437999999, 18008.509239999999, 7092.9230250000001, 8458.2763840000007, 1056.3801209999999, 33203.261279999999, 42951.65309, 10611.46299, 11415.805689999999, 2441.5764039999999, 3025.3497980000002, 2280.769906, 1271.211593, 469.70929810000007]\n",
    "life_exp = [43.828000000000003, 76.423000000000002, 72.301000000000002, 42.731000000000002, 75.319999999999993, 81.234999999999999, 79.828999999999994, 75.635000000000005, 64.061999999999998, 79.441000000000003, 56.728000000000002, 65.554000000000002, 74.852000000000004, 50.728000000000002, 72.390000000000001, 73.004999999999995, 52.295000000000002, 49.579999999999998, 59.722999999999999, 50.43, 80.653000000000006, 44.741000000000007, 50.651000000000003, 78.552999999999997, 72.960999999999999, 72.888999999999996, 65.152000000000001, 46.462000000000003, 55.322000000000003, 78.781999999999996, 48.328000000000003, 75.748000000000005, 78.272999999999996, 76.486000000000004, 78.331999999999994, 54.790999999999997, 72.234999999999999, 74.994, 71.338000000000022, 71.878, 51.578999999999994, 58.039999999999999, 52.947000000000003, 79.313000000000002, 80.656999999999996, 56.734999999999999, 59.448, 79.406000000000006, 60.021999999999998, 79.483000000000004, 70.259, 56.006999999999998, 46.388000000000012, 60.915999999999997, 70.198000000000008, 82.207999999999998, 73.338000000000022, 81.757000000000005, 64.698000000000008, 70.650000000000006, 70.963999999999999, 59.545000000000002, 78.885000000000005, 80.745000000000005, 80.546000000000006, 72.566999999999993, 82.602999999999994, 72.534999999999997, 54.109999999999999, 67.296999999999997, 78.623000000000005, 77.588000000000022, 71.992999999999995, 42.591999999999999, 45.677999999999997, 73.951999999999998, 59.443000000000012, 48.302999999999997, 74.241, 54.466999999999999, 64.164000000000001, 72.801000000000002, 76.194999999999993, 66.802999999999997, 74.543000000000006, 71.164000000000001, 42.082000000000001, 62.069000000000003, 52.906000000000013, 63.784999999999997, 79.762, 80.203999999999994, 72.899000000000001, 56.866999999999997, 46.859000000000002, 80.195999999999998, 75.640000000000001, 65.483000000000004, 75.536999999999978, 71.751999999999995, 71.421000000000006, 71.688000000000002, 75.563000000000002, 78.097999999999999, 78.746000000000024, 76.441999999999993, 72.475999999999999, 46.241999999999997, 65.528000000000006, 72.777000000000001, 63.061999999999998, 74.001999999999995, 42.568000000000012, 79.971999999999994, 74.662999999999997, 77.926000000000002, 48.158999999999999, 49.338999999999999, 80.941000000000003, 72.396000000000001, 58.555999999999997, 39.613, 80.884, 81.701000000000022, 74.143000000000001, 78.400000000000006, 52.517000000000003, 70.616, 58.420000000000002, 69.819000000000003, 73.923000000000002, 71.777000000000001, 51.542000000000002, 79.424999999999997, 78.242000000000004, 76.384, 73.747, 74.248999999999995, 73.421999999999997, 62.698, 42.383999999999993, 43.487000000000002]\n",
    "\n",
    "# xây dựng đồ thị\n",
    "plt.scatter(gdp_cap, life_exp)\n",
    "plt.xscale('log') \n",
    "\n",
    "# định nghĩa các xâu\n",
    "xlab = 'GDP bình quân đầu người [USD]'\n",
    "ylab = 'Tuổi thọ trung bình [số năm]'\n",
    "title = 'Chỉ số phát triển Thế giới năm 2007'\n",
    "\n",
    "# thiết lập nhãn của các trục tọa độ\n",
    "plt.xlabel(xlab)\n",
    "plt.ylabel(ylab)\n",
    "\n",
    "# đặt tên cho đồ thị\n",
    "plt.title(title)\n",
    "\n",
    "# hiển thị đồ thị đã tùy biến\n",
    "plt.show()\n"
   ]
  },
  {
   "cell_type": "markdown",
   "metadata": {},
   "source": [
    "Bạn thấy đồ thị của mình đã rõ ràng hơn chứ :)"
   ]
  },
  {
   "cell_type": "markdown",
   "metadata": {},
   "source": [
    "## 14.2. Dữ liệu trên các trục tọa độ"
   ]
  },
  {
   "cell_type": "markdown",
   "metadata": {},
   "source": [
    "Ngoài việc đặt tên cho các trục tọa độ, ta cũng có thể tùy biến các mốc dữ liệu trên trục tọa độ, sử dụng các hàm `plt.xticks()` và `plt.yticks()`. Ví dụ:\n",
    "\n",
    "```\n",
    "plt.yticks([0,1,2], [\"one\",\"two\",\"three\"])\n",
    "```\n",
    "\n",
    "Khi sử dụng hàm trên, các mốc `0`, `1` và `2` trên trục y sẽ được thay thế lần lượt bởi `one`, `two` và `three`.\n",
    "\n",
    "Trong đoạn code sau, tất cả các tùy biến từ bài trước đã được viết gọn lại, bạn hãy làm tiếp công việc tùy biến các mốc dữ liệu trên trục x bằng cách đặt tên các mốc trong `tick_val` với tên trong `tick_lab`."
   ]
  },
  {
   "cell_type": "code",
   "execution_count": 150,
   "metadata": {},
   "outputs": [
    {
     "data": {
      "image/png": "[encoded data removed]",
      "text/plain": [
       "<Figure size 640x480 with 1 Axes>"
      ]
     },
     "metadata": {},
     "output_type": "display_data"
    }
   ],
   "source": [
    "# import\n",
    "import matplotlib.pyplot as plt\n",
    "\n",
    "# dữ liệu\n",
    "gdp_cap = [974.58033839999996, 5937.0295259999984, 6223.3674650000003, 4797.2312670000001, 12779.379639999999, 34435.367439999995, 36126.492700000003, 29796.048340000001, 1391.253792, 33692.605080000001, 1441.2848730000001, 3822.137084, 7446.2988029999997, 12569.851769999999, 9065.8008250000003, 10680.792820000001, 1217.0329939999999, 430.07069159999998, 1713.7786860000001, 2042.0952400000001, 36319.235009999997, 706.01653699999997, 1704.0637240000001, 13171.638849999999, 4959.1148540000004, 7006.5804189999999, 986.14787920000003, 277.55185870000003, 3632.5577979999998, 9645.06142, 1544.7501119999999, 14619.222719999998, 8948.1029230000004, 22833.308509999999, 35278.418740000001, 2082.4815670000007, 6025.3747520000015, 6873.2623260000009, 5581.1809979999998, 5728.3535140000004, 12154.089749999999, 641.36952360000021, 690.80557590000001, 33207.0844, 30470.0167, 13206.48452, 752.74972649999995, 32170.37442, 1327.6089099999999, 27538.41188, 5186.0500030000003, 942.6542111, 579.23174299999982, 1201.637154, 3548.3308460000007, 39724.978669999997, 18008.944439999999, 36180.789190000003, 2452.210407, 3540.6515639999998, 11605.71449, 4471.0619059999999, 40675.996350000001, 25523.277099999999, 28569.719700000001, 7320.8802620000015, 31656.068060000001, 4519.4611709999999, 1463.249282, 1593.06548, 23348.139730000006, 47306.989780000004, 10461.05868, 1569.3314419999999, 414.5073415, 12057.49928, 1044.7701259999999, 759.34991009999999, 12451.6558, 1042.581557, 1803.151496, 10956.991120000001, 11977.57496, 3095.7722710000007, 9253.896111, 3820.1752299999998, 823.68562050000003, 944.0, 4811.0604290000001, 1091.359778, 36797.933319999996, 25185.009109999999, 2749.3209649999999, 619.67689239999982, 2013.9773049999999, 49357.190170000002, 22316.192869999999, 2605.94758, 9809.1856360000002, 4172.8384640000004, 7408.9055609999996, 3190.4810160000002, 15389.924680000002, 20509.64777, 19328.709009999999, 7670.122558, 10808.47561, 863.08846390000019, 1598.4350890000001, 21654.83194, 1712.4721360000001, 9786.5347139999994, 862.54075610000018, 47143.179640000002, 18678.314350000001, 25768.257590000001, 926.14106830000003, 9269.6578079999999, 28821.063699999999, 3970.0954069999998, 2602.3949950000001, 4513.4806429999999, 33859.748350000002, 37506.419070000004, 4184.5480889999999, 28718.276839999999, 1107.482182, 7458.3963269999977, 882.9699437999999, 18008.509239999999, 7092.9230250000001, 8458.2763840000007, 1056.3801209999999, 33203.261279999999, 42951.65309, 10611.46299, 11415.805689999999, 2441.5764039999999, 3025.3497980000002, 2280.769906, 1271.211593, 469.70929810000007]\n",
    "life_exp = [43.828000000000003, 76.423000000000002, 72.301000000000002, 42.731000000000002, 75.319999999999993, 81.234999999999999, 79.828999999999994, 75.635000000000005, 64.061999999999998, 79.441000000000003, 56.728000000000002, 65.554000000000002, 74.852000000000004, 50.728000000000002, 72.390000000000001, 73.004999999999995, 52.295000000000002, 49.579999999999998, 59.722999999999999, 50.43, 80.653000000000006, 44.741000000000007, 50.651000000000003, 78.552999999999997, 72.960999999999999, 72.888999999999996, 65.152000000000001, 46.462000000000003, 55.322000000000003, 78.781999999999996, 48.328000000000003, 75.748000000000005, 78.272999999999996, 76.486000000000004, 78.331999999999994, 54.790999999999997, 72.234999999999999, 74.994, 71.338000000000022, 71.878, 51.578999999999994, 58.039999999999999, 52.947000000000003, 79.313000000000002, 80.656999999999996, 56.734999999999999, 59.448, 79.406000000000006, 60.021999999999998, 79.483000000000004, 70.259, 56.006999999999998, 46.388000000000012, 60.915999999999997, 70.198000000000008, 82.207999999999998, 73.338000000000022, 81.757000000000005, 64.698000000000008, 70.650000000000006, 70.963999999999999, 59.545000000000002, 78.885000000000005, 80.745000000000005, 80.546000000000006, 72.566999999999993, 82.602999999999994, 72.534999999999997, 54.109999999999999, 67.296999999999997, 78.623000000000005, 77.588000000000022, 71.992999999999995, 42.591999999999999, 45.677999999999997, 73.951999999999998, 59.443000000000012, 48.302999999999997, 74.241, 54.466999999999999, 64.164000000000001, 72.801000000000002, 76.194999999999993, 66.802999999999997, 74.543000000000006, 71.164000000000001, 42.082000000000001, 62.069000000000003, 52.906000000000013, 63.784999999999997, 79.762, 80.203999999999994, 72.899000000000001, 56.866999999999997, 46.859000000000002, 80.195999999999998, 75.640000000000001, 65.483000000000004, 75.536999999999978, 71.751999999999995, 71.421000000000006, 71.688000000000002, 75.563000000000002, 78.097999999999999, 78.746000000000024, 76.441999999999993, 72.475999999999999, 46.241999999999997, 65.528000000000006, 72.777000000000001, 63.061999999999998, 74.001999999999995, 42.568000000000012, 79.971999999999994, 74.662999999999997, 77.926000000000002, 48.158999999999999, 49.338999999999999, 80.941000000000003, 72.396000000000001, 58.555999999999997, 39.613, 80.884, 81.701000000000022, 74.143000000000001, 78.400000000000006, 52.517000000000003, 70.616, 58.420000000000002, 69.819000000000003, 73.923000000000002, 71.777000000000001, 51.542000000000002, 79.424999999999997, 78.242000000000004, 76.384, 73.747, 74.248999999999995, 73.421999999999997, 62.698, 42.383999999999993, 43.487000000000002]\n",
    "\n",
    "# xây dựng đồ thị\n",
    "plt.scatter(gdp_cap, life_exp)\n",
    "\n",
    "# các tùy biến ở bài trước\n",
    "plt.xscale('log') \n",
    "plt.xlabel('GDP bình quân đầu người [USD]')\n",
    "plt.ylabel('Tuổi thọ trung bình [số năm]')\n",
    "plt.title('Chỉ số phát triển Thế giới năm 2007')\n",
    "\n",
    "# định nghĩa tick_val và tick_lab\n",
    "tick_val = [1000,10000,100000]\n",
    "tick_lab = ['1k','10k','100k']\n",
    "\n",
    "# tùy biến tên mốc dữ liệu trên trục tọa độ x\n",
    "plt.xticks(tick_val, tick_lab)\n",
    "\n",
    "# hiển thị đồ thị sau khi tùy biến\n",
    "plt.show()\n"
   ]
  },
  {
   "cell_type": "markdown",
   "metadata": {},
   "source": [
    "## 14.3. Tùy chỉnh kích thước các điểm trên đồ thị"
   ]
  },
  {
   "cell_type": "markdown",
   "metadata": {},
   "source": [
    "Sau bài tập vừa rồi, ta đang có một đồ thị gồm rất nhiều chấm nhỏ. Sử dụng thêm dữ liệu và dân số các quốc gia (danh sách `pop`), ta có thể làm thêm tùy biến nữa, đó là thiết lập kích thước của chấm theo độ lớn của quy mô dân số quốc gia, tăng thông tin cho đồ thị. Để đặt kích thước cho các điểm trên đồ thị, ta truyền thêm tham số `s` vào hàm `scatter()` như trong đoạn code dưới đây. Công việc của bạn là:\n",
    "\n",
    "- Lưu `pop` vào mảng `numpy` và đặt tên mảng đó là `np_pop`, sau đó tăng mỗi phần tử của mảng này lên gấp đôi. Việc tăng gấp đôi mỗi phần tử của mảng này sẽ giúp ta thể hiện rõ hơn sự khác biệt về dân số khi nhìn vào kích thước của các điểm.\n",
    "- Thay giá trị truyền vào tham số `s` trong hàm `scatter()` thành `np_pop`.\n",
    "- Thực thi đoạn code và xem kết quả."
   ]
  },
  {
   "cell_type": "code",
   "execution_count": 151,
   "metadata": {},
   "outputs": [
    {
     "data": {
      "image/png": "[encoded data removed]",
      "text/plain": [
       "<Figure size 640x480 with 1 Axes>"
      ]
     },
     "metadata": {},
     "output_type": "display_data"
    }
   ],
   "source": [
    "# import\n",
    "import matplotlib.pyplot as plt\n",
    "\n",
    "# dữ liệu\n",
    "gdp_cap = [974.58033839999996, 5937.0295259999984, 6223.3674650000003, 4797.2312670000001, 12779.379639999999, 34435.367439999995, 36126.492700000003, 29796.048340000001, 1391.253792, 33692.605080000001, 1441.2848730000001, 3822.137084, 7446.2988029999997, 12569.851769999999, 9065.8008250000003, 10680.792820000001, 1217.0329939999999, 430.07069159999998, 1713.7786860000001, 2042.0952400000001, 36319.235009999997, 706.01653699999997, 1704.0637240000001, 13171.638849999999, 4959.1148540000004, 7006.5804189999999, 986.14787920000003, 277.55185870000003, 3632.5577979999998, 9645.06142, 1544.7501119999999, 14619.222719999998, 8948.1029230000004, 22833.308509999999, 35278.418740000001, 2082.4815670000007, 6025.3747520000015, 6873.2623260000009, 5581.1809979999998, 5728.3535140000004, 12154.089749999999, 641.36952360000021, 690.80557590000001, 33207.0844, 30470.0167, 13206.48452, 752.74972649999995, 32170.37442, 1327.6089099999999, 27538.41188, 5186.0500030000003, 942.6542111, 579.23174299999982, 1201.637154, 3548.3308460000007, 39724.978669999997, 18008.944439999999, 36180.789190000003, 2452.210407, 3540.6515639999998, 11605.71449, 4471.0619059999999, 40675.996350000001, 25523.277099999999, 28569.719700000001, 7320.8802620000015, 31656.068060000001, 4519.4611709999999, 1463.249282, 1593.06548, 23348.139730000006, 47306.989780000004, 10461.05868, 1569.3314419999999, 414.5073415, 12057.49928, 1044.7701259999999, 759.34991009999999, 12451.6558, 1042.581557, 1803.151496, 10956.991120000001, 11977.57496, 3095.7722710000007, 9253.896111, 3820.1752299999998, 823.68562050000003, 944.0, 4811.0604290000001, 1091.359778, 36797.933319999996, 25185.009109999999, 2749.3209649999999, 619.67689239999982, 2013.9773049999999, 49357.190170000002, 22316.192869999999, 2605.94758, 9809.1856360000002, 4172.8384640000004, 7408.9055609999996, 3190.4810160000002, 15389.924680000002, 20509.64777, 19328.709009999999, 7670.122558, 10808.47561, 863.08846390000019, 1598.4350890000001, 21654.83194, 1712.4721360000001, 9786.5347139999994, 862.54075610000018, 47143.179640000002, 18678.314350000001, 25768.257590000001, 926.14106830000003, 9269.6578079999999, 28821.063699999999, 3970.0954069999998, 2602.3949950000001, 4513.4806429999999, 33859.748350000002, 37506.419070000004, 4184.5480889999999, 28718.276839999999, 1107.482182, 7458.3963269999977, 882.9699437999999, 18008.509239999999, 7092.9230250000001, 8458.2763840000007, 1056.3801209999999, 33203.261279999999, 42951.65309, 10611.46299, 11415.805689999999, 2441.5764039999999, 3025.3497980000002, 2280.769906, 1271.211593, 469.70929810000007]\n",
    "life_exp = [43.828000000000003, 76.423000000000002, 72.301000000000002, 42.731000000000002, 75.319999999999993, 81.234999999999999, 79.828999999999994, 75.635000000000005, 64.061999999999998, 79.441000000000003, 56.728000000000002, 65.554000000000002, 74.852000000000004, 50.728000000000002, 72.390000000000001, 73.004999999999995, 52.295000000000002, 49.579999999999998, 59.722999999999999, 50.43, 80.653000000000006, 44.741000000000007, 50.651000000000003, 78.552999999999997, 72.960999999999999, 72.888999999999996, 65.152000000000001, 46.462000000000003, 55.322000000000003, 78.781999999999996, 48.328000000000003, 75.748000000000005, 78.272999999999996, 76.486000000000004, 78.331999999999994, 54.790999999999997, 72.234999999999999, 74.994, 71.338000000000022, 71.878, 51.578999999999994, 58.039999999999999, 52.947000000000003, 79.313000000000002, 80.656999999999996, 56.734999999999999, 59.448, 79.406000000000006, 60.021999999999998, 79.483000000000004, 70.259, 56.006999999999998, 46.388000000000012, 60.915999999999997, 70.198000000000008, 82.207999999999998, 73.338000000000022, 81.757000000000005, 64.698000000000008, 70.650000000000006, 70.963999999999999, 59.545000000000002, 78.885000000000005, 80.745000000000005, 80.546000000000006, 72.566999999999993, 82.602999999999994, 72.534999999999997, 54.109999999999999, 67.296999999999997, 78.623000000000005, 77.588000000000022, 71.992999999999995, 42.591999999999999, 45.677999999999997, 73.951999999999998, 59.443000000000012, 48.302999999999997, 74.241, 54.466999999999999, 64.164000000000001, 72.801000000000002, 76.194999999999993, 66.802999999999997, 74.543000000000006, 71.164000000000001, 42.082000000000001, 62.069000000000003, 52.906000000000013, 63.784999999999997, 79.762, 80.203999999999994, 72.899000000000001, 56.866999999999997, 46.859000000000002, 80.195999999999998, 75.640000000000001, 65.483000000000004, 75.536999999999978, 71.751999999999995, 71.421000000000006, 71.688000000000002, 75.563000000000002, 78.097999999999999, 78.746000000000024, 76.441999999999993, 72.475999999999999, 46.241999999999997, 65.528000000000006, 72.777000000000001, 63.061999999999998, 74.001999999999995, 42.568000000000012, 79.971999999999994, 74.662999999999997, 77.926000000000002, 48.158999999999999, 49.338999999999999, 80.941000000000003, 72.396000000000001, 58.555999999999997, 39.613, 80.884, 81.701000000000022, 74.143000000000001, 78.400000000000006, 52.517000000000003, 70.616, 58.420000000000002, 69.819000000000003, 73.923000000000002, 71.777000000000001, 51.542000000000002, 79.424999999999997, 78.242000000000004, 76.384, 73.747, 74.248999999999995, 73.421999999999997, 62.698, 42.383999999999993, 43.487000000000002]\n",
    "pop = [31.889923, 3.6005229999999999, 33.333216, 12.420476000000001, 40.301926999999999, 20.434176000000001, 8.199783, 0.70857300000000001, 150.448339, 10.392226000000001, 8.0783140000000007, 9.1191519999999997, 4.5521979999999997, 1.6391309999999999, 190.01064700000001, 7.3228580000000001, 14.326203, 8.3905049999999992, 14.131857999999999, 17.696293000000001, 33.390141, 4.3690379999999998, 10.238807, 16.284741, 1318.683096, 44.227550000000001, 0.71096000000000004, 64.606758999999997, 3.8006099999999998, 4.1338840000000001, 18.013408999999999, 4.4933120000000004, 11.416987000000001, 10.228744000000001, 5.4681199999999999, 0.49637399999999998, 9.3196220000000007, 13.75568, 80.264543000000003, 6.9396880000000003, 0.55120100000000005, 4.9065849999999998, 76.511887000000002, 5.2384599999999999, 61.083916000000002, 1.4548669999999999, 1.6883589999999999, 82.400996000000006, 22.873338, 10.706289999999999, 12.572927999999999, 9.9478139999999993, 1.4720409999999999, 8.5028140000000008, 7.4837629999999997, 6.9804120000000003, 9.9561080000000004, 0.301931, 1110.3963309999999, 223.547, 69.453569999999999, 27.499638000000001, 4.1090859999999996, 6.426679, 58.147733000000002, 2.780132, 127.467972, 6.0531930000000003, 35.610177, 23.301725000000001, 49.044789999999999, 2.5055589999999999, 3.921278, 2.0126490000000001, 3.1939419999999998, 6.0369140000000003, 19.167653999999999, 13.327078999999999, 24.821286000000001, 12.031795000000001, 3.2700650000000002, 1.250882, 108.700891, 2.8741270000000001, 0.68473600000000001, 33.757174999999997, 19.951656, 47.761980000000001, 2.0550799999999998, 28.901789999999998, 16.570613000000002, 4.1157709999999996, 5.6753559999999998, 12.894864999999999, 135.03116399999999, 4.6279260000000004, 3.2048969999999999, 169.27061699999999, 3.2421730000000002, 6.6671469999999999, 28.674757, 91.077286999999998, 38.518241000000003, 10.642836000000001, 3.942491, 0.79809399999999997, 22.276056000000001, 8.8605879999999999, 0.19957900000000001, 27.601037999999999, 12.267493, 10.150264999999999, 6.1445619999999996, 4.5530090000000003, 5.4475020000000001, 2.0092449999999999, 9.1187729999999991, 43.997827999999998, 40.448191000000001, 20.378239000000001, 42.292929000000001, 1.1330659999999999, 9.0310880000000004, 7.5546610000000003, 19.314747000000001, 23.174294, 38.13964, 65.068149000000005, 5.7015789999999997, 1.056608, 10.276158000000001, 71.158647000000002, 29.170397999999999, 60.776237999999999, 301.13994700000001, 3.4474960000000001, 26.084662000000002, 85.262355999999997, 4.018332, 22.211742999999998, 11.746034999999999, 12.311143]\n",
    "\n",
    "# import numpy as np\n",
    "\n",
    "\n",
    "# lưu pop vào mảng numpy: np_pop\n",
    "np_pop = np.array(pop)\n",
    "\n",
    "# tăng mỗi phần tử của np_pop lên gấp đôi\n",
    "np_pop = np_pop * 2\n",
    "\n",
    "# thay tham số s bằng np_pop\n",
    "plt.scatter(gdp_cap, life_exp, s = pop)\n",
    "\n",
    "# các tùy biến ở bài trước\n",
    "plt.xscale('log') \n",
    "plt.xlabel('GDP bình quân đầu người [USD]')\n",
    "plt.ylabel('Tuổi thọ trung bình [số năm]')\n",
    "plt.title('Chỉ số phát triển Thế giới năm 2007')\n",
    "plt.xticks([1000, 10000, 100000],['1k', '10k', '100k'])\n",
    "\n",
    "# hiển thị đồ thị sau khi tùy biến\n",
    "plt.show()"
   ]
  },
  {
   "cell_type": "markdown",
   "metadata": {},
   "source": [
    "## 14.4. Tùy chỉnh màu sắc"
   ]
  },
  {
   "cell_type": "markdown",
   "metadata": {},
   "source": [
    "Trong bài này, ta tiếp tục trang trí cho đồ thị của chúng ta bằng cách tô màu cho các điểm trên đồ thị. Một dánh sách màu cho từng nước đã được lưu trong danh sách `col`. Công việc của bạn là:\n",
    "\n",
    "- Truyền tham số `c` có giá trị bằng `col` vào hàm `plt.scatter()` để thiết lập màu cho từng điểm tương ứng với từng quốc gia\n",
    "- Truyền tham số `alpha` có giá trị là `0.8` vào hàm `plt.scatter()` để thiết lập độ trong suốt của các điểm (`alpha` tối đa bằng `1`)"
   ]
  },
  {
   "cell_type": "code",
   "execution_count": 152,
   "metadata": {},
   "outputs": [
    {
     "data": {
      "image/png": "[encoded data removed]",
      "text/plain": [
       "<Figure size 640x480 with 1 Axes>"
      ]
     },
     "metadata": {},
     "output_type": "display_data"
    }
   ],
   "source": [
    "# import\n",
    "import matplotlib.pyplot as plt\n",
    "\n",
    "# dữ liệu\n",
    "gdp_cap = [974.58033839999996, 5937.0295259999984, 6223.3674650000003, 4797.2312670000001, 12779.379639999999, 34435.367439999995, 36126.492700000003, 29796.048340000001, 1391.253792, 33692.605080000001, 1441.2848730000001, 3822.137084, 7446.2988029999997, 12569.851769999999, 9065.8008250000003, 10680.792820000001, 1217.0329939999999, 430.07069159999998, 1713.7786860000001, 2042.0952400000001, 36319.235009999997, 706.01653699999997, 1704.0637240000001, 13171.638849999999, 4959.1148540000004, 7006.5804189999999, 986.14787920000003, 277.55185870000003, 3632.5577979999998, 9645.06142, 1544.7501119999999, 14619.222719999998, 8948.1029230000004, 22833.308509999999, 35278.418740000001, 2082.4815670000007, 6025.3747520000015, 6873.2623260000009, 5581.1809979999998, 5728.3535140000004, 12154.089749999999, 641.36952360000021, 690.80557590000001, 33207.0844, 30470.0167, 13206.48452, 752.74972649999995, 32170.37442, 1327.6089099999999, 27538.41188, 5186.0500030000003, 942.6542111, 579.23174299999982, 1201.637154, 3548.3308460000007, 39724.978669999997, 18008.944439999999, 36180.789190000003, 2452.210407, 3540.6515639999998, 11605.71449, 4471.0619059999999, 40675.996350000001, 25523.277099999999, 28569.719700000001, 7320.8802620000015, 31656.068060000001, 4519.4611709999999, 1463.249282, 1593.06548, 23348.139730000006, 47306.989780000004, 10461.05868, 1569.3314419999999, 414.5073415, 12057.49928, 1044.7701259999999, 759.34991009999999, 12451.6558, 1042.581557, 1803.151496, 10956.991120000001, 11977.57496, 3095.7722710000007, 9253.896111, 3820.1752299999998, 823.68562050000003, 944.0, 4811.0604290000001, 1091.359778, 36797.933319999996, 25185.009109999999, 2749.3209649999999, 619.67689239999982, 2013.9773049999999, 49357.190170000002, 22316.192869999999, 2605.94758, 9809.1856360000002, 4172.8384640000004, 7408.9055609999996, 3190.4810160000002, 15389.924680000002, 20509.64777, 19328.709009999999, 7670.122558, 10808.47561, 863.08846390000019, 1598.4350890000001, 21654.83194, 1712.4721360000001, 9786.5347139999994, 862.54075610000018, 47143.179640000002, 18678.314350000001, 25768.257590000001, 926.14106830000003, 9269.6578079999999, 28821.063699999999, 3970.0954069999998, 2602.3949950000001, 4513.4806429999999, 33859.748350000002, 37506.419070000004, 4184.5480889999999, 28718.276839999999, 1107.482182, 7458.3963269999977, 882.9699437999999, 18008.509239999999, 7092.9230250000001, 8458.2763840000007, 1056.3801209999999, 33203.261279999999, 42951.65309, 10611.46299, 11415.805689999999, 2441.5764039999999, 3025.3497980000002, 2280.769906, 1271.211593, 469.70929810000007]\n",
    "life_exp = [43.828000000000003, 76.423000000000002, 72.301000000000002, 42.731000000000002, 75.319999999999993, 81.234999999999999, 79.828999999999994, 75.635000000000005, 64.061999999999998, 79.441000000000003, 56.728000000000002, 65.554000000000002, 74.852000000000004, 50.728000000000002, 72.390000000000001, 73.004999999999995, 52.295000000000002, 49.579999999999998, 59.722999999999999, 50.43, 80.653000000000006, 44.741000000000007, 50.651000000000003, 78.552999999999997, 72.960999999999999, 72.888999999999996, 65.152000000000001, 46.462000000000003, 55.322000000000003, 78.781999999999996, 48.328000000000003, 75.748000000000005, 78.272999999999996, 76.486000000000004, 78.331999999999994, 54.790999999999997, 72.234999999999999, 74.994, 71.338000000000022, 71.878, 51.578999999999994, 58.039999999999999, 52.947000000000003, 79.313000000000002, 80.656999999999996, 56.734999999999999, 59.448, 79.406000000000006, 60.021999999999998, 79.483000000000004, 70.259, 56.006999999999998, 46.388000000000012, 60.915999999999997, 70.198000000000008, 82.207999999999998, 73.338000000000022, 81.757000000000005, 64.698000000000008, 70.650000000000006, 70.963999999999999, 59.545000000000002, 78.885000000000005, 80.745000000000005, 80.546000000000006, 72.566999999999993, 82.602999999999994, 72.534999999999997, 54.109999999999999, 67.296999999999997, 78.623000000000005, 77.588000000000022, 71.992999999999995, 42.591999999999999, 45.677999999999997, 73.951999999999998, 59.443000000000012, 48.302999999999997, 74.241, 54.466999999999999, 64.164000000000001, 72.801000000000002, 76.194999999999993, 66.802999999999997, 74.543000000000006, 71.164000000000001, 42.082000000000001, 62.069000000000003, 52.906000000000013, 63.784999999999997, 79.762, 80.203999999999994, 72.899000000000001, 56.866999999999997, 46.859000000000002, 80.195999999999998, 75.640000000000001, 65.483000000000004, 75.536999999999978, 71.751999999999995, 71.421000000000006, 71.688000000000002, 75.563000000000002, 78.097999999999999, 78.746000000000024, 76.441999999999993, 72.475999999999999, 46.241999999999997, 65.528000000000006, 72.777000000000001, 63.061999999999998, 74.001999999999995, 42.568000000000012, 79.971999999999994, 74.662999999999997, 77.926000000000002, 48.158999999999999, 49.338999999999999, 80.941000000000003, 72.396000000000001, 58.555999999999997, 39.613, 80.884, 81.701000000000022, 74.143000000000001, 78.400000000000006, 52.517000000000003, 70.616, 58.420000000000002, 69.819000000000003, 73.923000000000002, 71.777000000000001, 51.542000000000002, 79.424999999999997, 78.242000000000004, 76.384, 73.747, 74.248999999999995, 73.421999999999997, 62.698, 42.383999999999993, 43.487000000000002]\n",
    "pop = [31.889923, 3.6005229999999999, 33.333216, 12.420476000000001, 40.301926999999999, 20.434176000000001, 8.199783, 0.70857300000000001, 150.448339, 10.392226000000001, 8.0783140000000007, 9.1191519999999997, 4.5521979999999997, 1.6391309999999999, 190.01064700000001, 7.3228580000000001, 14.326203, 8.3905049999999992, 14.131857999999999, 17.696293000000001, 33.390141, 4.3690379999999998, 10.238807, 16.284741, 1318.683096, 44.227550000000001, 0.71096000000000004, 64.606758999999997, 3.8006099999999998, 4.1338840000000001, 18.013408999999999, 4.4933120000000004, 11.416987000000001, 10.228744000000001, 5.4681199999999999, 0.49637399999999998, 9.3196220000000007, 13.75568, 80.264543000000003, 6.9396880000000003, 0.55120100000000005, 4.9065849999999998, 76.511887000000002, 5.2384599999999999, 61.083916000000002, 1.4548669999999999, 1.6883589999999999, 82.400996000000006, 22.873338, 10.706289999999999, 12.572927999999999, 9.9478139999999993, 1.4720409999999999, 8.5028140000000008, 7.4837629999999997, 6.9804120000000003, 9.9561080000000004, 0.301931, 1110.3963309999999, 223.547, 69.453569999999999, 27.499638000000001, 4.1090859999999996, 6.426679, 58.147733000000002, 2.780132, 127.467972, 6.0531930000000003, 35.610177, 23.301725000000001, 49.044789999999999, 2.5055589999999999, 3.921278, 2.0126490000000001, 3.1939419999999998, 6.0369140000000003, 19.167653999999999, 13.327078999999999, 24.821286000000001, 12.031795000000001, 3.2700650000000002, 1.250882, 108.700891, 2.8741270000000001, 0.68473600000000001, 33.757174999999997, 19.951656, 47.761980000000001, 2.0550799999999998, 28.901789999999998, 16.570613000000002, 4.1157709999999996, 5.6753559999999998, 12.894864999999999, 135.03116399999999, 4.6279260000000004, 3.2048969999999999, 169.27061699999999, 3.2421730000000002, 6.6671469999999999, 28.674757, 91.077286999999998, 38.518241000000003, 10.642836000000001, 3.942491, 0.79809399999999997, 22.276056000000001, 8.8605879999999999, 0.19957900000000001, 27.601037999999999, 12.267493, 10.150264999999999, 6.1445619999999996, 4.5530090000000003, 5.4475020000000001, 2.0092449999999999, 9.1187729999999991, 43.997827999999998, 40.448191000000001, 20.378239000000001, 42.292929000000001, 1.1330659999999999, 9.0310880000000004, 7.5546610000000003, 19.314747000000001, 23.174294, 38.13964, 65.068149000000005, 5.7015789999999997, 1.056608, 10.276158000000001, 71.158647000000002, 29.170397999999999, 60.776237999999999, 301.13994700000001, 3.4474960000000001, 26.084662000000002, 85.262355999999997, 4.018332, 22.211742999999998, 11.746034999999999, 12.311143]\n",
    "col = ['red', 'green', 'blue', 'blue', 'yellow', 'black', 'green', 'red', 'red', 'green', 'blue', 'yellow', 'green', 'blue', 'yellow', 'green', 'blue', 'blue', 'red', 'blue', 'yellow', 'blue', 'blue', 'yellow', 'red', 'yellow', 'blue', 'blue', 'blue', 'yellow', 'blue', 'green', 'yellow', 'green', 'green', 'blue', 'yellow', 'yellow', 'blue', 'yellow', 'blue', 'blue', 'blue', 'green', 'green', 'blue', 'blue', 'green', 'blue', 'green', 'yellow', 'blue', 'blue', 'yellow', 'yellow', 'red', 'green', 'green', 'red', 'red', 'red', 'red', 'green', 'red', 'green', 'yellow', 'red', 'red', 'blue', 'red', 'red', 'red', 'red', 'blue', 'blue', 'blue', 'blue', 'blue', 'red', 'blue', 'blue', 'blue', 'yellow', 'red', 'green', 'blue', 'blue', 'red', 'blue', 'red', 'green', 'black', 'yellow', 'blue', 'blue', 'green', 'red', 'red', 'yellow', 'yellow', 'yellow', 'red', 'green', 'green', 'yellow', 'blue', 'green', 'blue', 'blue', 'red', 'blue', 'green', 'blue', 'red', 'green', 'green', 'blue', 'blue', 'green', 'red', 'blue', 'blue', 'green', 'green', 'red', 'red', 'blue', 'red', 'blue', 'yellow', 'blue', 'green', 'blue', 'green', 'yellow', 'yellow', 'yellow', 'red', 'red', 'red', 'blue', 'blue']\n",
    "\n",
    "# truyền thêm tham số c và tham số alpha vào plt.scatter()\n",
    "plt.scatter(x = gdp_cap, y = life_exp, s = np.array(pop) * 2,c= col, alpha = 0.8)\n",
    "\n",
    "# các tùy biến đã thực hiện ở các bài trước\n",
    "plt.xscale('log') \n",
    "plt.xlabel('GDP bình quân đầu người [USD]')\n",
    "plt.ylabel('Tuổi thọ trung bình [số năm]')\n",
    "plt.title('Chỉ số phát triển Thế giới năm 2007')\n",
    "plt.xticks([1000,10000,100000], ['1k','10k','100k'])\n",
    "\n",
    "# hiển thị đồ thị sau tùy biến\n",
    "plt.show()"
   ]
  },
  {
   "cell_type": "markdown",
   "metadata": {},
   "source": [
    "## 14.5. Các tùy biến khác"
   ]
  },
  {
   "cell_type": "markdown",
   "metadata": {},
   "source": [
    "Trong bài này, ta sẽ thực hiện thêm một số tùy biến để trang trí thêm và hoàn thiện đồ thị:\n",
    "\n",
    "- Thêm chữ \"Trung Quốc\" và \"Ấn Độ\" vào đồ thị sử dụng hàm `plt.text()` (xem đoạn code ở dưới)\n",
    "- Thêm lưới ô vuông để người xem dễ theo dõi các số liệu trên đồ thị: hãy dùng thêm hàm `plt.grid(True)` sau khi gọi hàm `plt.text()`"
   ]
  },
  {
   "cell_type": "code",
   "execution_count": 153,
   "metadata": {},
   "outputs": [
    {
     "data": {
      "image/png": "[encoded data removed]",
      "text/plain": [
       "<Figure size 640x480 with 1 Axes>"
      ]
     },
     "metadata": {},
     "output_type": "display_data"
    }
   ],
   "source": [
    "# import\n",
    "import matplotlib.pyplot as plt\n",
    "\n",
    "# dữ liệu\n",
    "gdp_cap = [974.58033839999996, 5937.0295259999984, 6223.3674650000003, 4797.2312670000001, 12779.379639999999, 34435.367439999995, 36126.492700000003, 29796.048340000001, 1391.253792, 33692.605080000001, 1441.2848730000001, 3822.137084, 7446.2988029999997, 12569.851769999999, 9065.8008250000003, 10680.792820000001, 1217.0329939999999, 430.07069159999998, 1713.7786860000001, 2042.0952400000001, 36319.235009999997, 706.01653699999997, 1704.0637240000001, 13171.638849999999, 4959.1148540000004, 7006.5804189999999, 986.14787920000003, 277.55185870000003, 3632.5577979999998, 9645.06142, 1544.7501119999999, 14619.222719999998, 8948.1029230000004, 22833.308509999999, 35278.418740000001, 2082.4815670000007, 6025.3747520000015, 6873.2623260000009, 5581.1809979999998, 5728.3535140000004, 12154.089749999999, 641.36952360000021, 690.80557590000001, 33207.0844, 30470.0167, 13206.48452, 752.74972649999995, 32170.37442, 1327.6089099999999, 27538.41188, 5186.0500030000003, 942.6542111, 579.23174299999982, 1201.637154, 3548.3308460000007, 39724.978669999997, 18008.944439999999, 36180.789190000003, 2452.210407, 3540.6515639999998, 11605.71449, 4471.0619059999999, 40675.996350000001, 25523.277099999999, 28569.719700000001, 7320.8802620000015, 31656.068060000001, 4519.4611709999999, 1463.249282, 1593.06548, 23348.139730000006, 47306.989780000004, 10461.05868, 1569.3314419999999, 414.5073415, 12057.49928, 1044.7701259999999, 759.34991009999999, 12451.6558, 1042.581557, 1803.151496, 10956.991120000001, 11977.57496, 3095.7722710000007, 9253.896111, 3820.1752299999998, 823.68562050000003, 944.0, 4811.0604290000001, 1091.359778, 36797.933319999996, 25185.009109999999, 2749.3209649999999, 619.67689239999982, 2013.9773049999999, 49357.190170000002, 22316.192869999999, 2605.94758, 9809.1856360000002, 4172.8384640000004, 7408.9055609999996, 3190.4810160000002, 15389.924680000002, 20509.64777, 19328.709009999999, 7670.122558, 10808.47561, 863.08846390000019, 1598.4350890000001, 21654.83194, 1712.4721360000001, 9786.5347139999994, 862.54075610000018, 47143.179640000002, 18678.314350000001, 25768.257590000001, 926.14106830000003, 9269.6578079999999, 28821.063699999999, 3970.0954069999998, 2602.3949950000001, 4513.4806429999999, 33859.748350000002, 37506.419070000004, 4184.5480889999999, 28718.276839999999, 1107.482182, 7458.3963269999977, 882.9699437999999, 18008.509239999999, 7092.9230250000001, 8458.2763840000007, 1056.3801209999999, 33203.261279999999, 42951.65309, 10611.46299, 11415.805689999999, 2441.5764039999999, 3025.3497980000002, 2280.769906, 1271.211593, 469.70929810000007]\n",
    "life_exp = [43.828000000000003, 76.423000000000002, 72.301000000000002, 42.731000000000002, 75.319999999999993, 81.234999999999999, 79.828999999999994, 75.635000000000005, 64.061999999999998, 79.441000000000003, 56.728000000000002, 65.554000000000002, 74.852000000000004, 50.728000000000002, 72.390000000000001, 73.004999999999995, 52.295000000000002, 49.579999999999998, 59.722999999999999, 50.43, 80.653000000000006, 44.741000000000007, 50.651000000000003, 78.552999999999997, 72.960999999999999, 72.888999999999996, 65.152000000000001, 46.462000000000003, 55.322000000000003, 78.781999999999996, 48.328000000000003, 75.748000000000005, 78.272999999999996, 76.486000000000004, 78.331999999999994, 54.790999999999997, 72.234999999999999, 74.994, 71.338000000000022, 71.878, 51.578999999999994, 58.039999999999999, 52.947000000000003, 79.313000000000002, 80.656999999999996, 56.734999999999999, 59.448, 79.406000000000006, 60.021999999999998, 79.483000000000004, 70.259, 56.006999999999998, 46.388000000000012, 60.915999999999997, 70.198000000000008, 82.207999999999998, 73.338000000000022, 81.757000000000005, 64.698000000000008, 70.650000000000006, 70.963999999999999, 59.545000000000002, 78.885000000000005, 80.745000000000005, 80.546000000000006, 72.566999999999993, 82.602999999999994, 72.534999999999997, 54.109999999999999, 67.296999999999997, 78.623000000000005, 77.588000000000022, 71.992999999999995, 42.591999999999999, 45.677999999999997, 73.951999999999998, 59.443000000000012, 48.302999999999997, 74.241, 54.466999999999999, 64.164000000000001, 72.801000000000002, 76.194999999999993, 66.802999999999997, 74.543000000000006, 71.164000000000001, 42.082000000000001, 62.069000000000003, 52.906000000000013, 63.784999999999997, 79.762, 80.203999999999994, 72.899000000000001, 56.866999999999997, 46.859000000000002, 80.195999999999998, 75.640000000000001, 65.483000000000004, 75.536999999999978, 71.751999999999995, 71.421000000000006, 71.688000000000002, 75.563000000000002, 78.097999999999999, 78.746000000000024, 76.441999999999993, 72.475999999999999, 46.241999999999997, 65.528000000000006, 72.777000000000001, 63.061999999999998, 74.001999999999995, 42.568000000000012, 79.971999999999994, 74.662999999999997, 77.926000000000002, 48.158999999999999, 49.338999999999999, 80.941000000000003, 72.396000000000001, 58.555999999999997, 39.613, 80.884, 81.701000000000022, 74.143000000000001, 78.400000000000006, 52.517000000000003, 70.616, 58.420000000000002, 69.819000000000003, 73.923000000000002, 71.777000000000001, 51.542000000000002, 79.424999999999997, 78.242000000000004, 76.384, 73.747, 74.248999999999995, 73.421999999999997, 62.698, 42.383999999999993, 43.487000000000002]\n",
    "pop = [31.889923, 3.6005229999999999, 33.333216, 12.420476000000001, 40.301926999999999, 20.434176000000001, 8.199783, 0.70857300000000001, 150.448339, 10.392226000000001, 8.0783140000000007, 9.1191519999999997, 4.5521979999999997, 1.6391309999999999, 190.01064700000001, 7.3228580000000001, 14.326203, 8.3905049999999992, 14.131857999999999, 17.696293000000001, 33.390141, 4.3690379999999998, 10.238807, 16.284741, 1318.683096, 44.227550000000001, 0.71096000000000004, 64.606758999999997, 3.8006099999999998, 4.1338840000000001, 18.013408999999999, 4.4933120000000004, 11.416987000000001, 10.228744000000001, 5.4681199999999999, 0.49637399999999998, 9.3196220000000007, 13.75568, 80.264543000000003, 6.9396880000000003, 0.55120100000000005, 4.9065849999999998, 76.511887000000002, 5.2384599999999999, 61.083916000000002, 1.4548669999999999, 1.6883589999999999, 82.400996000000006, 22.873338, 10.706289999999999, 12.572927999999999, 9.9478139999999993, 1.4720409999999999, 8.5028140000000008, 7.4837629999999997, 6.9804120000000003, 9.9561080000000004, 0.301931, 1110.3963309999999, 223.547, 69.453569999999999, 27.499638000000001, 4.1090859999999996, 6.426679, 58.147733000000002, 2.780132, 127.467972, 6.0531930000000003, 35.610177, 23.301725000000001, 49.044789999999999, 2.5055589999999999, 3.921278, 2.0126490000000001, 3.1939419999999998, 6.0369140000000003, 19.167653999999999, 13.327078999999999, 24.821286000000001, 12.031795000000001, 3.2700650000000002, 1.250882, 108.700891, 2.8741270000000001, 0.68473600000000001, 33.757174999999997, 19.951656, 47.761980000000001, 2.0550799999999998, 28.901789999999998, 16.570613000000002, 4.1157709999999996, 5.6753559999999998, 12.894864999999999, 135.03116399999999, 4.6279260000000004, 3.2048969999999999, 169.27061699999999, 3.2421730000000002, 6.6671469999999999, 28.674757, 91.077286999999998, 38.518241000000003, 10.642836000000001, 3.942491, 0.79809399999999997, 22.276056000000001, 8.8605879999999999, 0.19957900000000001, 27.601037999999999, 12.267493, 10.150264999999999, 6.1445619999999996, 4.5530090000000003, 5.4475020000000001, 2.0092449999999999, 9.1187729999999991, 43.997827999999998, 40.448191000000001, 20.378239000000001, 42.292929000000001, 1.1330659999999999, 9.0310880000000004, 7.5546610000000003, 19.314747000000001, 23.174294, 38.13964, 65.068149000000005, 5.7015789999999997, 1.056608, 10.276158000000001, 71.158647000000002, 29.170397999999999, 60.776237999999999, 301.13994700000001, 3.4474960000000001, 26.084662000000002, 85.262355999999997, 4.018332, 22.211742999999998, 11.746034999999999, 12.311143]\n",
    "col = ['red', 'green', 'blue', 'blue', 'yellow', 'black', 'green', 'red', 'red', 'green', 'blue', 'yellow', 'green', 'blue', 'yellow', 'green', 'blue', 'blue', 'red', 'blue', 'yellow', 'blue', 'blue', 'yellow', 'red', 'yellow', 'blue', 'blue', 'blue', 'yellow', 'blue', 'green', 'yellow', 'green', 'green', 'blue', 'yellow', 'yellow', 'blue', 'yellow', 'blue', 'blue', 'blue', 'green', 'green', 'blue', 'blue', 'green', 'blue', 'green', 'yellow', 'blue', 'blue', 'yellow', 'yellow', 'red', 'green', 'green', 'red', 'red', 'red', 'red', 'green', 'red', 'green', 'yellow', 'red', 'red', 'blue', 'red', 'red', 'red', 'red', 'blue', 'blue', 'blue', 'blue', 'blue', 'red', 'blue', 'blue', 'blue', 'yellow', 'red', 'green', 'blue', 'blue', 'red', 'blue', 'red', 'green', 'black', 'yellow', 'blue', 'blue', 'green', 'red', 'red', 'yellow', 'yellow', 'yellow', 'red', 'green', 'green', 'yellow', 'blue', 'green', 'blue', 'blue', 'red', 'blue', 'green', 'blue', 'red', 'green', 'green', 'blue', 'blue', 'green', 'red', 'blue', 'blue', 'green', 'green', 'red', 'red', 'blue', 'red', 'blue', 'yellow', 'blue', 'green', 'blue', 'green', 'yellow', 'yellow', 'yellow', 'red', 'red', 'red', 'blue', 'blue']\n",
    "\n",
    "# xây dựng đồ thị phân tán\n",
    "plt.scatter(x = gdp_cap, y = life_exp, s = np.array(pop) * 2, c = col, alpha = 0.8)\n",
    "\n",
    "# các tùy biến từ bài tập trước\n",
    "plt.xscale('log') \n",
    "plt.xlabel('GDP bình quân đầu người [USD]')\n",
    "plt.ylabel('Tuổi thọ trung bình [số năm]')\n",
    "plt.title('Chỉ số phát triển Thế giới năm 2007')\n",
    "plt.xticks([1000,10000,100000], ['1k','10k','100k'])\n",
    "\n",
    "# thêm \"Trung Quốc\" và \"Ấn Độ\" vào đồ thị\n",
    "plt.text(1550, 71, 'Ấn Độ')\n",
    "plt.text(5700, 80, 'Trung Quốc')\n",
    "\n",
    "# gọi hàm grid() để tạo lưới cho đồ thị\n",
    "plt.grid(True)\n",
    "\n",
    "# hiển thị đồ thị\n",
    "plt.show()"
   ]
  },
  {
   "cell_type": "markdown",
   "metadata": {},
   "source": [
    "# Phần 15: Đại số Bool và Luồng điều khiển"
   ]
  },
  {
   "cell_type": "markdown",
   "metadata": {},
   "source": [
    "Trong Python, để so sánh 2 đối tượng có bằng nhau không, ta sử dụng toán tử `==`. Ví dụ:"
   ]
  },
  {
   "cell_type": "code",
   "execution_count": 103,
   "metadata": {},
   "outputs": [
    {
     "name": "stdout",
     "output_type": "stream",
     "text": [
      "True\n"
     ]
    }
   ],
   "source": [
    "print(2 == 2)"
   ]
  },
  {
   "cell_type": "code",
   "execution_count": 104,
   "metadata": {},
   "outputs": [
    {
     "name": "stdout",
     "output_type": "stream",
     "text": [
      "False\n"
     ]
    }
   ],
   "source": [
    "print(2 == 1)"
   ]
  },
  {
   "cell_type": "code",
   "execution_count": 105,
   "metadata": {},
   "outputs": [
    {
     "name": "stdout",
     "output_type": "stream",
     "text": [
      "True\n"
     ]
    }
   ],
   "source": [
    "m = 15*5\n",
    "print(m == 75)"
   ]
  },
  {
   "cell_type": "code",
   "execution_count": 106,
   "metadata": {},
   "outputs": [
    {
     "name": "stdout",
     "output_type": "stream",
     "text": [
      "False\n"
     ]
    }
   ],
   "source": [
    "s = \"data science\"\n",
    "print(\"Data Science\" == s)"
   ]
  },
  {
   "cell_type": "markdown",
   "metadata": {},
   "source": [
    "Ngoài ra, ta còn sử dụng các toán tử so sánh khác như:\n",
    "- `!=` (khác)\n",
    "- `>` (lớn hơn)\n",
    "- `<` (nhỏ hơn)\n",
    "- `>=` (lớn hơn hoặc bằng)\n",
    "- `<=` (nhỏ hơn hoặc bằng)\n",
    "\n",
    "Trong Python, kết quả của các phép so sánh là các giá trị `True` (đúng) hoặc `False` (sai)."
   ]
  },
  {
   "cell_type": "markdown",
   "metadata": {},
   "source": [
    "## 15.1. Bài tập: So sánh bằng"
   ]
  },
  {
   "cell_type": "markdown",
   "metadata": {},
   "source": [
    "Hãy viết đoạn code Python để:\n",
    "\n",
    "- So sánh 2 giá trị `True` và `False` có bằng nhau không?\n",
    "- So sánh 2 giá trị `-5*15` và `75` có khác nhau không?\n",
    "- So sánh 2 xâu `pyscript` và `PyScript` có bằng nhau không?\n",
    "- So sánh 2 giá trị `True` và `1` có bằng nhau không?\n",
    "\n",
    "*Lưu ý*: Dùng hàm `print()` để in ra kết quả của phép so sánh."
   ]
  },
  {
   "cell_type": "code",
   "execution_count": 154,
   "metadata": {},
   "outputs": [
    {
     "name": "stdout",
     "output_type": "stream",
     "text": [
      "False\n",
      "False\n",
      "False\n",
      "True\n"
     ]
    }
   ],
   "source": [
    "# So sánh 2 giá trị bool\n",
    "print(True == False)\n",
    "\n",
    "# So sánh 2 số nguyên\n",
    "print(-5*15 == 75)\n",
    "\n",
    "# So sánh 2 xâu\n",
    "print(\"pyscript\" == \"PyScript\")\n",
    "\n",
    "\n",
    "# So sánh giá trị bool và giá trị nguyên\n",
    "print(True == 1)\n"
   ]
  },
  {
   "cell_type": "markdown",
   "metadata": {},
   "source": [
    "## 15.2. Bài tập: So sánh lớn hơn, nhỏ hơn"
   ]
  },
  {
   "cell_type": "markdown",
   "metadata": {},
   "source": [
    "Phép so sánh lớn hơn, nhỏ hơn cũng có thể được dùng với các xâu ký tự. Khi so sánh 2 xâu, Python sẽ dựa vào thứ tự trong bảng chữ cái để đưa ra kết quả. Ví dụ:"
   ]
  },
  {
   "cell_type": "code",
   "execution_count": 108,
   "metadata": {},
   "outputs": [
    {
     "name": "stdout",
     "output_type": "stream",
     "text": [
      "True\n",
      "True\n",
      "True\n"
     ]
    }
   ],
   "source": [
    "print(3 < 4)\n",
    "print(3 <= 4)\n",
    "print(\"alpha\" <= \"beta\")"
   ]
  },
  {
   "cell_type": "markdown",
   "metadata": {},
   "source": [
    "**Bài tập:** Viết đoạn code Python, kết hợp các phép so sánh và sử dụng hàm `print()` để kiểm tra:\n",
    "\n",
    "- biến `x` có lớn hơn hoặc bằng `-10` hay không? (`x` đã được định nghĩa cho bạn)\n",
    "- `\"test\"` có nhỏ hơn hoặc bằng biến `y` hay không? (`y` đã được định nghĩa cho bạn)\n",
    "- `True` có lớn hơn `False` hay không?"
   ]
  },
  {
   "cell_type": "code",
   "execution_count": 155,
   "metadata": {},
   "outputs": [
    {
     "name": "stdout",
     "output_type": "stream",
     "text": [
      "True\n",
      "True\n",
      "True\n"
     ]
    }
   ],
   "source": [
    "# so sánh hai số nguyên\n",
    "x = -3 * 6\n",
    "print(x <= -10)\n",
    "\n",
    "# so sánh hai xâu ký tự\n",
    "y = \"test\"\n",
    "print(y <= \"test\")\n",
    "\n",
    "# so sánh hai giá trị bool\n",
    "print(True >= False)\n"
   ]
  },
  {
   "cell_type": "markdown",
   "metadata": {},
   "source": [
    "## 15.3. Toán tử Bool: `and`, `or`, `not`"
   ]
  },
  {
   "cell_type": "markdown",
   "metadata": {},
   "source": [
    "Một biến bool có thể nhận 1 trong 2 giá trị `True` hoặc `False`. Các toán tử `and`, `or` và `not` trong Python được sử dụng tương tự như trong đại số Bool thông thường.\n",
    "\n",
    "Hãy sử dụng các toán tử trên để hoàn thành các phép so sánh sau và dùng hàm `print()` để in ra kết quả:"
   ]
  },
  {
   "cell_type": "code",
   "execution_count": 157,
   "metadata": {},
   "outputs": [
    {
     "name": "stdout",
     "output_type": "stream",
     "text": [
      "False\n",
      "True\n",
      "True\n"
     ]
    }
   ],
   "source": [
    "# khởi tạo\n",
    "my_kitchen = 18.0\n",
    "your_kitchen = 14.0\n",
    "\n",
    "# my_kitchen lớn hơn 10 và nhỏ hơn 18?\n",
    "print(my_kitchen > 10 and my_kitchen < 18)\n",
    "\n",
    "# my_kitchen nhỏ hơn 14 hoặc lớn hơn 17?\n",
    "print(my_kitchen < 14 or my_kitchen > 17)\n",
    "\n",
    "# 2 lần my_kitchen nhỏ hơn ba lần your_kitchen?\n",
    "print(2 * my_kitchen < 3 * your_kitchen)\n",
    "\n"
   ]
  },
  {
   "cell_type": "markdown",
   "metadata": {},
   "source": [
    "## 15.4. Câu lệnh rẽ nhánh"
   ]
  },
  {
   "cell_type": "markdown",
   "metadata": {},
   "source": [
    "Câu lệnh rẽ nhánh trong Python có công thức như sau:\n",
    "\n",
    "```\n",
    "if (điều kiện 1):\n",
    "    câu lệnh 1\n",
    "    câu lệnh 2\n",
    "elif (điều kiện 2):\n",
    "    câu lệnh 3\n",
    "    câu lệnh 4\n",
    "else:\n",
    "    câu lệnh 5\n",
    "    câu lệnh 6\n",
    "```\n",
    "\n",
    "Hãy chạy thử ví dụ dưới đây để \"khởi động\" trước khi vào các bài tập phức tạp hơn."
   ]
  },
  {
   "cell_type": "code",
   "execution_count": 111,
   "metadata": {},
   "outputs": [
    {
     "name": "stdout",
     "output_type": "stream",
     "text": [
      "trung bình\n"
     ]
    }
   ],
   "source": [
    "area = 10.0\n",
    "if(area < 9) :\n",
    "    print(\"nhỏ\")\n",
    "elif(area < 12) :\n",
    "    print(\"trung bình\")\n",
    "else :\n",
    "    print(\"lớn\")"
   ]
  },
  {
   "cell_type": "markdown",
   "metadata": {},
   "source": [
    "## 15.5. `if`"
   ]
  },
  {
   "cell_type": "markdown",
   "metadata": {},
   "source": [
    "Trong đoạn code dưới đây, 2 biến `room` và `area` đã được khởi tạo sẵn. Bên dưới đoạn code khởi tạo là ví dụ sử dụng câu lệnh `if` cho biến `room`. Trong đoạn code này, ta thực hiện phép so sánh bằng trên biến `room` với xâu `\"bếp\"`, nếu kết quả của phép so sánh là `True`, một đoạn chữ sẽ được in ra màn hình, ngược lại không có thêm điều gì được thực hiện.\n",
    "\n",
    "Công việc của bạn là viết đoạn code để in ra dòng `\"không gian thật rộng!\"` nếu giá trị của `area` lớn hơn `15.0`."
   ]
  },
  {
   "cell_type": "code",
   "execution_count": 158,
   "metadata": {},
   "outputs": [
    {
     "name": "stdout",
     "output_type": "stream",
     "text": [
      "đang tham quan phòng bếp.\n"
     ]
    }
   ],
   "source": [
    "# khởi tạo\n",
    "room = \"bếp\"\n",
    "area = 14.0\n",
    "\n",
    "# câu lệnh if cho biến room\n",
    "if room == \"bếp\" :\n",
    "    print(\"đang tham quan phòng bếp.\")\n",
    "\n",
    "# câu lệnh if cho biến area\n",
    "if area > 15 : \n",
    "    print(\"phòng lớn.\")\n"
   ]
  },
  {
   "cell_type": "markdown",
   "metadata": {},
   "source": [
    "## 15.6. `else`"
   ]
  },
  {
   "cell_type": "markdown",
   "metadata": {},
   "source": [
    "Tiếp tục với bài tập trước, đoạn code dưới đây đã được thêm lệnh `else` để in ra dòng `\"đang tham quan chỗ khác.\"` nếu phép so sánh `room == \"bếp\"` không trả về kết quả `True` .\n",
    "\n",
    "Hãy viết thêm lệnh `else` cho câu lệnh `if` của biến `area`, để in ra dòng `\"không gian khá hẹp.\"` nếu phép so sánh `area > 15` có kết quả là `False`."
   ]
  },
  {
   "cell_type": "code",
   "execution_count": 113,
   "metadata": {},
   "outputs": [
    {
     "name": "stdout",
     "output_type": "stream",
     "text": [
      "đang tham quan phòng bếp.\n"
     ]
    }
   ],
   "source": [
    "# khởi tạo\n",
    "room = \"bếp\"\n",
    "area = 14.0\n",
    "\n",
    "# if-else cho room\n",
    "if room == \"bếp\" :\n",
    "    print(\"đang tham quan phòng bếp.\")\n",
    "else :\n",
    "    print(\"đang tham quan chỗ khác.\")\n",
    "\n",
    "# if-else cho area\n",
    "if area > 15 :\n",
    "    print(\"không gian thật rộng!\")\n",
    "    \n"
   ]
  },
  {
   "cell_type": "markdown",
   "metadata": {},
   "source": [
    "## 15.7. `elif`"
   ]
  },
  {
   "cell_type": "markdown",
   "metadata": {},
   "source": [
    "Trong bài này, ta tiếp tục chỉnh sửa đoạn code của 2 bài trước bằng việc thêm lệnh `elif`. Trong đoạn code dưới đây, lệnh `elif` được xen vào giữa lệnh `if` và `else` cho biến `room`. Khi điều kiện `room == \"bếp\"` có kết quả `True` thì lệnh `print(\"đang tham quan phòng bếp.\")` được thực thi. Ngược lại nếu nó có kết quả `False`, điều kiện `room == \"ngủ\"` được kiểm tra, nếu điều kiện này `True`, lệnh `print(\"đang tham quan phòng ngủ.\")` ở ngay sau `elif` sẽ được thực thi. Nếu `room == \"ngủ\"` có kết quả `False`, lệnh `print(\"đang tham quan phòng khác.\")` sẽ được thực hiện. Đối với khối lệnh `if-elif-else` này, trong mỗi lần thực thi, chỉ có 1 trong 3 điều kiện là `True`, và chỉ có đoạn lệnh con ở ngay sau nó được thực hiện.\n",
    "\n",
    "Hãy viết thêm `elif` cho biến `area` thực hiện việc in ra dòng `\"kích thược trung bình, rất ổn!\"` nếu `area` lớn hơn `10`."
   ]
  },
  {
   "cell_type": "code",
   "execution_count": 114,
   "metadata": {},
   "outputs": [
    {
     "name": "stdout",
     "output_type": "stream",
     "text": [
      "đang tham quan phòng ngủ.\n",
      "không gian khá hẹp.\n"
     ]
    }
   ],
   "source": [
    "# khởi tạo\n",
    "room = \"ngủ\"\n",
    "area = 14.0\n",
    "\n",
    "# if-elif-else cho room\n",
    "if room == \"bếp\" :\n",
    "    print(\"đang tham quan phòng bếp.\")\n",
    "elif room == \"ngủ\":\n",
    "    print(\"đang tham quan phòng ngủ.\")\n",
    "else :\n",
    "    print(\"đang tham quan phòng khác.\")\n",
    "\n",
    "# if-elif-else cho area\n",
    "if area > 15 :\n",
    "    print(\"không gian thật rộng!\")\n",
    "else :\n",
    "    print(\"không gian khá hẹp.\")"
   ]
  }
 ],
 "metadata": {
  "kernelspec": {
   "display_name": ".venv",
   "language": "python",
   "name": "python3"
  },
  "language_info": {
   "codemirror_mode": {
    "name": "ipython",
    "version": 3
   },
   "file_extension": ".py",
   "mimetype": "text/x-python",
   "name": "python",
   "nbconvert_exporter": "python",
   "pygments_lexer": "ipython3",
   "version": "3.12.9"
  }
 },
 "nbformat": 4,
 "nbformat_minor": 2
}
