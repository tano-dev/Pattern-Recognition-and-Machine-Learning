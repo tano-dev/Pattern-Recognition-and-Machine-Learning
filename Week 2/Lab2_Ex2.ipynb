{
  "cells": [
    {
      "cell_type": "code",
      "execution_count": 20,
      "metadata": {
        "id": "c4DYczUxqpji"
      },
      "outputs": [],
      "source": [
        "# Import các thư viện thông dụng\n",
        "import numpy as np\n",
        "import pandas as pd\n",
        "import matplotlib.pyplot as plt\n",
        "import seaborn as sns\n",
        "# Import các distribution packages từ thư viện scipy\n",
        "from scipy.stats import binom\n",
        "from scipy.stats import poisson\n",
        "from scipy.stats import norm\n",
        "from scipy.stats import t"
      ]
    },
    {
      "cell_type": "markdown",
      "metadata": {
        "id": "AG5V3Bkz_pAI"
      },
      "source": [
        "# Phân phối Nhị thức"
      ]
    },
    {
      "cell_type": "markdown",
      "metadata": {
        "id": "imGCYSE9-LOc"
      },
      "source": [
        "**Bài tập 1:** Tỷ lệ người dân tham gia trên mạng lưới giao dịch có sự hiểu biết về luật giao dịch là 90%. Tại một nút giao diện có 5 người giao diện trong phạm vi luật. Gọi X là một số người am hiểu luật nhưng cố gắng tình luật trong 5 người đó.\n",
        "\n",
        "a) Lập bảng phân phối của X."
      ]
    },
    {
      "cell_type": "code",
      "execution_count": null,
      "metadata": {
        "colab": {
          "base_uri": "https://localhost:8080/"
        },
        "id": "0PGMtrdH_w3O",
        "outputId": "e1cfb5bb-7ddf-46af-933b-4c3245ed8d08"
      },
      "outputs": [
        {
          "name": "stdout",
          "output_type": "stream",
          "text": [
            "P(X = 0) = 9.99999999999999e-06\n",
            "P(X = 1) = 0.0004499999999999999\n",
            "P(X = 2) = 0.008099999999999996\n",
            "P(X = 3) = 0.07289999999999994\n",
            "P(X = 4) = 0.3280499999999999\n",
            "P(X = 5) = 0.5904900000000001\n"
          ]
        }
      ],
      "source": [
        "# Xác suất thành công (am hiểu luật) trong một lần thử\n",
        "p = 0.9\n",
        "\n",
        "# Số lần thử\n",
        "n = 5\n",
        "\n",
        "# Tạo phân phối nhị thức\n",
        "binomial_dist = binom(n, p)\n",
        "\n",
        "# In phân phối xác suất\n",
        "for k in range(n + 1):\n",
        "    prob = binomial_dist.pmf(k)\n",
        "    print(f\"P(X = {k}) = {prob}\")"
      ]
    },
    {
      "cell_type": "markdown",
      "metadata": {
        "id": "6kTo0_rgB3bt"
      },
      "source": [
        "b) Tính E (3- 5X) và V (3X-2).\n",
        "\n",
        "Để tính giá trị kỳ vọng (expectation) và phương sai (variance) của các biến ngẫu nhiên, bạn cần biết phân phối xác suất của biến đó. Trong trường hợp này, X là biến ngẫu nhiên biểu diễn số người am hiểu luật trong 5 người giao diện, và chúng ta đã sử dụng phân phối nhị thức.\n",
        "\n",
        "1. Giá trị kỳ vọng của 3 - 5X:\n",
        "   E(3 - 5X) = 3 - 5 * E(X)\n",
        "\n",
        "   Ta đã tính E(X) trong ví dụ trước:\n",
        "   E(X) = n * p = 5 * 0.9 = 4.5\n",
        "\n",
        "   Vậy:\n",
        "   E(3 - 5X) = 3 - 5 * 4.5 = 3 - 22.5 = -19.5\n",
        "\n",
        "2. Phương sai của 3X - 2:\n",
        "   V(3X - 2) = 3^2 * V(X)\n",
        "\n",
        "   Để tính phương sai V(X), chúng ta sử dụng công thức:\n",
        "   V(X) = n * p * (1 - p)\n",
        "\n",
        "   Trong trường hợp này:\n",
        "   V(X) = 5 * 0.9 * (1 - 0.9) = 5 * 0.9 * 0.1 = 0.45\n",
        "\n",
        "   Vậy:\n",
        "   V(3X - 2) = 3^2 * 0.45 = 9 * 0.45 = 4.05\n",
        "\n",
        "Vậy, giá trị kỳ vọng E(3 - 5X) là -19.5 và phương sai V(3X - 2) là 4.05."
      ]
    },
    {
      "cell_type": "code",
      "execution_count": null,
      "metadata": {
        "colab": {
          "base_uri": "https://localhost:8080/"
        },
        "id": "RWoE_kNsB-e-",
        "outputId": "696c6a03-a038-4a35-ee69-96d9fd6c390b"
      },
      "outputs": [
        {
          "ename": "NameError",
          "evalue": "name 'binomial_dist' is not defined",
          "output_type": "error",
          "traceback": [
            "\u001b[31m---------------------------------------------------------------------------\u001b[39m",
            "\u001b[31mNameError\u001b[39m                                 Traceback (most recent call last)",
            "\u001b[36mCell\u001b[39m\u001b[36m \u001b[39m\u001b[32mIn[1]\u001b[39m\u001b[32m, line 2\u001b[39m\n\u001b[32m      1\u001b[39m \u001b[38;5;66;03m# Giá trị kỳ vọng E(3 - 5X)\u001b[39;00m\n\u001b[32m----> \u001b[39m\u001b[32m2\u001b[39m E_3_minus_5X = \u001b[32m3\u001b[39m - \u001b[32m5\u001b[39m * \u001b[43mbinomial_dist\u001b[49m.mean()\n\u001b[32m      4\u001b[39m \u001b[38;5;66;03m# Phương sai V(3X - 2)\u001b[39;00m\n\u001b[32m      5\u001b[39m V_3X_minus_2 = \u001b[32m3\u001b[39m**\u001b[32m2\u001b[39m * binomial_dist.std()**\u001b[32m2\u001b[39m\n",
            "\u001b[31mNameError\u001b[39m: name 'binomial_dist' is not defined"
          ]
        }
      ],
      "source": [
        "# Giá trị kỳ vọng E(3 - 5X)\n",
        "E_3_minus_5X = 3 - 5 * binomial_dist.mean()\n",
        "\n",
        "# Phương sai V(3X - 2)\n",
        "V_3X_minus_2 = 3**2 * binomial_dist.std()**2\n",
        "\n",
        "print(f'Giá trị kỳ vọng của 3 - 5X: {E_3_minus_5X:.2f}')\n",
        "print(f'Phương sai của 3X - 2: {V_3X_minus_2:.2f}')\n"
      ]
    },
    {
      "cell_type": "markdown",
      "metadata": {
        "id": "L8SahlzzG74X"
      },
      "source": [
        "**Bài tập 2:** Một lô hàng có 8 sản phẩm loai I và 2 sản phẩm loại II. Lấy ngẫu nhiên lần lượt ra 5 sản phẩm theo phương thức hoàn lại. Gọi X là số sản phẩm loại II trong 5 sản phẩm lấy ra.\n",
        "\n",
        "a) X có phân phối gì?\n",
        "\n",
        "b) Tính kỳ vọng và phương sai của X.\n",
        "\n",
        "c) Tính tính khả năng để xảy ra số sản phẩm loại II trung bình trong số sản phẩm lấy ra."
      ]
    },
    {
      "cell_type": "markdown",
      "metadata": {
        "id": "k1k1zl9bNFNv"
      },
      "source": [
        "Bài tập 3: Xác suất để một cây sống sau một thời gian trồng là 0,8. Trồng 1000 cây. Gọi X là số cây sống sau một thời gian trồng.\n",
        "\n",
        "a) Tìm luật phân phối xác suất của X.\n",
        "\n",
        "b) Tính xác suất có 750 cây sống sau một thời gian trồng.\n",
        "\n",
        "c) Tính E(X), var(X) và cho biết số cây sống sau một thời gian trồng có khả năng cao nhất là bao nhiêu ?"
      ]
    },
    {
      "cell_type": "markdown",
      "metadata": {
        "id": "un_VDHgmNWUR"
      },
      "source": [
        "Bài tập 4: Một lô hàng chứa rất nhiều sản phẩm, trong đó tỉ lệ sản phẩm đạt chuẩn là 70%. Chọn ngẫu nhiên từ lô hàng ra 5 sản phẩm. Gọi X là số  sản phẩm  đạt chuẩn  có trong 5  sản  phẩm chọn  ra. Hãy  lập  bảng phân phối xác suất cho X, và tính EX, varX."
      ]
    },
    {
      "cell_type": "markdown",
      "metadata": {
        "id": "NshVskQQNil-"
      },
      "source": [
        "Bài tập 5: Xác suất để 1 bệnh nhân được chữa khỏi khi điều trị một bệnh hiếm gặp về máu là 0,4. Nếu 15 người đồng ý chữa trị thì xác suất:\n",
        "\n",
        "a) Có ít nhất 10 người khỏi\n",
        "\n",
        "b) Có từ 3 đến 8 người khỏi\n",
        "\n",
        "c) Có đúng 5 người khỏi\n",
        "\n",
        "Là bao nhiêu?"
      ]
    },
    {
      "cell_type": "markdown",
      "metadata": {
        "id": "wbgHP2KSPeqL"
      },
      "source": [
        "Bài tập 6: Một chuỗi cửa hàng bán lẻ lớn mua một loại thiết\n",
        "bị điện tử về để bán. Nhà sản xuất cho biết tỷ lệ bị\n",
        "hư hỏng của loại thiết bị này là 3%.\n",
        "\n",
        "a) Bộ phận kiểm tra lấy ngẫu nhiên 20 thiết bị từ lô\n",
        "hàng được giao. Xác suất có ít nhất 1 thiết bị\n",
        "hỏng là bao nhiêu?\n",
        "\n",
        "b) Giả sử cửa hàng nhập 10 lô hàng 1 tháng và với\n",
        "mỗi lô hàng đều được kiểm tra ngẫu nhiên 20\n",
        "thiết bị. Xác suất có đúng 3 lô hàng có chứa ít\n",
        "nhất 1 thiết bị hỏng trong số 20 thiết bị được\n",
        "kiểm tra?"
      ]
    },
    {
      "cell_type": "markdown",
      "metadata": {
        "id": "Pm-JlXBwPotA"
      },
      "source": [
        "Bài tập 7: Có giả thiết cho rằng 30% các giếng nước ở vùng\n",
        "nông thôn có tạp chất. Để có thể tìm hiểu kỹ hơn\n",
        "người ta đi xét nghiệm một số giếng (vì không đủ\n",
        "tiền xét nghiệm hết).\n",
        "\n",
        "a) Giả sử giả thiết trên đúng, tính xác suất có đúng\n",
        "3 giếng có tạp chất.\n",
        "\n",
        "b) Xác suất có nhiều hơn 3 giếng có tạp chất?\n",
        "\n",
        "c) Giả sử trong 10 giếng đã kiểm tra thì có 6 giếng\n",
        "có tạp chất. Có thể kết luận gì về giả thiết trên?"
      ]
    },
    {
      "cell_type": "markdown",
      "metadata": {
        "id": "0CNsFdIXIJfD"
      },
      "source": [
        "# Phân phối Poisson"
      ]
    },
    {
      "cell_type": "markdown",
      "metadata": {
        "id": "DL2K6ZEUq0L1"
      },
      "source": [
        "**Bài tập 1:** Một mạng lưới máy tính khi bị nghẽn thì một gói dữ liệu có xác suất bị mất là 1% và các gói dữ liệu bị mất là độc lập với nhau. Các gói dữ liệu bị mất này cần phải gửi lại. Một thư điện tử có 100 gói dữ liệu.\n",
        "\n",
        "1.   Sử dụng phân phối Nhị thức và phân phối Poisson, tính trung bình và độ lệch chuẩn của các gói dữ liệu cần phải gửi lại ứng với từng phân phối.\n",
        "2.   Tính xác suất để có hai hay nhiều hơn gói dữ liệu cần gửi lại.\n"
      ]
    },
    {
      "cell_type": "markdown",
      "metadata": {
        "id": "oSjA8He_sRIq"
      },
      "source": [
        "### Sử dụng Phân phối Nhị thức\n",
        "\n"
      ]
    },
    {
      "cell_type": "markdown",
      "metadata": {
        "id": "52LAcO9OsXfr"
      },
      "source": [
        "1.  **Sử dụng phân phối Nhị thức và phân phối Poisson, tính trung bình và độ lệch chuẩn của các gói dữ liệu cần phải gửi lại ứng với từng phân phối.**"
      ]
    },
    {
      "cell_type": "code",
      "execution_count": null,
      "metadata": {
        "colab": {
          "base_uri": "https://localhost:8080/"
        },
        "id": "3VqAQbnmqtjY",
        "outputId": "4be1b22b-8ebe-4b99-ec44-acaf5ef1bca6"
      },
      "outputs": [
        {
          "name": "stdout",
          "output_type": "stream",
          "text": [
            "P(X = 0) = 0.36603234127322953\n",
            "P(X = 1) = 0.36972963764972666\n",
            "P(X = 2) = 0.18486481882486344\n",
            "P(X = 3) = 0.060999165807530675\n",
            "P(X = 4) = 0.014941714856895145\n",
            "P(X = 5) = 0.002897787123761478\n",
            "P(X = 6) = 0.0004634508026217856\n",
            "P(X = 7) = 6.286345663268087e-05\n",
            "P(X = 8) = 7.38169377126177e-06\n",
            "P(X = 9) = 7.621950919821373e-07\n",
            "P(X = 10) = 7.006035693977194e-08\n",
            "P(X = 11) = 5.790112143782794e-09\n",
            "P(X = 12) = 4.3377102760662567e-10\n",
            "P(X = 13) = 2.965955744318791e-11\n",
            "P(X = 14) = 1.8617471122347462e-12\n",
            "P(X = 15) = 1.0781835128093526e-13\n",
            "P(X = 16) = 5.785706981615821e-15\n",
            "P(X = 17) = 2.8876968892200315e-16\n",
            "P(X = 18) = 1.3449991122629666e-17\n",
            "P(X = 19) = 5.863366677595054e-19\n",
            "P(X = 20) = 2.3986500044707027e-20\n",
            "P(X = 21) = 9.230014447217797e-22\n",
            "P(X = 22) = 3.3478932108824786e-23\n",
            "P(X = 23) = 1.1468408891033478e-24\n",
            "P(X = 24) = 3.7166139924645574e-26\n",
            "P(X = 25) = 1.1412632865749784e-27\n",
            "P(X = 26) = 3.3253592266170776e-29\n",
            "P(X = 27) = 9.206007585845925e-31\n",
            "P(X = 28) = 2.4243815070950864e-32\n",
            "P(X = 29) = 6.079953622808956e-34\n",
            "P(X = 30) = 1.4534569266647676e-35\n",
            "P(X = 31) = 3.315151022044126e-37\n",
            "P(X = 32) = 7.22049938513402e-39\n",
            "P(X = 33) = 1.502889373091869e-40\n",
            "P(X = 34) = 2.991491027841794e-42\n",
            "P(X = 35) = 5.698078148270106e-44\n",
            "P(X = 36) = 1.0392117834948285e-45\n",
            "P(X = 37) = 1.8157126438347905e-47\n",
            "P(X = 38) = 3.040667106900386e-49\n",
            "P(X = 39) = 4.8827081229687825e-51\n",
            "P(X = 40) = 7.521343320734717e-53\n",
            "P(X = 41) = 1.1118024125254529e-54\n",
            "P(X = 42) = 1.5775936108465987e-56\n",
            "P(X = 43) = 2.1494110742096095e-58\n",
            "P(X = 44) = 2.8125902486213793e-60\n",
            "P(X = 45) = 3.5354669791874e-62\n",
            "P(X = 46) = 4.269887656023416e-64\n",
            "P(X = 47) = 4.955382192677098e-66\n",
            "P(X = 48) = 5.52683619974506e-68\n",
            "P(X = 49) = 5.92445851137375e-70\n",
            "P(X = 50) = 6.103987557173034e-72\n",
            "P(X = 51) = 6.044749016808266e-74\n",
            "P(X = 52) = 5.753548986472488e-76\n",
            "P(X = 53) = 5.263395299231597e-78\n",
            "P(X = 54) = 4.627377086866499e-80\n",
            "P(X = 55) = 3.909262552724713e-82\n",
            "P(X = 56) = 3.1731027213674273e-84\n",
            "P(X = 57) = 2.4741541687075622e-86\n",
            "P(X = 58) = 1.852814859882017e-88\n",
            "P(X = 59) = 1.3322757081842946e-90\n",
            "P(X = 60) = 9.19584243022836e-93\n",
            "P(X = 61) = 6.090970313116956e-95\n",
            "P(X = 62) = 3.870117989761513e-97\n",
            "P(X = 63) = 2.357936245164933e-99\n",
            "P(X = 64) = 1.376951405793914e-101\n",
            "P(X = 65) = 7.703224647798155e-104\n",
            "P(X = 66) = 4.126306438214483e-106\n",
            "P(X = 67) = 2.1150975259956622e-108\n",
            "P(X = 68) = 1.036812512742974e-110\n",
            "P(X = 69) = 4.856975612322513e-113\n",
            "P(X = 70) = 2.172673073333301e-115\n",
            "P(X = 71) = 9.273039152084124e-118\n",
            "P(X = 72) = 3.7727011140634034e-120\n",
            "P(X = 73) = 1.4616802434450787e-122\n",
            "P(X = 74) = 5.387027924244743e-125\n",
            "P(X = 75) = 1.8863666805436132e-127\n",
            "P(X = 76) = 6.267831873151289e-130\n",
            "P(X = 77) = 1.9733433681704242e-132\n",
            "P(X = 78) = 5.877609099704654e-135\n",
            "P(X = 79) = 1.6533358930252268e-137\n",
            "P(X = 80) = 4.38384517090025e-140\n",
            "P(X = 81) = 1.093364551914262e-142\n",
            "P(X = 82) = 2.558995625322864e-145\n",
            "P(X = 83) = 5.605685926227529e-148\n",
            "P(X = 84) = 1.1459434914125551e-150\n",
            "P(X = 85) = 2.178858688366116e-153\n",
            "P(X = 86) = 3.8387221429987834e-156\n",
            "P(X = 87) = 6.239650528501438e-159\n",
            "P(X = 88) = 9.310773286331403e-162\n",
            "P(X = 89) = 1.2680658204060492e-164\n",
            "P(X = 90) = 1.5655133585259723e-167\n",
            "P(X = 91) = 1.7377215656853975e-170\n",
            "P(X = 92) = 1.7171161716258883e-173\n",
            "P(X = 93) = 1.4920092726194363e-176\n",
            "P(X = 94) = 1.1222936716458143e-179\n",
            "P(X = 95) = 7.159768240164749e-183\n",
            "P(X = 96) = 3.766713089312283e-186\n",
            "P(X = 97) = 1.5689734829999953e-189\n",
            "P(X = 98) = 4.851495000000021e-193\n",
            "P(X = 99) = 9.90000000000007e-197\n",
            "P(X = 100) = 1.000000000000002e-200\n",
            "Trung bình: 1.0\n",
            "Độ lệch chuẩn: 0.99498743710662\n"
          ]
        }
      ],
      "source": [
        "n = 100  # Số gói dữ liệu\n",
        "p = 0.01  # Xác suất bị mất\n",
        "\n",
        "# Tính phân phối xác suất\n",
        "binomial_dist = binom(n, p)\n",
        "\n",
        "# In phân phối xác suất\n",
        "for k in range(n + 1):\n",
        "    prob = binomial_dist.pmf(k)\n",
        "    print(f\"P(X = {k}) = {prob}\")\n",
        "\n",
        "# Tính trung bình và độ lệch chuẩn\n",
        "mean = binomial_dist.mean()\n",
        "std_dev = binomial_dist.std()\n",
        "\n",
        "print(f\"Trung bình: {mean}\")\n",
        "print(f\"Độ lệch chuẩn: {std_dev}\")"
      ]
    },
    {
      "cell_type": "markdown",
      "metadata": {
        "id": "rIvTtLwTrnuA"
      },
      "source": [
        "2.  **Tính xác suất để có hai hay nhiều hơn gói dữ liệu cần gửi lại.**\n",
        "\n",
        "Để tính xác suất để có hai hoặc nhiều hơn gói dữ liệu cần gửi lại, bạn cần tính tổng xác suất của các trường hợp có k gói dữ liệu cần gửi lại, với k từ 2 đến 100. Công thức này sẽ giúp bạn tính xác suất $P(X \\geq 2)$:\n",
        "\n",
        "$$P(X \\geq 2) = 1 - P(X = 0) - P(X = 1)$$"
      ]
    },
    {
      "cell_type": "code",
      "execution_count": null,
      "metadata": {
        "colab": {
          "base_uri": "https://localhost:8080/"
        },
        "id": "Nn4AAWXYrX5K",
        "outputId": "a4111169-d6c9-4560-9816-dfb72318e22e"
      },
      "outputs": [
        {
          "name": "stdout",
          "output_type": "stream",
          "text": [
            "Xác suất có ít nhất 2 gói dữ liệu cần gửi lại: 0.26423802107704375\n"
          ]
        }
      ],
      "source": [
        "# Tính xác suất P(X >= 2)\n",
        "prob_at_least_2 = 1 - binomial_dist.pmf(0) - binomial_dist.pmf(1)\n",
        "\n",
        "print(f\"Xác suất có ít nhất 2 gói dữ liệu cần gửi lại: {prob_at_least_2}\")\n"
      ]
    },
    {
      "cell_type": "markdown",
      "metadata": {
        "id": "5aAS8BwJtSm0"
      },
      "source": [
        "### Sử dụng Phân phối Poisson\n",
        "\n"
      ]
    },
    {
      "cell_type": "markdown",
      "metadata": {
        "id": "c_vQBG6W2rGe"
      },
      "source": [
        "Để sử dụng phân phối Poisson trong bài toán này, trước hết chúng ta cần xác định các tham số của phân phối Poisson. Trong trường hợp này, ta sẽ xem xác suất mất một gói dữ liệu là một sự kiện hiếm hoi (xác suất rất nhỏ), nên ta có thể xấp xỉ nó bằng một phân phối Poisson với trung bình (lambda) là 1% của tổng số gói dữ liệu (100 gói).\n",
        "\n",
        "Trong phân phối Poisson, trung bình và phương sai là giống nhau và bằng lambda. Vì vậy, lambda trong trường hợp này sẽ là 1% của 100, tức là lambda = 1.\n",
        "\n",
        "Bây giờ, để tính xác suất cho từng giá trị k từ 0 đến 100 (số gói dữ liệu cần gửi lại), chúng ta sử dụng phân phối Poisson với lambda = 1. Sử dụng thư viện `scipy.stats`, bạn có thể tính xác suất như sau:\n",
        "\n",
        "Kết quả này sẽ cho biết phân phối xác suất của số gói dữ liệu cần gửi lại (từ 0 đến 100) khi xem xác suất mất một gói dữ liệu là một sự kiện theo phân phối Poisson với lambda = 1.\n",
        "\n",
        "Sử dụng `poisson_dist.mean()` và `poisson_dist.std()`."
      ]
    },
    {
      "cell_type": "markdown",
      "metadata": {
        "id": "DzW3aGQ05OAg"
      },
      "source": [
        "1.  Sử dụng phân phối Nhị thức và phân phối Poisson, tính trung bình và độ lệch chuẩn của các gói dữ liệu cần phải gửi lại ứng với từng phân phối."
      ]
    },
    {
      "cell_type": "code",
      "execution_count": null,
      "metadata": {
        "colab": {
          "base_uri": "https://localhost:8080/"
        },
        "id": "yEcbzBHrtU3a",
        "outputId": "7031100a-2593-4646-ec2f-da787c07f5ff"
      },
      "outputs": [
        {
          "name": "stdout",
          "output_type": "stream",
          "text": [
            "P(X = 0) = 0.36787944117144233\n",
            "P(X = 1) = 0.36787944117144233\n",
            "P(X = 2) = 0.18393972058572114\n",
            "P(X = 3) = 0.06131324019524039\n",
            "P(X = 4) = 0.015328310048810101\n",
            "P(X = 5) = 0.00306566200976202\n",
            "P(X = 6) = 0.0005109436682936698\n",
            "P(X = 7) = 7.299195261338139e-05\n",
            "P(X = 8) = 9.123994076672672e-06\n",
            "P(X = 9) = 1.013777119630298e-06\n",
            "P(X = 10) = 1.0137771196302987e-07\n",
            "P(X = 11) = 9.216155633002698e-09\n",
            "P(X = 12) = 7.680129694168931e-10\n",
            "P(X = 13) = 5.907792072437641e-11\n",
            "P(X = 14) = 4.219851480312585e-12\n",
            "P(X = 15) = 2.813234320208389e-13\n",
            "P(X = 16) = 1.7582714501302425e-14\n",
            "P(X = 17) = 1.0342773236060258e-15\n",
            "P(X = 18) = 5.745985131144604e-17\n",
            "P(X = 19) = 3.0242027006024186e-18\n",
            "P(X = 20) = 1.51210135030121e-19\n",
            "P(X = 21) = 7.200482620481956e-21\n",
            "P(X = 22) = 3.272946645673604e-22\n",
            "P(X = 23) = 1.423020280727654e-23\n",
            "P(X = 24) = 5.929251169698581e-25\n",
            "P(X = 25) = 2.3717004678794361e-26\n",
            "P(X = 26) = 9.121924876459356e-28\n",
            "P(X = 27) = 3.378490694984971e-29\n",
            "P(X = 28) = 1.206603819637474e-30\n",
            "P(X = 29) = 4.1607028263361745e-32\n",
            "P(X = 30) = 1.386900942112055e-33\n",
            "P(X = 31) = 4.4738740068130683e-35\n",
            "P(X = 32) = 1.3980856271290907e-36\n",
            "P(X = 33) = 4.2366231125123076e-38\n",
            "P(X = 34) = 1.246065621327179e-39\n",
            "P(X = 35) = 3.560187489506234e-41\n",
            "P(X = 36) = 9.889409693072742e-43\n",
            "P(X = 37) = 2.672813430560273e-44\n",
            "P(X = 38) = 7.033719554105808e-46\n",
            "P(X = 39) = 1.8035178343861226e-47\n",
            "P(X = 40) = 4.508794585965268e-49\n",
            "P(X = 41) = 1.0997059965769015e-50\n",
            "P(X = 42) = 2.6183476108973993e-52\n",
            "P(X = 43) = 6.089180490458941e-54\n",
            "P(X = 44) = 1.3839046569225083e-55\n",
            "P(X = 45) = 3.075343682049893e-57\n",
            "P(X = 46) = 6.685529743587044e-59\n",
            "P(X = 47) = 1.422453136933367e-60\n",
            "P(X = 48) = 2.9634440352779173e-62\n",
            "P(X = 49) = 6.047844969954996e-64\n",
            "P(X = 50) = 1.2095689939909901e-65\n",
            "P(X = 51) = 2.371703909786187e-67\n",
            "P(X = 52) = 4.560969057281146e-69\n",
            "P(X = 53) = 8.605601994870005e-71\n",
            "P(X = 54) = 1.5936299990500094e-72\n",
            "P(X = 55) = 2.897509089181801e-74\n",
            "P(X = 56) = 5.1741233735390016e-76\n",
            "P(X = 57) = 9.077409427261607e-78\n",
            "P(X = 58) = 1.5650705909071477e-79\n",
            "P(X = 59) = 2.652662018486749e-81\n",
            "P(X = 60) = 4.421103364144375e-83\n",
            "P(X = 61) = 7.247710433023649e-85\n",
            "P(X = 62) = 1.1689855537135361e-86\n",
            "P(X = 63) = 1.855532624942113e-88\n",
            "P(X = 64) = 2.899269726472019e-90\n",
            "P(X = 65) = 4.46041496380319e-92\n",
            "P(X = 66) = 6.758204490610741e-94\n",
            "P(X = 67) = 1.0086872374045716e-95\n",
            "P(X = 68) = 1.483363584418478e-97\n",
            "P(X = 69) = 2.1498022962586535e-99\n",
            "P(X = 70) = 3.071146137512538e-101\n",
            "P(X = 71) = 4.325557940158416e-103\n",
            "P(X = 72) = 6.007719361330958e-105\n",
            "P(X = 73) = 8.229752549768481e-107\n",
            "P(X = 74) = 1.1121287229417464e-108\n",
            "P(X = 75) = 1.482838297255615e-110\n",
            "P(X = 76) = 1.951103022704732e-112\n",
            "P(X = 77) = 2.5339000294866552e-114\n",
            "P(X = 78) = 3.248589781393266e-116\n",
            "P(X = 79) = 4.112138963789131e-118\n",
            "P(X = 80) = 5.14017370473585e-120\n",
            "P(X = 81) = 6.345893462636911e-122\n",
            "P(X = 82) = 7.738894466630192e-124\n",
            "P(X = 83) = 9.323969236904389e-126\n",
            "P(X = 84) = 1.109996337726733e-127\n",
            "P(X = 85) = 1.3058780443844032e-129\n",
            "P(X = 86) = 1.5184628423074541e-131\n",
            "P(X = 87) = 1.7453595888590714e-133\n",
            "P(X = 88) = 1.9833631691580913e-135\n",
            "P(X = 89) = 2.228497942874367e-137\n",
            "P(X = 90) = 2.476108825415858e-139\n",
            "P(X = 91) = 2.720998709248037e-141\n",
            "P(X = 92) = 2.957607292660878e-143\n",
            "P(X = 93) = 3.1802228953344116e-145\n",
            "P(X = 94) = 3.383215846100513e-147\n",
            "P(X = 95) = 3.561279838000651e-149\n",
            "P(X = 96) = 3.709666497917109e-151\n",
            "P(X = 97) = 3.8243984514609095e-153\n",
            "P(X = 98) = 3.9024473994500515e-155\n",
            "P(X = 99) = 3.941866060050484e-157\n",
            "P(X = 100) = 3.9418660600505593e-159\n"
          ]
        }
      ],
      "source": [
        "lambda_val = 1  # Trung bình của phân phối Poisson\n",
        "\n",
        "# Tính phân phối Poisson\n",
        "poisson_dist = poisson(lambda_val)\n",
        "\n",
        "# Tính và in xác suất cho từng giá trị k từ 0 đến 100\n",
        "for k in range(101):\n",
        "    prob = poisson_dist.pmf(k)\n",
        "    print(f\"P(X = {k}) = {prob}\")"
      ]
    },
    {
      "cell_type": "markdown",
      "metadata": {
        "id": "062IwgBi4sdd"
      },
      "source": [
        "2.  Tính xác suất để có hai hay nhiều hơn gói dữ liệu cần gửi lại.\n",
        "\n",
        "Trước tiên, tính xác suất mất một gói dữ liệu trong một thư điện tử bằng phân phối Poisson với lambda = 1 (như đã giải quyết trong câu a). Sau đó, sử dụng phương pháp đối ngẫu để tính xác suất ít nhất hai gói dữ liệu cần gửi lại:\n",
        "\n",
        "$$P(X \\geq 2) = 1 - P(X = 0) - P(X = 1)$$"
      ]
    },
    {
      "cell_type": "code",
      "execution_count": null,
      "metadata": {
        "colab": {
          "base_uri": "https://localhost:8080/"
        },
        "id": "rqyfKPiW2vXu",
        "outputId": "cb14e659-02a5-4705-a71b-d3f204eba9e3"
      },
      "outputs": [
        {
          "name": "stdout",
          "output_type": "stream",
          "text": [
            "Xác suất ít nhất hai gói cần gửi lại trong 100 gói dữ liệu: 0.26424111765711533\n"
          ]
        }
      ],
      "source": [
        "import scipy.stats as stats\n",
        "\n",
        "lambda_val = 1  # Trung bình của phân phối Poisson\n",
        "\n",
        "# Tính phân phối Poisson\n",
        "poisson_dist = stats.poisson(lambda_val)\n",
        "\n",
        "# Tính xác suất mất ít nhất hai gói dữ liệu cần gửi lại\n",
        "prob_at_least_2_resend = 1 - poisson_dist.pmf(0) - poisson_dist.pmf(1)\n",
        "\n",
        "print(f\"Xác suất ít nhất hai gói cần gửi lại trong 100 gói dữ liệu: {prob_at_least_2_resend}\")\n"
      ]
    },
    {
      "cell_type": "markdown",
      "metadata": {
        "id": "aLofG2Ok8ItO"
      },
      "source": [
        "Bài tập 2: Xác suất để đoàn tàu khởi hành đúng giờ là 98,2%. Tính xác suất để 1000 chuyến tàu có 995 chuyến tàu khởi hành đúng thời gian."
      ]
    },
    {
      "cell_type": "markdown",
      "metadata": {
        "id": "iS2naUU9MV1S"
      },
      "source": [
        "Bài tập 3: Lưu lượng giao thông theo cách truyền thống được coi là có phân phối Poisson. Một trạm kiểm soát điều khiển lưu lượng giao thông ở một nút giao thông với trung bình 6 xe một phút. Để thiết lập thời gian cho đèn tín hiệu thì các xác suất sau đây được sử dụng:"
      ]
    },
    {
      "cell_type": "markdown",
      "metadata": {
        "id": "6dntY31PMZ7l"
      },
      "source": [
        "Bài tập 4: Số cuộc gọi điện thoại đến trung tâm tổng đài thường được mô tả là một biến ngẫu nhiên Poisson. Biết rẳng trung bình có 10 cuộc điện thoại gọi tới trong 1 giờ.\n",
        "\n",
        "a) Xác suất có đúng 5 cuộc điện thoại gọi tới trong 1 giờ là bao nhiêu?\n",
        "\n",
        "b) Xác suất có 3 hoặc ít hơn 3 cuộc điện thoại gọi tới trong 1 giờ là bao nhiêu?\n",
        "\n",
        "c) Xác suất có đúng 15 cuộc điện thoại gọi tới trong 2 giờ là bao nhiêu?\n",
        "\n",
        "d) Xác suất có đúng 5 cuộc điện thoại gọi tới trong 30 phút là bao nhiêu?\n",
        "\n"
      ]
    },
    {
      "cell_type": "markdown",
      "metadata": {
        "id": "-Rx1YpJTNtke"
      },
      "source": [
        "Bài tập 5: Một máy dệt có 5000 ống sợi, xác suất để trong 1 phút mỗi ống sợi bị ngưng hoạt động (do sợi bị đứt, bị rối,..) là 0,0004. Gọi X là số ống sợi bị ngưng hoạt động trong 1 phút.\n",
        "\n",
        "a) Tìm luật phân phối xác suất của X.\n",
        "\n",
        "b) Tính xác suất để trong 1 phút có hơn 2 ống sợi bị ngưng hoạt động."
      ]
    },
    {
      "cell_type": "markdown",
      "metadata": {
        "id": "6oVD4DZ7Nx8O"
      },
      "source": [
        "Bài tập 6: Ở trạm xăng H, bình quân mỗi 10 phút có 15 xe máy đến đổ xăng. Biết rằng số xe máy đến đổ xăng ở trạm xăng này trong khoảng thời gian t phút là biến ngẫu nhiên có phân phối Poisson.\n",
        "\n",
        "a) Tìm xác suất để trong khoảng thời gian 10 phút có ít nhất 4 xe máy đến đổ xăng tại trạm xăng này.\n",
        "\n",
        "b) Tìm xác suất để trong khoảng thời gian 15 phút có từ 20 đến 24 xe máy đến đổ xăng tại trạm xăng H."
      ]
    },
    {
      "cell_type": "markdown",
      "metadata": {
        "id": "0yy4j1cIQm_7"
      },
      "source": [
        "Bài tập 7: Một nhà sản xuất ghim nhận ra rằng thường thì 5% số hàng sẽ bị lỗi. Ông đưa ra 100 mẫu và bảo đảm rằng sẽ có không quá 4 ghim bị lỗi. Xác suất nhóm hàng trên đạt được như ông chủ muốn là bao nhiêu?"
      ]
    },
    {
      "cell_type": "code",
      "execution_count": null,
      "metadata": {
        "id": "YpJ4qh7TN-H7"
      },
      "outputs": [],
      "source": []
    }
  ],
  "metadata": {
    "colab": {
      "provenance": []
    },
    "kernelspec": {
      "display_name": ".venv",
      "language": "python",
      "name": "python3"
    },
    "language_info": {
      "codemirror_mode": {
        "name": "ipython",
        "version": 3
      },
      "file_extension": ".py",
      "mimetype": "text/x-python",
      "name": "python",
      "nbconvert_exporter": "python",
      "pygments_lexer": "ipython3",
      "version": "3.12.9"
    }
  },
  "nbformat": 4,
  "nbformat_minor": 0
}
